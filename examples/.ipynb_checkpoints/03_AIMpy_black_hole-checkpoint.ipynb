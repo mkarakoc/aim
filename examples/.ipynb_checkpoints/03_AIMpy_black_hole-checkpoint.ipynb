{
 "cells": [
  {
   "cell_type": "markdown",
   "metadata": {},
   "source": [
    "# Black hole quasinormal modes <br> using the asymptotic iteration method\n",
    "\n",
    "H.T. Cho, A.S. Cornell, Jason Doukas and Wade Naylor, Class. Quantum Grav. 27 (2010) 155004 (12pp).  \n",
    "https://iopscience.iop.org/article/10.1088/0264-9381/27/15/155004/meta\n"
   ]
  },
  {
   "cell_type": "markdown",
   "metadata": {},
   "source": [
    "Equations 33 and 34 in the paper.\n",
    "\n",
    "$\\large \\lambda_0(\\xi) = -{1\\over p} \\left[ p' - {2 i\\omega \\over \\kappa_1(\\xi - \\xi_1)}  -2 i \\omega \\right]$\n",
    "\n",
    "$\\large  s_0(\\xi) = {1\\over p} \\left[ \\ell(\\ell +1) + \n",
    "(1-s^2) \\left( 2M\\xi - (4-s^2){\\Lambda \\over 6\\xi^2} \\right) + \n",
    "{i\\omega \\over \\kappa_1(\\xi - \\xi_1)^2} \\left( {i\\omega \\over \\kappa_1} +1 \\right) + (p' - 2i\\omega) {i\\omega \\over \\kappa_1(\\xi - \\xi_1)}  \\right]  $"
   ]
  },
  {
   "cell_type": "markdown",
   "metadata": {},
   "source": [
    "## Import AIM library "
   ]
  },
  {
   "cell_type": "code",
   "execution_count": 1,
   "metadata": {
    "ExecuteTime": {
     "end_time": "2019-02-07T09:32:55.399875Z",
     "start_time": "2019-02-07T09:32:54.736904Z"
    }
   },
   "outputs": [],
   "source": [
    "# Python program to use AIM tools\n",
    "from asymptotic import *\n",
    "\n",
    "# a high precision math library: \n",
    "# it is used to obtain roots of a function with high precision.\n",
    "import mpmath\n",
    "\n",
    "# To draw potentials and its derivatie\n",
    "import numpy as np\n",
    "\n",
    "%matplotlib inline\n",
    "import matplotlib.pyplot as plt"
   ]
  },
  {
   "cell_type": "markdown",
   "metadata": {},
   "source": [
    "## Definitions"
   ]
  },
  {
   "cell_type": "markdown",
   "metadata": {},
   "source": [
    "### Variables"
   ]
  },
  {
   "cell_type": "code",
   "execution_count": 2,
   "metadata": {
    "ExecuteTime": {
     "end_time": "2019-02-07T09:32:55.423348Z",
     "start_time": "2019-02-07T09:32:55.404054Z"
    }
   },
   "outputs": [],
   "source": [
    "# symengine (symbolic) variables for lambda_0 and s_0 \n",
    "En, r, xi, xi1, k1 = se.symbols(r'En, r, xi, xi_1, kappa_1')\n",
    "l, s, M, Lambda = se.symbols(r'\\ell, s, M, Lambda')"
   ]
  },
  {
   "cell_type": "markdown",
   "metadata": {},
   "source": [
    "### Potential and some other functions"
   ]
  },
  {
   "cell_type": "code",
   "execution_count": 3,
   "metadata": {
    "ExecuteTime": {
     "end_time": "2019-02-07T09:32:55.492901Z",
     "start_time": "2019-02-07T09:32:55.427315Z"
    }
   },
   "outputs": [],
   "source": [
    "def Vf(r):\n",
    "    \"\"\"\n",
    "    Master potential defined in Eq. 2 in the paper.\n",
    "    \"\"\"\n",
    "    return f(r)*(l*(l+1)/r**2 + (1-s**2) * (2*M/r**3 - (4-s**2)*Lambda/6))\n",
    "\n",
    "def f(r):\n",
    "    \"\"\"\n",
    "    A function defined in Eq 3. with the cosmological constant Lambda .\n",
    "    \"\"\"\n",
    "    return 1 - 2*M/r  - Lambda*r**2/3\n",
    "\n",
    "def dVf(r0):\n",
    "    \"\"\"\n",
    "    Derivative of the master potential.\n",
    "    \"\"\"\n",
    "    return sym.diff(Vf(r), r).subs(r, r0)\n",
    "\n",
    "def dVf_mpmath(r):\n",
    "    \"\"\"\n",
    "    Derivative of the master potential with numerical parameters.\n",
    "    \"\"\"\n",
    "    return dVf(r).subs({l:nl, s: ns, Lambda: nLambda, M: nM})\n",
    "    \n",
    "def p(xi):\n",
    "    \"\"\"\n",
    "    It is defined with Eq. 26 in the paper.\n",
    "    \"\"\"\n",
    "    return xi**2 - 2*M*xi**3 - Lambda/3\n",
    "\n",
    "def kappa(xi):\n",
    "    \"\"\"\n",
    "    It is defined with Eq. 31 in the paper.\n",
    "    \"\"\"    \n",
    "    return M*xi**2 - Lambda/(3*xi)"
   ]
  },
  {
   "cell_type": "code",
   "execution_count": 4,
   "metadata": {
    "ExecuteTime": {
     "end_time": "2019-02-07T09:32:56.112844Z",
     "start_time": "2019-02-07T09:32:55.497362Z"
    }
   },
   "outputs": [
    {
     "data": {
      "text/latex": [
       "Master potential and its derivative:"
      ],
      "text/plain": [
       "<IPython.core.display.Latex object>"
      ]
     },
     "metadata": {},
     "output_type": "display_data"
    },
    {
     "data": {
      "text/latex": [
       "$$Vf(r) = \\left(\\frac{\\ell \\left(\\ell + 1\\right)}{r^{2}} + \\left(- s^{2} + 1\\right) \\left(- \\frac{\\Lambda \\left(- s^{2} + 4\\right)}{6} + \\frac{2 M}{r^{3}}\\right)\\right) \\left(- \\frac{\\Lambda r^{2}}{3} - \\frac{2 M}{r} + 1\\right)$$"
      ],
      "text/plain": [
       "<IPython.core.display.Math object>"
      ]
     },
     "metadata": {},
     "output_type": "display_data"
    },
    {
     "data": {
      "text/latex": [
       "$$dVf(r) = \\left(- \\frac{2 \\Lambda r}{3} + \\frac{2 M}{r^{2}}\\right) \\left(\\frac{\\ell \\left(\\ell + 1\\right)}{r^{2}} + \\left(- s^{2} + 1\\right) \\left(- \\frac{\\Lambda \\left(- s^{2} + 4\\right)}{6} + \\frac{2 M}{r^{3}}\\right)\\right) + \\left(- \\frac{6 M \\left(- s^{2} + 1\\right)}{r^{4}} - \\frac{2 \\ell \\left(\\ell + 1\\right)}{r^{3}}\\right) \\left(- \\frac{\\Lambda r^{2}}{3} - \\frac{2 M}{r} + 1\\right)$$"
      ],
      "text/plain": [
       "<IPython.core.display.Math object>"
      ]
     },
     "metadata": {},
     "output_type": "display_data"
    },
    {
     "data": {
      "text/latex": [
       "Equation 26 in the paper."
      ],
      "text/plain": [
       "<IPython.core.display.Latex object>"
      ]
     },
     "metadata": {},
     "output_type": "display_data"
    },
    {
     "data": {
      "text/latex": [
       "$$p(\\xi) = - \\frac{\\Lambda}{3} - 2 M \\xi^{3} + \\xi^{2}$$"
      ],
      "text/plain": [
       "<IPython.core.display.Math object>"
      ]
     },
     "metadata": {},
     "output_type": "display_data"
    },
    {
     "data": {
      "text/latex": [
       "$\\kappa_1$ is the surface gravity at the event horizon $\\xi_1$"
      ],
      "text/plain": [
       "<IPython.core.display.Latex object>"
      ]
     },
     "metadata": {},
     "output_type": "display_data"
    },
    {
     "data": {
      "text/latex": [
       "$$\\kappa(\\xi) = - \\frac{\\Lambda}{3 \\xi} + M \\xi^{2}$$"
      ],
      "text/plain": [
       "<IPython.core.display.Math object>"
      ]
     },
     "metadata": {},
     "output_type": "display_data"
    }
   ],
   "source": [
    "display(Latex('Master potential and its derivative:'))\n",
    "symPrintFunc(Vf, (r,))\n",
    "symPrintFunc(dVf, (r,))\n",
    "display(Latex(r'Equation 26 in the paper.'))\n",
    "symPrintFunc(p, (xi,))\n",
    "display(Latex(r'$\\kappa_1$ is the surface gravity at the event horizon $\\xi_1$'))\n",
    "symPrintFunc(kappa, (xi,))"
   ]
  },
  {
   "cell_type": "markdown",
   "metadata": {},
   "source": [
    "### $\\lambda_0$ and $s_0$"
   ]
  },
  {
   "cell_type": "code",
   "execution_count": 5,
   "metadata": {
    "ExecuteTime": {
     "end_time": "2019-02-07T09:32:56.128113Z",
     "start_time": "2019-02-07T09:32:56.116981Z"
    }
   },
   "outputs": [],
   "source": [
    "def lambda_0(xi):\n",
    "    return (6*(-se.I*En + xi - 3*M*xi**2))/(-3*xi**2 + 6*M*xi**3 + Lambda) + (2*se.I*En)/((xi - xi1)*k1)\n",
    "\n",
    "def s_0(xi):\n",
    "    return (2*En**2*xi**2*(-3*xi**2 + 6*M*xi**3 + Lambda) - \\\n",
    "            2*En*xi**2*(6*En*(xi - xi1) - 3*se.I*xi*(2*xi1 + xi*(-1 + 4*M*xi - 6*M*xi1)) + se.I*Lambda)*k1 + \\\n",
    "            (xi - xi1)**2*(-6*xi**2*(l + l**2 - 2*M*(-1 + s**2)*xi) + (4 - 5*s**2 + s**4)*Lambda)*k1**2)/ \\\n",
    "            (2*xi**2*(xi - xi1)**2*(-3*xi**2 + 6*M*xi**3 + Lambda)*k1**2)"
   ]
  },
  {
   "cell_type": "markdown",
   "metadata": {},
   "source": [
    "## Case: $l = 2, s =2$"
   ]
  },
  {
   "cell_type": "markdown",
   "metadata": {},
   "source": [
    "### $\\Lambda = 0$"
   ]
  },
  {
   "cell_type": "markdown",
   "metadata": {},
   "source": [
    "#### Numerical values for variables"
   ]
  },
  {
   "cell_type": "code",
   "execution_count": 6,
   "metadata": {
    "ExecuteTime": {
     "end_time": "2019-02-07T09:32:56.656157Z",
     "start_time": "2019-02-07T09:32:56.130536Z"
    },
    "scrolled": true
   },
   "outputs": [
    {
     "data": {
      "text/latex": [
       "$$r_0 = 3.28077640640441492437$$"
      ],
      "text/plain": [
       "<IPython.core.display.Math object>"
      ]
     },
     "metadata": {},
     "output_type": "display_data"
    },
    {
     "data": {
      "text/latex": [
       "$$\\xi_0 = 0.30480589839889621340$$"
      ],
      "text/plain": [
       "<IPython.core.display.Math object>"
      ]
     },
     "metadata": {},
     "output_type": "display_data"
    },
    {
     "data": {
      "text/latex": [
       "$$\\xi_1 = 0.50000000000000000000$$"
      ],
      "text/plain": [
       "<IPython.core.display.Math object>"
      ]
     },
     "metadata": {},
     "output_type": "display_data"
    },
    {
     "data": {
      "text/latex": [
       "$$k_1 = 0.25000000000000000000$$"
      ],
      "text/plain": [
       "<IPython.core.display.Math object>"
      ]
     },
     "metadata": {},
     "output_type": "display_data"
    }
   ],
   "source": [
    "# values of variables\n",
    "nl, ns = 2, 2 # angular mom. and spin\n",
    "nM = 1 # mass of the black hole\n",
    "\n",
    "nLambda = o* 0\n",
    "\n",
    "dprec=500\n",
    "tol=1e-101\n",
    "ft.ctx.dps = dprec\n",
    "mpmath.mp.dps = dprec\n",
    "\n",
    "sr0 = 3 # initial search point of the root of the der. pot.\n",
    "nr0 = sym.S(mpmath.findroot(dVf_mpmath, sr0, tol=tol))\n",
    "nxi0 = o* 1/nr0\n",
    "\n",
    "solhor = sym.solve(p(xi).subs({Lambda: nLambda, M:nM}), xi)\n",
    "nxi1 = sym.N(max(map(lambda x: sym.re(x), solhor)), dprec)\n",
    "#nxi1 = max(map(lambda x: sym.re(x), solhor)) # with infinite precision\n",
    "nk1 = kappa(nxi1).subs({Lambda: nLambda, M: nM})\n",
    "\n",
    "display(Math(r\"r_0 = %.20f\"%sym.N(nr0)))\n",
    "display(Math(r\"\\xi_0 = %.20f\"%sym.N(nxi0)))\n",
    "display(Math(r\"\\xi_1 = %.20f\"%sym.N(nxi1)))\n",
    "display(Math(r\"k_1 = %.20f\"%sym.N(nk1)))"
   ]
  },
  {
   "cell_type": "code",
   "execution_count": 7,
   "metadata": {
    "ExecuteTime": {
     "end_time": "2019-02-07T09:32:56.666380Z",
     "start_time": "2019-02-07T09:32:56.660170Z"
    }
   },
   "outputs": [],
   "source": [
    "# pl0 and ps0 to put the numerical values of variables into lambda_0 and s_0. \n",
    "pl0 = lambda: {k1: nk1, xi1: nxi1, Lambda: nLambda, M: nM}\n",
    "ps0 = lambda: {k1: nk1, xi1: nxi1, Lambda: nLambda, M: nM, l: nl, s: ns, }"
   ]
  },
  {
   "cell_type": "markdown",
   "metadata": {},
   "source": [
    "#### Drawing of the Master potential and its derivative"
   ]
  },
  {
   "cell_type": "code",
   "execution_count": 8,
   "metadata": {
    "ExecuteTime": {
     "end_time": "2019-02-07T09:32:57.076000Z",
     "start_time": "2019-02-07T09:32:56.670254Z"
    }
   },
   "outputs": [
    {
     "data": {
      "image/png": "[encoded data removed]",
      "text/plain": [
       "<Figure size 864x576 with 1 Axes>"
      ]
     },
     "metadata": {
      "needs_background": "light"
     },
     "output_type": "display_data"
    }
   ],
   "source": [
    "rspace = np.linspace(1e-10, 30, 1500)\n",
    "\n",
    "Vf_numpy = sym.lambdify(r, Vf(r).subs({l:nl, s: ns, Lambda: nLambda, M: nM}), \"numpy\")\n",
    "dVf_numpy = sym.lambdify(r, dVf_mpmath(r), \"numpy\")\n",
    "\n",
    "Vf(r).subs({l:nl, s: ns, Lambda: nLambda, M: nM})\n",
    "\n",
    "\n",
    "plt.figure(figsize=(12, 8))\n",
    "plt.plot(rspace, Vf_numpy(rspace), color=\"red\", lw=2, label=\"Master potential\")\n",
    "plt.plot(rspace, dVf_numpy(rspace), color=\"blue\", lw=2, label=\"the derivative\")\n",
    "plt.plot(nr0, dVf_numpy(nr0), \"go\", ms=10, label=\"an extremum of the pot.\")\n",
    "\n",
    "plt.xlim(0.5, 8)\n",
    "plt.ylim(-.75, .75)\n",
    "\n",
    "plt.xlabel('r', fontsize=24)\n",
    "plt.ylabel('V(r), dV(r)/dr', fontsize=24)\n",
    "\n",
    "plt.axhline(color=\"black\", zorder=-999)\n",
    "plt.legend(loc=\"best\")\n",
    "plt.grid()\n",
    "plt.show()"
   ]
  },
  {
   "cell_type": "markdown",
   "metadata": {},
   "source": [
    "#### Initialize AIM solver"
   ]
  },
  {
   "cell_type": "code",
   "execution_count": 9,
   "metadata": {
    "ExecuteTime": {
     "end_time": "2019-02-07T09:32:57.224213Z",
     "start_time": "2019-02-07T09:32:57.080067Z"
    }
   },
   "outputs": [
    {
     "data": {
      "text/latex": [
       "$$\\text{Values of the parameters of } \\lambda_0:$$"
      ],
      "text/plain": [
       "<IPython.core.display.Math object>"
      ]
     },
     "metadata": {},
     "output_type": "display_data"
    },
    {
     "data": {
      "text/latex": [
       "$$M = 1.000000,~~\\Lambda = 0,~~\\kappa_{1} = 0.2500000,~~\\xi_{1} = 0.5000000$$"
      ],
      "text/plain": [
       "<IPython.core.display.Math object>"
      ]
     },
     "metadata": {},
     "output_type": "display_data"
    },
    {
     "data": {
      "text/latex": [
       "$$\\text{Values of the parameters of } s_0:$$"
      ],
      "text/plain": [
       "<IPython.core.display.Math object>"
      ]
     },
     "metadata": {},
     "output_type": "display_data"
    },
    {
     "data": {
      "text/latex": [
       "$$M = 1.000000,~~\\Lambda = 0,~~\\ell = 2.000000,~~\\kappa_{1} = 0.2500000,~~\\xi_{1} = 0.5000000,~~s = 2.000000$$"
      ],
      "text/plain": [
       "<IPython.core.display.Math object>"
      ]
     },
     "metadata": {},
     "output_type": "display_data"
    },
    {
     "data": {
      "text/latex": [
       "$$           \n",
       "                \\begin{align}\n",
       "                \\lambda_0 &= \\left[\\frac{2 i En}{\\kappa_{1} \\left(\\xi - \\xi_{1}\\right)} + \\frac{6 \\left(- i En - 3 M \\xi^{2} + \\xi\\right)}{\\Lambda + 6 M \\xi^{3} - 3 \\xi^{2}} \\right.\\\\ \n",
       "                      s_0 &= \\left[\\frac{2 En^{2} \\xi^{2} \\left(\\Lambda + 6 M \\xi^{3} - 3 \\xi^{2}\\right) - 2 En \\kappa_{1} \\xi^{2} \\left(6 En \\left(\\xi - \\xi_{1}\\right) + i \\Lambda - 3 i \\xi \\left(\\xi \\left(4 M \\xi - 6 M \\xi_{1} - 1\\right) + 2 \\xi_{1}\\right)\\right) + \\kappa_{1}^{2} \\left(\\xi - \\xi_{1}\\right)^{2} \\left(\\Lambda \\left(s^{4} - 5 s^{2} + 4\\right) - 6 \\xi^{2} \\left(- 2 M \\xi \\left(s^{2} - 1\\right) + \\ell^{2} + \\ell\\right)\\right)}{2 \\kappa_{1}^{2} \\xi^{2} \\left(\\xi - \\xi_{1}\\right)^{2} \\left(\\Lambda + 6 M \\xi^{3} - 3 \\xi^{2}\\right)} \\right.\\\\ \n",
       "                \\lambda_0 &= \\left[\\frac{8.0 i En}{\\xi - 0.5} + \\frac{6.0 \\left(- i En - 3.0 \\xi^{2} + \\xi\\right)}{6.0 \\xi^{3} - 3.0 \\xi^{2}} \\right.\\\\ \n",
       "                      s_0 &= \\left[\\frac{8.0 \\left(2.0 En^{2} \\xi^{2} \\left(6.0 \\xi^{3} - 3.0 \\xi^{2}\\right) - 0.5 En \\xi^{2} \\left(6.0 En \\left(\\xi - 0.5\\right) - 3.0 i \\xi \\left(\\xi \\left(4.0 \\xi - 4.0\\right) + 1.0\\right)\\right) - 0.375 \\xi^{2} \\left(- 6.0 \\xi + 6.0\\right) \\left(\\xi - 0.5\\right)^{2}\\right)}{\\xi^{2} \\left(\\xi - 0.5\\right)^{2} \\left(6.0 \\xi^{3} - 3.0 \\xi^{2}\\right)} \\right.\n",
       "                \\end{align}\n",
       "                $$"
      ],
      "text/plain": [
       "<IPython.core.display.Math object>"
      ]
     },
     "metadata": {},
     "output_type": "display_data"
    },
    {
     "name": "stdout",
     "output_type": "stream",
     "text": [
      "CPU times: user 126 ms, sys: 4.25 ms, total: 130 ms\n",
      "Wall time: 137 ms\n"
     ]
    }
   ],
   "source": [
    "%%time\n",
    "# pass lambda_0, s_0 and variable values to aim class\n",
    "black_L00l2s2 = aim(lambda_0(xi), s_0(xi), pl0(), ps0())\n",
    "black_L00l2s2.display_parameters(pprec=7)\n",
    "black_L00l2s2.display_l0s0(0, pprec=3)\n",
    "black_L00l2s2.parameters(En, xi, nxi0, nmax=71, nstep=10, dprec=500, tol=1e-101)"
   ]
  },
  {
   "cell_type": "markdown",
   "metadata": {},
   "source": [
    "#### Calculation necessary coefficients"
   ]
  },
  {
   "cell_type": "code",
   "execution_count": 10,
   "metadata": {
    "ExecuteTime": {
     "end_time": "2019-02-07T09:33:26.786552Z",
     "start_time": "2019-02-07T09:32:57.227153Z"
    }
   },
   "outputs": [
    {
     "name": "stdout",
     "output_type": "stream",
     "text": [
      "CPU times: user 29.6 s, sys: 226 ms, total: 29.8 s\n",
      "Wall time: 29.6 s\n"
     ]
    }
   ],
   "source": [
    "%%time\n",
    "# create coefficients c0 and d0 for improved AIM\n",
    "black_L00l2s2.c0()\n",
    "black_L00l2s2.d0()\n",
    "black_L00l2s2.cndn()"
   ]
  },
  {
   "cell_type": "markdown",
   "metadata": {},
   "source": [
    "#### The solution"
   ]
  },
  {
   "cell_type": "code",
   "execution_count": 11,
   "metadata": {
    "ExecuteTime": {
     "end_time": "2019-02-07T09:33:37.422764Z",
     "start_time": "2019-02-07T09:33:26.790678Z"
    }
   },
   "outputs": [
    {
     "name": "stdout",
     "output_type": "stream",
     "text": [
      "CPU times: user 10.6 s, sys: 6.84 ms, total: 10.6 s\n",
      "Wall time: 10.6 s\n"
     ]
    }
   ],
   "source": [
    "%%time\n",
    "black_L00l2s2.get_arb_roots()"
   ]
  },
  {
   "cell_type": "code",
   "execution_count": 12,
   "metadata": {
    "ExecuteTime": {
     "end_time": "2019-02-07T09:33:37.799768Z",
     "start_time": "2019-02-07T09:33:37.426723Z"
    },
    "code_folding": [],
    "run_control": {
     "marked": false
    }
   },
   "outputs": [
    {
     "name": "stdout",
     "output_type": "stream",
     "text": [
      "iter          n=1                     n=2                     n=3           \n",
      "________________________________________________________________________\n",
      "0001  0.3609169-0.0937215j  0.4144812-0.2973979j\n",
      "0011  0.3736718-0.0889627j  0.3467437-0.2739338j  0.3011186-0.4770297j\n",
      "0021  0.3736717-0.0889623j  0.3467118-0.2739145j  0.3010188-0.4783149j\n",
      "0031  0.3736717-0.0889623j  0.3467110-0.2739149j  0.3010527-0.4782826j\n",
      "0041  0.3736717-0.0889623j  0.3467110-0.2739149j  0.3010531-0.4782778j\n",
      "0051  0.3736717-0.0889623j  0.3467110-0.2739149j  0.3010533-0.4782770j\n",
      "0061  0.3736717-0.0889623j  0.3467110-0.2739149j  0.3010534-0.4782769j\n",
      "0071  0.3736717-0.0889623j  0.3467110-0.2739149j  0.3010535-0.4782770j\n",
      "CPU times: user 357 ms, sys: 24.1 ms, total: 381 ms\n",
      "Wall time: 367 ms\n"
     ]
    }
   ],
   "source": [
    "%%time\n",
    "print(\"iter\" + (3*\"{:^24s}\").format(*(\"n=%s\"%str(i) for i in range(1,4))))\n",
    "print(\"_\"*3*24)\n",
    "black_L00l2s2.printAllRoots(showRoots='i+r', printFormat=\"{:10.7f}\", col=(0,3))"
   ]
  },
  {
   "cell_type": "markdown",
   "metadata": {},
   "source": [
    "### $\\Lambda = 0.02$"
   ]
  },
  {
   "cell_type": "code",
   "execution_count": 13,
   "metadata": {
    "ExecuteTime": {
     "end_time": "2019-02-07T09:38:35.056017Z",
     "start_time": "2019-02-07T09:33:37.803617Z"
    },
    "scrolled": false
   },
   "outputs": [
    {
     "data": {
      "text/latex": [
       "$$r_0 = 3.22503324240581257243$$"
      ],
      "text/plain": [
       "<IPython.core.display.Math object>"
      ]
     },
     "metadata": {},
     "output_type": "display_data"
    },
    {
     "data": {
      "text/latex": [
       "$$\\xi_0 = 0.31007432321969469191$$"
      ],
      "text/plain": [
       "<IPython.core.display.Math object>"
      ]
     },
     "metadata": {},
     "output_type": "display_data"
    },
    {
     "data": {
      "text/latex": [
       "$$\\xi_1 = 0.48588048315289572576$$"
      ],
      "text/plain": [
       "<IPython.core.display.Math object>"
      ]
     },
     "metadata": {},
     "output_type": "display_data"
    },
    {
     "data": {
      "text/latex": [
       "$$k_1 = 0.22235904857377850052$$"
      ],
      "text/plain": [
       "<IPython.core.display.Math object>"
      ]
     },
     "metadata": {},
     "output_type": "display_data"
    },
    {
     "data": {
      "text/latex": [
       "$$\\text{Values of the parameters of } \\lambda_0:$$"
      ],
      "text/plain": [
       "<IPython.core.display.Math object>"
      ]
     },
     "metadata": {},
     "output_type": "display_data"
    },
    {
     "data": {
      "text/latex": [
       "$$M = 1.000000,~~\\Lambda = 0.02000000,~~\\kappa_{1} = 0.2223590,~~\\xi_{1} = 0.4858805$$"
      ],
      "text/plain": [
       "<IPython.core.display.Math object>"
      ]
     },
     "metadata": {},
     "output_type": "display_data"
    },
    {
     "data": {
      "text/latex": [
       "$$\\text{Values of the parameters of } s_0:$$"
      ],
      "text/plain": [
       "<IPython.core.display.Math object>"
      ]
     },
     "metadata": {},
     "output_type": "display_data"
    },
    {
     "data": {
      "text/latex": [
       "$$M = 1.000000,~~\\Lambda = 0.02000000,~~\\ell = 2.000000,~~\\kappa_{1} = 0.2223590,~~\\xi_{1} = 0.4858805,~~s = 2.000000$$"
      ],
      "text/plain": [
       "<IPython.core.display.Math object>"
      ]
     },
     "metadata": {},
     "output_type": "display_data"
    },
    {
     "data": {
      "text/latex": [
       "$$           \n",
       "                \\begin{align}\n",
       "                \\lambda_0 &= \\left[\\frac{2 i En}{\\kappa_{1} \\left(\\xi - \\xi_{1}\\right)} + \\frac{6 \\left(- i En - 3 M \\xi^{2} + \\xi\\right)}{\\Lambda + 6 M \\xi^{3} - 3 \\xi^{2}} \\right.\\\\ \n",
       "                      s_0 &= \\left[\\frac{2 En^{2} \\xi^{2} \\left(\\Lambda + 6 M \\xi^{3} - 3 \\xi^{2}\\right) - 2 En \\kappa_{1} \\xi^{2} \\left(6 En \\left(\\xi - \\xi_{1}\\right) + i \\Lambda - 3 i \\xi \\left(\\xi \\left(4 M \\xi - 6 M \\xi_{1} - 1\\right) + 2 \\xi_{1}\\right)\\right) + \\kappa_{1}^{2} \\left(\\xi - \\xi_{1}\\right)^{2} \\left(\\Lambda \\left(s^{4} - 5 s^{2} + 4\\right) - 6 \\xi^{2} \\left(- 2 M \\xi \\left(s^{2} - 1\\right) + \\ell^{2} + \\ell\\right)\\right)}{2 \\kappa_{1}^{2} \\xi^{2} \\left(\\xi - \\xi_{1}\\right)^{2} \\left(\\Lambda + 6 M \\xi^{3} - 3 \\xi^{2}\\right)} \\right.\\\\ \n",
       "                \\lambda_0 &= \\left[\\frac{8.99 i En}{\\xi - 0.486} + \\frac{6.0 \\left(- i En - 3.0 \\xi^{2} + \\xi\\right)}{6.0 \\xi^{3} - 3.0 \\xi^{2} + 0.02} \\right.\\\\ \n",
       "                      s_0 &= \\left[\\frac{10.1 \\left(2.0 En^{2} \\xi^{2} \\left(6.0 \\xi^{3} - 3.0 \\xi^{2} + 0.02\\right) - 0.445 En \\xi^{2} \\left(6.0 En \\left(\\xi - 0.486\\right) - 3.0 i \\xi \\left(\\xi \\left(4.0 \\xi - 3.92\\right) + 0.972\\right) + 0.02 i\\right) - 0.297 \\xi^{2} \\left(- 6.0 \\xi + 6.0\\right) \\left(\\xi - 0.486\\right)^{2}\\right)}{\\xi^{2} \\left(\\xi - 0.486\\right)^{2} \\left(6.0 \\xi^{3} - 3.0 \\xi^{2} + 0.02\\right)} \\right.\n",
       "                \\end{align}\n",
       "                $$"
      ],
      "text/plain": [
       "<IPython.core.display.Math object>"
      ]
     },
     "metadata": {},
     "output_type": "display_data"
    },
    {
     "name": "stdout",
     "output_type": "stream",
     "text": [
      "iter          n=1                     n=2                     n=3           \n",
      "________________________________________________________________________\n",
      "0001    0.3283549  -0.0856613j    0.3690909  -0.2686128j\n",
      "0011    0.3383914  -0.0817565j    0.3187579  -0.2492120j    0.2831809  -0.4292619j\n",
      "0021    0.3383914  -0.0817564j    0.3187586  -0.2491967j    0.2827376  -0.4294769j\n",
      "0031    0.3383914  -0.0817564j    0.3187587  -0.2491966j    0.2827324  -0.4294843j\n",
      "0041    0.3383914  -0.0817564j    0.3187587  -0.2491966j    0.2827322  -0.4294841j\n",
      "0051    0.3383914  -0.0817564j    0.3187587  -0.2491966j    0.2827322  -0.4294841j\n",
      "0061    0.3383914  -0.0817564j    0.3187587  -0.2491966j    0.2827322  -0.4294841j\n",
      "0071    0.3383914  -0.0817564j    0.3187587  -0.2491966j    0.2827322  -0.4294841j\n",
      "CPU times: user 4min 57s, sys: 421 ms, total: 4min 57s\n",
      "Wall time: 4min 57s\n"
     ]
    }
   ],
   "source": [
    "%%time\n",
    "# values of variables\n",
    "nLambda = o* 2/100\n",
    "\n",
    "sr0 = 3 # initial search point of the root of the der. pot.\n",
    "nr0 = sym.S(mpmath.findroot(dVf_mpmath, sr0, tol=tol))\n",
    "nxi0 = o* 1/nr0\n",
    "\n",
    "solhor = sym.solve(p(xi).subs({Lambda: nLambda, M:nM}), xi)\n",
    "nxi1 = sym.N(max(map(lambda x: sym.re(x), solhor)), dprec)\n",
    "nk1 = kappa(nxi1).subs({Lambda: nLambda, M: nM})\n",
    "\n",
    "display(Math(r\"r_0 = %.20f\"%sym.N(nr0)))\n",
    "display(Math(r\"\\xi_0 = %.20f\"%sym.N(nxi0)))\n",
    "display(Math(r\"\\xi_1 = %.20f\"%sym.N(nxi1)))\n",
    "display(Math(r\"k_1 = %.20f\"%sym.N(nk1)))\n",
    "\n",
    "\n",
    "# pass lambda_0, s_0 and variable values to aim class\n",
    "black_L02l2s2 = aim(lambda_0(xi), s_0(xi), pl0(), ps0())\n",
    "black_L02l2s2.display_parameters(pprec=7)\n",
    "black_L02l2s2.display_l0s0(0, pprec=3)\n",
    "black_L02l2s2.parameters(En, xi, nxi0, nmax=71, nstep=10, dprec=500, tol=1e-101)\n",
    "\n",
    "# create coefficients c0 and d0 for improved AIM\n",
    "black_L02l2s2.c0()\n",
    "black_L02l2s2.d0()\n",
    "black_L02l2s2.cndn()\n",
    "\n",
    "# the solution\n",
    "print(\"iter\" + (3*\"{:^24s}\").format(*(\"n=%s\"%str(i) for i in range(1,4))))\n",
    "print(\"_\"*3*24)\n",
    "black_L02l2s2.get_arb_roots(showRoots='i+r', printFormat=\"  {:10.7f}\", col=(0,3))"
   ]
  },
  {
   "cell_type": "markdown",
   "metadata": {},
   "source": [
    "### $\\Lambda = 0.04$"
   ]
  },
  {
   "cell_type": "code",
   "execution_count": 14,
   "metadata": {
    "ExecuteTime": {
     "end_time": "2019-02-07T09:43:30.393113Z",
     "start_time": "2019-02-07T09:38:35.062186Z"
    }
   },
   "outputs": [
    {
     "data": {
      "text/latex": [
       "$$r_0 = 3.17182740602516677342$$"
      ],
      "text/plain": [
       "<IPython.core.display.Math object>"
      ]
     },
     "metadata": {},
     "output_type": "display_data"
    },
    {
     "data": {
      "text/latex": [
       "$$\\xi_0 = 0.31527566667102113751$$"
      ],
      "text/plain": [
       "<IPython.core.display.Math object>"
      ]
     },
     "metadata": {},
     "output_type": "display_data"
    },
    {
     "data": {
      "text/latex": [
       "$$\\xi_1 = 0.46979395281592567502$$"
      ],
      "text/plain": [
       "<IPython.core.display.Math object>"
      ]
     },
     "metadata": {},
     "output_type": "display_data"
    },
    {
     "data": {
      "text/latex": [
       "$$k_1 = 0.19232512149131092416$$"
      ],
      "text/plain": [
       "<IPython.core.display.Math object>"
      ]
     },
     "metadata": {},
     "output_type": "display_data"
    },
    {
     "data": {
      "text/latex": [
       "$$\\text{Values of the parameters of } \\lambda_0:$$"
      ],
      "text/plain": [
       "<IPython.core.display.Math object>"
      ]
     },
     "metadata": {},
     "output_type": "display_data"
    },
    {
     "data": {
      "text/latex": [
       "$$M = 1.000000,~~\\Lambda = 0.04000000,~~\\kappa_{1} = 0.1923251,~~\\xi_{1} = 0.4697940$$"
      ],
      "text/plain": [
       "<IPython.core.display.Math object>"
      ]
     },
     "metadata": {},
     "output_type": "display_data"
    },
    {
     "data": {
      "text/latex": [
       "$$\\text{Values of the parameters of } s_0:$$"
      ],
      "text/plain": [
       "<IPython.core.display.Math object>"
      ]
     },
     "metadata": {},
     "output_type": "display_data"
    },
    {
     "data": {
      "text/latex": [
       "$$M = 1.000000,~~\\Lambda = 0.04000000,~~\\ell = 2.000000,~~\\kappa_{1} = 0.1923251,~~\\xi_{1} = 0.4697940,~~s = 2.000000$$"
      ],
      "text/plain": [
       "<IPython.core.display.Math object>"
      ]
     },
     "metadata": {},
     "output_type": "display_data"
    },
    {
     "data": {
      "text/latex": [
       "$$           \n",
       "                \\begin{align}\n",
       "                \\lambda_0 &= \\left[\\frac{2 i En}{\\kappa_{1} \\left(\\xi - \\xi_{1}\\right)} + \\frac{6 \\left(- i En - 3 M \\xi^{2} + \\xi\\right)}{\\Lambda + 6 M \\xi^{3} - 3 \\xi^{2}} \\right.\\\\ \n",
       "                      s_0 &= \\left[\\frac{2 En^{2} \\xi^{2} \\left(\\Lambda + 6 M \\xi^{3} - 3 \\xi^{2}\\right) - 2 En \\kappa_{1} \\xi^{2} \\left(6 En \\left(\\xi - \\xi_{1}\\right) + i \\Lambda - 3 i \\xi \\left(\\xi \\left(4 M \\xi - 6 M \\xi_{1} - 1\\right) + 2 \\xi_{1}\\right)\\right) + \\kappa_{1}^{2} \\left(\\xi - \\xi_{1}\\right)^{2} \\left(\\Lambda \\left(s^{4} - 5 s^{2} + 4\\right) - 6 \\xi^{2} \\left(- 2 M \\xi \\left(s^{2} - 1\\right) + \\ell^{2} + \\ell\\right)\\right)}{2 \\kappa_{1}^{2} \\xi^{2} \\left(\\xi - \\xi_{1}\\right)^{2} \\left(\\Lambda + 6 M \\xi^{3} - 3 \\xi^{2}\\right)} \\right.\\\\ \n",
       "                \\lambda_0 &= \\left[\\frac{10.4 i En}{\\xi - 0.47} + \\frac{6.0 \\left(- i En - 3.0 \\xi^{2} + \\xi\\right)}{6.0 \\xi^{3} - 3.0 \\xi^{2} + 0.04} \\right.\\\\ \n",
       "                      s_0 &= \\left[\\frac{13.5 \\left(2.0 En^{2} \\xi^{2} \\left(6.0 \\xi^{3} - 3.0 \\xi^{2} + 0.04\\right) - 0.385 En \\xi^{2} \\left(6.0 En \\left(\\xi - 0.47\\right) - 3.0 i \\xi \\left(\\xi \\left(4.0 \\xi - 3.82\\right) + 0.94\\right) + 0.04 i\\right) - 0.222 \\xi^{2} \\left(- 6.0 \\xi + 6.0\\right) \\left(\\xi - 0.47\\right)^{2}\\right)}{\\xi^{2} \\left(\\xi - 0.47\\right)^{2} \\left(6.0 \\xi^{3} - 3.0 \\xi^{2} + 0.04\\right)} \\right.\n",
       "                \\end{align}\n",
       "                $$"
      ],
      "text/plain": [
       "<IPython.core.display.Math object>"
      ]
     },
     "metadata": {},
     "output_type": "display_data"
    },
    {
     "name": "stdout",
     "output_type": "stream",
     "text": [
      "iter          n=1                     n=2                     n=3           \n",
      "________________________________________________________________________\n",
      "0001    0.2915300  -0.0762555j    0.3204505  -0.2365696j\n",
      "0011    0.2988947  -0.0732967j    0.2858378  -0.2217255j    0.2600628  -0.3771886j\n",
      "0021    0.2988947  -0.0732967j    0.2858409  -0.2217241j    0.2599916  -0.3770924j\n",
      "0031    0.2988947  -0.0732967j    0.2858409  -0.2217241j    0.2599919  -0.3770922j\n",
      "0041    0.2988947  -0.0732967j    0.2858409  -0.2217241j    0.2599919  -0.3770922j\n",
      "0051    0.2988947  -0.0732967j    0.2858409  -0.2217241j    0.2599919  -0.3770922j\n",
      "0061    0.2988947  -0.0732967j    0.2858409  -0.2217241j    0.2599919  -0.3770922j\n",
      "0071    0.2988947  -0.0732967j    0.2858409  -0.2217241j    0.2599919  -0.3770922j\n",
      "CPU times: user 4min 54s, sys: 564 ms, total: 4min 55s\n",
      "Wall time: 4min 55s\n"
     ]
    }
   ],
   "source": [
    "%%time\n",
    "# values of variables\n",
    "nLambda = o* 4/100\n",
    "\n",
    "sr0 = 3 # initial search point of the root of the der. pot.\n",
    "nr0 = sym.S(mpmath.findroot(dVf_mpmath, sr0, tol=tol))\n",
    "nxi0 = o* 1/nr0\n",
    "\n",
    "solhor = sym.solve(p(xi).subs({Lambda: nLambda, M:nM}), xi)\n",
    "nxi1 = sym.N(max(map(lambda x: sym.re(x), solhor)), dprec)\n",
    "nk1 = kappa(nxi1).subs({Lambda: nLambda, M: nM})\n",
    "\n",
    "display(Math(r\"r_0 = %.20f\"%sym.N(nr0)))\n",
    "display(Math(r\"\\xi_0 = %.20f\"%sym.N(nxi0)))\n",
    "display(Math(r\"\\xi_1 = %.20f\"%sym.N(nxi1)))\n",
    "display(Math(r\"k_1 = %.20f\"%sym.N(nk1)))\n",
    "\n",
    "\n",
    "# pass lambda_0, s_0 and variable values to aim class\n",
    "black_L04l2s2 = aim(lambda_0(xi), s_0(xi), pl0(), ps0())\n",
    "black_L04l2s2.display_parameters(pprec=7)\n",
    "black_L04l2s2.display_l0s0(0, pprec=3)\n",
    "black_L04l2s2.parameters(En, xi, nxi0, nmax=71, nstep=10, dprec=500, tol=1e-101)\n",
    "\n",
    "# create coefficients c0 and d0 for improved AIM\n",
    "black_L04l2s2.c0()\n",
    "black_L04l2s2.d0()\n",
    "black_L04l2s2.cndn()\n",
    "\n",
    "# the solution\n",
    "print(\"iter\" + (3*\"{:^24s}\").format(*(\"n=%s\"%str(i) for i in range(1,4))))\n",
    "print(\"_\"*3*24)\n",
    "black_L04l2s2.get_arb_roots(showRoots='i+r', printFormat=\"  {:10.7f}\", col=(0,3))"
   ]
  },
  {
   "cell_type": "markdown",
   "metadata": {},
   "source": [
    "### $\\Lambda = 0.06$"
   ]
  },
  {
   "cell_type": "code",
   "execution_count": 15,
   "metadata": {
    "ExecuteTime": {
     "end_time": "2019-02-07T09:48:21.308657Z",
     "start_time": "2019-02-07T09:43:30.397348Z"
    }
   },
   "outputs": [
    {
     "data": {
      "text/latex": [
       "$$r_0 = 3.12092802581297501519$$"
      ],
      "text/plain": [
       "<IPython.core.display.Math object>"
      ]
     },
     "metadata": {},
     "output_type": "display_data"
    },
    {
     "data": {
      "text/latex": [
       "$$\\xi_0 = 0.32041751419099406828$$"
      ],
      "text/plain": [
       "<IPython.core.display.Math object>"
      ]
     },
     "metadata": {},
     "output_type": "display_data"
    },
    {
     "data": {
      "text/latex": [
       "$$\\xi_1 = 0.45079027713765573715$$"
      ],
      "text/plain": [
       "<IPython.core.display.Math object>"
      ]
     },
     "metadata": {},
     "output_type": "display_data"
    },
    {
     "data": {
      "text/latex": [
       "$$k_1 = 0.15884534474787764813$$"
      ],
      "text/plain": [
       "<IPython.core.display.Math object>"
      ]
     },
     "metadata": {},
     "output_type": "display_data"
    },
    {
     "data": {
      "text/latex": [
       "$$\\text{Values of the parameters of } \\lambda_0:$$"
      ],
      "text/plain": [
       "<IPython.core.display.Math object>"
      ]
     },
     "metadata": {},
     "output_type": "display_data"
    },
    {
     "data": {
      "text/latex": [
       "$$M = 1.000000,~~\\Lambda = 0.06000000,~~\\kappa_{1} = 0.1588453,~~\\xi_{1} = 0.4507903$$"
      ],
      "text/plain": [
       "<IPython.core.display.Math object>"
      ]
     },
     "metadata": {},
     "output_type": "display_data"
    },
    {
     "data": {
      "text/latex": [
       "$$\\text{Values of the parameters of } s_0:$$"
      ],
      "text/plain": [
       "<IPython.core.display.Math object>"
      ]
     },
     "metadata": {},
     "output_type": "display_data"
    },
    {
     "data": {
      "text/latex": [
       "$$M = 1.000000,~~\\Lambda = 0.06000000,~~\\ell = 2.000000,~~\\kappa_{1} = 0.1588453,~~\\xi_{1} = 0.4507903,~~s = 2.000000$$"
      ],
      "text/plain": [
       "<IPython.core.display.Math object>"
      ]
     },
     "metadata": {},
     "output_type": "display_data"
    },
    {
     "data": {
      "text/latex": [
       "$$           \n",
       "                \\begin{align}\n",
       "                \\lambda_0 &= \\left[\\frac{2 i En}{\\kappa_{1} \\left(\\xi - \\xi_{1}\\right)} + \\frac{6 \\left(- i En - 3 M \\xi^{2} + \\xi\\right)}{\\Lambda + 6 M \\xi^{3} - 3 \\xi^{2}} \\right.\\\\ \n",
       "                      s_0 &= \\left[\\frac{2 En^{2} \\xi^{2} \\left(\\Lambda + 6 M \\xi^{3} - 3 \\xi^{2}\\right) - 2 En \\kappa_{1} \\xi^{2} \\left(6 En \\left(\\xi - \\xi_{1}\\right) + i \\Lambda - 3 i \\xi \\left(\\xi \\left(4 M \\xi - 6 M \\xi_{1} - 1\\right) + 2 \\xi_{1}\\right)\\right) + \\kappa_{1}^{2} \\left(\\xi - \\xi_{1}\\right)^{2} \\left(\\Lambda \\left(s^{4} - 5 s^{2} + 4\\right) - 6 \\xi^{2} \\left(- 2 M \\xi \\left(s^{2} - 1\\right) + \\ell^{2} + \\ell\\right)\\right)}{2 \\kappa_{1}^{2} \\xi^{2} \\left(\\xi - \\xi_{1}\\right)^{2} \\left(\\Lambda + 6 M \\xi^{3} - 3 \\xi^{2}\\right)} \\right.\\\\ \n",
       "                \\lambda_0 &= \\left[\\frac{12.6 i En}{\\xi - 0.451} + \\frac{6.0 \\left(- i En - 3.0 \\xi^{2} + \\xi\\right)}{6.0 \\xi^{3} - 3.0 \\xi^{2} + 0.06} \\right.\\\\ \n",
       "                      s_0 &= \\left[\\frac{19.8 \\left(2.0 En^{2} \\xi^{2} \\left(6.0 \\xi^{3} - 3.0 \\xi^{2} + 0.06\\right) - 0.318 En \\xi^{2} \\left(6.0 En \\left(\\xi - 0.451\\right) - 3.0 i \\xi \\left(\\xi \\left(4.0 \\xi - 3.7\\right) + 0.902\\right) + 0.06 i\\right) - 0.151 \\xi^{2} \\left(- 6.0 \\xi + 6.0\\right) \\left(\\xi - 0.451\\right)^{2}\\right)}{\\xi^{2} \\left(\\xi - 0.451\\right)^{2} \\left(6.0 \\xi^{3} - 3.0 \\xi^{2} + 0.06\\right)} \\right.\n",
       "                \\end{align}\n",
       "                $$"
      ],
      "text/plain": [
       "<IPython.core.display.Math object>"
      ]
     },
     "metadata": {},
     "output_type": "display_data"
    },
    {
     "name": "stdout",
     "output_type": "stream",
     "text": [
      "iter          n=1                     n=2                     n=3           \n",
      "________________________________________________________________________\n",
      "0001    0.2484765  -0.0650221j    0.2667728  -0.1997838j\n",
      "0011    0.2532892  -0.0630425j    0.2457417  -0.1897908j    0.2300666  -0.3191627j\n",
      "0021    0.2532892  -0.0630425j    0.2457420  -0.1897910j    0.2300764  -0.3191573j\n",
      "0031    0.2532892  -0.0630425j    0.2457420  -0.1897910j    0.2300764  -0.3191573j\n",
      "0041    0.2532892  -0.0630425j    0.2457420  -0.1897910j    0.2300764  -0.3191573j\n",
      "0051    0.2532892  -0.0630425j    0.2457420  -0.1897910j    0.2300764  -0.3191573j\n",
      "0061    0.2532892  -0.0630425j    0.2457420  -0.1897910j    0.2300764  -0.3191573j\n",
      "0071    0.2532892  -0.0630425j    0.2457420  -0.1897910j    0.2300764  -0.3191573j\n",
      "CPU times: user 4min 49s, sys: 813 ms, total: 4min 50s\n",
      "Wall time: 4min 50s\n"
     ]
    }
   ],
   "source": [
    "%%time\n",
    "# values of variables\n",
    "nLambda = o* 6/100\n",
    "\n",
    "sr0 = 3 # initial search point of the root of the der. pot.\n",
    "nr0 = sym.S(mpmath.findroot(dVf_mpmath, sr0, tol=tol))\n",
    "nxi0 = o* 1/nr0\n",
    "\n",
    "solhor = sym.solve(p(xi).subs({Lambda: nLambda, M:nM}), xi)\n",
    "nxi1 = sym.N(max(map(lambda x: sym.re(x), solhor)), dprec)\n",
    "nk1 = kappa(nxi1).subs({Lambda: nLambda, M: nM})\n",
    "\n",
    "display(Math(r\"r_0 = %.20f\"%sym.N(nr0)))\n",
    "display(Math(r\"\\xi_0 = %.20f\"%sym.N(nxi0)))\n",
    "display(Math(r\"\\xi_1 = %.20f\"%sym.N(nxi1)))\n",
    "display(Math(r\"k_1 = %.20f\"%sym.N(nk1)))\n",
    "\n",
    "\n",
    "# pass lambda_0, s_0 and variable values to aim class\n",
    "black_L06l2s2 = aim(lambda_0(xi), s_0(xi), pl0(), ps0())\n",
    "black_L06l2s2.display_parameters(pprec=7)\n",
    "black_L06l2s2.display_l0s0(0, pprec=3)\n",
    "black_L06l2s2.parameters(En, xi, nxi0, nmax=71, nstep=10, dprec=500, tol=1e-101)\n",
    "\n",
    "# create coefficients c0 and d0 for improved AIM\n",
    "black_L06l2s2.c0()\n",
    "black_L06l2s2.d0()\n",
    "black_L06l2s2.cndn()\n",
    "\n",
    "# the solution\n",
    "print(\"iter\" + (3*\"{:^24s}\").format(*(\"n=%s\"%str(i) for i in range(1,4))))\n",
    "print(\"_\"*3*24)\n",
    "black_L06l2s2.get_arb_roots(showRoots='i+r', printFormat=\"  {:10.7f}\", col=(0,3))"
   ]
  },
  {
   "cell_type": "markdown",
   "metadata": {},
   "source": [
    "### $\\Lambda = 0.08$"
   ]
  },
  {
   "cell_type": "code",
   "execution_count": 16,
   "metadata": {
    "ExecuteTime": {
     "end_time": "2019-02-07T09:53:23.061909Z",
     "start_time": "2019-02-07T09:48:21.312866Z"
    }
   },
   "outputs": [
    {
     "data": {
      "text/latex": [
       "$$r_0 = 3.07213303248536773182$$"
      ],
      "text/plain": [
       "<IPython.core.display.Math object>"
      ]
     },
     "metadata": {},
     "output_type": "display_data"
    },
    {
     "data": {
      "text/latex": [
       "$$\\xi_0 = 0.32550673731436557956$$"
      ],
      "text/plain": [
       "<IPython.core.display.Math object>"
      ]
     },
     "metadata": {},
     "output_type": "display_data"
    },
    {
     "data": {
      "text/latex": [
       "$$\\xi_1 = 0.42680542981557051396$$"
      ],
      "text/plain": [
       "<IPython.core.display.Math object>"
      ]
     },
     "metadata": {},
     "output_type": "display_data"
    },
    {
     "data": {
      "text/latex": [
       "$$k_1 = 0.11968319494459116192$$"
      ],
      "text/plain": [
       "<IPython.core.display.Math object>"
      ]
     },
     "metadata": {},
     "output_type": "display_data"
    },
    {
     "data": {
      "text/latex": [
       "$$\\text{Values of the parameters of } \\lambda_0:$$"
      ],
      "text/plain": [
       "<IPython.core.display.Math object>"
      ]
     },
     "metadata": {},
     "output_type": "display_data"
    },
    {
     "data": {
      "text/latex": [
       "$$M = 1.000000,~~\\Lambda = 0.08000000,~~\\kappa_{1} = 0.1196832,~~\\xi_{1} = 0.4268054$$"
      ],
      "text/plain": [
       "<IPython.core.display.Math object>"
      ]
     },
     "metadata": {},
     "output_type": "display_data"
    },
    {
     "data": {
      "text/latex": [
       "$$\\text{Values of the parameters of } s_0:$$"
      ],
      "text/plain": [
       "<IPython.core.display.Math object>"
      ]
     },
     "metadata": {},
     "output_type": "display_data"
    },
    {
     "data": {
      "text/latex": [
       "$$M = 1.000000,~~\\Lambda = 0.08000000,~~\\ell = 2.000000,~~\\kappa_{1} = 0.1196832,~~\\xi_{1} = 0.4268054,~~s = 2.000000$$"
      ],
      "text/plain": [
       "<IPython.core.display.Math object>"
      ]
     },
     "metadata": {},
     "output_type": "display_data"
    },
    {
     "data": {
      "text/latex": [
       "$$           \n",
       "                \\begin{align}\n",
       "                \\lambda_0 &= \\left[\\frac{2 i En}{\\kappa_{1} \\left(\\xi - \\xi_{1}\\right)} + \\frac{6 \\left(- i En - 3 M \\xi^{2} + \\xi\\right)}{\\Lambda + 6 M \\xi^{3} - 3 \\xi^{2}} \\right.\\\\ \n",
       "                      s_0 &= \\left[\\frac{2 En^{2} \\xi^{2} \\left(\\Lambda + 6 M \\xi^{3} - 3 \\xi^{2}\\right) - 2 En \\kappa_{1} \\xi^{2} \\left(6 En \\left(\\xi - \\xi_{1}\\right) + i \\Lambda - 3 i \\xi \\left(\\xi \\left(4 M \\xi - 6 M \\xi_{1} - 1\\right) + 2 \\xi_{1}\\right)\\right) + \\kappa_{1}^{2} \\left(\\xi - \\xi_{1}\\right)^{2} \\left(\\Lambda \\left(s^{4} - 5 s^{2} + 4\\right) - 6 \\xi^{2} \\left(- 2 M \\xi \\left(s^{2} - 1\\right) + \\ell^{2} + \\ell\\right)\\right)}{2 \\kappa_{1}^{2} \\xi^{2} \\left(\\xi - \\xi_{1}\\right)^{2} \\left(\\Lambda + 6 M \\xi^{3} - 3 \\xi^{2}\\right)} \\right.\\\\ \n",
       "                \\lambda_0 &= \\left[\\frac{16.7 i En}{\\xi - 0.427} + \\frac{6.0 \\left(- i En - 3.0 \\xi^{2} + \\xi\\right)}{6.0 \\xi^{3} - 3.0 \\xi^{2} + 0.08} \\right.\\\\ \n",
       "                      s_0 &= \\left[\\frac{34.9 \\left(2.0 En^{2} \\xi^{2} \\left(6.0 \\xi^{3} - 3.0 \\xi^{2} + 0.08\\right) - 0.239 En \\xi^{2} \\left(6.0 En \\left(\\xi - 0.427\\right) - 3.0 i \\xi \\left(\\xi \\left(4.0 \\xi - 3.56\\right) + 0.854\\right) + 0.08 i\\right) - 0.0859 \\xi^{2} \\left(- 6.0 \\xi + 6.0\\right) \\left(\\xi - 0.427\\right)^{2}\\right)}{\\xi^{2} \\left(\\xi - 0.427\\right)^{2} \\left(6.0 \\xi^{3} - 3.0 \\xi^{2} + 0.08\\right)} \\right.\n",
       "                \\end{align}\n",
       "                $$"
      ],
      "text/plain": [
       "<IPython.core.display.Math object>"
      ]
     },
     "metadata": {},
     "output_type": "display_data"
    },
    {
     "name": "stdout",
     "output_type": "stream",
     "text": [
      "iter          n=1                     n=2                     n=3           \n",
      "________________________________________________________________________\n",
      "0001    0.1949902  -0.0509151j    0.2041500  -0.1550700j\n",
      "0011    0.1974823  -0.0498773j    0.1941148  -0.1497866j    0.1871197  -0.2502566j\n",
      "0021    0.1974823  -0.0498773j    0.1941148  -0.1497866j    0.1871198  -0.2502570j\n",
      "0031    0.1974823  -0.0498773j    0.1941148  -0.1497866j    0.1871198  -0.2502570j\n",
      "0041    0.1974823  -0.0498773j    0.1941148  -0.1497866j    0.1871198  -0.2502570j\n",
      "0051    0.1974823  -0.0498773j    0.1941148  -0.1497866j    0.1871198  -0.2502570j\n",
      "0061    0.1974823  -0.0498773j    0.1941148  -0.1497866j    0.1871198  -0.2502570j\n",
      "0071    0.1974823  -0.0498773j    0.1941148  -0.1497866j    0.1871198  -0.2502570j\n",
      "CPU times: user 5min, sys: 973 ms, total: 5min 1s\n",
      "Wall time: 5min 1s\n"
     ]
    }
   ],
   "source": [
    "%%time\n",
    "# values of variables\n",
    "nLambda = o* 8/100\n",
    "\n",
    "sr0 = 3 # initial search point of the root of the der. pot.\n",
    "nr0 = sym.S(mpmath.findroot(dVf_mpmath, sr0, tol=tol))\n",
    "nxi0 = o* 1/nr0\n",
    "\n",
    "solhor = sym.solve(p(xi).subs({Lambda: nLambda, M:nM}), xi)\n",
    "nxi1 = sym.N(max(map(lambda x: sym.re(x), solhor)), dprec)\n",
    "nk1 = kappa(nxi1).subs({Lambda: nLambda, M: nM})\n",
    "\n",
    "display(Math(r\"r_0 = %.20f\"%sym.N(nr0)))\n",
    "display(Math(r\"\\xi_0 = %.20f\"%sym.N(nxi0)))\n",
    "display(Math(r\"\\xi_1 = %.20f\"%sym.N(nxi1)))\n",
    "display(Math(r\"k_1 = %.20f\"%sym.N(nk1)))\n",
    "\n",
    "\n",
    "# pass lambda_0, s_0 and variable values to aim class\n",
    "black_L08l2s2 = aim(lambda_0(xi), s_0(xi), pl0(), ps0())\n",
    "black_L08l2s2.display_parameters(pprec=7)\n",
    "black_L08l2s2.display_l0s0(0, pprec=3)\n",
    "black_L08l2s2.parameters(En, xi, nxi0, nmax=71, nstep=10, dprec=500, tol=1e-101)\n",
    "\n",
    "# create coefficients c0 and d0 for improved AIM\n",
    "black_L08l2s2.c0()\n",
    "black_L08l2s2.d0()\n",
    "black_L08l2s2.cndn()\n",
    "\n",
    "# the solution\n",
    "print(\"iter\" + (3*\"{:^24s}\").format(*(\"n=%s\"%str(i) for i in range(1,4))))\n",
    "print(\"_\"*3*24)\n",
    "black_L08l2s2.get_arb_roots(showRoots='i+r', printFormat=\"  {:10.7f}\", col=(0,3))"
   ]
  },
  {
   "cell_type": "markdown",
   "metadata": {},
   "source": [
    "### $\\Lambda = 0.09$"
   ]
  },
  {
   "cell_type": "code",
   "execution_count": 17,
   "metadata": {
    "ExecuteTime": {
     "end_time": "2019-02-07T09:58:22.056165Z",
     "start_time": "2019-02-07T09:53:23.066287Z"
    }
   },
   "outputs": [
    {
     "data": {
      "text/latex": [
       "$$r_0 = 3.04846823336026906404$$"
      ],
      "text/plain": [
       "<IPython.core.display.Math object>"
      ]
     },
     "metadata": {},
     "output_type": "display_data"
    },
    {
     "data": {
      "text/latex": [
       "$$\\xi_0 = 0.32803359702315770807$$"
      ],
      "text/plain": [
       "<IPython.core.display.Math object>"
      ]
     },
     "metadata": {},
     "output_type": "display_data"
    },
    {
     "data": {
      "text/latex": [
       "$$\\xi_1 = 0.41135376108773658022$$"
      ],
      "text/plain": [
       "<IPython.core.display.Math object>"
      ]
     },
     "metadata": {},
     "output_type": "display_data"
    },
    {
     "data": {
      "text/latex": [
       "$$k_1 = 0.09628198919534343425$$"
      ],
      "text/plain": [
       "<IPython.core.display.Math object>"
      ]
     },
     "metadata": {},
     "output_type": "display_data"
    },
    {
     "data": {
      "text/latex": [
       "$$\\text{Values of the parameters of } \\lambda_0:$$"
      ],
      "text/plain": [
       "<IPython.core.display.Math object>"
      ]
     },
     "metadata": {},
     "output_type": "display_data"
    },
    {
     "data": {
      "text/latex": [
       "$$M = 1.000000,~~\\Lambda = 0.09000000,~~\\kappa_{1} = 0.09628199,~~\\xi_{1} = 0.4113538$$"
      ],
      "text/plain": [
       "<IPython.core.display.Math object>"
      ]
     },
     "metadata": {},
     "output_type": "display_data"
    },
    {
     "data": {
      "text/latex": [
       "$$\\text{Values of the parameters of } s_0:$$"
      ],
      "text/plain": [
       "<IPython.core.display.Math object>"
      ]
     },
     "metadata": {},
     "output_type": "display_data"
    },
    {
     "data": {
      "text/latex": [
       "$$M = 1.000000,~~\\Lambda = 0.09000000,~~\\ell = 2.000000,~~\\kappa_{1} = 0.09628199,~~\\xi_{1} = 0.4113538,~~s = 2.000000$$"
      ],
      "text/plain": [
       "<IPython.core.display.Math object>"
      ]
     },
     "metadata": {},
     "output_type": "display_data"
    },
    {
     "data": {
      "text/latex": [
       "$$           \n",
       "                \\begin{align}\n",
       "                \\lambda_0 &= \\left[\\frac{2 i En}{\\kappa_{1} \\left(\\xi - \\xi_{1}\\right)} + \\frac{6 \\left(- i En - 3 M \\xi^{2} + \\xi\\right)}{\\Lambda + 6 M \\xi^{3} - 3 \\xi^{2}} \\right.\\\\ \n",
       "                      s_0 &= \\left[\\frac{2 En^{2} \\xi^{2} \\left(\\Lambda + 6 M \\xi^{3} - 3 \\xi^{2}\\right) - 2 En \\kappa_{1} \\xi^{2} \\left(6 En \\left(\\xi - \\xi_{1}\\right) + i \\Lambda - 3 i \\xi \\left(\\xi \\left(4 M \\xi - 6 M \\xi_{1} - 1\\right) + 2 \\xi_{1}\\right)\\right) + \\kappa_{1}^{2} \\left(\\xi - \\xi_{1}\\right)^{2} \\left(\\Lambda \\left(s^{4} - 5 s^{2} + 4\\right) - 6 \\xi^{2} \\left(- 2 M \\xi \\left(s^{2} - 1\\right) + \\ell^{2} + \\ell\\right)\\right)}{2 \\kappa_{1}^{2} \\xi^{2} \\left(\\xi - \\xi_{1}\\right)^{2} \\left(\\Lambda + 6 M \\xi^{3} - 3 \\xi^{2}\\right)} \\right.\\\\ \n",
       "                \\lambda_0 &= \\left[\\frac{20.8 i En}{\\xi - 0.411} + \\frac{6.0 \\left(- i En - 3.0 \\xi^{2} + \\xi\\right)}{6.0 \\xi^{3} - 3.0 \\xi^{2} + 0.09} \\right.\\\\ \n",
       "                      s_0 &= \\left[\\frac{53.9 \\left(2.0 En^{2} \\xi^{2} \\left(6.0 \\xi^{3} - 3.0 \\xi^{2} + 0.09\\right) - 0.193 En \\xi^{2} \\left(6.0 En \\left(\\xi - 0.411\\right) - 3.0 i \\xi \\left(\\xi \\left(4.0 \\xi - 3.47\\right) + 0.823\\right) + 0.09 i\\right) - 0.0556 \\xi^{2} \\left(- 6.0 \\xi + 6.0\\right) \\left(\\xi - 0.411\\right)^{2}\\right)}{\\xi^{2} \\left(\\xi - 0.411\\right)^{2} \\left(6.0 \\xi^{3} - 3.0 \\xi^{2} + 0.09\\right)} \\right.\n",
       "                \\end{align}\n",
       "                $$"
      ],
      "text/plain": [
       "<IPython.core.display.Math object>"
      ]
     },
     "metadata": {},
     "output_type": "display_data"
    },
    {
     "name": "stdout",
     "output_type": "stream",
     "text": [
      "iter          n=1                     n=2                     n=3           \n",
      "________________________________________________________________________\n",
      "0001    0.1611362  -0.0419793j    0.1664529  -0.1273112j\n",
      "0011    0.1626104  -0.0413665j    0.1607886  -0.1241522j    0.1570423  -0.2071172j\n",
      "0021    0.1626104  -0.0413665j    0.1607886  -0.1241522j    0.1570423  -0.2071172j\n",
      "0031    0.1626104  -0.0413665j    0.1607886  -0.1241522j    0.1570423  -0.2071172j\n",
      "0041    0.1626104  -0.0413665j    0.1607886  -0.1241522j    0.1570423  -0.2071172j\n",
      "0051    0.1626104  -0.0413665j    0.1607886  -0.1241522j    0.1570423  -0.2071172j\n",
      "0061    0.1626104  -0.0413665j    0.1607886  -0.1241522j    0.1570423  -0.2071172j\n",
      "0071    0.1626104  -0.0413665j    0.1607886  -0.1241522j    0.1570423  -0.2071172j\n",
      "CPU times: user 4min 58s, sys: 977 ms, total: 4min 59s\n",
      "Wall time: 4min 58s\n"
     ]
    }
   ],
   "source": [
    "%%time\n",
    "# values of variables\n",
    "nLambda = o* 9/100\n",
    "\n",
    "sr0 = 3 # initial search point of the root of the der. pot.\n",
    "nr0 = sym.S(mpmath.findroot(dVf_mpmath, sr0, tol=tol))\n",
    "nxi0 = o* 1/nr0\n",
    "\n",
    "solhor = sym.solve(p(xi).subs({Lambda: nLambda, M:nM}), xi)\n",
    "nxi1 = sym.N(max(map(lambda x: sym.re(x), solhor)), dprec)\n",
    "nk1 = kappa(nxi1).subs({Lambda: nLambda, M: nM})\n",
    "\n",
    "display(Math(r\"r_0 = %.20f\"%sym.N(nr0)))\n",
    "display(Math(r\"\\xi_0 = %.20f\"%sym.N(nxi0)))\n",
    "display(Math(r\"\\xi_1 = %.20f\"%sym.N(nxi1)))\n",
    "display(Math(r\"k_1 = %.20f\"%sym.N(nk1)))\n",
    "\n",
    "\n",
    "# pass lambda_0, s_0 and variable values to aim class\n",
    "black_L09l2s2 = aim(lambda_0(xi), s_0(xi), pl0(), ps0())\n",
    "black_L09l2s2.display_parameters(pprec=7)\n",
    "black_L09l2s2.display_l0s0(0, pprec=3)\n",
    "black_L09l2s2.parameters(En, xi, nxi0, nmax=71, nstep=10, dprec=500, tol=1e-101)\n",
    "\n",
    "# create coefficients c0 and d0 for improved AIM\n",
    "black_L09l2s2.c0()\n",
    "black_L09l2s2.d0()\n",
    "black_L09l2s2.cndn()\n",
    "\n",
    "# the solution\n",
    "print(\"iter\" + (3*\"{:^24s}\").format(*(\"n=%s\"%str(i) for i in range(1,4))))\n",
    "print(\"_\"*3*24)\n",
    "black_L09l2s2.get_arb_roots(showRoots='i+r', printFormat=\"  {:10.7f}\", col=(0,3))"
   ]
  },
  {
   "cell_type": "markdown",
   "metadata": {},
   "source": [
    "### $\\Lambda = 0.10$"
   ]
  },
  {
   "cell_type": "code",
   "execution_count": 18,
   "metadata": {
    "ExecuteTime": {
     "end_time": "2019-02-07T09:58:49.026343Z",
     "start_time": "2019-02-07T09:58:22.060571Z"
    }
   },
   "outputs": [
    {
     "data": {
      "text/latex": [
       "$$r_0 = 3.02526445868100379855$$"
      ],
      "text/plain": [
       "<IPython.core.display.Math object>"
      ]
     },
     "metadata": {},
     "output_type": "display_data"
    },
    {
     "data": {
      "text/latex": [
       "$$\\xi_0 = 0.33054961430908874620$$"
      ],
      "text/plain": [
       "<IPython.core.display.Math object>"
      ]
     },
     "metadata": {},
     "output_type": "display_data"
    },
    {
     "data": {
      "text/latex": [
       "$$\\xi_1 = 0.39096099092712277567$$"
      ],
      "text/plain": [
       "<IPython.core.display.Math object>"
      ]
     },
     "metadata": {},
     "output_type": "display_data"
    },
    {
     "data": {
      "text/latex": [
       "$$k_1 = 0.06759049835303057585$$"
      ],
      "text/plain": [
       "<IPython.core.display.Math object>"
      ]
     },
     "metadata": {},
     "output_type": "display_data"
    },
    {
     "data": {
      "text/latex": [
       "$$\\text{Values of the parameters of } \\lambda_0:$$"
      ],
      "text/plain": [
       "<IPython.core.display.Math object>"
      ]
     },
     "metadata": {},
     "output_type": "display_data"
    },
    {
     "data": {
      "text/latex": [
       "$$M = 1.000000,~~\\Lambda = 0.1000000,~~\\kappa_{1} = 0.06759050,~~\\xi_{1} = 0.3909610$$"
      ],
      "text/plain": [
       "<IPython.core.display.Math object>"
      ]
     },
     "metadata": {},
     "output_type": "display_data"
    },
    {
     "data": {
      "text/latex": [
       "$$\\text{Values of the parameters of } s_0:$$"
      ],
      "text/plain": [
       "<IPython.core.display.Math object>"
      ]
     },
     "metadata": {},
     "output_type": "display_data"
    },
    {
     "data": {
      "text/latex": [
       "$$M = 1.000000,~~\\Lambda = 0.1000000,~~\\ell = 2.000000,~~\\kappa_{1} = 0.06759050,~~\\xi_{1} = 0.3909610,~~s = 2.000000$$"
      ],
      "text/plain": [
       "<IPython.core.display.Math object>"
      ]
     },
     "metadata": {},
     "output_type": "display_data"
    },
    {
     "data": {
      "text/latex": [
       "$$           \n",
       "                \\begin{align}\n",
       "                \\lambda_0 &= \\left[\\frac{2 i En}{\\kappa_{1} \\left(\\xi - \\xi_{1}\\right)} + \\frac{6 \\left(- i En - 3 M \\xi^{2} + \\xi\\right)}{\\Lambda + 6 M \\xi^{3} - 3 \\xi^{2}} \\right.\\\\ \n",
       "                      s_0 &= \\left[\\frac{2 En^{2} \\xi^{2} \\left(\\Lambda + 6 M \\xi^{3} - 3 \\xi^{2}\\right) - 2 En \\kappa_{1} \\xi^{2} \\left(6 En \\left(\\xi - \\xi_{1}\\right) + i \\Lambda - 3 i \\xi \\left(\\xi \\left(4 M \\xi - 6 M \\xi_{1} - 1\\right) + 2 \\xi_{1}\\right)\\right) + \\kappa_{1}^{2} \\left(\\xi - \\xi_{1}\\right)^{2} \\left(\\Lambda \\left(s^{4} - 5 s^{2} + 4\\right) - 6 \\xi^{2} \\left(- 2 M \\xi \\left(s^{2} - 1\\right) + \\ell^{2} + \\ell\\right)\\right)}{2 \\kappa_{1}^{2} \\xi^{2} \\left(\\xi - \\xi_{1}\\right)^{2} \\left(\\Lambda + 6 M \\xi^{3} - 3 \\xi^{2}\\right)} \\right.\\\\ \n",
       "                \\lambda_0 &= \\left[\\frac{29.6 i En}{\\xi - 0.391} + \\frac{6.0 \\left(- i En - 3.0 \\xi^{2} + \\xi\\right)}{6.0 \\xi^{3} - 3.0 \\xi^{2} + 0.1} \\right.\\\\ \n",
       "                      s_0 &= \\left[\\frac{109.0 \\left(2.0 En^{2} \\xi^{2} \\left(6.0 \\xi^{3} - 3.0 \\xi^{2} + 0.1\\right) - 0.135 En \\xi^{2} \\left(6.0 En \\left(\\xi - 0.391\\right) - 3.0 i \\xi \\left(\\xi \\left(4.0 \\xi - 3.35\\right) + 0.782\\right) + 0.1 i\\right) - 0.0274 \\xi^{2} \\left(- 6.0 \\xi + 6.0\\right) \\left(\\xi - 0.391\\right)^{2}\\right)}{\\xi^{2} \\left(\\xi - 0.391\\right)^{2} \\left(6.0 \\xi^{3} - 3.0 \\xi^{2} + 0.1\\right)} \\right.\n",
       "                \\end{align}\n",
       "                $$"
      ],
      "text/plain": [
       "<IPython.core.display.Math object>"
      ]
     },
     "metadata": {},
     "output_type": "display_data"
    },
    {
     "name": "stdout",
     "output_type": "stream",
     "text": [
      "iter          n=1                     n=2                     n=3           \n",
      "________________________________________________________________________\n",
      "0001    0.1173080  -0.0304594j    0.1194521  -0.0919654j\n",
      "0011    0.1179164  -0.0302105j    0.1172432  -0.0906409j    0.1158764  -0.1511018j\n",
      "0021    0.1179164  -0.0302105j    0.1172432  -0.0906409j    0.1158764  -0.1511018j\n",
      "0031    0.1179164  -0.0302105j    0.1172432  -0.0906409j    0.1158764  -0.1511018j\n",
      "0041    0.1179164  -0.0302105j    0.1172432  -0.0906409j    0.1158764  -0.1511018j\n",
      "0051    0.1179164  -0.0302105j    0.1172432  -0.0906409j    0.1158764  -0.1511018j\n",
      "0061    0.1179164  -0.0302105j    0.1172432  -0.0906409j    0.1158764  -0.1511018j\n",
      "0071    0.1179164  -0.0302105j    0.1172432  -0.0906409j    0.1158764  -0.1511018j\n",
      "CPU times: user 26.9 s, sys: 145 ms, total: 27.1 s\n",
      "Wall time: 26.9 s\n"
     ]
    }
   ],
   "source": [
    "%%time\n",
    "# values of variables\n",
    "nLambda = o* 10/100\n",
    "\n",
    "sr0 = 3 # initial search point of the root of the der. pot.\n",
    "nr0 = sym.S(mpmath.findroot(dVf_mpmath, sr0, tol=tol))\n",
    "nxi0 = o* 1/nr0\n",
    "\n",
    "solhor = sym.solve(p(xi).subs({Lambda: nLambda, M:nM}), xi)\n",
    "nxi1 = sym.N(max(map(lambda x: sym.re(x), solhor)), dprec)\n",
    "nk1 = kappa(nxi1).subs({Lambda: nLambda, M: nM})\n",
    "\n",
    "display(Math(r\"r_0 = %.20f\"%sym.N(nr0)))\n",
    "display(Math(r\"\\xi_0 = %.20f\"%sym.N(nxi0)))\n",
    "display(Math(r\"\\xi_1 = %.20f\"%sym.N(nxi1)))\n",
    "display(Math(r\"k_1 = %.20f\"%sym.N(nk1)))\n",
    "\n",
    "\n",
    "# pass lambda_0, s_0 and variable values to aim class\n",
    "black_L10l2s2 = aim(lambda_0(xi), s_0(xi), pl0(), ps0())\n",
    "black_L10l2s2.display_parameters(pprec=7)\n",
    "black_L10l2s2.display_l0s0(0, pprec=3)\n",
    "black_L10l2s2.parameters(En, xi, nxi0, nmax=71, nstep=10, dprec=500, tol=1e-101)\n",
    "\n",
    "# create coefficients c0 and d0 for improved AIM\n",
    "black_L10l2s2.c0()\n",
    "black_L10l2s2.d0()\n",
    "black_L10l2s2.cndn()\n",
    "\n",
    "# the solution\n",
    "print(\"iter\" + (3*\"{:^24s}\").format(*(\"n=%s\"%str(i) for i in range(1,4))))\n",
    "print(\"_\"*3*24)\n",
    "black_L10l2s2.get_arb_roots(showRoots='i+r', printFormat=\"  {:10.7f}\", col=(0,3))"
   ]
  },
  {
   "cell_type": "markdown",
   "metadata": {},
   "source": [
    "### $\\Lambda = 0.11$"
   ]
  },
  {
   "cell_type": "code",
   "execution_count": 19,
   "metadata": {
    "ExecuteTime": {
     "end_time": "2019-02-07T10:03:18.116679Z",
     "start_time": "2019-02-07T09:58:49.030817Z"
    },
    "scrolled": false
   },
   "outputs": [
    {
     "data": {
      "text/latex": [
       "$$r_0 = 3.00250260815149738747$$"
      ],
      "text/plain": [
       "<IPython.core.display.Math object>"
      ]
     },
     "metadata": {},
     "output_type": "display_data"
    },
    {
     "data": {
      "text/latex": [
       "$$\\xi_0 = 0.33305549753232488452$$"
      ],
      "text/plain": [
       "<IPython.core.display.Math object>"
      ]
     },
     "metadata": {},
     "output_type": "display_data"
    },
    {
     "data": {
      "text/latex": [
       "$$\\xi_1 = 0.35222476494479487696$$"
      ],
      "text/plain": [
       "<IPython.core.display.Math object>"
      ]
     },
     "metadata": {},
     "output_type": "display_data"
    },
    {
     "data": {
      "text/latex": [
       "$$k_1 = 0.01996209017645310391$$"
      ],
      "text/plain": [
       "<IPython.core.display.Math object>"
      ]
     },
     "metadata": {},
     "output_type": "display_data"
    },
    {
     "data": {
      "text/latex": [
       "$$\\text{Values of the parameters of } \\lambda_0:$$"
      ],
      "text/plain": [
       "<IPython.core.display.Math object>"
      ]
     },
     "metadata": {},
     "output_type": "display_data"
    },
    {
     "data": {
      "text/latex": [
       "$$M = 1.000000,~~\\Lambda = 0.1100000,~~\\kappa_{1} = 0.01996209,~~\\xi_{1} = 0.3522248$$"
      ],
      "text/plain": [
       "<IPython.core.display.Math object>"
      ]
     },
     "metadata": {},
     "output_type": "display_data"
    },
    {
     "data": {
      "text/latex": [
       "$$\\text{Values of the parameters of } s_0:$$"
      ],
      "text/plain": [
       "<IPython.core.display.Math object>"
      ]
     },
     "metadata": {},
     "output_type": "display_data"
    },
    {
     "data": {
      "text/latex": [
       "$$M = 1.000000,~~\\Lambda = 0.1100000,~~\\ell = 2.000000,~~\\kappa_{1} = 0.01996209,~~\\xi_{1} = 0.3522248,~~s = 2.000000$$"
      ],
      "text/plain": [
       "<IPython.core.display.Math object>"
      ]
     },
     "metadata": {},
     "output_type": "display_data"
    },
    {
     "data": {
      "text/latex": [
       "$$           \n",
       "                \\begin{align}\n",
       "                \\lambda_0 &= \\left[\\frac{2 i En}{\\kappa_{1} \\left(\\xi - \\xi_{1}\\right)} + \\frac{6 \\left(- i En - 3 M \\xi^{2} + \\xi\\right)}{\\Lambda + 6 M \\xi^{3} - 3 \\xi^{2}} \\right.\\\\ \n",
       "                      s_0 &= \\left[\\frac{2 En^{2} \\xi^{2} \\left(\\Lambda + 6 M \\xi^{3} - 3 \\xi^{2}\\right) - 2 En \\kappa_{1} \\xi^{2} \\left(6 En \\left(\\xi - \\xi_{1}\\right) + i \\Lambda - 3 i \\xi \\left(\\xi \\left(4 M \\xi - 6 M \\xi_{1} - 1\\right) + 2 \\xi_{1}\\right)\\right) + \\kappa_{1}^{2} \\left(\\xi - \\xi_{1}\\right)^{2} \\left(\\Lambda \\left(s^{4} - 5 s^{2} + 4\\right) - 6 \\xi^{2} \\left(- 2 M \\xi \\left(s^{2} - 1\\right) + \\ell^{2} + \\ell\\right)\\right)}{2 \\kappa_{1}^{2} \\xi^{2} \\left(\\xi - \\xi_{1}\\right)^{2} \\left(\\Lambda + 6 M \\xi^{3} - 3 \\xi^{2}\\right)} \\right.\\\\ \n",
       "                \\lambda_0 &= \\left[\\frac{100.0 i En}{\\xi - 0.352} + \\frac{6.0 \\left(- i En - 3.0 \\xi^{2} + \\xi\\right)}{6.0 \\xi^{3} - 3.0 \\xi^{2} + 0.11} \\right.\\\\ \n",
       "                      s_0 &= \\left[\\frac{1.25 \\cdot 10^{3} \\left(2.0 En^{2} \\xi^{2} \\left(6.0 \\xi^{3} - 3.0 \\xi^{2} + 0.11\\right) - 0.0399 En \\xi^{2} \\left(6.0 En \\left(\\xi - 0.352\\right) - 3.0 i \\xi \\left(\\xi \\left(4.0 \\xi - 3.11\\right) + 0.704\\right) + 0.11 i\\right) - 0.00239 \\xi^{2} \\left(- 6.0 \\xi + 6.0\\right) \\left(\\xi - 0.352\\right)^{2}\\right)}{\\xi^{2} \\left(\\xi - 0.352\\right)^{2} \\left(6.0 \\xi^{3} - 3.0 \\xi^{2} + 0.11\\right)} \\right.\n",
       "                \\end{align}\n",
       "                $$"
      ],
      "text/plain": [
       "<IPython.core.display.Math object>"
      ]
     },
     "metadata": {},
     "output_type": "display_data"
    },
    {
     "name": "stdout",
     "output_type": "stream",
     "text": [
      "iter          n=1                     n=2                     n=3           \n",
      "________________________________________________________________________\n",
      "0001    0.0372473  -0.0096242j    0.0373238  -0.0288985j\n",
      "0011    0.0372699  -0.0096157j    0.0372493  -0.0288470j    0.0372081  -0.0480784j\n",
      "0021    0.0372699  -0.0096157j    0.0372493  -0.0288470j    0.0372081  -0.0480784j\n",
      "0031    0.0372699  -0.0096157j    0.0372493  -0.0288470j    0.0372081  -0.0480784j\n",
      "0041    0.0372699  -0.0096157j    0.0372493  -0.0288470j    0.0372081  -0.0480784j\n",
      "0051    0.0372699  -0.0096157j    0.0372493  -0.0288470j    0.0372081  -0.0480784j\n",
      "0061    0.0372699  -0.0096157j    0.0372493  -0.0288470j    0.0372081  -0.0480784j\n",
      "0071    0.0372699  -0.0096157j    0.0372493  -0.0288470j    0.0372081  -0.0480784j\n",
      "CPU times: user 4min 28s, sys: 569 ms, total: 4min 29s\n",
      "Wall time: 4min 29s\n"
     ]
    }
   ],
   "source": [
    "%%time\n",
    "# values of variables\n",
    "nLambda = o* 11/100\n",
    "\n",
    "sr0 = 3 # initial search point of the root of the der. pot.\n",
    "nr0 = sym.S(mpmath.findroot(dVf_mpmath, sr0, tol=tol))\n",
    "nxi0 = o* 1/nr0\n",
    "\n",
    "solhor = sym.solve(p(xi).subs({Lambda: nLambda, M:nM}), xi)\n",
    "nxi1 = sym.N(max(map(lambda x: sym.re(x), solhor)), dprec)\n",
    "nk1 = kappa(nxi1).subs({Lambda: nLambda, M: nM})\n",
    "\n",
    "display(Math(r\"r_0 = %.20f\"%sym.N(nr0)))\n",
    "display(Math(r\"\\xi_0 = %.20f\"%sym.N(nxi0)))\n",
    "display(Math(r\"\\xi_1 = %.20f\"%sym.N(nxi1)))\n",
    "display(Math(r\"k_1 = %.20f\"%sym.N(nk1)))\n",
    "\n",
    "\n",
    "# pass lambda_0, s_0 and variable values to aim class\n",
    "black_L11l2s2 = aim(lambda_0(xi), s_0(xi), pl0(), ps0())\n",
    "black_L11l2s2.display_parameters(pprec=7)\n",
    "black_L11l2s2.display_l0s0(0, pprec=3)\n",
    "black_L11l2s2.parameters(En, xi, nxi0, nmax=71, nstep=10, dprec=500, tol=1e-101)\n",
    "\n",
    "# create coefficients c0 and d0 for improved AIM\n",
    "black_L11l2s2.c0()\n",
    "black_L11l2s2.d0()\n",
    "black_L11l2s2.cndn()\n",
    "\n",
    "# the solution\n",
    "print(\"iter\" + (3*\"{:^24s}\").format(*(\"n=%s\"%str(i) for i in range(1,4))))\n",
    "print(\"_\"*3*24)\n",
    "black_L11l2s2.get_arb_roots(showRoots='i+r', printFormat=\"  {:10.7f}\", col=(0,3))"
   ]
  },
  {
   "cell_type": "markdown",
   "metadata": {},
   "source": [
    "## Case: $l = 3, s =2$"
   ]
  },
  {
   "cell_type": "markdown",
   "metadata": {},
   "source": [
    "### $\\Lambda = 0$"
   ]
  },
  {
   "cell_type": "markdown",
   "metadata": {},
   "source": [
    "#### Numerical values for variables"
   ]
  },
  {
   "cell_type": "code",
   "execution_count": 20,
   "metadata": {
    "ExecuteTime": {
     "end_time": "2019-02-07T10:03:18.457689Z",
     "start_time": "2019-02-07T10:03:18.120584Z"
    },
    "scrolled": true
   },
   "outputs": [
    {
     "data": {
      "text/latex": [
       "$$r_0 = 3.10610722522451299099$$"
      ],
      "text/plain": [
       "<IPython.core.display.Math object>"
      ]
     },
     "metadata": {},
     "output_type": "display_data"
    },
    {
     "data": {
      "text/latex": [
       "$$\\xi_0 = 0.32194638738774344899$$"
      ],
      "text/plain": [
       "<IPython.core.display.Math object>"
      ]
     },
     "metadata": {},
     "output_type": "display_data"
    },
    {
     "data": {
      "text/latex": [
       "$$\\xi_1 = 0.50000000000000000000$$"
      ],
      "text/plain": [
       "<IPython.core.display.Math object>"
      ]
     },
     "metadata": {},
     "output_type": "display_data"
    },
    {
     "data": {
      "text/latex": [
       "$$k_1 = 0.25000000000000000000$$"
      ],
      "text/plain": [
       "<IPython.core.display.Math object>"
      ]
     },
     "metadata": {},
     "output_type": "display_data"
    }
   ],
   "source": [
    "# values of variables\n",
    "nl, ns = 3, 2 # angular mom. and spin\n",
    "nM = 1 # mass of the black hole\n",
    "\n",
    "nLambda = o* 0\n",
    "\n",
    "dprec=500\n",
    "tol=1e-101\n",
    "ft.ctx.dps = dprec\n",
    "mpmath.mp.dps = dprec\n",
    "\n",
    "sr0 = 3 # initial search point of the root of the der. pot.\n",
    "nr0 = sym.S(mpmath.findroot(dVf_mpmath, sr0, tol=tol))\n",
    "nxi0 = o* 1/nr0\n",
    "\n",
    "solhor = sym.solve(p(xi).subs({Lambda: nLambda, M:nM}), xi)\n",
    "nxi1 = sym.N(max(map(lambda x: sym.re(x), solhor)), dprec)\n",
    "#nxi1 = max(map(lambda x: sym.re(x), solhor)) # with infinite precision\n",
    "nk1 = kappa(nxi1).subs({Lambda: nLambda, M: nM})\n",
    "\n",
    "display(Math(r\"r_0 = %.20f\"%sym.N(nr0)))\n",
    "display(Math(r\"\\xi_0 = %.20f\"%sym.N(nxi0)))\n",
    "display(Math(r\"\\xi_1 = %.20f\"%sym.N(nxi1)))\n",
    "display(Math(r\"k_1 = %.20f\"%sym.N(nk1)))"
   ]
  },
  {
   "cell_type": "code",
   "execution_count": 21,
   "metadata": {
    "ExecuteTime": {
     "end_time": "2019-02-07T10:03:18.466602Z",
     "start_time": "2019-02-07T10:03:18.461507Z"
    }
   },
   "outputs": [],
   "source": [
    "# pl0 and ps0 to put the numerical values of variables into lambda_0 and s_0. \n",
    "pl0 = lambda: {k1: nk1, xi1: nxi1, Lambda: nLambda, M: nM}\n",
    "ps0 = lambda: {k1: nk1, xi1: nxi1, Lambda: nLambda, M: nM, l: nl, s: ns, }"
   ]
  },
  {
   "cell_type": "markdown",
   "metadata": {},
   "source": [
    "#### Drawing of the Master potential and its derivative"
   ]
  },
  {
   "cell_type": "code",
   "execution_count": 22,
   "metadata": {
    "ExecuteTime": {
     "end_time": "2019-02-07T10:03:18.881715Z",
     "start_time": "2019-02-07T10:03:18.470466Z"
    }
   },
   "outputs": [
    {
     "data": {
      "image/png": "[encoded data removed]",
      "text/plain": [
       "<Figure size 864x576 with 1 Axes>"
      ]
     },
     "metadata": {
      "needs_background": "light"
     },
     "output_type": "display_data"
    }
   ],
   "source": [
    "rspace = np.linspace(1e-10, 30, 1500)\n",
    "\n",
    "Vf_numpy = sym.lambdify(r, Vf(r).subs({l:nl, s: ns, Lambda: nLambda, M: nM}), \"numpy\")\n",
    "dVf_numpy = sym.lambdify(r, dVf_mpmath(r), \"numpy\")\n",
    "\n",
    "Vf(r).subs({l:nl, s: ns, Lambda: nLambda, M: nM})\n",
    "\n",
    "\n",
    "plt.figure(figsize=(12, 8))\n",
    "plt.plot(rspace, Vf_numpy(rspace), color=\"red\", lw=2, label=\"Master potential\")\n",
    "plt.plot(rspace, dVf_numpy(rspace), color=\"blue\", lw=2, label=\"the derivative\")\n",
    "plt.plot(nr0, dVf_numpy(nr0), \"go\", ms=10, label=\"an extremum of the pot.\")\n",
    "\n",
    "plt.xlim(0.5, 8)\n",
    "plt.ylim(-.75, .75)\n",
    "\n",
    "plt.xlabel('r', fontsize=24)\n",
    "plt.ylabel('V(r), dV(r)/dr', fontsize=24)\n",
    "\n",
    "plt.axhline(color=\"black\", zorder=-999)\n",
    "plt.legend(loc=\"best\")\n",
    "plt.grid()\n",
    "plt.show()"
   ]
  },
  {
   "cell_type": "markdown",
   "metadata": {},
   "source": [
    "#### Initialize AIM solver"
   ]
  },
  {
   "cell_type": "code",
   "execution_count": 23,
   "metadata": {
    "ExecuteTime": {
     "end_time": "2019-02-07T10:03:19.019765Z",
     "start_time": "2019-02-07T10:03:18.887076Z"
    }
   },
   "outputs": [
    {
     "data": {
      "text/latex": [
       "$$\\text{Values of the parameters of } \\lambda_0:$$"
      ],
      "text/plain": [
       "<IPython.core.display.Math object>"
      ]
     },
     "metadata": {},
     "output_type": "display_data"
    },
    {
     "data": {
      "text/latex": [
       "$$M = 1.000000,~~\\Lambda = 0,~~\\kappa_{1} = 0.2500000,~~\\xi_{1} = 0.5000000$$"
      ],
      "text/plain": [
       "<IPython.core.display.Math object>"
      ]
     },
     "metadata": {},
     "output_type": "display_data"
    },
    {
     "data": {
      "text/latex": [
       "$$\\text{Values of the parameters of } s_0:$$"
      ],
      "text/plain": [
       "<IPython.core.display.Math object>"
      ]
     },
     "metadata": {},
     "output_type": "display_data"
    },
    {
     "data": {
      "text/latex": [
       "$$M = 1.000000,~~\\Lambda = 0,~~\\ell = 3.000000,~~\\kappa_{1} = 0.2500000,~~\\xi_{1} = 0.5000000,~~s = 2.000000$$"
      ],
      "text/plain": [
       "<IPython.core.display.Math object>"
      ]
     },
     "metadata": {},
     "output_type": "display_data"
    },
    {
     "data": {
      "text/latex": [
       "$$           \n",
       "                \\begin{align}\n",
       "                \\lambda_0 &= \\left[\\frac{2 i En}{\\kappa_{1} \\left(\\xi - \\xi_{1}\\right)} + \\frac{6 \\left(- i En - 3 M \\xi^{2} + \\xi\\right)}{\\Lambda + 6 M \\xi^{3} - 3 \\xi^{2}} \\right.\\\\ \n",
       "                      s_0 &= \\left[\\frac{2 En^{2} \\xi^{2} \\left(\\Lambda + 6 M \\xi^{3} - 3 \\xi^{2}\\right) - 2 En \\kappa_{1} \\xi^{2} \\left(6 En \\left(\\xi - \\xi_{1}\\right) + i \\Lambda - 3 i \\xi \\left(\\xi \\left(4 M \\xi - 6 M \\xi_{1} - 1\\right) + 2 \\xi_{1}\\right)\\right) + \\kappa_{1}^{2} \\left(\\xi - \\xi_{1}\\right)^{2} \\left(\\Lambda \\left(s^{4} - 5 s^{2} + 4\\right) - 6 \\xi^{2} \\left(- 2 M \\xi \\left(s^{2} - 1\\right) + \\ell^{2} + \\ell\\right)\\right)}{2 \\kappa_{1}^{2} \\xi^{2} \\left(\\xi - \\xi_{1}\\right)^{2} \\left(\\Lambda + 6 M \\xi^{3} - 3 \\xi^{2}\\right)} \\right.\\\\ \n",
       "                \\lambda_0 &= \\left[\\frac{8.0 i En}{\\xi - 0.5} + \\frac{6.0 \\left(- i En - 3.0 \\xi^{2} + \\xi\\right)}{6.0 \\xi^{3} - 3.0 \\xi^{2}} \\right.\\\\ \n",
       "                      s_0 &= \\left[\\frac{8.0 \\left(2.0 En^{2} \\xi^{2} \\left(6.0 \\xi^{3} - 3.0 \\xi^{2}\\right) - 0.5 En \\xi^{2} \\left(6.0 En \\left(\\xi - 0.5\\right) - 3.0 i \\xi \\left(\\xi \\left(4.0 \\xi - 4.0\\right) + 1.0\\right)\\right) - 0.375 \\xi^{2} \\left(- 6.0 \\xi + 12.0\\right) \\left(\\xi - 0.5\\right)^{2}\\right)}{\\xi^{2} \\left(\\xi - 0.5\\right)^{2} \\left(6.0 \\xi^{3} - 3.0 \\xi^{2}\\right)} \\right.\n",
       "                \\end{align}\n",
       "                $$"
      ],
      "text/plain": [
       "<IPython.core.display.Math object>"
      ]
     },
     "metadata": {},
     "output_type": "display_data"
    },
    {
     "name": "stdout",
     "output_type": "stream",
     "text": [
      "CPU times: user 114 ms, sys: 0 ns, total: 114 ms\n",
      "Wall time: 126 ms\n"
     ]
    }
   ],
   "source": [
    "%%time\n",
    "# pass lambda_0, s_0 and variable values to aim class\n",
    "black_L00l3s2 = aim(lambda_0(xi), s_0(xi), pl0(), ps0())\n",
    "black_L00l3s2.display_parameters(pprec=7)\n",
    "black_L00l3s2.display_l0s0(0, pprec=3)\n",
    "black_L00l3s2.parameters(En, xi, nxi0, nmax=111, nstep=10, dprec=500, tol=1e-101)"
   ]
  },
  {
   "cell_type": "markdown",
   "metadata": {},
   "source": [
    "#### Calculation necessary coefficients"
   ]
  },
  {
   "cell_type": "code",
   "execution_count": 24,
   "metadata": {
    "ExecuteTime": {
     "end_time": "2019-02-07T10:05:20.311371Z",
     "start_time": "2019-02-07T10:03:19.023768Z"
    }
   },
   "outputs": [
    {
     "name": "stdout",
     "output_type": "stream",
     "text": [
      "CPU times: user 2min 1s, sys: 969 ms, total: 2min 2s\n",
      "Wall time: 2min 1s\n"
     ]
    }
   ],
   "source": [
    "%%time\n",
    "# create coefficients c0 and d0 for improved AIM\n",
    "black_L00l3s2.c0()\n",
    "black_L00l3s2.d0()\n",
    "black_L00l3s2.cndn()"
   ]
  },
  {
   "cell_type": "markdown",
   "metadata": {},
   "source": [
    "#### The solution"
   ]
  },
  {
   "cell_type": "code",
   "execution_count": 25,
   "metadata": {
    "ExecuteTime": {
     "end_time": "2019-02-07T10:06:31.081839Z",
     "start_time": "2019-02-07T10:05:20.315345Z"
    }
   },
   "outputs": [
    {
     "name": "stdout",
     "output_type": "stream",
     "text": [
      "CPU times: user 1min 10s, sys: 380 ms, total: 1min 10s\n",
      "Wall time: 1min 10s\n"
     ]
    }
   ],
   "source": [
    "%%time\n",
    "black_L00l3s2.get_arb_roots()"
   ]
  },
  {
   "cell_type": "code",
   "execution_count": 26,
   "metadata": {
    "ExecuteTime": {
     "end_time": "2019-02-07T10:06:31.977678Z",
     "start_time": "2019-02-07T10:06:31.085878Z"
    },
    "code_folding": [],
    "run_control": {
     "marked": false
    }
   },
   "outputs": [
    {
     "name": "stdout",
     "output_type": "stream",
     "text": [
      "iter          n=1                     n=2                     n=3           \n",
      "________________________________________________________________________\n",
      "0001    0.5911685  -0.0980648j    0.6261972  -0.3015236j\n",
      "0011    0.5994433  -0.0927031j    0.5826454  -0.2813016j    0.5517855  -0.4790778j\n",
      "0021    0.5994433  -0.0927030j    0.5826438  -0.2812981j    0.5516845  -0.4790922j\n",
      "0031    0.5994433  -0.0927030j    0.5826438  -0.2812981j    0.5516849  -0.4790927j\n",
      "0041    0.5994433  -0.0927030j    0.5826438  -0.2812981j    0.5516849  -0.4790928j\n",
      "0051    0.5994433  -0.0927030j    0.5826438  -0.2812981j    0.5516849  -0.4790928j\n",
      "0061    0.5994433  -0.0927030j    0.5826438  -0.2812981j    0.5516849  -0.4790928j\n",
      "0071    0.5994433  -0.0927030j    0.5826438  -0.2812981j    0.5516849  -0.4790928j\n",
      "0081    0.5994433  -0.0927030j    0.5826438  -0.2812981j    0.5516849  -0.4790928j\n",
      "0091    0.5994433  -0.0927030j    0.5826438  -0.2812981j    0.5516849  -0.4790928j\n",
      "0101    0.5994433  -0.0927030j    0.5826438  -0.2812981j    0.5516849  -0.4790928j\n",
      "0111    0.5994433  -0.0927030j    0.5826438  -0.2812981j    0.5516849  -0.4790928j\n",
      "CPU times: user 890 ms, sys: 16 ms, total: 906 ms\n",
      "Wall time: 887 ms\n"
     ]
    }
   ],
   "source": [
    "%%time\n",
    "print(\"iter\" + (3*\"{:^24s}\").format(*(\"n=%s\"%str(i) for i in range(1,4))))\n",
    "print(\"_\"*3*24)\n",
    "black_L00l3s2.printAllRoots(showRoots='i+r', printFormat=\"  {:10.7f}\", col=(0,3))"
   ]
  },
  {
   "cell_type": "markdown",
   "metadata": {},
   "source": [
    "### $\\Lambda = 0.02$"
   ]
  },
  {
   "cell_type": "code",
   "execution_count": 27,
   "metadata": {
    "ExecuteTime": {
     "end_time": "2019-02-07T10:11:52.225287Z",
     "start_time": "2019-02-07T10:06:31.981572Z"
    }
   },
   "outputs": [
    {
     "data": {
      "text/latex": [
       "$$r_0 = 3.08604939933184230227$$"
      ],
      "text/plain": [
       "<IPython.core.display.Math object>"
      ]
     },
     "metadata": {},
     "output_type": "display_data"
    },
    {
     "data": {
      "text/latex": [
       "$$\\xi_0 = 0.32403888292148175232$$"
      ],
      "text/plain": [
       "<IPython.core.display.Math object>"
      ]
     },
     "metadata": {},
     "output_type": "display_data"
    },
    {
     "data": {
      "text/latex": [
       "$$\\xi_1 = 0.48588048315289572576$$"
      ],
      "text/plain": [
       "<IPython.core.display.Math object>"
      ]
     },
     "metadata": {},
     "output_type": "display_data"
    },
    {
     "data": {
      "text/latex": [
       "$$k_1 = 0.22235904857377850052$$"
      ],
      "text/plain": [
       "<IPython.core.display.Math object>"
      ]
     },
     "metadata": {},
     "output_type": "display_data"
    },
    {
     "data": {
      "text/latex": [
       "$$\\text{Values of the parameters of } \\lambda_0:$$"
      ],
      "text/plain": [
       "<IPython.core.display.Math object>"
      ]
     },
     "metadata": {},
     "output_type": "display_data"
    },
    {
     "data": {
      "text/latex": [
       "$$M = 1.000000,~~\\Lambda = 0.02000000,~~\\kappa_{1} = 0.2223590,~~\\xi_{1} = 0.4858805$$"
      ],
      "text/plain": [
       "<IPython.core.display.Math object>"
      ]
     },
     "metadata": {},
     "output_type": "display_data"
    },
    {
     "data": {
      "text/latex": [
       "$$\\text{Values of the parameters of } s_0:$$"
      ],
      "text/plain": [
       "<IPython.core.display.Math object>"
      ]
     },
     "metadata": {},
     "output_type": "display_data"
    },
    {
     "data": {
      "text/latex": [
       "$$M = 1.000000,~~\\Lambda = 0.02000000,~~\\ell = 3.000000,~~\\kappa_{1} = 0.2223590,~~\\xi_{1} = 0.4858805,~~s = 2.000000$$"
      ],
      "text/plain": [
       "<IPython.core.display.Math object>"
      ]
     },
     "metadata": {},
     "output_type": "display_data"
    },
    {
     "data": {
      "text/latex": [
       "$$           \n",
       "                \\begin{align}\n",
       "                \\lambda_0 &= \\left[\\frac{2 i En}{\\kappa_{1} \\left(\\xi - \\xi_{1}\\right)} + \\frac{6 \\left(- i En - 3 M \\xi^{2} + \\xi\\right)}{\\Lambda + 6 M \\xi^{3} - 3 \\xi^{2}} \\right.\\\\ \n",
       "                      s_0 &= \\left[\\frac{2 En^{2} \\xi^{2} \\left(\\Lambda + 6 M \\xi^{3} - 3 \\xi^{2}\\right) - 2 En \\kappa_{1} \\xi^{2} \\left(6 En \\left(\\xi - \\xi_{1}\\right) + i \\Lambda - 3 i \\xi \\left(\\xi \\left(4 M \\xi - 6 M \\xi_{1} - 1\\right) + 2 \\xi_{1}\\right)\\right) + \\kappa_{1}^{2} \\left(\\xi - \\xi_{1}\\right)^{2} \\left(\\Lambda \\left(s^{4} - 5 s^{2} + 4\\right) - 6 \\xi^{2} \\left(- 2 M \\xi \\left(s^{2} - 1\\right) + \\ell^{2} + \\ell\\right)\\right)}{2 \\kappa_{1}^{2} \\xi^{2} \\left(\\xi - \\xi_{1}\\right)^{2} \\left(\\Lambda + 6 M \\xi^{3} - 3 \\xi^{2}\\right)} \\right.\\\\ \n",
       "                \\lambda_0 &= \\left[\\frac{8.99 i En}{\\xi - 0.486} + \\frac{6.0 \\left(- i En - 3.0 \\xi^{2} + \\xi\\right)}{6.0 \\xi^{3} - 3.0 \\xi^{2} + 0.02} \\right.\\\\ \n",
       "                      s_0 &= \\left[\\frac{10.1 \\left(2.0 En^{2} \\xi^{2} \\left(6.0 \\xi^{3} - 3.0 \\xi^{2} + 0.02\\right) - 0.445 En \\xi^{2} \\left(6.0 En \\left(\\xi - 0.486\\right) - 3.0 i \\xi \\left(\\xi \\left(4.0 \\xi - 3.92\\right) + 0.972\\right) + 0.02 i\\right) - 0.297 \\xi^{2} \\left(- 6.0 \\xi + 12.0\\right) \\left(\\xi - 0.486\\right)^{2}\\right)}{\\xi^{2} \\left(\\xi - 0.486\\right)^{2} \\left(6.0 \\xi^{3} - 3.0 \\xi^{2} + 0.02\\right)} \\right.\n",
       "                \\end{align}\n",
       "                $$"
      ],
      "text/plain": [
       "<IPython.core.display.Math object>"
      ]
     },
     "metadata": {},
     "output_type": "display_data"
    },
    {
     "name": "stdout",
     "output_type": "stream",
     "text": [
      "iter          n=1                     n=2                     n=3           \n",
      "________________________________________________________________________\n",
      "0001    0.5365207  -0.0887419j    0.5637064  -0.2717185j\n",
      "0011    0.5431149  -0.0844957j    0.5307438  -0.2553644j    0.5070445  -0.4320831j\n",
      "0021    0.5431149  -0.0844957j    0.5307443  -0.2553631j    0.5070154  -0.4320588j\n",
      "0031    0.5431149  -0.0844957j    0.5307443  -0.2553631j    0.5070153  -0.4320588j\n",
      "0041    0.5431149  -0.0844957j    0.5307443  -0.2553631j    0.5070153  -0.4320588j\n",
      "0051    0.5431149  -0.0844957j    0.5307443  -0.2553631j    0.5070153  -0.4320588j\n",
      "0061    0.5431149  -0.0844957j    0.5307443  -0.2553631j    0.5070153  -0.4320588j\n",
      "0071    0.5431149  -0.0844957j    0.5307443  -0.2553631j    0.5070153  -0.4320588j\n",
      "CPU times: user 5min 18s, sys: 1.21 s, total: 5min 20s\n",
      "Wall time: 5min 20s\n"
     ]
    }
   ],
   "source": [
    "%%time\n",
    "# values of variables\n",
    "nLambda = o* 2/100\n",
    "\n",
    "sr0 = 3 # initial search point of the root of the der. pot.\n",
    "nr0 = sym.S(mpmath.findroot(dVf_mpmath, sr0, tol=tol))\n",
    "nxi0 = o* 1/nr0\n",
    "\n",
    "solhor = sym.solve(p(xi).subs({Lambda: nLambda, M:nM}), xi)\n",
    "nxi1 = sym.N(max(map(lambda x: sym.re(x), solhor)), dprec)\n",
    "nk1 = kappa(nxi1).subs({Lambda: nLambda, M: nM})\n",
    "\n",
    "display(Math(r\"r_0 = %.20f\"%sym.N(nr0)))\n",
    "display(Math(r\"\\xi_0 = %.20f\"%sym.N(nxi0)))\n",
    "display(Math(r\"\\xi_1 = %.20f\"%sym.N(nxi1)))\n",
    "display(Math(r\"k_1 = %.20f\"%sym.N(nk1)))\n",
    "\n",
    "\n",
    "# pass lambda_0, s_0 and variable values to aim class\n",
    "black_L02l3s2 = aim(lambda_0(xi), s_0(xi), pl0(), ps0())\n",
    "black_L02l3s2.display_parameters(pprec=7)\n",
    "black_L02l3s2.display_l0s0(0, pprec=3)\n",
    "black_L02l3s2.parameters(En, xi, nxi0, nmax=71, nstep=10, dprec=500, tol=1e-101)\n",
    "\n",
    "# create coefficients c0 and d0 for improved AIM\n",
    "black_L02l3s2.c0()\n",
    "black_L02l3s2.d0()\n",
    "black_L02l3s2.cndn()\n",
    "\n",
    "# the solution\n",
    "print(\"iter\" + (3*\"{:^24s}\").format(*(\"n=%s\"%str(i) for i in range(1,4))))\n",
    "print(\"_\"*3*24)\n",
    "black_L02l3s2.get_arb_roots(showRoots='i+r', printFormat=\"  {:10.7f}\", col=(0,3))"
   ]
  },
  {
   "cell_type": "markdown",
   "metadata": {},
   "source": [
    "### $\\Lambda = 0.04$"
   ]
  },
  {
   "cell_type": "code",
   "execution_count": 28,
   "metadata": {
    "ExecuteTime": {
     "end_time": "2019-02-07T10:12:18.175913Z",
     "start_time": "2019-02-07T10:11:52.229562Z"
    }
   },
   "outputs": [
    {
     "data": {
      "text/latex": [
       "$$r_0 = 3.06643302378009963149$$"
      ],
      "text/plain": [
       "<IPython.core.display.Math object>"
      ]
     },
     "metadata": {},
     "output_type": "display_data"
    },
    {
     "data": {
      "text/latex": [
       "$$\\xi_0 = 0.32611180229440162037$$"
      ],
      "text/plain": [
       "<IPython.core.display.Math object>"
      ]
     },
     "metadata": {},
     "output_type": "display_data"
    },
    {
     "data": {
      "text/latex": [
       "$$\\xi_1 = 0.46979395281592567502$$"
      ],
      "text/plain": [
       "<IPython.core.display.Math object>"
      ]
     },
     "metadata": {},
     "output_type": "display_data"
    },
    {
     "data": {
      "text/latex": [
       "$$k_1 = 0.19232512149131092416$$"
      ],
      "text/plain": [
       "<IPython.core.display.Math object>"
      ]
     },
     "metadata": {},
     "output_type": "display_data"
    },
    {
     "data": {
      "text/latex": [
       "$$\\text{Values of the parameters of } \\lambda_0:$$"
      ],
      "text/plain": [
       "<IPython.core.display.Math object>"
      ]
     },
     "metadata": {},
     "output_type": "display_data"
    },
    {
     "data": {
      "text/latex": [
       "$$M = 1.000000,~~\\Lambda = 0.04000000,~~\\kappa_{1} = 0.1923251,~~\\xi_{1} = 0.4697940$$"
      ],
      "text/plain": [
       "<IPython.core.display.Math object>"
      ]
     },
     "metadata": {},
     "output_type": "display_data"
    },
    {
     "data": {
      "text/latex": [
       "$$\\text{Values of the parameters of } s_0:$$"
      ],
      "text/plain": [
       "<IPython.core.display.Math object>"
      ]
     },
     "metadata": {},
     "output_type": "display_data"
    },
    {
     "data": {
      "text/latex": [
       "$$M = 1.000000,~~\\Lambda = 0.04000000,~~\\ell = 3.000000,~~\\kappa_{1} = 0.1923251,~~\\xi_{1} = 0.4697940,~~s = 2.000000$$"
      ],
      "text/plain": [
       "<IPython.core.display.Math object>"
      ]
     },
     "metadata": {},
     "output_type": "display_data"
    },
    {
     "data": {
      "text/latex": [
       "$$           \n",
       "                \\begin{align}\n",
       "                \\lambda_0 &= \\left[\\frac{2 i En}{\\kappa_{1} \\left(\\xi - \\xi_{1}\\right)} + \\frac{6 \\left(- i En - 3 M \\xi^{2} + \\xi\\right)}{\\Lambda + 6 M \\xi^{3} - 3 \\xi^{2}} \\right.\\\\ \n",
       "                      s_0 &= \\left[\\frac{2 En^{2} \\xi^{2} \\left(\\Lambda + 6 M \\xi^{3} - 3 \\xi^{2}\\right) - 2 En \\kappa_{1} \\xi^{2} \\left(6 En \\left(\\xi - \\xi_{1}\\right) + i \\Lambda - 3 i \\xi \\left(\\xi \\left(4 M \\xi - 6 M \\xi_{1} - 1\\right) + 2 \\xi_{1}\\right)\\right) + \\kappa_{1}^{2} \\left(\\xi - \\xi_{1}\\right)^{2} \\left(\\Lambda \\left(s^{4} - 5 s^{2} + 4\\right) - 6 \\xi^{2} \\left(- 2 M \\xi \\left(s^{2} - 1\\right) + \\ell^{2} + \\ell\\right)\\right)}{2 \\kappa_{1}^{2} \\xi^{2} \\left(\\xi - \\xi_{1}\\right)^{2} \\left(\\Lambda + 6 M \\xi^{3} - 3 \\xi^{2}\\right)} \\right.\\\\ \n",
       "                \\lambda_0 &= \\left[\\frac{10.4 i En}{\\xi - 0.47} + \\frac{6.0 \\left(- i En - 3.0 \\xi^{2} + \\xi\\right)}{6.0 \\xi^{3} - 3.0 \\xi^{2} + 0.04} \\right.\\\\ \n",
       "                      s_0 &= \\left[\\frac{13.5 \\left(2.0 En^{2} \\xi^{2} \\left(6.0 \\xi^{3} - 3.0 \\xi^{2} + 0.04\\right) - 0.385 En \\xi^{2} \\left(6.0 En \\left(\\xi - 0.47\\right) - 3.0 i \\xi \\left(\\xi \\left(4.0 \\xi - 3.82\\right) + 0.94\\right) + 0.04 i\\right) - 0.222 \\xi^{2} \\left(- 6.0 \\xi + 12.0\\right) \\left(\\xi - 0.47\\right)^{2}\\right)}{\\xi^{2} \\left(\\xi - 0.47\\right)^{2} \\left(6.0 \\xi^{3} - 3.0 \\xi^{2} + 0.04\\right)} \\right.\n",
       "                \\end{align}\n",
       "                $$"
      ],
      "text/plain": [
       "<IPython.core.display.Math object>"
      ]
     },
     "metadata": {},
     "output_type": "display_data"
    },
    {
     "name": "stdout",
     "output_type": "stream",
     "text": [
      "iter          n=1                     n=2                     n=3           \n",
      "________________________________________________________________________\n",
      "0001    0.4751298  -0.0782844j    0.4949005  -0.2387318j\n",
      "0011    0.4800575  -0.0751464j    0.4716580  -0.2263950j    0.4550094  -0.3807826j\n",
      "0021    0.4800575  -0.0751464j    0.4716583  -0.2263948j    0.4550106  -0.3807731j\n",
      "0031    0.4800575  -0.0751464j    0.4716583  -0.2263948j    0.4550106  -0.3807731j\n",
      "0041    0.4800575  -0.0751464j    0.4716583  -0.2263948j    0.4550106  -0.3807731j\n",
      "0051    0.4800575  -0.0751464j    0.4716583  -0.2263948j    0.4550106  -0.3807731j\n",
      "0061    0.4800575  -0.0751464j    0.4716583  -0.2263948j    0.4550106  -0.3807731j\n",
      "0071    0.4800575  -0.0751464j    0.4716583  -0.2263948j    0.4550106  -0.3807731j\n",
      "CPU times: user 26.1 s, sys: 202 ms, total: 26.3 s\n",
      "Wall time: 25.9 s\n"
     ]
    }
   ],
   "source": [
    "%%time\n",
    "# values of variables\n",
    "nLambda = o* 4/100\n",
    "\n",
    "sr0 = 3 # initial search point of the root of the der. pot.\n",
    "nr0 = sym.S(mpmath.findroot(dVf_mpmath, sr0, tol=tol))\n",
    "nxi0 = o* 1/nr0\n",
    "\n",
    "solhor = sym.solve(p(xi).subs({Lambda: nLambda, M:nM}), xi)\n",
    "nxi1 = sym.N(max(map(lambda x: sym.re(x), solhor)), dprec)\n",
    "nk1 = kappa(nxi1).subs({Lambda: nLambda, M: nM})\n",
    "\n",
    "display(Math(r\"r_0 = %.20f\"%sym.N(nr0)))\n",
    "display(Math(r\"\\xi_0 = %.20f\"%sym.N(nxi0)))\n",
    "display(Math(r\"\\xi_1 = %.20f\"%sym.N(nxi1)))\n",
    "display(Math(r\"k_1 = %.20f\"%sym.N(nk1)))\n",
    "\n",
    "\n",
    "# pass lambda_0, s_0 and variable values to aim class\n",
    "black_L04l3s2 = aim(lambda_0(xi), s_0(xi), pl0(), ps0())\n",
    "black_L04l3s2.display_parameters(pprec=7)\n",
    "black_L04l3s2.display_l0s0(0, pprec=3)\n",
    "black_L04l3s2.parameters(En, xi, nxi0, nmax=71, nstep=10, dprec=500, tol=1e-101)\n",
    "\n",
    "# create coefficients c0 and d0 for improved AIM\n",
    "black_L04l3s2.c0()\n",
    "black_L04l3s2.d0()\n",
    "black_L04l3s2.cndn()\n",
    "\n",
    "# the solution\n",
    "print(\"iter\" + (3*\"{:^24s}\").format(*(\"n=%s\"%str(i) for i in range(1,4))))\n",
    "print(\"_\"*3*24)\n",
    "black_L04l3s2.get_arb_roots(showRoots='i+r', printFormat=\"  {:10.7f}\", col=(0,3))"
   ]
  },
  {
   "cell_type": "markdown",
   "metadata": {},
   "source": [
    "### $\\Lambda = 0.06$"
   ]
  },
  {
   "cell_type": "code",
   "execution_count": 29,
   "metadata": {
    "ExecuteTime": {
     "end_time": "2019-02-07T10:17:03.062309Z",
     "start_time": "2019-02-07T10:12:18.179845Z"
    }
   },
   "outputs": [
    {
     "data": {
      "text/latex": [
       "$$r_0 = 3.04724001308494241158$$"
      ],
      "text/plain": [
       "<IPython.core.display.Math object>"
      ]
     },
     "metadata": {},
     "output_type": "display_data"
    },
    {
     "data": {
      "text/latex": [
       "$$\\xi_0 = 0.32816581421416407549$$"
      ],
      "text/plain": [
       "<IPython.core.display.Math object>"
      ]
     },
     "metadata": {},
     "output_type": "display_data"
    },
    {
     "data": {
      "text/latex": [
       "$$\\xi_1 = 0.45079027713765573715$$"
      ],
      "text/plain": [
       "<IPython.core.display.Math object>"
      ]
     },
     "metadata": {},
     "output_type": "display_data"
    },
    {
     "data": {
      "text/latex": [
       "$$k_1 = 0.15884534474787764813$$"
      ],
      "text/plain": [
       "<IPython.core.display.Math object>"
      ]
     },
     "metadata": {},
     "output_type": "display_data"
    },
    {
     "data": {
      "text/latex": [
       "$$\\text{Values of the parameters of } \\lambda_0:$$"
      ],
      "text/plain": [
       "<IPython.core.display.Math object>"
      ]
     },
     "metadata": {},
     "output_type": "display_data"
    },
    {
     "data": {
      "text/latex": [
       "$$M = 1.000000,~~\\Lambda = 0.06000000,~~\\kappa_{1} = 0.1588453,~~\\xi_{1} = 0.4507903$$"
      ],
      "text/plain": [
       "<IPython.core.display.Math object>"
      ]
     },
     "metadata": {},
     "output_type": "display_data"
    },
    {
     "data": {
      "text/latex": [
       "$$\\text{Values of the parameters of } s_0:$$"
      ],
      "text/plain": [
       "<IPython.core.display.Math object>"
      ]
     },
     "metadata": {},
     "output_type": "display_data"
    },
    {
     "data": {
      "text/latex": [
       "$$M = 1.000000,~~\\Lambda = 0.06000000,~~\\ell = 3.000000,~~\\kappa_{1} = 0.1588453,~~\\xi_{1} = 0.4507903,~~s = 2.000000$$"
      ],
      "text/plain": [
       "<IPython.core.display.Math object>"
      ]
     },
     "metadata": {},
     "output_type": "display_data"
    },
    {
     "data": {
      "text/latex": [
       "$$           \n",
       "                \\begin{align}\n",
       "                \\lambda_0 &= \\left[\\frac{2 i En}{\\kappa_{1} \\left(\\xi - \\xi_{1}\\right)} + \\frac{6 \\left(- i En - 3 M \\xi^{2} + \\xi\\right)}{\\Lambda + 6 M \\xi^{3} - 3 \\xi^{2}} \\right.\\\\ \n",
       "                      s_0 &= \\left[\\frac{2 En^{2} \\xi^{2} \\left(\\Lambda + 6 M \\xi^{3} - 3 \\xi^{2}\\right) - 2 En \\kappa_{1} \\xi^{2} \\left(6 En \\left(\\xi - \\xi_{1}\\right) + i \\Lambda - 3 i \\xi \\left(\\xi \\left(4 M \\xi - 6 M \\xi_{1} - 1\\right) + 2 \\xi_{1}\\right)\\right) + \\kappa_{1}^{2} \\left(\\xi - \\xi_{1}\\right)^{2} \\left(\\Lambda \\left(s^{4} - 5 s^{2} + 4\\right) - 6 \\xi^{2} \\left(- 2 M \\xi \\left(s^{2} - 1\\right) + \\ell^{2} + \\ell\\right)\\right)}{2 \\kappa_{1}^{2} \\xi^{2} \\left(\\xi - \\xi_{1}\\right)^{2} \\left(\\Lambda + 6 M \\xi^{3} - 3 \\xi^{2}\\right)} \\right.\\\\ \n",
       "                \\lambda_0 &= \\left[\\frac{12.6 i En}{\\xi - 0.451} + \\frac{6.0 \\left(- i En - 3.0 \\xi^{2} + \\xi\\right)}{6.0 \\xi^{3} - 3.0 \\xi^{2} + 0.06} \\right.\\\\ \n",
       "                      s_0 &= \\left[\\frac{19.8 \\left(2.0 En^{2} \\xi^{2} \\left(6.0 \\xi^{3} - 3.0 \\xi^{2} + 0.06\\right) - 0.318 En \\xi^{2} \\left(6.0 En \\left(\\xi - 0.451\\right) - 3.0 i \\xi \\left(\\xi \\left(4.0 \\xi - 3.7\\right) + 0.902\\right) + 0.06 i\\right) - 0.151 \\xi^{2} \\left(- 6.0 \\xi + 12.0\\right) \\left(\\xi - 0.451\\right)^{2}\\right)}{\\xi^{2} \\left(\\xi - 0.451\\right)^{2} \\left(6.0 \\xi^{3} - 3.0 \\xi^{2} + 0.06\\right)} \\right.\n",
       "                \\end{align}\n",
       "                $$"
      ],
      "text/plain": [
       "<IPython.core.display.Math object>"
      ]
     },
     "metadata": {},
     "output_type": "display_data"
    },
    {
     "name": "stdout",
     "output_type": "stream",
     "text": [
      "iter          n=1                     n=2                     n=3           \n",
      "________________________________________________________________________\n",
      "0001    0.4038715  -0.0662061j    0.4167558  -0.2011021j\n",
      "0011    0.4071752  -0.0641396j    0.4021705  -0.1928074j    0.3920515  -0.3227696j\n",
      "0021    0.4071752  -0.0641396j    0.4021706  -0.1928074j    0.3920528  -0.3227693j\n",
      "0031    0.4071752  -0.0641396j    0.4021706  -0.1928074j    0.3920528  -0.3227693j\n",
      "0041    0.4071752  -0.0641396j    0.4021706  -0.1928074j    0.3920528  -0.3227693j\n",
      "0051    0.4071752  -0.0641396j    0.4021706  -0.1928074j    0.3920528  -0.3227693j\n",
      "0061    0.4071752  -0.0641396j    0.4021706  -0.1928074j    0.3920528  -0.3227693j\n",
      "0071    0.4071752  -0.0641396j    0.4021706  -0.1928074j    0.3920528  -0.3227693j\n",
      "CPU times: user 4min 43s, sys: 384 ms, total: 4min 44s\n",
      "Wall time: 4min 44s\n"
     ]
    }
   ],
   "source": [
    "%%time\n",
    "# values of variables\n",
    "nLambda = o* 6/100\n",
    "\n",
    "sr0 = 3 # initial search point of the root of the der. pot.\n",
    "nr0 = sym.S(mpmath.findroot(dVf_mpmath, sr0, tol=tol))\n",
    "nxi0 = o* 1/nr0\n",
    "\n",
    "solhor = sym.solve(p(xi).subs({Lambda: nLambda, M:nM}), xi)\n",
    "nxi1 = sym.N(max(map(lambda x: sym.re(x), solhor)), dprec)\n",
    "nk1 = kappa(nxi1).subs({Lambda: nLambda, M: nM})\n",
    "\n",
    "display(Math(r\"r_0 = %.20f\"%sym.N(nr0)))\n",
    "display(Math(r\"\\xi_0 = %.20f\"%sym.N(nxi0)))\n",
    "display(Math(r\"\\xi_1 = %.20f\"%sym.N(nxi1)))\n",
    "display(Math(r\"k_1 = %.20f\"%sym.N(nk1)))\n",
    "\n",
    "\n",
    "# pass lambda_0, s_0 and variable values to aim class\n",
    "black_L06l3s2 = aim(lambda_0(xi), s_0(xi), pl0(), ps0())\n",
    "black_L06l3s2.display_parameters(pprec=7)\n",
    "black_L06l3s2.display_l0s0(0, pprec=3)\n",
    "black_L06l3s2.parameters(En, xi, nxi0, nmax=71, nstep=10, dprec=500, tol=1e-101)\n",
    "\n",
    "# create coefficients c0 and d0 for improved AIM\n",
    "black_L06l3s2.c0()\n",
    "black_L06l3s2.d0()\n",
    "black_L06l3s2.cndn()\n",
    "\n",
    "# the solution\n",
    "print(\"iter\" + (3*\"{:^24s}\").format(*(\"n=%s\"%str(i) for i in range(1,4))))\n",
    "print(\"_\"*3*24)\n",
    "black_L06l3s2.get_arb_roots(showRoots='i+r', printFormat=\"  {:10.7f}\", col=(0,3))"
   ]
  },
  {
   "cell_type": "markdown",
   "metadata": {},
   "source": [
    "### $\\Lambda = 0.08$"
   ]
  },
  {
   "cell_type": "code",
   "execution_count": 30,
   "metadata": {
    "ExecuteTime": {
     "end_time": "2019-02-07T10:22:21.373295Z",
     "start_time": "2019-02-07T10:17:03.066321Z"
    }
   },
   "outputs": [
    {
     "data": {
      "text/latex": [
       "$$r_0 = 3.02845336494387673554$$"
      ],
      "text/plain": [
       "<IPython.core.display.Math object>"
      ]
     },
     "metadata": {},
     "output_type": "display_data"
    },
    {
     "data": {
      "text/latex": [
       "$$\\xi_0 = 0.33020155158259534289$$"
      ],
      "text/plain": [
       "<IPython.core.display.Math object>"
      ]
     },
     "metadata": {},
     "output_type": "display_data"
    },
    {
     "data": {
      "text/latex": [
       "$$\\xi_1 = 0.42680542981557051396$$"
      ],
      "text/plain": [
       "<IPython.core.display.Math object>"
      ]
     },
     "metadata": {},
     "output_type": "display_data"
    },
    {
     "data": {
      "text/latex": [
       "$$k_1 = 0.11968319494459116192$$"
      ],
      "text/plain": [
       "<IPython.core.display.Math object>"
      ]
     },
     "metadata": {},
     "output_type": "display_data"
    },
    {
     "data": {
      "text/latex": [
       "$$\\text{Values of the parameters of } \\lambda_0:$$"
      ],
      "text/plain": [
       "<IPython.core.display.Math object>"
      ]
     },
     "metadata": {},
     "output_type": "display_data"
    },
    {
     "data": {
      "text/latex": [
       "$$M = 1.000000,~~\\Lambda = 0.08000000,~~\\kappa_{1} = 0.1196832,~~\\xi_{1} = 0.4268054$$"
      ],
      "text/plain": [
       "<IPython.core.display.Math object>"
      ]
     },
     "metadata": {},
     "output_type": "display_data"
    },
    {
     "data": {
      "text/latex": [
       "$$\\text{Values of the parameters of } s_0:$$"
      ],
      "text/plain": [
       "<IPython.core.display.Math object>"
      ]
     },
     "metadata": {},
     "output_type": "display_data"
    },
    {
     "data": {
      "text/latex": [
       "$$M = 1.000000,~~\\Lambda = 0.08000000,~~\\ell = 3.000000,~~\\kappa_{1} = 0.1196832,~~\\xi_{1} = 0.4268054,~~s = 2.000000$$"
      ],
      "text/plain": [
       "<IPython.core.display.Math object>"
      ]
     },
     "metadata": {},
     "output_type": "display_data"
    },
    {
     "data": {
      "text/latex": [
       "$$           \n",
       "                \\begin{align}\n",
       "                \\lambda_0 &= \\left[\\frac{2 i En}{\\kappa_{1} \\left(\\xi - \\xi_{1}\\right)} + \\frac{6 \\left(- i En - 3 M \\xi^{2} + \\xi\\right)}{\\Lambda + 6 M \\xi^{3} - 3 \\xi^{2}} \\right.\\\\ \n",
       "                      s_0 &= \\left[\\frac{2 En^{2} \\xi^{2} \\left(\\Lambda + 6 M \\xi^{3} - 3 \\xi^{2}\\right) - 2 En \\kappa_{1} \\xi^{2} \\left(6 En \\left(\\xi - \\xi_{1}\\right) + i \\Lambda - 3 i \\xi \\left(\\xi \\left(4 M \\xi - 6 M \\xi_{1} - 1\\right) + 2 \\xi_{1}\\right)\\right) + \\kappa_{1}^{2} \\left(\\xi - \\xi_{1}\\right)^{2} \\left(\\Lambda \\left(s^{4} - 5 s^{2} + 4\\right) - 6 \\xi^{2} \\left(- 2 M \\xi \\left(s^{2} - 1\\right) + \\ell^{2} + \\ell\\right)\\right)}{2 \\kappa_{1}^{2} \\xi^{2} \\left(\\xi - \\xi_{1}\\right)^{2} \\left(\\Lambda + 6 M \\xi^{3} - 3 \\xi^{2}\\right)} \\right.\\\\ \n",
       "                \\lambda_0 &= \\left[\\frac{16.7 i En}{\\xi - 0.427} + \\frac{6.0 \\left(- i En - 3.0 \\xi^{2} + \\xi\\right)}{6.0 \\xi^{3} - 3.0 \\xi^{2} + 0.08} \\right.\\\\ \n",
       "                      s_0 &= \\left[\\frac{34.9 \\left(2.0 En^{2} \\xi^{2} \\left(6.0 \\xi^{3} - 3.0 \\xi^{2} + 0.08\\right) - 0.239 En \\xi^{2} \\left(6.0 En \\left(\\xi - 0.427\\right) - 3.0 i \\xi \\left(\\xi \\left(4.0 \\xi - 3.56\\right) + 0.854\\right) + 0.08 i\\right) - 0.0859 \\xi^{2} \\left(- 6.0 \\xi + 12.0\\right) \\left(\\xi - 0.427\\right)^{2}\\right)}{\\xi^{2} \\left(\\xi - 0.427\\right)^{2} \\left(6.0 \\xi^{3} - 3.0 \\xi^{2} + 0.08\\right)} \\right.\n",
       "                \\end{align}\n",
       "                $$"
      ],
      "text/plain": [
       "<IPython.core.display.Math object>"
      ]
     },
     "metadata": {},
     "output_type": "display_data"
    },
    {
     "name": "stdout",
     "output_type": "stream",
     "text": [
      "iter          n=1                     n=2                     n=3           \n",
      "________________________________________________________________________\n",
      "0001    0.3160308  -0.0514590j    0.3227388  -0.1556829j\n",
      "0011    0.3178048  -0.0503821j    0.3154946  -0.1512490j    0.3108032  -0.2524504j\n",
      "0021    0.3178048  -0.0503821j    0.3154946  -0.1512490j    0.3108033  -0.2524505j\n",
      "0031    0.3178048  -0.0503821j    0.3154946  -0.1512490j    0.3108033  -0.2524505j\n",
      "0041    0.3178048  -0.0503821j    0.3154946  -0.1512490j    0.3108033  -0.2524505j\n",
      "0051    0.3178048  -0.0503821j    0.3154946  -0.1512490j    0.3108033  -0.2524505j\n",
      "0061    0.3178048  -0.0503821j    0.3154946  -0.1512490j    0.3108033  -0.2524505j\n",
      "0071    0.3178048  -0.0503821j    0.3154946  -0.1512490j    0.3108033  -0.2524505j\n",
      "CPU times: user 5min 16s, sys: 1.6 s, total: 5min 18s\n",
      "Wall time: 5min 18s\n"
     ]
    }
   ],
   "source": [
    "%%time\n",
    "# values of variables\n",
    "nLambda = o* 8/100\n",
    "\n",
    "sr0 = 3 # initial search point of the root of the der. pot.\n",
    "nr0 = sym.S(mpmath.findroot(dVf_mpmath, sr0, tol=tol))\n",
    "nxi0 = o* 1/nr0\n",
    "\n",
    "solhor = sym.solve(p(xi).subs({Lambda: nLambda, M:nM}), xi)\n",
    "nxi1 = sym.N(max(map(lambda x: sym.re(x), solhor)), dprec)\n",
    "nk1 = kappa(nxi1).subs({Lambda: nLambda, M: nM})\n",
    "\n",
    "display(Math(r\"r_0 = %.20f\"%sym.N(nr0)))\n",
    "display(Math(r\"\\xi_0 = %.20f\"%sym.N(nxi0)))\n",
    "display(Math(r\"\\xi_1 = %.20f\"%sym.N(nxi1)))\n",
    "display(Math(r\"k_1 = %.20f\"%sym.N(nk1)))\n",
    "\n",
    "\n",
    "# pass lambda_0, s_0 and variable values to aim class\n",
    "black_L08l3s2 = aim(lambda_0(xi), s_0(xi), pl0(), ps0())\n",
    "black_L08l3s2.display_parameters(pprec=7)\n",
    "black_L08l3s2.display_l0s0(0, pprec=3)\n",
    "black_L08l3s2.parameters(En, xi, nxi0, nmax=71, nstep=10, dprec=500, tol=1e-101)\n",
    "\n",
    "# create coefficients c0 and d0 for improved AIM\n",
    "black_L08l3s2.c0()\n",
    "black_L08l3s2.d0()\n",
    "black_L08l3s2.cndn()\n",
    "\n",
    "# the solution\n",
    "print(\"iter\" + (3*\"{:^24s}\").format(*(\"n=%s\"%str(i) for i in range(1,4))))\n",
    "print(\"_\"*3*24)\n",
    "black_L08l3s2.get_arb_roots(showRoots='i+r', printFormat=\"  {:10.7f}\", col=(0,3))"
   ]
  },
  {
   "cell_type": "markdown",
   "metadata": {},
   "source": [
    "### $\\Lambda = 0.09$"
   ]
  },
  {
   "cell_type": "code",
   "execution_count": 31,
   "metadata": {
    "ExecuteTime": {
     "end_time": "2019-02-07T10:27:12.525085Z",
     "start_time": "2019-02-07T10:22:21.377391Z"
    }
   },
   "outputs": [
    {
     "data": {
      "text/latex": [
       "$$r_0 = 3.01920738867269466965$$"
      ],
      "text/plain": [
       "<IPython.core.display.Math object>"
      ]
     },
     "metadata": {},
     "output_type": "display_data"
    },
    {
     "data": {
      "text/latex": [
       "$$\\xi_0 = 0.33121275595434351846$$"
      ],
      "text/plain": [
       "<IPython.core.display.Math object>"
      ]
     },
     "metadata": {},
     "output_type": "display_data"
    },
    {
     "data": {
      "text/latex": [
       "$$\\xi_1 = 0.41135376108773658022$$"
      ],
      "text/plain": [
       "<IPython.core.display.Math object>"
      ]
     },
     "metadata": {},
     "output_type": "display_data"
    },
    {
     "data": {
      "text/latex": [
       "$$k_1 = 0.09628198919534343425$$"
      ],
      "text/plain": [
       "<IPython.core.display.Math object>"
      ]
     },
     "metadata": {},
     "output_type": "display_data"
    },
    {
     "data": {
      "text/latex": [
       "$$\\text{Values of the parameters of } \\lambda_0:$$"
      ],
      "text/plain": [
       "<IPython.core.display.Math object>"
      ]
     },
     "metadata": {},
     "output_type": "display_data"
    },
    {
     "data": {
      "text/latex": [
       "$$M = 1.000000,~~\\Lambda = 0.09000000,~~\\kappa_{1} = 0.09628199,~~\\xi_{1} = 0.4113538$$"
      ],
      "text/plain": [
       "<IPython.core.display.Math object>"
      ]
     },
     "metadata": {},
     "output_type": "display_data"
    },
    {
     "data": {
      "text/latex": [
       "$$\\text{Values of the parameters of } s_0:$$"
      ],
      "text/plain": [
       "<IPython.core.display.Math object>"
      ]
     },
     "metadata": {},
     "output_type": "display_data"
    },
    {
     "data": {
      "text/latex": [
       "$$M = 1.000000,~~\\Lambda = 0.09000000,~~\\ell = 3.000000,~~\\kappa_{1} = 0.09628199,~~\\xi_{1} = 0.4113538,~~s = 2.000000$$"
      ],
      "text/plain": [
       "<IPython.core.display.Math object>"
      ]
     },
     "metadata": {},
     "output_type": "display_data"
    },
    {
     "data": {
      "text/latex": [
       "$$           \n",
       "                \\begin{align}\n",
       "                \\lambda_0 &= \\left[\\frac{2 i En}{\\kappa_{1} \\left(\\xi - \\xi_{1}\\right)} + \\frac{6 \\left(- i En - 3 M \\xi^{2} + \\xi\\right)}{\\Lambda + 6 M \\xi^{3} - 3 \\xi^{2}} \\right.\\\\ \n",
       "                      s_0 &= \\left[\\frac{2 En^{2} \\xi^{2} \\left(\\Lambda + 6 M \\xi^{3} - 3 \\xi^{2}\\right) - 2 En \\kappa_{1} \\xi^{2} \\left(6 En \\left(\\xi - \\xi_{1}\\right) + i \\Lambda - 3 i \\xi \\left(\\xi \\left(4 M \\xi - 6 M \\xi_{1} - 1\\right) + 2 \\xi_{1}\\right)\\right) + \\kappa_{1}^{2} \\left(\\xi - \\xi_{1}\\right)^{2} \\left(\\Lambda \\left(s^{4} - 5 s^{2} + 4\\right) - 6 \\xi^{2} \\left(- 2 M \\xi \\left(s^{2} - 1\\right) + \\ell^{2} + \\ell\\right)\\right)}{2 \\kappa_{1}^{2} \\xi^{2} \\left(\\xi - \\xi_{1}\\right)^{2} \\left(\\Lambda + 6 M \\xi^{3} - 3 \\xi^{2}\\right)} \\right.\\\\ \n",
       "                \\lambda_0 &= \\left[\\frac{20.8 i En}{\\xi - 0.411} + \\frac{6.0 \\left(- i En - 3.0 \\xi^{2} + \\xi\\right)}{6.0 \\xi^{3} - 3.0 \\xi^{2} + 0.09} \\right.\\\\ \n",
       "                      s_0 &= \\left[\\frac{53.9 \\left(2.0 En^{2} \\xi^{2} \\left(6.0 \\xi^{3} - 3.0 \\xi^{2} + 0.09\\right) - 0.193 En \\xi^{2} \\left(6.0 En \\left(\\xi - 0.411\\right) - 3.0 i \\xi \\left(\\xi \\left(4.0 \\xi - 3.47\\right) + 0.823\\right) + 0.09 i\\right) - 0.0556 \\xi^{2} \\left(- 6.0 \\xi + 12.0\\right) \\left(\\xi - 0.411\\right)^{2}\\right)}{\\xi^{2} \\left(\\xi - 0.411\\right)^{2} \\left(6.0 \\xi^{3} - 3.0 \\xi^{2} + 0.09\\right)} \\right.\n",
       "                \\end{align}\n",
       "                $$"
      ],
      "text/plain": [
       "<IPython.core.display.Math object>"
      ]
     },
     "metadata": {},
     "output_type": "display_data"
    },
    {
     "name": "stdout",
     "output_type": "stream",
     "text": [
      "iter          n=1                     n=2                     n=3           \n",
      "________________________________________________________________________\n",
      "0001    0.2607670  -0.0422812j    0.2647636  -0.1276435j\n",
      "0011    0.2618425  -0.0416439j    0.2605716  -0.1249688j    0.2579976  -0.2084119j\n",
      "0021    0.2618425  -0.0416439j    0.2605716  -0.1249688j    0.2579976  -0.2084119j\n",
      "0031    0.2618425  -0.0416439j    0.2605716  -0.1249688j    0.2579976  -0.2084119j\n",
      "0041    0.2618425  -0.0416439j    0.2605716  -0.1249688j    0.2579976  -0.2084119j\n",
      "0051    0.2618425  -0.0416439j    0.2605716  -0.1249688j    0.2579976  -0.2084119j\n",
      "0061    0.2618425  -0.0416439j    0.2605716  -0.1249688j    0.2579976  -0.2084119j\n",
      "0071    0.2618425  -0.0416439j    0.2605716  -0.1249688j    0.2579976  -0.2084119j\n",
      "CPU times: user 4min 49s, sys: 1.15 s, total: 4min 50s\n",
      "Wall time: 4min 51s\n"
     ]
    }
   ],
   "source": [
    "%%time\n",
    "# values of variables\n",
    "nLambda = o* 9/100\n",
    "\n",
    "sr0 = 3 # initial search point of the root of the der. pot.\n",
    "nr0 = sym.S(mpmath.findroot(dVf_mpmath, sr0, tol=tol))\n",
    "nxi0 = o* 1/nr0\n",
    "\n",
    "solhor = sym.solve(p(xi).subs({Lambda: nLambda, M:nM}), xi)\n",
    "nxi1 = sym.N(max(map(lambda x: sym.re(x), solhor)), dprec)\n",
    "nk1 = kappa(nxi1).subs({Lambda: nLambda, M: nM})\n",
    "\n",
    "display(Math(r\"r_0 = %.20f\"%sym.N(nr0)))\n",
    "display(Math(r\"\\xi_0 = %.20f\"%sym.N(nxi0)))\n",
    "display(Math(r\"\\xi_1 = %.20f\"%sym.N(nxi1)))\n",
    "display(Math(r\"k_1 = %.20f\"%sym.N(nk1)))\n",
    "\n",
    "\n",
    "# pass lambda_0, s_0 and variable values to aim class\n",
    "black_L09l3s2 = aim(lambda_0(xi), s_0(xi), pl0(), ps0())\n",
    "black_L09l3s2.display_parameters(pprec=7)\n",
    "black_L09l3s2.display_l0s0(0, pprec=3)\n",
    "black_L09l3s2.parameters(En, xi, nxi0, nmax=71, nstep=10, dprec=500, tol=1e-101)\n",
    "\n",
    "# create coefficients c0 and d0 for improved AIM\n",
    "black_L09l3s2.c0()\n",
    "black_L09l3s2.d0()\n",
    "black_L09l3s2.cndn()\n",
    "\n",
    "# the solution\n",
    "print(\"iter\" + (3*\"{:^24s}\").format(*(\"n=%s\"%str(i) for i in range(1,4))))\n",
    "print(\"_\"*3*24)\n",
    "black_L09l3s2.get_arb_roots(showRoots='i+r', printFormat=\"  {:10.7f}\", col=(0,3))"
   ]
  },
  {
   "cell_type": "markdown",
   "metadata": {},
   "source": [
    "### $\\Lambda = 0.10$"
   ]
  },
  {
   "cell_type": "code",
   "execution_count": 32,
   "metadata": {
    "ExecuteTime": {
     "end_time": "2019-02-07T10:27:39.169330Z",
     "start_time": "2019-02-07T10:27:12.529392Z"
    }
   },
   "outputs": [
    {
     "data": {
      "text/latex": [
       "$$r_0 = 3.01005707511366971119$$"
      ],
      "text/plain": [
       "<IPython.core.display.Math object>"
      ]
     },
     "metadata": {},
     "output_type": "display_data"
    },
    {
     "data": {
      "text/latex": [
       "$$\\xi_0 = 0.33221961412882400344$$"
      ],
      "text/plain": [
       "<IPython.core.display.Math object>"
      ]
     },
     "metadata": {},
     "output_type": "display_data"
    },
    {
     "data": {
      "text/latex": [
       "$$\\xi_1 = 0.39096099092712277567$$"
      ],
      "text/plain": [
       "<IPython.core.display.Math object>"
      ]
     },
     "metadata": {},
     "output_type": "display_data"
    },
    {
     "data": {
      "text/latex": [
       "$$k_1 = 0.06759049835303057585$$"
      ],
      "text/plain": [
       "<IPython.core.display.Math object>"
      ]
     },
     "metadata": {},
     "output_type": "display_data"
    },
    {
     "data": {
      "text/latex": [
       "$$\\text{Values of the parameters of } \\lambda_0:$$"
      ],
      "text/plain": [
       "<IPython.core.display.Math object>"
      ]
     },
     "metadata": {},
     "output_type": "display_data"
    },
    {
     "data": {
      "text/latex": [
       "$$M = 1.000000,~~\\Lambda = 0.1000000,~~\\kappa_{1} = 0.06759050,~~\\xi_{1} = 0.3909610$$"
      ],
      "text/plain": [
       "<IPython.core.display.Math object>"
      ]
     },
     "metadata": {},
     "output_type": "display_data"
    },
    {
     "data": {
      "text/latex": [
       "$$\\text{Values of the parameters of } s_0:$$"
      ],
      "text/plain": [
       "<IPython.core.display.Math object>"
      ]
     },
     "metadata": {},
     "output_type": "display_data"
    },
    {
     "data": {
      "text/latex": [
       "$$M = 1.000000,~~\\Lambda = 0.1000000,~~\\ell = 3.000000,~~\\kappa_{1} = 0.06759050,~~\\xi_{1} = 0.3909610,~~s = 2.000000$$"
      ],
      "text/plain": [
       "<IPython.core.display.Math object>"
      ]
     },
     "metadata": {},
     "output_type": "display_data"
    },
    {
     "data": {
      "text/latex": [
       "$$           \n",
       "                \\begin{align}\n",
       "                \\lambda_0 &= \\left[\\frac{2 i En}{\\kappa_{1} \\left(\\xi - \\xi_{1}\\right)} + \\frac{6 \\left(- i En - 3 M \\xi^{2} + \\xi\\right)}{\\Lambda + 6 M \\xi^{3} - 3 \\xi^{2}} \\right.\\\\ \n",
       "                      s_0 &= \\left[\\frac{2 En^{2} \\xi^{2} \\left(\\Lambda + 6 M \\xi^{3} - 3 \\xi^{2}\\right) - 2 En \\kappa_{1} \\xi^{2} \\left(6 En \\left(\\xi - \\xi_{1}\\right) + i \\Lambda - 3 i \\xi \\left(\\xi \\left(4 M \\xi - 6 M \\xi_{1} - 1\\right) + 2 \\xi_{1}\\right)\\right) + \\kappa_{1}^{2} \\left(\\xi - \\xi_{1}\\right)^{2} \\left(\\Lambda \\left(s^{4} - 5 s^{2} + 4\\right) - 6 \\xi^{2} \\left(- 2 M \\xi \\left(s^{2} - 1\\right) + \\ell^{2} + \\ell\\right)\\right)}{2 \\kappa_{1}^{2} \\xi^{2} \\left(\\xi - \\xi_{1}\\right)^{2} \\left(\\Lambda + 6 M \\xi^{3} - 3 \\xi^{2}\\right)} \\right.\\\\ \n",
       "                \\lambda_0 &= \\left[\\frac{29.6 i En}{\\xi - 0.391} + \\frac{6.0 \\left(- i En - 3.0 \\xi^{2} + \\xi\\right)}{6.0 \\xi^{3} - 3.0 \\xi^{2} + 0.1} \\right.\\\\ \n",
       "                      s_0 &= \\left[\\frac{109.0 \\left(2.0 En^{2} \\xi^{2} \\left(6.0 \\xi^{3} - 3.0 \\xi^{2} + 0.1\\right) - 0.135 En \\xi^{2} \\left(6.0 En \\left(\\xi - 0.391\\right) - 3.0 i \\xi \\left(\\xi \\left(4.0 \\xi - 3.35\\right) + 0.782\\right) + 0.1 i\\right) - 0.0274 \\xi^{2} \\left(- 6.0 \\xi + 12.0\\right) \\left(\\xi - 0.391\\right)^{2}\\right)}{\\xi^{2} \\left(\\xi - 0.391\\right)^{2} \\left(6.0 \\xi^{3} - 3.0 \\xi^{2} + 0.1\\right)} \\right.\n",
       "                \\end{align}\n",
       "                $$"
      ],
      "text/plain": [
       "<IPython.core.display.Math object>"
      ]
     },
     "metadata": {},
     "output_type": "display_data"
    },
    {
     "name": "stdout",
     "output_type": "stream",
     "text": [
      "iter          n=1                     n=2                     n=3           \n",
      "________________________________________________________________________\n",
      "0001    0.1895354  -0.0305759j    0.1912054  -0.0920840j\n",
      "0011    0.1899943  -0.0303145j    0.1895170  -0.0909507j    0.1885554  -0.1516089j\n",
      "0021    0.1899943  -0.0303145j    0.1895170  -0.0909507j    0.1885554  -0.1516089j\n",
      "0031    0.1899943  -0.0303145j    0.1895170  -0.0909507j    0.1885554  -0.1516089j\n",
      "0041    0.1899943  -0.0303145j    0.1895170  -0.0909507j    0.1885554  -0.1516089j\n",
      "0051    0.1899943  -0.0303145j    0.1895170  -0.0909507j    0.1885554  -0.1516089j\n",
      "0061    0.1899943  -0.0303145j    0.1895170  -0.0909507j    0.1885554  -0.1516089j\n",
      "0071    0.1899943  -0.0303145j    0.1895170  -0.0909507j    0.1885554  -0.1516089j\n",
      "CPU times: user 26.8 s, sys: 278 ms, total: 27.1 s\n",
      "Wall time: 26.6 s\n"
     ]
    }
   ],
   "source": [
    "%%time\n",
    "# values of variables\n",
    "nLambda = o* 10/100\n",
    "\n",
    "sr0 = 3 # initial search point of the root of the der. pot.\n",
    "nr0 = sym.S(mpmath.findroot(dVf_mpmath, sr0, tol=tol))\n",
    "nxi0 = o* 1/nr0\n",
    "\n",
    "solhor = sym.solve(p(xi).subs({Lambda: nLambda, M:nM}), xi)\n",
    "nxi1 = sym.N(max(map(lambda x: sym.re(x), solhor)), dprec)\n",
    "nk1 = kappa(nxi1).subs({Lambda: nLambda, M: nM})\n",
    "\n",
    "display(Math(r\"r_0 = %.20f\"%sym.N(nr0)))\n",
    "display(Math(r\"\\xi_0 = %.20f\"%sym.N(nxi0)))\n",
    "display(Math(r\"\\xi_1 = %.20f\"%sym.N(nxi1)))\n",
    "display(Math(r\"k_1 = %.20f\"%sym.N(nk1)))\n",
    "\n",
    "\n",
    "# pass lambda_0, s_0 and variable values to aim class\n",
    "black_L10l3s2 = aim(lambda_0(xi), s_0(xi), pl0(), ps0())\n",
    "black_L10l3s2.display_parameters(pprec=7)\n",
    "black_L10l3s2.display_l0s0(0, pprec=3)\n",
    "black_L10l3s2.parameters(En, xi, nxi0, nmax=71, nstep=10, dprec=500, tol=1e-101)\n",
    "\n",
    "# create coefficients c0 and d0 for improved AIM\n",
    "black_L10l3s2.c0()\n",
    "black_L10l3s2.d0()\n",
    "black_L10l3s2.cndn()\n",
    "\n",
    "# the solution\n",
    "print(\"iter\" + (3*\"{:^24s}\").format(*(\"n=%s\"%str(i) for i in range(1,4))))\n",
    "print(\"_\"*3*24)\n",
    "black_L10l3s2.get_arb_roots(showRoots='i+r', printFormat=\"  {:10.7f}\", col=(0,3))"
   ]
  },
  {
   "cell_type": "markdown",
   "metadata": {},
   "source": [
    "### $\\Lambda = 0.11$"
   ]
  },
  {
   "cell_type": "code",
   "execution_count": 33,
   "metadata": {
    "ExecuteTime": {
     "end_time": "2019-02-07T10:32:38.325499Z",
     "start_time": "2019-02-07T10:27:39.173425Z"
    },
    "scrolled": false
   },
   "outputs": [
    {
     "data": {
      "text/latex": [
       "$$r_0 = 3.00100056707217532903$$"
      ],
      "text/plain": [
       "<IPython.core.display.Math object>"
      ]
     },
     "metadata": {},
     "output_type": "display_data"
    },
    {
     "data": {
      "text/latex": [
       "$$\\xi_0 = 0.33322219628089444488$$"
      ],
      "text/plain": [
       "<IPython.core.display.Math object>"
      ]
     },
     "metadata": {},
     "output_type": "display_data"
    },
    {
     "data": {
      "text/latex": [
       "$$\\xi_1 = 0.35222476494479487696$$"
      ],
      "text/plain": [
       "<IPython.core.display.Math object>"
      ]
     },
     "metadata": {},
     "output_type": "display_data"
    },
    {
     "data": {
      "text/latex": [
       "$$k_1 = 0.01996209017645310391$$"
      ],
      "text/plain": [
       "<IPython.core.display.Math object>"
      ]
     },
     "metadata": {},
     "output_type": "display_data"
    },
    {
     "data": {
      "text/latex": [
       "$$\\text{Values of the parameters of } \\lambda_0:$$"
      ],
      "text/plain": [
       "<IPython.core.display.Math object>"
      ]
     },
     "metadata": {},
     "output_type": "display_data"
    },
    {
     "data": {
      "text/latex": [
       "$$M = 1.000000,~~\\Lambda = 0.1100000,~~\\kappa_{1} = 0.01996209,~~\\xi_{1} = 0.3522248$$"
      ],
      "text/plain": [
       "<IPython.core.display.Math object>"
      ]
     },
     "metadata": {},
     "output_type": "display_data"
    },
    {
     "data": {
      "text/latex": [
       "$$\\text{Values of the parameters of } s_0:$$"
      ],
      "text/plain": [
       "<IPython.core.display.Math object>"
      ]
     },
     "metadata": {},
     "output_type": "display_data"
    },
    {
     "data": {
      "text/latex": [
       "$$M = 1.000000,~~\\Lambda = 0.1100000,~~\\ell = 3.000000,~~\\kappa_{1} = 0.01996209,~~\\xi_{1} = 0.3522248,~~s = 2.000000$$"
      ],
      "text/plain": [
       "<IPython.core.display.Math object>"
      ]
     },
     "metadata": {},
     "output_type": "display_data"
    },
    {
     "data": {
      "text/latex": [
       "$$           \n",
       "                \\begin{align}\n",
       "                \\lambda_0 &= \\left[\\frac{2 i En}{\\kappa_{1} \\left(\\xi - \\xi_{1}\\right)} + \\frac{6 \\left(- i En - 3 M \\xi^{2} + \\xi\\right)}{\\Lambda + 6 M \\xi^{3} - 3 \\xi^{2}} \\right.\\\\ \n",
       "                      s_0 &= \\left[\\frac{2 En^{2} \\xi^{2} \\left(\\Lambda + 6 M \\xi^{3} - 3 \\xi^{2}\\right) - 2 En \\kappa_{1} \\xi^{2} \\left(6 En \\left(\\xi - \\xi_{1}\\right) + i \\Lambda - 3 i \\xi \\left(\\xi \\left(4 M \\xi - 6 M \\xi_{1} - 1\\right) + 2 \\xi_{1}\\right)\\right) + \\kappa_{1}^{2} \\left(\\xi - \\xi_{1}\\right)^{2} \\left(\\Lambda \\left(s^{4} - 5 s^{2} + 4\\right) - 6 \\xi^{2} \\left(- 2 M \\xi \\left(s^{2} - 1\\right) + \\ell^{2} + \\ell\\right)\\right)}{2 \\kappa_{1}^{2} \\xi^{2} \\left(\\xi - \\xi_{1}\\right)^{2} \\left(\\Lambda + 6 M \\xi^{3} - 3 \\xi^{2}\\right)} \\right.\\\\ \n",
       "                \\lambda_0 &= \\left[\\frac{100.0 i En}{\\xi - 0.352} + \\frac{6.0 \\left(- i En - 3.0 \\xi^{2} + \\xi\\right)}{6.0 \\xi^{3} - 3.0 \\xi^{2} + 0.11} \\right.\\\\ \n",
       "                      s_0 &= \\left[\\frac{1.25 \\cdot 10^{3} \\left(2.0 En^{2} \\xi^{2} \\left(6.0 \\xi^{3} - 3.0 \\xi^{2} + 0.11\\right) - 0.0399 En \\xi^{2} \\left(6.0 En \\left(\\xi - 0.352\\right) - 3.0 i \\xi \\left(\\xi \\left(4.0 \\xi - 3.11\\right) + 0.704\\right) + 0.11 i\\right) - 0.00239 \\xi^{2} \\left(- 6.0 \\xi + 12.0\\right) \\left(\\xi - 0.352\\right)^{2}\\right)}{\\xi^{2} \\left(\\xi - 0.352\\right)^{2} \\left(6.0 \\xi^{3} - 3.0 \\xi^{2} + 0.11\\right)} \\right.\n",
       "                \\end{align}\n",
       "                $$"
      ],
      "text/plain": [
       "<IPython.core.display.Math object>"
      ]
     },
     "metadata": {},
     "output_type": "display_data"
    },
    {
     "name": "stdout",
     "output_type": "stream",
     "text": [
      "iter          n=1                     n=2                     n=3           \n",
      "________________________________________________________________________\n",
      "0001    0.0600733  -0.0096282j    0.0601373  -0.0289013j\n",
      "0011    0.0600915  -0.0096189j    0.0600766  -0.0288567j    0.0600469  -0.0480945j\n",
      "0021    0.0600915  -0.0096189j    0.0600766  -0.0288567j    0.0600469  -0.0480945j\n",
      "0031    0.0600915  -0.0096189j    0.0600766  -0.0288567j    0.0600469  -0.0480945j\n",
      "0041    0.0600915  -0.0096189j    0.0600766  -0.0288567j    0.0600469  -0.0480945j\n",
      "0051    0.0600915  -0.0096189j    0.0600766  -0.0288567j    0.0600469  -0.0480945j\n",
      "0061    0.0600915  -0.0096189j    0.0600766  -0.0288567j    0.0600469  -0.0480945j\n",
      "0071    0.0600915  -0.0096189j    0.0600766  -0.0288567j    0.0600469  -0.0480945j\n",
      "CPU times: user 4min 57s, sys: 1.71 s, total: 4min 58s\n",
      "Wall time: 4min 59s\n"
     ]
    }
   ],
   "source": [
    "%%time\n",
    "# values of variables\n",
    "nLambda = o* 11/100\n",
    "\n",
    "sr0 = 3 # initial search point of the root of the der. pot.\n",
    "nr0 = sym.S(mpmath.findroot(dVf_mpmath, sr0, tol=tol))\n",
    "nxi0 = o* 1/nr0\n",
    "\n",
    "solhor = sym.solve(p(xi).subs({Lambda: nLambda, M:nM}), xi)\n",
    "nxi1 = sym.N(max(map(lambda x: sym.re(x), solhor)), dprec)\n",
    "nk1 = kappa(nxi1).subs({Lambda: nLambda, M: nM})\n",
    "\n",
    "display(Math(r\"r_0 = %.20f\"%sym.N(nr0)))\n",
    "display(Math(r\"\\xi_0 = %.20f\"%sym.N(nxi0)))\n",
    "display(Math(r\"\\xi_1 = %.20f\"%sym.N(nxi1)))\n",
    "display(Math(r\"k_1 = %.20f\"%sym.N(nk1)))\n",
    "\n",
    "\n",
    "# pass lambda_0, s_0 and variable values to aim class\n",
    "black_L11l2s3 = aim(lambda_0(xi), s_0(xi), pl0(), ps0())\n",
    "black_L11l2s3.display_parameters(pprec=7)\n",
    "black_L11l2s3.display_l0s0(0, pprec=3)\n",
    "black_L11l2s3.parameters(En, xi, nxi0, nmax=71, nstep=10, dprec=500, tol=1e-101)\n",
    "\n",
    "# create coefficients c0 and d0 for improved AIM\n",
    "black_L11l2s3.c0()\n",
    "black_L11l2s3.d0()\n",
    "black_L11l2s3.cndn()\n",
    "\n",
    "# the solution\n",
    "print(\"iter\" + (3*\"{:^24s}\").format(*(\"n=%s\"%str(i) for i in range(1,4))))\n",
    "print(\"_\"*3*24)\n",
    "black_L11l2s3.get_arb_roots(showRoots='i+r', printFormat=\"  {:10.7f}\", col=(0,3))"
   ]
  },
  {
   "cell_type": "code",
   "execution_count": null,
   "metadata": {},
   "outputs": [],
   "source": []
  }
 ],
 "metadata": {
  "hide_input": false,
  "kernelspec": {
   "display_name": "Python 2",
   "language": "python",
   "name": "python2"
  },
  "language_info": {
   "codemirror_mode": {
    "name": "ipython",
    "version": 2
   },
   "file_extension": ".py",
   "mimetype": "text/x-python",
   "name": "python",
   "nbconvert_exporter": "python",
   "pygments_lexer": "ipython2",
   "version": "2.7.15rc1"
  },
  "toc": {
   "base_numbering": 1,
   "nav_menu": {
    "height": "12px",
    "width": "252px"
   },
   "number_sections": true,
   "sideBar": true,
   "skip_h1_title": false,
   "title_cell": "İçindekiler",
   "title_sidebar": "Contents",
   "toc_cell": false,
   "toc_position": {
    "height": "785px",
    "left": "163px",
    "right": "1708px",
    "top": "210px",
    "width": "308px"
   },
   "toc_section_display": true,
   "toc_window_display": true
  },
  "varInspector": {
   "cols": {
    "lenName": 16,
    "lenType": 16,
    "lenVar": 40
   },
   "kernels_config": {
    "python": {
     "delete_cmd_postfix": "",
     "delete_cmd_prefix": "del ",
     "library": "var_list.py",
     "varRefreshCmd": "print(var_dic_list())"
    },
    "r": {
     "delete_cmd_postfix": ") ",
     "delete_cmd_prefix": "rm(",
     "library": "var_list.r",
     "varRefreshCmd": "cat(var_dic_list()) "
    }
   },
   "types_to_exclude": [
    "module",
    "function",
    "builtin_function_or_method",
    "instance",
    "_Feature"
   ],
   "window_display": false
  }
 },
 "nbformat": 4,
 "nbformat_minor": 2
}
