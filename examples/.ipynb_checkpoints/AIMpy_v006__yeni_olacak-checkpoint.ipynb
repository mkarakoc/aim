{
 "cells": [
  {
   "cell_type": "markdown",
   "metadata": {},
   "source": [
    "# Applications of the Asymptotic Iteration  Method"
   ]
  },
  {
   "cell_type": "code",
   "execution_count": 1,
   "metadata": {
    "ExecuteTime": {
     "end_time": "2019-01-30T13:36:10.944719Z",
     "start_time": "2019-01-30T13:36:10.765392Z"
    }
   },
   "outputs": [],
   "source": [
    "# Python program to use AIM tools\n",
    "from asymptotic import *"
   ]
  },
  {
   "cell_type": "markdown",
   "metadata": {
    "ExecuteTime": {
     "end_time": "2018-07-12T13:47:10.557202Z",
     "start_time": "2018-07-12T13:47:10.550691Z"
    }
   },
   "source": [
    "## Yukawa potential"
   ]
  },
  {
   "cell_type": "markdown",
   "metadata": {},
   "source": [
    "### Variables and parameters"
   ]
  },
  {
   "cell_type": "code",
   "execution_count": 2,
   "metadata": {
    "ExecuteTime": {
     "end_time": "2019-01-30T13:36:10.956883Z",
     "start_time": "2019-01-30T13:36:10.948194Z"
    }
   },
   "outputs": [],
   "source": [
    "# symengine (symbolic) variables for lambda_0 and s_0 \n",
    "En, m, hbar, L, r, r0 = se.symbols(\"En, m, hbar, L, r, r0\")\n",
    "beta, alpha, A = se.symbols(\"beta, alpha, A\")\n",
    "\n",
    "# lambda_0 and s_0\n",
    "l0 = 2*beta-2/r\n",
    "s0 = -beta**2 - (2*En*m)/hbar**2 + L/r**2 + L**2/r**2 + (2*beta)/r - (2*A*se.exp(-alpha*r)*m)/(hbar**2*r)\n",
    "\n",
    "# values of variables\n",
    "nbeta = 3\n",
    "nr0 = o* 1/nbeta\n",
    "\n",
    "# parameters of lambda_0 (pl0) and s_0 (ps0)\n",
    "pl0 = {beta: nbeta}\n",
    "ps0 = {beta: nbeta, \n",
    "       alpha: o* 2/10, \n",
    "       A: 4, \n",
    "       m: o* 1/2, \n",
    "       L: 0, \n",
    "       hbar: 1, \n",
    "       r0: nr0}"
   ]
  },
  {
   "cell_type": "markdown",
   "metadata": {},
   "source": [
    "### Initialize AIM solver"
   ]
  },
  {
   "cell_type": "code",
   "execution_count": 3,
   "metadata": {
    "ExecuteTime": {
     "end_time": "2019-01-30T13:36:11.098581Z",
     "start_time": "2019-01-30T13:36:10.960128Z"
    }
   },
   "outputs": [
    {
     "data": {
      "text/latex": [
       "$$\\text{Values of the parameters of } \\lambda_0:$$"
      ],
      "text/plain": [
       "<IPython.core.display.Math object>"
      ]
     },
     "metadata": {},
     "output_type": "display_data"
    },
    {
     "data": {
      "text/latex": [
       "$$\\beta = 3$$"
      ],
      "text/plain": [
       "<IPython.core.display.Math object>"
      ]
     },
     "metadata": {},
     "output_type": "display_data"
    },
    {
     "data": {
      "text/latex": [
       "$$\\text{Values of the parameters of } s_0:$$"
      ],
      "text/plain": [
       "<IPython.core.display.Math object>"
      ]
     },
     "metadata": {},
     "output_type": "display_data"
    },
    {
     "data": {
      "text/latex": [
       "$$A = 4,~~L = 0,~~\\alpha = 1/5,~~\\beta = 3,~~\\hbar = 1,~~m = 1/2,~~r_{0} = 1/3$$"
      ],
      "text/plain": [
       "<IPython.core.display.Math object>"
      ]
     },
     "metadata": {},
     "output_type": "display_data"
    },
    {
     "data": {
      "text/latex": [
       "$$           \n",
       "                \\begin{eqnarray}\n",
       "                \\lambda_0 &=& 6 - \\frac{2}{r} \\\\ \n",
       "                      s_0 &=& - En - 9 + \\frac{6}{r} - \\frac{4}{r} e^{- \\frac{r}{5}} \\\\ \n",
       "                \\end{eqnarray}\n",
       "                $$"
      ],
      "text/plain": [
       "<IPython.core.display.Math object>"
      ]
     },
     "metadata": {},
     "output_type": "display_data"
    },
    {
     "name": "stdout",
     "output_type": "stream",
     "text": [
      "CPU times: user 40 ms, sys: 0 ns, total: 40 ms\n",
      "Wall time: 44.3 ms\n"
     ]
    }
   ],
   "source": [
    "%%time\n",
    "# pass lambda_0, s_0 and variable values to aim class\n",
    "yukawa = aim(l0, s0, pl0, ps0)\n",
    "yukawa.display_parameters()\n",
    "yukawa.display_l0s0(2)\n",
    "yukawa.parameters(En, r, nr0, nmax=101, nstep=10, dprec=500, tol=1e-101)"
   ]
  },
  {
   "cell_type": "markdown",
   "metadata": {},
   "source": [
    "### Calculation necessary coefficients"
   ]
  },
  {
   "cell_type": "code",
   "execution_count": 4,
   "metadata": {
    "ExecuteTime": {
     "end_time": "2019-01-30T13:36:19.795953Z",
     "start_time": "2019-01-30T13:36:11.101742Z"
    }
   },
   "outputs": [
    {
     "name": "stdout",
     "output_type": "stream",
     "text": [
      "CPU times: user 8.7 s, sys: 92 ms, total: 8.8 s\n",
      "Wall time: 8.63 s\n"
     ]
    }
   ],
   "source": [
    "%%time\n",
    "# create coefficients for improved AIM\n",
    "yukawa.c0()\n",
    "yukawa.d0()\n",
    "yukawa.cndn()"
   ]
  },
  {
   "cell_type": "markdown",
   "metadata": {},
   "source": [
    "### The Solution"
   ]
  },
  {
   "cell_type": "code",
   "execution_count": 5,
   "metadata": {
    "ExecuteTime": {
     "end_time": "2019-01-30T13:36:21.027615Z",
     "start_time": "2019-01-30T13:36:19.799280Z"
    }
   },
   "outputs": [
    {
     "name": "stdout",
     "output_type": "stream",
     "text": [
      "0001        -2.2260838203794128808965525\n",
      "0011        -3.2564619873020492768489476        -0.2288042674940625187396392\n",
      "0021        -3.2564642449044307603855941        -0.3950393050532260974527787\n",
      "0031        -3.2564642449072254137831806        -0.3993406028980819866269769\n",
      "0041        -3.2564642449072254137831806        -0.3994248082304420743859907        -0.0075242662716602766795337\n",
      "0051        -3.2564642449072254137831806        -0.3994261506231813751988113        -0.0199961001576213701080853\n",
      "0061        -3.2564642449072254137831806        -0.3994261703700493493229828        -0.0237934844726677939552584\n",
      "0071        -3.2564642449072254137831806        -0.3994261706513432819143361        -0.0250309306529717771894195\n",
      "0081        -3.2564642449072254137831806        -0.3994261706552951762816406        -0.0254476307501026455248905\n",
      "0091        -3.2564642449072254137831806        -0.3994261706553503543659644        -0.0255899424649133899745124\n",
      "0101        -3.2564642449072254137831806        -0.3994261706553510760109305        -0.0256387925051224513373072\n",
      "CPU times: user 1.23 s, sys: 0 ns, total: 1.23 s\n",
      "Wall time: 1.22 s\n"
     ]
    }
   ],
   "source": [
    "%%time\n",
    "yukawa.get_arb_roots(showRoots='real_negative', printFormat=\"{:35.25f}\")"
   ]
  },
  {
   "cell_type": "markdown",
   "metadata": {},
   "source": [
    "##  Exponential cosine screened Coulomb potential"
   ]
  },
  {
   "cell_type": "markdown",
   "metadata": {},
   "source": [
    "### Variables and parameters"
   ]
  },
  {
   "cell_type": "code",
   "execution_count": 6,
   "metadata": {
    "ExecuteTime": {
     "end_time": "2019-01-30T13:36:21.044945Z",
     "start_time": "2019-01-30T13:36:21.030838Z"
    }
   },
   "outputs": [],
   "source": [
    "#http://onlinelibrary.wiley.com/doi/10.1002/qua.21240/epdf\n",
    "# variables, l0, and s0\n",
    "En, m, hbar, L, r, r0 = se.symbols(\"En, m, hbar, L, r, r0\")\n",
    "beta, delta, A, A1, A2, A3, A4, A5, A6 = se.symbols(\"beta, delta, A, A1, A2, A3, A4, A5, A6\")\n",
    "\n",
    "l0 = 2*(beta - (L+1)/r)\n",
    "s0 = -2*m*En/hbar**2 + A2 - beta**2 + (2*L*beta + 2*beta - A1)/r - A3*r**2 + A4*r**3 - A5*r**4 + A6*r**6\n",
    "\n",
    "\n",
    "nhbar, nm = o* 1, o* 1\n",
    "nL = o* 0\n",
    "nA = o* 1\n",
    "\n",
    "ndelta = o* 2/100\n",
    "nbeta = o* 6/10\n",
    "nr0 = o* (nL+1)/nbeta\n",
    "\n",
    "nA1 = 2*nm*nA/nhbar**2\n",
    "nA2 = nA1*ndelta\n",
    "nA3 = nA1*ndelta**3/3\n",
    "nA4 = nA1*ndelta**4/6\n",
    "nA5 = nA1*ndelta**5/30\n",
    "nA6 = nA1*ndelta**7/630\n",
    "\n",
    "pl0 = {beta:nbeta, L:nL}\n",
    "ps0 = {hbar:nhbar, m:nm, \n",
    "       beta:nbeta, L:nL, r0:nr0, \n",
    "       A1:nA1, A2:nA2, A3:nA3, \n",
    "       A4:nA4, A5:nA5, A6:nA6}"
   ]
  },
  {
   "cell_type": "markdown",
   "metadata": {},
   "source": [
    "### Initialize AIM solver"
   ]
  },
  {
   "cell_type": "code",
   "execution_count": 7,
   "metadata": {
    "ExecuteTime": {
     "end_time": "2019-01-30T13:36:21.329705Z",
     "start_time": "2019-01-30T13:36:21.047042Z"
    }
   },
   "outputs": [
    {
     "data": {
      "text/latex": [
       "$$\\text{Values of the parameters of } \\lambda_0:$$"
      ],
      "text/plain": [
       "<IPython.core.display.Math object>"
      ]
     },
     "metadata": {},
     "output_type": "display_data"
    },
    {
     "data": {
      "text/latex": [
       "$$L = 0,~~\\beta = 3/5$$"
      ],
      "text/plain": [
       "<IPython.core.display.Math object>"
      ]
     },
     "metadata": {},
     "output_type": "display_data"
    },
    {
     "data": {
      "text/latex": [
       "$$\\text{Values of the parameters of } s_0:$$"
      ],
      "text/plain": [
       "<IPython.core.display.Math object>"
      ]
     },
     "metadata": {},
     "output_type": "display_data"
    },
    {
     "data": {
      "text/latex": [
       "$$A_{1} = 2,~~A_{2} = 1/25,~~A_{3} = 1/187500,~~A_{4} = 1/18750000,~~A_{5} = 1/4687500000,~~A_{6} = 1/246093750000000,~~L = 0,~~\\beta = 3/5,~~\\hbar = 1,~~m = 1,~~r_{0} = 5/3$$"
      ],
      "text/plain": [
       "<IPython.core.display.Math object>"
      ]
     },
     "metadata": {},
     "output_type": "display_data"
    },
    {
     "data": {
      "text/latex": [
       "$$           \n",
       "                \\begin{eqnarray}\n",
       "                \\lambda_0 &=& 2 \\beta - \\frac{2}{r} \\left(L + 1\\right) \\\\ \n",
       "                      s_0 &=& A_{2} - A_{3} r^{2} + A_{4} r^{3} - A_{5} r^{4} + A_{6} r^{6} - \\frac{2 En}{\\hbar^{2}} m - \\beta^{2} + \\frac{1}{r} \\left(- A_{1} + 2 L \\beta + 2 \\beta\\right) \\\\ \n",
       "                \\lambda_0 &=& \\frac{6}{5} - \\frac{2}{r} \\\\ \n",
       "                      s_0 &=& - 2 En + \\frac{r^{6}}{246093750000000} - \\frac{r^{4}}{4687500000} + \\frac{r^{3}}{18750000} - \\frac{r^{2}}{187500} - \\frac{8}{25} - \\frac{4}{5 r}\n",
       "                \\end{eqnarray}\n",
       "                $$"
      ],
      "text/plain": [
       "<IPython.core.display.Math object>"
      ]
     },
     "metadata": {},
     "output_type": "display_data"
    },
    {
     "name": "stdout",
     "output_type": "stream",
     "text": [
      "CPU times: user 32 ms, sys: 0 ns, total: 32 ms\n",
      "Wall time: 37 ms\n"
     ]
    }
   ],
   "source": [
    "%%time\n",
    "# pass lambda_0, s_0 and variable values to aim class\n",
    "ecsc = aim(l0, s0, pl0, ps0)\n",
    "ecsc.display_parameters()\n",
    "ecsc.display_l0s0(0)\n",
    "ecsc.parameters(En, r, nr0, nmax=101, nstep=10, dprec=500, tol=1e-101)"
   ]
  },
  {
   "cell_type": "markdown",
   "metadata": {},
   "source": [
    "### Calculation necessary coefficients"
   ]
  },
  {
   "cell_type": "code",
   "execution_count": 8,
   "metadata": {
    "ExecuteTime": {
     "end_time": "2019-01-30T13:36:30.476943Z",
     "start_time": "2019-01-30T13:36:21.332889Z"
    }
   },
   "outputs": [
    {
     "name": "stdout",
     "output_type": "stream",
     "text": [
      "CPU times: user 9.18 s, sys: 96 ms, total: 9.28 s\n",
      "Wall time: 9.08 s\n"
     ]
    }
   ],
   "source": [
    "%%time\n",
    "# create coefficients for improved AIM\n",
    "ecsc.c0()\n",
    "ecsc.d0()\n",
    "ecsc.cndn()"
   ]
  },
  {
   "cell_type": "markdown",
   "metadata": {},
   "source": [
    "### The solution"
   ]
  },
  {
   "cell_type": "code",
   "execution_count": 9,
   "metadata": {
    "ExecuteTime": {
     "end_time": "2019-01-30T13:36:31.695368Z",
     "start_time": "2019-01-30T13:36:30.480131Z"
    }
   },
   "outputs": [
    {
     "name": "stdout",
     "output_type": "stream",
     "text": [
      "0001   -0.40000728477361902   -0.04000728477361901\n",
      "0011   -0.48000720213597592   -0.10510358590976973   -0.03509891443195363\n",
      "0021   -0.48000780260776632   -0.10510358765875565   -0.03602478896382142   -0.01194280694189140\n",
      "0031   -0.48000780260928266   -0.10510358765875566   -0.03602509984759363   -0.01256447634099594\n",
      "0041   -0.48000780260928266   -0.10510358765875566   -0.03602509988067940   -0.01257147988622072\n",
      "0051   -0.48000780260928266   -0.10510358765875566   -0.03602509988068154   -0.01257151911691028\n",
      "0061   -0.48000780260928266   -0.10510358765875566   -0.03602509988068154   -0.01257151926161659\n",
      "0071   -0.48000780260928266   -0.10510358765875566   -0.03602509988068154   -0.01257151926183478\n",
      "0081   -0.48000780260928266   -0.10510358765875566   -0.03602509988068154   -0.01257151926183413\n",
      "0091   -0.48000780260928266   -0.10510358765875566   -0.03602509988068154   -0.01257151926183413\n",
      "0101   -0.48000780260928266   -0.10510358765875566   -0.03602509988068154   -0.01257151926183413\n",
      "CPU times: user 1.22 s, sys: 4 ms, total: 1.22 s\n",
      "Wall time: 1.21 s\n"
     ]
    }
   ],
   "source": [
    "%%time\n",
    "ecsc.get_arb_roots(showRoots='real_negative', printFormat=\"{:22.17f}\")"
   ]
  },
  {
   "cell_type": "markdown",
   "metadata": {},
   "source": [
    "## Black hole"
   ]
  },
  {
   "cell_type": "markdown",
   "metadata": {},
   "source": [
    "$\\Large \\lambda_0(\\xi) = -{1\\over p} \\left[ p' - {2 i\\omega \\over \\kappa_1(\\xi - \\xi_1)}  -2 i \\omega \\right]$\n",
    "\n",
    "$\\Large  s_0(\\xi) = {1\\over p} \\left[ \\ell(\\ell +1) + \n",
    "(1-s^2) \\left( 2M\\xi - (4-s^2){\\Lambda \\over 6\\xi^2} \\right) + \n",
    "{i\\omega \\over \\kappa_1(\\xi - \\xi_1)^2} \\left( {i\\omega \\over \\kappa_1} +1 \\right) + (p' - 2i\\omega) {i\\omega \\over \\kappa_1(\\xi - \\xi_1)}  \\right]  $"
   ]
  },
  {
   "cell_type": "markdown",
   "metadata": {},
   "source": [
    "### Variables and parameters"
   ]
  },
  {
   "cell_type": "code",
   "execution_count": 10,
   "metadata": {
    "ExecuteTime": {
     "end_time": "2019-01-30T13:36:31.702926Z",
     "start_time": "2019-01-30T13:36:31.698683Z"
    }
   },
   "outputs": [],
   "source": [
    "# symengine (symbolic) variables for lambda_0 and s_0 \n",
    "En, r, xi, xi1, k1 = se.symbols(r'En, r, xi, xi_1, kappa_1')\n",
    "l, s, M, Lambda = se.symbols(r'\\ell, s, M, Lambda')"
   ]
  },
  {
   "cell_type": "code",
   "execution_count": 11,
   "metadata": {
    "ExecuteTime": {
     "end_time": "2019-01-30T13:36:31.805235Z",
     "start_time": "2019-01-30T13:36:31.706061Z"
    }
   },
   "outputs": [],
   "source": [
    "def Vf(r): \n",
    "    return ((6*M - 3*r + r**3*Lambda)*(-6*l*(1 + l)*r + 12*M*(-1 + s**2) + r**3*(4 - 5*s**2 + s**4)*Lambda))/(18*r**4)\n",
    "\n",
    "def dVf(r0):\n",
    "    return sym.diff(Vf(r), r).subs(r, r0)\n",
    "\n",
    "def Delta(xi):\n",
    "    return 6*M*xi**3 - 3*xi**2 + Lambda\n",
    "\n",
    "def kappa(xi):\n",
    "    return M*xi**2 - Lambda/(3*xi)"
   ]
  },
  {
   "cell_type": "code",
   "execution_count": 12,
   "metadata": {
    "ExecuteTime": {
     "end_time": "2019-01-30T13:36:31.959799Z",
     "start_time": "2019-01-30T13:36:31.808803Z"
    }
   },
   "outputs": [
    {
     "data": {
      "text/latex": [
       "$$Vf(r) = \\frac{1}{18 r^{4}} \\left(\\Lambda r^{3} + 6 M - 3 r\\right) \\left(\\Lambda r^{3} \\left(s^{4} - 5 s^{2} + 4\\right) + 12 M \\left(s^{2} - 1\\right) - 6 \\ell r \\left(\\ell + 1\\right)\\right)$$"
      ],
      "text/plain": [
       "<IPython.core.display.Math object>"
      ]
     },
     "metadata": {},
     "output_type": "display_data"
    },
    {
     "data": {
      "text/latex": [
       "$$dVf(r) = \\frac{1}{18 r^{4}} \\left(3 \\Lambda r^{2} - 3\\right) \\left(\\Lambda r^{3} \\left(s^{4} - 5 s^{2} + 4\\right) + 12 M \\left(s^{2} - 1\\right) - 6 \\ell r \\left(\\ell + 1\\right)\\right) + \\frac{1}{18 r^{4}} \\left(3 \\Lambda r^{2} \\left(s^{4} - 5 s^{2} + 4\\right) - 6 \\ell \\left(\\ell + 1\\right)\\right) \\left(\\Lambda r^{3} + 6 M - 3 r\\right) - \\frac{2}{9 r^{5}} \\left(\\Lambda r^{3} + 6 M - 3 r\\right) \\left(\\Lambda r^{3} \\left(s^{4} - 5 s^{2} + 4\\right) + 12 M \\left(s^{2} - 1\\right) - 6 \\ell r \\left(\\ell + 1\\right)\\right)$$"
      ],
      "text/plain": [
       "<IPython.core.display.Math object>"
      ]
     },
     "metadata": {},
     "output_type": "display_data"
    },
    {
     "data": {
      "text/latex": [
       "$$\\Delta(\\xi) = \\Lambda + 6 M \\xi^{3} - 3 \\xi^{2}$$"
      ],
      "text/plain": [
       "<IPython.core.display.Math object>"
      ]
     },
     "metadata": {},
     "output_type": "display_data"
    },
    {
     "data": {
      "text/latex": [
       "$$\\kappa(\\xi) = - \\frac{\\Lambda}{3 \\xi} + M \\xi^{2}$$"
      ],
      "text/plain": [
       "<IPython.core.display.Math object>"
      ]
     },
     "metadata": {},
     "output_type": "display_data"
    }
   ],
   "source": [
    "symPrintFunc(Vf, (r,))\n",
    "symPrintFunc(dVf, (r,))\n",
    "symPrintFunc(Delta, (xi,))\n",
    "symPrintFunc(kappa, (xi,))"
   ]
  },
  {
   "cell_type": "code",
   "execution_count": 13,
   "metadata": {
    "ExecuteTime": {
     "end_time": "2019-01-30T13:36:32.384158Z",
     "start_time": "2019-01-30T13:36:31.962993Z"
    }
   },
   "outputs": [],
   "source": [
    "# values of variables\n",
    "#Lambda = o* 1/10000 # k1 = 0.2498666444349577449011\n",
    "ns = 2 # SPIN \n",
    "nl = 2 # L\n",
    "nLambda = o* 1/10     # k1 = 0.0675904983530305724298\n",
    "nM = 1\n",
    "\n",
    "dprec=500\n",
    "tol=1e-101\n",
    "ft.ctx.dps = dprec\n",
    "ft.mpmath.mp.dps = dprec\n",
    "\n",
    "dVf2 = lambda r: dVf(r).subs({l:nl, s: ns, Lambda: nLambda, M: nM})\n",
    "nr0 = sym.S(ft.mpmath.findroot(dVf2, 3, tol=tol))\n",
    "nxi0 = 1/nr0\n",
    "#nxi0 = o* 1/3\n",
    "\n",
    "solhor = sym.solve(Delta(xi).subs({Lambda: nLambda, M:nM}), xi)\n",
    "nxi1 = sym.N(max(map(lambda x: sym.re(x), solhor)), dprec)\n",
    "#nxi1 = max(map(lambda x: sym.re(x), solhor))\n",
    "nk1 = kappa(nxi1).subs({Lambda: nLambda, M: nM})"
   ]
  },
  {
   "cell_type": "code",
   "execution_count": 14,
   "metadata": {
    "ExecuteTime": {
     "end_time": "2019-01-30T13:36:32.390418Z",
     "start_time": "2019-01-30T13:36:32.386684Z"
    }
   },
   "outputs": [
    {
     "name": "stdout",
     "output_type": "stream",
     "text": [
      "0.330549614309089\n",
      "0.390960990927123\n",
      "0.0675904983530306\n"
     ]
    }
   ],
   "source": [
    "print sym.N(nxi0)\n",
    "print sym.N(nxi1)\n",
    "print sym.N(nk1)"
   ]
  },
  {
   "cell_type": "code",
   "execution_count": 15,
   "metadata": {
    "ExecuteTime": {
     "end_time": "2019-01-30T13:36:32.498771Z",
     "start_time": "2019-01-30T13:36:32.393584Z"
    }
   },
   "outputs": [],
   "source": [
    "def lambda_0(xi):\n",
    "    return (6*(-se.I*En + xi - 3*M*xi**2))/(-3*xi**2 + 6*M*xi**3 + Lambda) + (2*se.I*En)/((xi - xi1)*k1)\n",
    "\n",
    "def s_0(xi):\n",
    "    return (2*En**2*xi**2*(-3*xi**2 + 6*M*xi**3 + Lambda) - \\\n",
    "            2*En*xi**2*(6*En*(xi - xi1) - 3*se.I*xi*(2*xi1 + xi*(-1 + 4*M*xi - 6*M*xi1)) + se.I*Lambda)*k1 + \\\n",
    "            (xi - xi1)**2*(-6*xi**2*(l + l**2 - 2*M*(-1 + s**2)*xi) + (4 - 5*s**2 + s**4)*Lambda)*k1**2)/ \\\n",
    "            (2*xi**2*(xi - xi1)**2*(-3*xi**2 + 6*M*xi**3 + Lambda)*k1**2)"
   ]
  },
  {
   "cell_type": "code",
   "execution_count": 16,
   "metadata": {
    "ExecuteTime": {
     "end_time": "2019-01-30T13:36:32.665622Z",
     "start_time": "2019-01-30T13:36:32.503566Z"
    }
   },
   "outputs": [
    {
     "data": {
      "text/latex": [
       "$$\\lambda_{0}(\\xi) = \\frac{2 i En}{\\kappa_{1} \\left(\\xi - \\xi_{1}\\right)} + \\frac{6 \\left(- i En - 3 M \\xi^{2} + \\xi\\right)}{\\Lambda + 6 M \\xi^{3} - 3 \\xi^{2}}$$"
      ],
      "text/plain": [
       "<IPython.core.display.Math object>"
      ]
     },
     "metadata": {},
     "output_type": "display_data"
    },
    {
     "data": {
      "text/latex": [
       "$$s_{0}(\\xi) = \\frac{1}{2 \\kappa_{1}^{2} \\xi^{2} \\left(\\xi - \\xi_{1}\\right)^{2} \\left(\\Lambda + 6 M \\xi^{3} - 3 \\xi^{2}\\right)} \\left(2 En^{2} \\xi^{2} \\left(\\Lambda + 6 M \\xi^{3} - 3 \\xi^{2}\\right) - 2 En \\kappa_{1} \\xi^{2} \\left(6 En \\left(\\xi - \\xi_{1}\\right) + i \\Lambda - 3 i \\xi \\left(\\xi \\left(4 M \\xi - 6 M \\xi_{1} - 1\\right) + 2 \\xi_{1}\\right)\\right) + \\kappa_{1}^{2} \\left(\\xi - \\xi_{1}\\right)^{2} \\left(\\Lambda \\left(s^{4} - 5 s^{2} + 4\\right) - 6 \\xi^{2} \\left(- 2 M \\xi \\left(s^{2} - 1\\right) + \\ell^{2} + \\ell\\right)\\right)\\right)$$"
      ],
      "text/plain": [
       "<IPython.core.display.Math object>"
      ]
     },
     "metadata": {},
     "output_type": "display_data"
    }
   ],
   "source": [
    "symPrintFunc(lambda_0, (xi,))\n",
    "symPrintFunc(s_0, (xi,))"
   ]
  },
  {
   "cell_type": "code",
   "execution_count": 17,
   "metadata": {
    "ExecuteTime": {
     "end_time": "2019-01-30T13:36:32.881283Z",
     "start_time": "2019-01-30T13:36:32.668928Z"
    }
   },
   "outputs": [
    {
     "name": "stdout",
     "output_type": "stream",
     "text": [
      "29.5899578895519*I*En/(xi - 0.390960990927123) + 6.0*(-I*En - 3.0*xi**2 + xi)/(6.0*xi**3 - 3.0*xi**2 + 0.1)\n",
      "1313.34841185818*En**2*xi**5/(6.0*xi**7 - 7.69153189112547*xi**6 + 3.26286892412304*xi**5 - 0.358551489280153*xi**4 - 0.0781921981854246*xi**3 + 0.0152850496426718*xi**2) - 656.67420592909*En**2*xi**4/(6.0*xi**7 - 7.69153189112547*xi**6 + 3.26286892412304*xi**5 - 0.358551489280153*xi**4 - 0.0781921981854246*xi**3 + 0.0152850496426718*xi**2) - 88.7698736686556*En**2*xi**3/(6.0*xi**7 - 7.69153189112547*xi**6 + 3.26286892412304*xi**5 - 0.358551489280153*xi**4 - 0.0781921981854246*xi**3 + 0.0152850496426718*xi**2) + 56.5946979716094*En**2*xi**2/(6.0*xi**7 - 7.69153189112547*xi**6 + 3.26286892412304*xi**5 - 0.358551489280153*xi**4 - 0.0781921981854246*xi**3 + 0.0152850496426718*xi**2) + 177.539747337311*I*En*xi**5/(6.0*xi**7 - 7.69153189112547*xi**6 + 3.26286892412304*xi**5 - 0.358551489280153*xi**4 - 0.0781921981854246*xi**3 + 0.0152850496426718*xi**2) - 148.501610156247*I*En*xi**4/(6.0*xi**7 - 7.69153189112547*xi**6 + 3.26286892412304*xi**5 - 0.358551489280153*xi**4 - 0.0781921981854246*xi**3 + 0.0152850496426718*xi**2) + 34.7055577739731*I*En*xi**3/(6.0*xi**7 - 7.69153189112547*xi**6 + 3.26286892412304*xi**5 - 0.358551489280153*xi**4 - 0.0781921981854246*xi**3 + 0.0152850496426718*xi**2) - 1.47949789447759*I*En*xi**2/(6.0*xi**7 - 7.69153189112547*xi**6 + 3.26286892412304*xi**5 - 0.358551489280153*xi**4 - 0.0781921981854246*xi**3 + 0.0152850496426718*xi**2) + 18.0*xi**5/(6.0*xi**7 - 7.69153189112547*xi**6 + 3.26286892412304*xi**5 - 0.358551489280153*xi**4 - 0.0781921981854246*xi**3 + 0.0152850496426718*xi**2) - 32.0745956733764*xi**4/(6.0*xi**7 - 7.69153189112547*xi**6 + 3.26286892412304*xi**5 - 0.358551489280153*xi**4 - 0.0781921981854246*xi**3 + 0.0152850496426718*xi**2) + 16.8259046090573*xi**3/(6.0*xi**7 - 7.69153189112547*xi**6 + 3.26286892412304*xi**5 - 0.358551489280153*xi**4 - 0.0781921981854246*xi**3 + 0.0152850496426718*xi**2) - 2.75130893568092*xi**2/(6.0*xi**7 - 7.69153189112547*xi**6 + 3.26286892412304*xi**5 - 0.358551489280153*xi**4 - 0.0781921981854246*xi**3 + 0.0152850496426718*xi**2)\n"
     ]
    }
   ],
   "source": [
    "pl0 = {k1: nk1,\n",
    "       xi1: nxi1,\n",
    "       Lambda: nLambda,\n",
    "       M: nM}\n",
    "\n",
    "ps0 = {k1: nk1,\n",
    "       xi1: nxi1,\n",
    "       l: nl,\n",
    "       s: ns,\n",
    "       Lambda: nLambda,\n",
    "       M: nM}\n",
    "\n",
    "print sym.N(lambda_0(xi).subs(pl0))\n",
    "print sym.expand(sym.N(s_0(xi).subs(ps0)))"
   ]
  },
  {
   "cell_type": "code",
   "execution_count": 18,
   "metadata": {
    "ExecuteTime": {
     "end_time": "2019-01-30T13:36:33.314003Z",
     "start_time": "2019-01-30T13:36:32.884543Z"
    }
   },
   "outputs": [
    {
     "data": {
      "image/png": "[encoded data removed]",
      "text/plain": [
       "<matplotlib.figure.Figure at 0x7fad8421c550>"
      ]
     },
     "metadata": {},
     "output_type": "display_data"
    },
    {
     "data": {
      "image/png": "[encoded data removed]",
      "text/plain": [
       "<matplotlib.figure.Figure at 0x7fad821767d0>"
      ]
     },
     "metadata": {},
     "output_type": "display_data"
    },
    {
     "data": {
      "text/plain": [
       "<sympy.plotting.plot.Plot at 0x7fad84216e90>"
      ]
     },
     "execution_count": 18,
     "metadata": {},
     "output_type": "execute_result"
    }
   ],
   "source": [
    "%matplotlib inline\n",
    "sym.plot(dVf2(r), (r,1.0, 3.5))\n",
    "sym.plot(dVf2(r), (r,-70.0, -60.0))"
   ]
  },
  {
   "cell_type": "markdown",
   "metadata": {},
   "source": [
    "### Initialize AIM solver"
   ]
  },
  {
   "cell_type": "code",
   "execution_count": 19,
   "metadata": {
    "ExecuteTime": {
     "end_time": "2019-01-30T13:36:33.363583Z",
     "start_time": "2019-01-30T13:36:33.317213Z"
    }
   },
   "outputs": [
    {
     "data": {
      "text/latex": [
       "$$           \n",
       "                \\begin{eqnarray}\n",
       "                \\lambda_0 &=& \\frac{2 i En}{\\kappa_{1} \\left(\\xi - \\xi_{1}\\right)} + \\frac{6 \\left(- i En - 3 M \\xi^{2} + \\xi\\right)}{\\Lambda + 6 M \\xi^{3} - 3 \\xi^{2}} \\\\ \n",
       "                      s_0 &=& \\frac{1}{2 \\kappa_{1}^{2} \\xi^{2} \\left(\\xi - \\xi_{1}\\right)^{2} \\left(\\Lambda + 6 M \\xi^{3} - 3 \\xi^{2}\\right)} \\left(2 En^{2} \\xi^{2} \\left(\\Lambda + 6 M \\xi^{3} - 3 \\xi^{2}\\right) - 2 En \\kappa_{1} \\xi^{2} \\left(6 En \\left(\\xi - \\xi_{1}\\right) + i \\Lambda - 3 i \\xi \\left(\\xi \\left(4 M \\xi - 6 M \\xi_{1} - 1\\right) + 2 \\xi_{1}\\right)\\right) + \\kappa_{1}^{2} \\left(\\xi - \\xi_{1}\\right)^{2} \\left(\\Lambda \\left(s^{4} - 5 s^{2} + 4\\right) - 6 \\xi^{2} \\left(- 2 M \\xi \\left(s^{2} - 1\\right) + \\ell^{2} + \\ell\\right)\\right)\\right) \\\\ \n",
       "                \\end{eqnarray}\n",
       "                $$"
      ],
      "text/plain": [
       "<IPython.core.display.Math object>"
      ]
     },
     "metadata": {},
     "output_type": "display_data"
    },
    {
     "name": "stdout",
     "output_type": "stream",
     "text": [
      "CPU times: user 64 ms, sys: 60 ms, total: 124 ms\n",
      "Wall time: 42.3 ms\n"
     ]
    }
   ],
   "source": [
    "%%time\n",
    "# pass lambda_0, s_0 and variable values to aim class\n",
    "black = aim(lambda_0(xi), s_0(xi), pl0, ps0)\n",
    "black.display_l0s0(1)\n",
    "\n",
    "black.parameters(En, xi, nxi0, nmax=101, nstep=10, dprec=500, tol=1e-101)"
   ]
  },
  {
   "cell_type": "markdown",
   "metadata": {},
   "source": [
    "### Calculation necessary coefficients"
   ]
  },
  {
   "cell_type": "code",
   "execution_count": 20,
   "metadata": {
    "ExecuteTime": {
     "end_time": "2019-01-30T13:50:01.488655Z",
     "start_time": "2019-01-30T13:36:33.365699Z"
    }
   },
   "outputs": [
    {
     "name": "stdout",
     "output_type": "stream",
     "text": [
      "CPU times: user 13min 27s, sys: 80 ms, total: 13min 28s\n",
      "Wall time: 13min 28s\n"
     ]
    }
   ],
   "source": [
    "%%time\n",
    "# create coefficients c0 and d0 for improved AIM\n",
    "black.c0()\n",
    "black.d0()"
   ]
  },
  {
   "cell_type": "code",
   "execution_count": 21,
   "metadata": {
    "ExecuteTime": {
     "end_time": "2019-01-30T13:50:39.727879Z",
     "start_time": "2019-01-30T13:50:01.491935Z"
    }
   },
   "outputs": [
    {
     "name": "stdout",
     "output_type": "stream",
     "text": [
      "CPU times: user 38.7 s, sys: 204 ms, total: 38.9 s\n",
      "Wall time: 38.2 s\n"
     ]
    }
   ],
   "source": [
    "%%time\n",
    "# create coefficients c_n and d_n for improved AIM\n",
    "black.cndn()"
   ]
  },
  {
   "cell_type": "markdown",
   "metadata": {},
   "source": [
    "### The solution"
   ]
  },
  {
   "cell_type": "code",
   "execution_count": 22,
   "metadata": {
    "ExecuteTime": {
     "end_time": "2019-01-30T13:51:26.794214Z",
     "start_time": "2019-01-30T13:50:39.731208Z"
    }
   },
   "outputs": [
    {
     "name": "stdout",
     "output_type": "stream",
     "text": [
      "CPU times: user 47 s, sys: 0 ns, total: 47 s\n",
      "Wall time: 47 s\n"
     ]
    }
   ],
   "source": [
    "%%time\n",
    "black.get_arb_roots()"
   ]
  },
  {
   "cell_type": "code",
   "execution_count": 23,
   "metadata": {
    "ExecuteTime": {
     "end_time": "2019-01-30T13:51:26.839816Z",
     "start_time": "2019-01-30T13:51:26.796820Z"
    },
    "code_folding": [],
    "run_control": {
     "marked": false
    }
   },
   "outputs": [
    {
     "name": "stdout",
     "output_type": "stream",
     "text": [
      "1st adn 2nd roots\n",
      "0001 0.11730796806098930940010-0.03045942235292508834532j 0.11945212367048142765302-0.09196543058797702896445j\n",
      "0011 0.11791643390866529683692-0.03021048860725470547317j 0.11724321914811894340680-0.09064094838270408960312j\n",
      "0021 0.11791643390859060658293-0.03021048860717608086635j 0.11724321913976049058803-0.09064094838818965993443j\n",
      "0031 0.11791643390859060658293-0.03021048860717608086635j 0.11724321913976049058803-0.09064094838818965993443j\n",
      "0041 0.11791643390859060658293-0.03021048860717608086635j 0.11724321913976049058803-0.09064094838818965993443j\n",
      "0051 0.11791643390859060658293-0.03021048860717608086635j 0.11724321913976049058803-0.09064094838818965993443j\n",
      "0061 0.11791643390859060658293-0.03021048860717608086635j 0.11724321913976049058803-0.09064094838818965993443j\n",
      "0071 0.11791643390859060658293-0.03021048860717608086635j 0.11724321913976049058803-0.09064094838818965993443j\n",
      "0081 0.11791643390859060658293-0.03021048860717608086635j 0.11724321913976049058803-0.09064094838818965993443j\n",
      "0091 0.11791643390859060658293-0.03021048860717608086635j 0.11724321913976049058803-0.09064094838818965993443j\n",
      "0101 0.11791643390859060658293-0.03021048860717608086635j 0.11724321913976049058803-0.09064094838818965993443j\n",
      "3rd and 4th roots\n",
      "0001 \n",
      "0011 0.11587643580617330851812-0.15110181090947141790970j 0.11377204827739444137347-0.21162076527757003874264j\n",
      "0021 0.11587643499515952461021-0.15110181069862177460905j 0.11377202263301690321473-0.21162078862995778449907j\n",
      "0031 0.11587643499515952461021-0.15110181069862177460905j 0.11377202263301733342615-0.21162078862995808981040j\n",
      "0041 0.11587643499515952461021-0.15110181069862177460905j 0.11377202263301733342615-0.21162078862995808981040j\n",
      "0051 0.11587643499515952461021-0.15110181069862177460905j 0.11377202263301733342615-0.21162078862995808981040j\n",
      "0061 0.11587643499515952461021-0.15110181069862177460905j 0.11377202263301733342615-0.21162078862995808981040j\n",
      "0071 0.11587643499515952461021-0.15110181069862177460905j 0.11377202263301733342615-0.21162078862995808981040j\n",
      "0081 0.11587643499515952461021-0.15110181069862177460905j 0.11377202263301733342615-0.21162078862995808981040j\n",
      "0091 0.11587643499515952461021-0.15110181069862177460905j 0.11377202263301733342615-0.21162078862995808981040j\n",
      "0101 0.11587643499515952461021-0.15110181069862177460905j 0.11377202263301733342615-0.21162078862995808981040j\n",
      "5th and 6th roots\n",
      "0001 \n",
      "0011 0.11085496231141925282948-0.27224064178622497944815j 0.10701107425018607788303-0.33302603487126664072449j\n",
      "0021 0.11085429337397124938125-0.27224084308621770977865j 0.10700040031376069349367-0.33303869502306610028697j\n",
      "0031 0.11085429337400333482666-0.27224084308623119898840j 0.10700040031622218283935-0.33303869502295874172049j\n",
      "0041 0.11085429337400333482666-0.27224084308623119898840j 0.10700040031622218283935-0.33303869502295874172049j\n",
      "0051 0.11085429337400333482666-0.27224084308623119898840j 0.10700040031622218283935-0.33303869502295874172049j\n",
      "0061 0.11085429337400333482666-0.27224084308623119898840j 0.10700040031622218283935-0.33303869502295874172049j\n",
      "0071 0.11085429337400333482666-0.27224084308623119898840j 0.10700040031622218283935-0.33303869502295874172049j\n",
      "0081 0.11085429337400333482666-0.27224084308623119898840j 0.10700040031622218283935-0.33303869502295874172049j\n",
      "0091 0.11085429337400333482666-0.27224084308623119898840j 0.10700040031622218283935-0.33303869502295874172049j\n",
      "0101 0.11085429337400333482666-0.27224084308623119898840j 0.10700040031622218283935-0.33303869502295874172049j\n",
      "7th and 8th roots\n",
      "0001 \n",
      "0011 0.10211559620335654285928-0.39409911822793153302058j 0.09671731959502652409277-0.45502193464312579163078j\n",
      "0021 0.10201199330975506407437-0.39417334865770753404846j 0.09557985513203841321239-0.45603974313299994181037j\n",
      "0031 0.10201199341003973353192-0.39417334861360031617039j 0.09557985865874106534701-0.45603973947043602299445j\n",
      "0041 0.10201199341003973353192-0.39417334861360031617039j 0.09557985865874074615789-0.45603973947043552339409j\n",
      "0051 0.10201199341003973353192-0.39417334861360031617039j 0.09557985865874074615789-0.45603973947043552339409j\n",
      "0061 0.10201199341003973353192-0.39417334861360031617039j 0.09557985865874074615789-0.45603973947043552339409j\n",
      "0071 0.10201199341003973353192-0.39417334861360031617039j 0.09557985865874074615789-0.45603973947043552339409j\n",
      "0081 0.10201199341003973353192-0.39417334861360031617039j 0.09557985865874074615789-0.45603973947043552339409j\n",
      "0091 0.10201199341003973353192-0.39417334861360031617039j 0.09557985865874074615789-0.45603973947043552339409j\n",
      "0101 0.10201199341003973353192-0.39417334861360031617039j 0.09557985865874074615789-0.45603973947043552339409j\n",
      "CPU times: user 32 ms, sys: 8 ms, total: 40 ms\n",
      "Wall time: 37.4 ms\n"
     ]
    }
   ],
   "source": [
    "%%time\n",
    "print(\"1st adn 2nd roots\")\n",
    "black.printAllRoots(showRoots='imag_positive', printFormat=\"{:26.23f}\", col=(0,2))\n",
    "\n",
    "print(\"3rd and 4th roots\")\n",
    "black.printAllRoots(showRoots='imag_positive', printFormat=\"{:26.23f}\", col=(2,4))\n",
    "\n",
    "print(\"5th and 6th roots\")\n",
    "black.printAllRoots(showRoots='imag_positive', printFormat=\"{:26.23f}\", col=(4,6))\n",
    "\n",
    "print(\"7th and 8th roots\")\n",
    "black.printAllRoots(showRoots='imag_positive', printFormat=\"{:26.23f}\", col=(6,8))"
   ]
  },
  {
   "cell_type": "code",
   "execution_count": null,
   "metadata": {},
   "outputs": [],
   "source": []
  }
 ],
 "metadata": {
  "hide_input": false,
  "kernelspec": {
   "display_name": "Python 2",
   "language": "python",
   "name": "python2"
  },
  "language_info": {
   "codemirror_mode": {
    "name": "ipython",
    "version": 2
   },
   "file_extension": ".py",
   "mimetype": "text/x-python",
   "name": "python",
   "nbconvert_exporter": "python",
   "pygments_lexer": "ipython2",
   "version": "2.7.6"
  },
  "toc": {
   "collapse_to_match_collapsible_headings": false,
   "colors": {
    "hover_highlight": "#DAA520",
    "running_highlight": "#FF0000",
    "selected_highlight": "#FFD700"
   },
   "moveMenuLeft": true,
   "nav_menu": {
    "height": "12px",
    "width": "252px"
   },
   "navigate_menu": true,
   "number_sections": true,
   "sideBar": true,
   "threshold": 4,
   "title_cell": "İçindekiler",
   "toc_cell": false,
   "toc_position": {
    "height": "785px",
    "left": "0px",
    "right": "1708px",
    "top": "158px",
    "width": "158px"
   },
   "toc_section_display": "block",
   "toc_window_display": true
  },
  "varInspector": {
   "cols": {
    "lenName": 16,
    "lenType": 16,
    "lenVar": 40
   },
   "kernels_config": {
    "python": {
     "delete_cmd_postfix": "",
     "delete_cmd_prefix": "del ",
     "library": "var_list.py",
     "varRefreshCmd": "print(var_dic_list())"
    },
    "r": {
     "delete_cmd_postfix": ") ",
     "delete_cmd_prefix": "rm(",
     "library": "var_list.r",
     "varRefreshCmd": "cat(var_dic_list()) "
    }
   },
   "types_to_exclude": [
    "module",
    "function",
    "builtin_function_or_method",
    "instance",
    "_Feature"
   ],
   "window_display": false
  }
 },
 "nbformat": 4,
 "nbformat_minor": 1
}
