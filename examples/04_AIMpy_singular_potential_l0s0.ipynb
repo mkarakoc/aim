{
 "cells": [
  {
   "cell_type": "code",
   "execution_count": 1,
   "metadata": {
    "ExecuteTime": {
     "end_time": "2020-12-12T18:56:09.222172Z",
     "start_time": "2020-12-12T18:56:08.718110Z"
    }
   },
   "outputs": [],
   "source": [
    "from IPython.display import Math, display\n",
    "import sympy as sym\n",
    "#import symengine as se\n",
    "sym.init_printing(latex_mode='equation*')"
   ]
  },
  {
   "cell_type": "code",
   "execution_count": 2,
   "metadata": {
    "ExecuteTime": {
     "end_time": "2020-12-12T18:56:09.226964Z",
     "start_time": "2020-12-12T18:56:09.224102Z"
    }
   },
   "outputs": [],
   "source": [
    "r, En = sym.symbols('r, En', real=True, positive=True)"
   ]
  },
  {
   "cell_type": "code",
   "execution_count": 3,
   "metadata": {
    "ExecuteTime": {
     "end_time": "2020-12-12T18:56:09.298012Z",
     "start_time": "2020-12-12T18:56:09.228897Z"
    },
    "run_control": {
     "marked": false
    }
   },
   "outputs": [],
   "source": [
    "_psi_ = sym.Function('psi')(r)\n",
    "_V_ = sym.Function('V')(r)\n",
    "\n",
    "_f_ = sym.Function('f')(r)\n",
    "_g_ = sym.Function('g')(r)"
   ]
  },
  {
   "cell_type": "code",
   "execution_count": 4,
   "metadata": {
    "ExecuteTime": {
     "end_time": "2020-12-12T18:56:09.679094Z",
     "start_time": "2020-12-12T18:56:09.301176Z"
    }
   },
   "outputs": [
    {
     "data": {
      "image/png": "[encoded data removed]",
      "text/latex": [
       "\\begin{equation*}V{\\left(r \\right)} \\psi{\\left(r \\right)} - \\frac{d^{2}}{d r^{2}} \\psi{\\left(r \\right)} = En \\psi{\\left(r \\right)}\\end{equation*}"
      ],
      "text/plain": [
       "              2                \n",
       "             d                 \n",
       "V(r)⋅ψ(r) - ───(ψ(r)) = En⋅ψ(r)\n",
       "              2                \n",
       "            dr                 "
      ]
     },
     "execution_count": 4,
     "metadata": {},
     "output_type": "execute_result"
    }
   ],
   "source": [
    "eq_lhs = -sym.diff(_psi_, r, r) + _V_ * _psi_ \n",
    "eq_rhs =  En*_psi_\n",
    "\n",
    "sym.Eq(eq_lhs, eq_rhs)"
   ]
  },
  {
   "cell_type": "code",
   "execution_count": 5,
   "metadata": {
    "ExecuteTime": {
     "end_time": "2020-12-12T18:56:09.956561Z",
     "start_time": "2020-12-12T18:56:09.680979Z"
    }
   },
   "outputs": [
    {
     "data": {
      "image/png": "[encoded data removed]",
      "text/latex": [
       "\\begin{equation*}V{\\left(r \\right)} f{\\left(r \\right)} g{\\left(r \\right)} - \\frac{d^{2}}{d r^{2}} f{\\left(r \\right)} g{\\left(r \\right)} = En f{\\left(r \\right)} g{\\left(r \\right)}\\end{equation*}"
      ],
      "text/plain": [
       "                   2                          \n",
       "                  d                           \n",
       "V(r)⋅f(r)⋅g(r) - ───(f(r)⋅g(r)) = En⋅f(r)⋅g(r)\n",
       "                   2                          \n",
       "                 dr                           "
      ]
     },
     "execution_count": 5,
     "metadata": {},
     "output_type": "execute_result"
    }
   ],
   "source": [
    "eq_lhs_fg = eq_lhs.subs({_psi_:_f_*_g_})\n",
    "eq_rhs_fg = eq_rhs.subs({_psi_:_f_*_g_})\n",
    "\n",
    "sym.Eq(eq_lhs_fg, eq_rhs_fg)"
   ]
  },
  {
   "cell_type": "code",
   "execution_count": 6,
   "metadata": {
    "ExecuteTime": {
     "end_time": "2020-12-12T18:56:10.259230Z",
     "start_time": "2020-12-12T18:56:09.959711Z"
    }
   },
   "outputs": [
    {
     "data": {
      "image/png": "[encoded data removed]",
      "text/latex": [
       "\\begin{equation*}\\left(En - V{\\left(r \\right)} + \\frac{\\frac{d^{2}}{d r^{2}} f{\\left(r \\right)}}{f{\\left(r \\right)}}\\right) g{\\left(r \\right)} + \\frac{d^{2}}{d r^{2}} g{\\left(r \\right)} + \\frac{2 \\frac{d}{d r} f{\\left(r \\right)} \\frac{d}{d r} g{\\left(r \\right)}}{f{\\left(r \\right)}} = 0\\end{equation*}"
      ],
      "text/plain": [
       "⎛              2      ⎞                                           \n",
       "⎜             d       ⎟                                           \n",
       "⎜            ───(f(r))⎟                      d        d           \n",
       "⎜              2      ⎟          2         2⋅──(f(r))⋅──(g(r))    \n",
       "⎜            dr       ⎟         d            dr       dr          \n",
       "⎜En - V(r) + ─────────⎟⋅g(r) + ───(g(r)) + ─────────────────── = 0\n",
       "⎝               f(r)  ⎠          2                 f(r)           \n",
       "                               dr                                 "
      ]
     },
     "execution_count": 6,
     "metadata": {},
     "output_type": "execute_result"
    }
   ],
   "source": [
    "eq_fg = eq_rhs_fg-eq_lhs_fg.doit()\n",
    "eq_fg = sym.expand(eq_fg/(_f_))\n",
    "eq_fg = sym.collect(eq_fg , _g_)\n",
    "\n",
    "sym.Eq(eq_fg, 0)"
   ]
  },
  {
   "cell_type": "code",
   "execution_count": 7,
   "metadata": {
    "ExecuteTime": {
     "end_time": "2020-12-12T18:56:10.269687Z",
     "start_time": "2020-12-12T18:56:10.261221Z"
    }
   },
   "outputs": [
    {
     "data": {
      "text/latex": [
       "$\\displaystyle \\lambda_0 = - \\frac{2 \\frac{d}{d r} f{\\left(r \\right)}}{f{\\left(r \\right)}}$"
      ],
      "text/plain": [
       "<IPython.core.display.Math object>"
      ]
     },
     "metadata": {},
     "output_type": "display_data"
    },
    {
     "data": {
      "text/latex": [
       "$\\displaystyle s_0 = - En + V{\\left(r \\right)} - \\frac{\\frac{d^{2}}{d r^{2}} f{\\left(r \\right)}}{f{\\left(r \\right)}}$"
      ],
      "text/plain": [
       "<IPython.core.display.Math object>"
      ]
     },
     "metadata": {},
     "output_type": "display_data"
    }
   ],
   "source": [
    "_lambda0_ = -eq_fg.coeff(sym.diff(_g_,r))\n",
    "_s0_ = -eq_fg.coeff(_g_)\n",
    "\n",
    "display(Math(\"\\lambda_0 = %s\"%sym.latex(_lambda0_)))\n",
    "display(Math(\"s_0 = %s\"%sym.latex(_s0_)))"
   ]
  },
  {
   "cell_type": "code",
   "execution_count": 8,
   "metadata": {
    "ExecuteTime": {
     "end_time": "2020-12-12T18:56:10.337843Z",
     "start_time": "2020-12-12T18:56:10.271452Z"
    }
   },
   "outputs": [],
   "source": [
    "# symengine (symbolic) variables for lambda_0 and s_0 \n",
    "r0, m, α, β, λ, γ = \\\n",
    "sym.symbols(\"r0, m, α, β, λ, γ\", real=True, positive=True)"
   ]
  },
  {
   "cell_type": "code",
   "execution_count": 9,
   "metadata": {
    "ExecuteTime": {
     "end_time": "2020-12-12T18:56:16.376801Z",
     "start_time": "2020-12-12T18:56:16.368587Z"
    }
   },
   "outputs": [],
   "source": [
    "f = lambda X: r**((m+1)/2)  * sym.exp(-r**2/2 - sym.sqrt(λ)/(m*r**m))\n",
    "\n",
    "α = 2*(m+1)\n",
    "\n",
    "V = lambda r: r**β + γ*(γ+1)/r**2 + λ/r**α\n"
   ]
  },
  {
   "cell_type": "code",
   "execution_count": 10,
   "metadata": {
    "ExecuteTime": {
     "end_time": "2020-12-12T18:56:17.635294Z",
     "start_time": "2020-12-12T18:56:16.659073Z"
    }
   },
   "outputs": [
    {
     "data": {
      "text/latex": [
       "$\\displaystyle \\lambda_0 = - \\frac{m}{r} + 2 r - \\frac{1}{r} - \\frac{2 r^{- m} \\sqrt{λ}}{r}$"
      ],
      "text/plain": [
       "<IPython.core.display.Math object>"
      ]
     },
     "metadata": {},
     "output_type": "display_data"
    },
    {
     "data": {
      "text/latex": [
       "$\\displaystyle s_0 = - En - \\frac{m^{2}}{4 r^{2}} + m - r^{2} + r^{β} + 2 + 2 r^{- m} \\sqrt{λ} + \\frac{γ^{2}}{r^{2}} + \\frac{γ}{r^{2}} + \\frac{1}{4 r^{2}}$"
      ],
      "text/plain": [
       "<IPython.core.display.Math object>"
      ]
     },
     "metadata": {},
     "output_type": "display_data"
    }
   ],
   "source": [
    "lambda0 = sym.simplify(_lambda0_.subs(_f_, f(r)).doit())\n",
    "s0 = sym.simplify(sym.expand(_s0_.subs({_f_:f(r), _V_:V(r)}).doit()))\n",
    "\n",
    "display(Math(\"\\lambda_0 = %s\"%sym.latex(lambda0)))\n",
    "display(Math(\"s_0 = %s\"%sym.latex(s0)))"
   ]
  },
  {
   "cell_type": "code",
   "execution_count": 11,
   "metadata": {
    "ExecuteTime": {
     "end_time": "2020-12-12T18:56:18.035985Z",
     "start_time": "2020-12-12T18:56:18.024889Z"
    }
   },
   "outputs": [
    {
     "name": "stdout",
     "output_type": "stream",
     "text": [
      "l0 = -m/r + 2*r - 1/r - 2*r**(-m)*se.sqrt(λ)/r\n",
      "s0 = -En - m**2/(4*r**2) + m - r**2 + r**β + 2 + 2*r**(-m)*se.sqrt(λ) + γ**2/r**2 + γ/r**2 + 1/(4*r**2)\n"
     ]
    }
   ],
   "source": [
    "print(\"l0 = {}\".format(lambda0).replace('sqrt', 'se.sqrt'))\n",
    "print(\"s0 = {}\".format(str(s0).replace('sqrt', 'se.sqrt')))"
   ]
  },
  {
   "cell_type": "code",
   "execution_count": 19,
   "metadata": {
    "ExecuteTime": {
     "end_time": "2020-12-12T18:58:15.199976Z",
     "start_time": "2020-12-12T18:58:14.922451Z"
    }
   },
   "outputs": [
    {
     "data": {
      "image/png": "[encoded data removed]",
      "text/latex": [
       "\\begin{equation*}- En + 4 - \\frac{0.117544467966324}{r^{2}}\\end{equation*}"
      ],
      "text/plain": [
       "          0.117544467966324\n",
       "-En + 4 - ─────────────────\n",
       "                   2       \n",
       "                  r        "
      ]
     },
     "execution_count": 19,
     "metadata": {},
     "output_type": "execute_result"
    }
   ],
   "source": [
    "lambda0.subs({m:2, λ:1/10})\n",
    "s0.subs({m:2, λ:1/10, γ:0, β:2})"
   ]
  },
  {
   "cell_type": "code",
   "execution_count": null,
   "metadata": {},
   "outputs": [],
   "source": []
  }
 ],
 "metadata": {
  "hide_input": false,
  "kernelspec": {
   "display_name": "Python 3",
   "language": "python",
   "name": "python3"
  },
  "language_info": {
   "codemirror_mode": {
    "name": "ipython",
    "version": 3
   },
   "file_extension": ".py",
   "mimetype": "text/x-python",
   "name": "python",
   "nbconvert_exporter": "python",
   "pygments_lexer": "ipython3",
   "version": "3.8.5"
  },
  "toc": {
   "base_numbering": 1,
   "nav_menu": {
    "height": "12px",
    "width": "252px"
   },
   "number_sections": true,
   "sideBar": true,
   "skip_h1_title": false,
   "title_cell": "İçindekiler",
   "title_sidebar": "Contents",
   "toc_cell": false,
   "toc_position": {},
   "toc_section_display": "block",
   "toc_window_display": false
  },
  "varInspector": {
   "cols": {
    "lenName": 16,
    "lenType": 16,
    "lenVar": 40
   },
   "kernels_config": {
    "python": {
     "delete_cmd_postfix": "",
     "delete_cmd_prefix": "del ",
     "library": "var_list.py",
     "varRefreshCmd": "print(var_dic_list())"
    },
    "r": {
     "delete_cmd_postfix": ") ",
     "delete_cmd_prefix": "rm(",
     "library": "var_list.r",
     "varRefreshCmd": "cat(var_dic_list()) "
    }
   },
   "types_to_exclude": [
    "module",
    "function",
    "builtin_function_or_method",
    "instance",
    "_Feature"
   ],
   "window_display": false
  }
 },
 "nbformat": 4,
 "nbformat_minor": 2
}
