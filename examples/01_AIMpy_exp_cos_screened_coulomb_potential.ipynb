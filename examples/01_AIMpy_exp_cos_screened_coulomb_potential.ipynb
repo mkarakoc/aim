{
 "cells": [
  {
   "cell_type": "markdown",
   "metadata": {},
   "source": [
    "#  Application of the Asymptotic Iteration Method  to <br> the Exponential Cosine  Screened Coulomb Potential  \n",
    "\n",
    "O. Bayrak, et al. Int. J. Quant. Chem., 107 (2007), p. 1040  \n",
    "http://onlinelibrary.wiley.com/doi/10.1002/qua.21240/epdf"
   ]
  },
  {
   "cell_type": "markdown",
   "metadata": {},
   "source": [
    "Atomic orbitals\n",
    "```\n",
    "1s\n",
    "2s                                                  2p  2p  2p\n",
    "3s                                                  3p  3p  3p\n",
    "4s                              3d  3d  3d  3d  3d  4p  4p  4p\n",
    "5s                              4d  4d  4d  4d  4d  5p  5p  5p\n",
    "6s  4f  4f  4f  4f  4f  4f  4f  5d  5d  5d  5d  5d  6p  6p  6p\n",
    "7s  5f  5f  5f  5f  5f  5f  5f  6d  6d  6d  6d  6d  7p  7p  7p\n",
    "```\n",
    "https://en.wikipedia.org/wiki/Atomic_orbital#Electron_placement_and_the_periodic_table"
   ]
  },
  {
   "cell_type": "markdown",
   "metadata": {},
   "source": [
    "## Import AIM library "
   ]
  },
  {
   "cell_type": "code",
   "execution_count": 1,
   "metadata": {
    "ExecuteTime": {
     "end_time": "2019-03-20T07:53:52.741353Z",
     "start_time": "2019-03-20T07:53:52.521743Z"
    }
   },
   "outputs": [],
   "source": [
    "# Python program to use AIM tools\n",
    "from asymptotic import *"
   ]
  },
  {
   "cell_type": "markdown",
   "metadata": {},
   "source": [
    "## Definitions"
   ]
  },
  {
   "cell_type": "markdown",
   "metadata": {},
   "source": [
    "### Variables"
   ]
  },
  {
   "cell_type": "code",
   "execution_count": 2,
   "metadata": {
    "ExecuteTime": {
     "end_time": "2019-03-20T07:53:52.748225Z",
     "start_time": "2019-03-20T07:53:52.743996Z"
    }
   },
   "outputs": [],
   "source": [
    "En, m, hbar, L, r, r0 = se.symbols(\"En, m, hbar, L, r, r0\")\n",
    "beta, delta, A, A1, A2, A3, A4, A5, A6 = se.symbols(\"beta, delta, A, A1, A2, A3, A4, A5, A6\")"
   ]
  },
  {
   "cell_type": "markdown",
   "metadata": {},
   "source": [
    "### $\\lambda_0$ and $s_0$"
   ]
  },
  {
   "cell_type": "code",
   "execution_count": 3,
   "metadata": {
    "ExecuteTime": {
     "end_time": "2019-03-20T07:53:52.801264Z",
     "start_time": "2019-03-20T07:53:52.750446Z"
    }
   },
   "outputs": [],
   "source": [
    "l0 = 2*(beta - (L+1)/r)\n",
    "s0 = -2*m*En/hbar**2 + A2 - beta**2 + (2*L*beta + 2*beta - A1)/r - A3*r**2 + A4*r**3 - A5*r**4 + A6*r**6"
   ]
  },
  {
   "cell_type": "markdown",
   "metadata": {},
   "source": [
    "## Case: $\\delta=0.01$"
   ]
  },
  {
   "cell_type": "markdown",
   "metadata": {},
   "source": [
    "### s states (1s, 2s, 3s, 4s)"
   ]
  },
  {
   "cell_type": "markdown",
   "metadata": {},
   "source": [
    "#### Numerical values for variables"
   ]
  },
  {
   "cell_type": "code",
   "execution_count": 4,
   "metadata": {
    "ExecuteTime": {
     "end_time": "2019-03-20T07:53:52.867173Z",
     "start_time": "2019-03-20T07:53:52.802496Z"
    }
   },
   "outputs": [],
   "source": [
    "nL = o* 0\n",
    "ndelta = o* 1/100\n",
    "nbeta = o* 6/10\n",
    "\n",
    "nA, nhbar, nm = o* 1, o* 1, o* 1\n",
    "nr0 = o* (nL+1)/nbeta\n",
    "\n",
    "nA1 = 2*nm*nA/nhbar**2\n",
    "nA2 = nA1*ndelta\n",
    "nA3 = nA1*ndelta**3/3\n",
    "nA4 = nA1*ndelta**4/6\n",
    "nA5 = nA1*ndelta**5/30\n",
    "nA6 = nA1*ndelta**7/630\n",
    "\n",
    "pl0 = {beta:nbeta, L:nL}\n",
    "ps0 = {hbar:nhbar, m:nm, delta:ndelta,\n",
    "       beta:nbeta, L:nL, r0:nr0, \n",
    "       A1:nA1, A2:nA2, A3:nA3, \n",
    "       A4:nA4, A5:nA5, A6:nA6}"
   ]
  },
  {
   "cell_type": "markdown",
   "metadata": {},
   "source": [
    "#### Initialize AIM solver"
   ]
  },
  {
   "cell_type": "code",
   "execution_count": 5,
   "metadata": {
    "ExecuteTime": {
     "end_time": "2019-03-20T07:53:53.260481Z",
     "start_time": "2019-03-20T07:53:52.869563Z"
    }
   },
   "outputs": [
    {
     "data": {
      "text/latex": [
       "$$\\text{Values of the parameters of } \\lambda_0:$$"
      ],
      "text/plain": [
       "<IPython.core.display.Math object>"
      ]
     },
     "metadata": {},
     "output_type": "display_data"
    },
    {
     "data": {
      "text/latex": [
       "$$L = 0,~~\\beta = 3/5$$"
      ],
      "text/plain": [
       "<IPython.core.display.Math object>"
      ]
     },
     "metadata": {},
     "output_type": "display_data"
    },
    {
     "data": {
      "text/latex": [
       "$$\\text{Values of the parameters of } s_0:$$"
      ],
      "text/plain": [
       "<IPython.core.display.Math object>"
      ]
     },
     "metadata": {},
     "output_type": "display_data"
    },
    {
     "data": {
      "text/latex": [
       "$$A_{1} = 2,~~A_{2} = 1/50,~~A_{3} = 1/1500000,~~A_{4} = 1/300000000,~~A_{5} = 1/150000000000,~~A_{6} = 1/31500000000000000,~~L = 0,~~\\beta = 3/5,~~\\delta = 1/100,~~\\hbar = 1,~~m = 1,~~r_{0} = 5/3$$"
      ],
      "text/plain": [
       "<IPython.core.display.Math object>"
      ]
     },
     "metadata": {},
     "output_type": "display_data"
    },
    {
     "data": {
      "text/latex": [
       "$$           \n",
       "                \\begin{align}\n",
       "                \\lambda_0 &= \\left[2 \\beta - \\frac{2 \\left(L + 1\\right)}{r} \\right.\\\\ \n",
       "                      s_0 &= \\left[A_{2} - A_{3} r^{2} + A_{4} r^{3} - A_{5} r^{4} + A_{6} r^{6} - \\frac{2 En m}{\\hbar^{2}} - \\beta^{2} + \\frac{- A_{1} + 2 L \\beta + 2 \\beta}{r} \\right.\\\\ \n",
       "                \\lambda_0 &= \\left[\\frac{6}{5} - \\frac{2}{r} \\right.\\\\ \n",
       "                      s_0 &= \\left[- 2.0 En + 3.17460317460317 \\cdot 10^{-17} r^{6} - 6.66666666666667 \\cdot 10^{-12} r^{4} + 3.33333333333333 \\cdot 10^{-9} r^{3} - 6.66666666666667 \\cdot 10^{-7} r^{2} - 0.34 - \\frac{0.8}{r} \\right.\n",
       "                \\end{align}\n",
       "                $$"
      ],
      "text/plain": [
       "<IPython.core.display.Math object>"
      ]
     },
     "metadata": {},
     "output_type": "display_data"
    },
    {
     "name": "stdout",
     "output_type": "stream",
     "text": [
      "CPU times: user 324 ms, sys: 0 ns, total: 324 ms\n",
      "Wall time: 329 ms\n"
     ]
    }
   ],
   "source": [
    "%%time\n",
    "# pass lambda_0, s_0 and variable values to aim class\n",
    "ecsc_d01L0 = aim(l0, s0, pl0, ps0)\n",
    "ecsc_d01L0.display_parameters()\n",
    "ecsc_d01L0.display_l0s0(0)\n",
    "ecsc_d01L0.parameters(En, r, nr0, nmax=101, nstep=10, dprec=500, tol=1e-101)"
   ]
  },
  {
   "cell_type": "markdown",
   "metadata": {},
   "source": [
    "#### Calculation of Taylor series coefficients of $\\lambda_0$ and $s_0$"
   ]
  },
  {
   "cell_type": "code",
   "execution_count": 6,
   "metadata": {
    "ExecuteTime": {
     "end_time": "2019-03-20T07:54:01.554754Z",
     "start_time": "2019-03-20T07:53:53.263946Z"
    }
   },
   "outputs": [
    {
     "name": "stdout",
     "output_type": "stream",
     "text": [
      "CPU times: user 8.31 s, sys: 124 ms, total: 8.43 s\n",
      "Wall time: 8.29 s\n"
     ]
    }
   ],
   "source": [
    "%%time\n",
    "# create coefficients for improved AIM\n",
    "ecsc_d01L0.c0()\n",
    "ecsc_d01L0.d0()\n",
    "ecsc_d01L0.cndn()"
   ]
  },
  {
   "cell_type": "markdown",
   "metadata": {},
   "source": [
    "#### The solution"
   ]
  },
  {
   "cell_type": "code",
   "execution_count": 7,
   "metadata": {
    "ExecuteTime": {
     "end_time": "2019-03-20T07:54:02.797230Z",
     "start_time": "2019-03-20T07:54:01.557240Z"
    }
   },
   "outputs": [
    {
     "name": "stdout",
     "output_type": "stream",
     "text": [
      "0001   -0.41000091823559637   -0.05000091823559637\n",
      "0011   -0.49000037958698144   -0.11501346016998136   -0.04477587270206144\n",
      "0021   -0.49000098757668462   -0.11501346103707918   -0.04561890498780328   -0.02097517821422200\n",
      "0031   -0.49000098757842334   -0.11501346103707918   -0.04561907951647280   -0.02143487905736983\n",
      "0041   -0.49000098757842334   -0.11501346103707918   -0.04561907952477892   -0.02143745890259142\n",
      "0051   -0.49000098757842334   -0.11501346103707918   -0.04561907952477914   -0.02143746430420317\n",
      "0061   -0.49000098757842334   -0.11501346103707918   -0.04561907952477914   -0.02143746431125275\n",
      "0071   -0.49000098757842334   -0.11501346103707918   -0.04561907952477914   -0.02143746431125992\n",
      "0081   -0.49000098757842334   -0.11501346103707918   -0.04561907952477914   -0.02143746431125993\n",
      "0091   -0.49000098757842334   -0.11501346103707918   -0.04561907952477914   -0.02143746431125993\n",
      "0101   -0.49000098757842334   -0.11501346103707918   -0.04561907952477914   -0.02143746431125993\n",
      "CPU times: user 1.24 s, sys: 7.91 ms, total: 1.25 s\n",
      "Wall time: 1.24 s\n"
     ]
    }
   ],
   "source": [
    "%%time\n",
    "ecsc_d01L0.get_arb_roots(showRoots='-r', printFormat=\"{:22.17f}\")"
   ]
  },
  {
   "cell_type": "markdown",
   "metadata": {},
   "source": [
    "### p states"
   ]
  },
  {
   "cell_type": "code",
   "execution_count": 8,
   "metadata": {
    "ExecuteTime": {
     "end_time": "2019-03-20T07:54:12.406329Z",
     "start_time": "2019-03-20T07:54:02.800749Z"
    }
   },
   "outputs": [
    {
     "data": {
      "text/latex": [
       "$$\\text{Values of the parameters of } \\lambda_0:$$"
      ],
      "text/plain": [
       "<IPython.core.display.Math object>"
      ]
     },
     "metadata": {},
     "output_type": "display_data"
    },
    {
     "data": {
      "text/latex": [
       "$$L = 1,~~\\beta = 3/5$$"
      ],
      "text/plain": [
       "<IPython.core.display.Math object>"
      ]
     },
     "metadata": {},
     "output_type": "display_data"
    },
    {
     "data": {
      "text/latex": [
       "$$\\text{Values of the parameters of } s_0:$$"
      ],
      "text/plain": [
       "<IPython.core.display.Math object>"
      ]
     },
     "metadata": {},
     "output_type": "display_data"
    },
    {
     "data": {
      "text/latex": [
       "$$A_{1} = 2,~~A_{2} = 1/50,~~A_{3} = 1/1500000,~~A_{4} = 1/300000000,~~A_{5} = 1/150000000000,~~A_{6} = 1/31500000000000000,~~L = 1,~~\\beta = 3/5,~~\\delta = 1/100,~~\\hbar = 1,~~m = 1,~~r_{0} = 10/3$$"
      ],
      "text/plain": [
       "<IPython.core.display.Math object>"
      ]
     },
     "metadata": {},
     "output_type": "display_data"
    },
    {
     "data": {
      "text/latex": [
       "$$           \n",
       "                \\begin{align}\n",
       "                \\lambda_0 &= \\left[2 \\beta - \\frac{2 \\left(L + 1\\right)}{r} \\right.\\\\ \n",
       "                      s_0 &= \\left[A_{2} - A_{3} r^{2} + A_{4} r^{3} - A_{5} r^{4} + A_{6} r^{6} - \\frac{2 En m}{\\hbar^{2}} - \\beta^{2} + \\frac{- A_{1} + 2 L \\beta + 2 \\beta}{r} \\right.\\\\ \n",
       "                \\lambda_0 &= \\left[\\frac{6}{5} - \\frac{4}{r} \\right.\\\\ \n",
       "                      s_0 &= \\left[- 2.0 En + 3.17460317460317 \\cdot 10^{-17} r^{6} - 6.66666666666667 \\cdot 10^{-12} r^{4} + 3.33333333333333 \\cdot 10^{-9} r^{3} - 6.66666666666667 \\cdot 10^{-7} r^{2} - 0.34 + \\frac{0.4}{r} \\right.\n",
       "                \\end{align}\n",
       "                $$"
      ],
      "text/plain": [
       "<IPython.core.display.Math object>"
      ]
     },
     "metadata": {},
     "output_type": "display_data"
    },
    {
     "name": "stdout",
     "output_type": "stream",
     "text": [
      "0001   -0.11000364238680950\n",
      "0011   -0.11500965662760865   -0.04546075647450115   -0.01101192290578550\n",
      "0021   -0.11500965664051346   -0.04561102327445309   -0.02127544794802216   -0.00561719116227536\n",
      "0031   -0.11500965664051346   -0.04561104130934575   -0.02142377036776990   -0.01010666321039609\n",
      "0041   -0.11500965664051346   -0.04561104131004139   -0.02142437284232580   -0.01039681200617683\n",
      "0051   -0.11500965664051346   -0.04561104131004141   -0.02142437391168194   -0.01040571761673410\n",
      "0061   -0.11500965664051346   -0.04561104131004141   -0.02142437391295913   -0.01040586084957102\n",
      "0071   -0.11500965664051346   -0.04561104131004141   -0.02142437391296036   -0.01040586244329663\n",
      "0081   -0.11500965664051346   -0.04561104131004141   -0.02142437391296036   -0.01040586245769149\n",
      "0091   -0.11500965664051346   -0.04561104131004141   -0.02142437391296036   -0.01040586245780550\n",
      "0101   -0.11500965664051346   -0.04561104131004141   -0.02142437391296036   -0.01040586245780632\n",
      "CPU times: user 9.62 s, sys: 96.5 ms, total: 9.72 s\n",
      "Wall time: 9.59 s\n"
     ]
    }
   ],
   "source": [
    "%%time\n",
    "\n",
    "nL = o* 1\n",
    "nr0 = o* (nL+1)/nbeta\n",
    "\n",
    "pl0 = {beta:nbeta, L:nL}\n",
    "ps0 = {hbar:nhbar, m:nm, delta:ndelta,\n",
    "       beta:nbeta, L:nL, r0:nr0, \n",
    "       A1:nA1, A2:nA2, A3:nA3, \n",
    "       A4:nA4, A5:nA5, A6:nA6}\n",
    "\n",
    "# pass lambda_0, s_0 and variable values to aim class\n",
    "ecsc_d01L1 = aim(l0, s0, pl0, ps0)\n",
    "ecsc_d01L1.display_parameters()\n",
    "ecsc_d01L1.display_l0s0(0)\n",
    "ecsc_d01L1.parameters(En, r, nr0, nmax=101, nstep=10, dprec=500, tol=1e-101)\n",
    "\n",
    "# create coefficients for improved AIM\n",
    "ecsc_d01L1.c0()\n",
    "ecsc_d01L1.d0()\n",
    "ecsc_d01L1.cndn()\n",
    "\n",
    "# the solution\n",
    "ecsc_d01L1.get_arb_roots(showRoots='-r', printFormat=\"{:22.17f}\")"
   ]
  },
  {
   "cell_type": "markdown",
   "metadata": {},
   "source": [
    "### d states"
   ]
  },
  {
   "cell_type": "code",
   "execution_count": 9,
   "metadata": {
    "ExecuteTime": {
     "end_time": "2019-03-20T07:54:22.076493Z",
     "start_time": "2019-03-20T07:54:12.408673Z"
    }
   },
   "outputs": [
    {
     "data": {
      "text/latex": [
       "$$\\text{Values of the parameters of } \\lambda_0:$$"
      ],
      "text/plain": [
       "<IPython.core.display.Math object>"
      ]
     },
     "metadata": {},
     "output_type": "display_data"
    },
    {
     "data": {
      "text/latex": [
       "$$L = 2,~~\\beta = 3/5$$"
      ],
      "text/plain": [
       "<IPython.core.display.Math object>"
      ]
     },
     "metadata": {},
     "output_type": "display_data"
    },
    {
     "data": {
      "text/latex": [
       "$$\\text{Values of the parameters of } s_0:$$"
      ],
      "text/plain": [
       "<IPython.core.display.Math object>"
      ]
     },
     "metadata": {},
     "output_type": "display_data"
    },
    {
     "data": {
      "text/latex": [
       "$$A_{1} = 2,~~A_{2} = 1/50,~~A_{3} = 1/1500000,~~A_{4} = 1/300000000,~~A_{5} = 1/150000000000,~~A_{6} = 1/31500000000000000,~~L = 2,~~\\beta = 3/5,~~\\delta = 1/100,~~\\hbar = 1,~~m = 1,~~r_{0} = 5$$"
      ],
      "text/plain": [
       "<IPython.core.display.Math object>"
      ]
     },
     "metadata": {},
     "output_type": "display_data"
    },
    {
     "data": {
      "text/latex": [
       "$$           \n",
       "                \\begin{align}\n",
       "                \\lambda_0 &= \\left[2 \\beta - \\frac{2 \\left(L + 1\\right)}{r} \\right.\\\\ \n",
       "                      s_0 &= \\left[A_{2} - A_{3} r^{2} + A_{4} r^{3} - A_{5} r^{4} + A_{6} r^{6} - \\frac{2 En m}{\\hbar^{2}} - \\beta^{2} + \\frac{- A_{1} + 2 L \\beta + 2 \\beta}{r} \\right.\\\\ \n",
       "                \\lambda_0 &= \\left[\\frac{6}{5} - \\frac{6}{r} \\right.\\\\ \n",
       "                      s_0 &= \\left[- 2.0 En + 3.17460317460317 \\cdot 10^{-17} r^{6} - 6.66666666666667 \\cdot 10^{-12} r^{4} + 3.33333333333333 \\cdot 10^{-9} r^{3} - 6.66666666666667 \\cdot 10^{-7} r^{2} - 0.34 + \\frac{1.6}{r} \\right.\n",
       "                \\end{align}\n",
       "                $$"
      ],
      "text/plain": [
       "<IPython.core.display.Math object>"
      ]
     },
     "metadata": {},
     "output_type": "display_data"
    },
    {
     "name": "stdout",
     "output_type": "stream",
     "text": [
      "0001   -0.01000812708308532\n",
      "0011   -0.04558241644527422   -0.01816500193930418\n",
      "0021   -0.04559483852680523   -0.02136665148838376   -0.00819678662537585\n",
      "0031   -0.04559483937852977   -0.02139788811597951   -0.01025969975575201   -0.00216772367318591\n",
      "0041   -0.04559483937855599   -0.02139797707204586   -0.01036636193501593   -0.00427317620770694\n",
      "0051   -0.04559483937855599   -0.02139797720424042   -0.01036891441427879   -0.00459473205070927\n",
      "0061   -0.04559483937855599   -0.02139797720438322   -0.01036894955761832   -0.00462738386218829\n",
      "0071   -0.04559483937855599   -0.02139797720438335   -0.01036894991481571   -0.00462956792124952\n",
      "0081   -0.04559483937855599   -0.02139797720438335   -0.01036894991786297   -0.00462967663816009\n",
      "0091   -0.04559483937855599   -0.02139797720438335   -0.01036894991788618   -0.00462968115031828\n",
      "0101   -0.04559483937855599   -0.02139797720438335   -0.01036894991788634   -0.00462968131623520\n",
      "CPU times: user 9.69 s, sys: 121 ms, total: 9.81 s\n",
      "Wall time: 9.66 s\n"
     ]
    }
   ],
   "source": [
    "%%time\n",
    "\n",
    "nL = o* 2\n",
    "nr0 = o* (nL+1)/nbeta\n",
    "\n",
    "pl0 = {beta:nbeta, L:nL}\n",
    "ps0 = {hbar:nhbar, m:nm, delta:ndelta,\n",
    "       beta:nbeta, L:nL, r0:nr0, \n",
    "       A1:nA1, A2:nA2, A3:nA3, \n",
    "       A4:nA4, A5:nA5, A6:nA6}\n",
    "\n",
    "# pass lambda_0, s_0 and variable values to aim class\n",
    "ecsc_d01L2 = aim(l0, s0, pl0, ps0)\n",
    "ecsc_d01L2.display_parameters()\n",
    "ecsc_d01L2.display_l0s0(0)\n",
    "ecsc_d01L2.parameters(En, r, nr0, nmax=101, nstep=10, dprec=500, tol=1e-101)\n",
    "\n",
    "# create coefficients for improved AIM\n",
    "ecsc_d01L2.c0()\n",
    "ecsc_d01L2.d0()\n",
    "ecsc_d01L2.cndn()\n",
    "\n",
    "# the solution\n",
    "ecsc_d01L2.get_arb_roots(showRoots='-r', printFormat=\"{:22.17f}\")"
   ]
  },
  {
   "cell_type": "markdown",
   "metadata": {},
   "source": [
    "### f states"
   ]
  },
  {
   "cell_type": "code",
   "execution_count": 10,
   "metadata": {
    "ExecuteTime": {
     "end_time": "2019-03-20T07:54:31.890348Z",
     "start_time": "2019-03-20T07:54:22.079936Z"
    }
   },
   "outputs": [
    {
     "data": {
      "text/latex": [
       "$$\\text{Values of the parameters of } \\lambda_0:$$"
      ],
      "text/plain": [
       "<IPython.core.display.Math object>"
      ]
     },
     "metadata": {},
     "output_type": "display_data"
    },
    {
     "data": {
      "text/latex": [
       "$$L = 3,~~\\beta = 3/5$$"
      ],
      "text/plain": [
       "<IPython.core.display.Math object>"
      ]
     },
     "metadata": {},
     "output_type": "display_data"
    },
    {
     "data": {
      "text/latex": [
       "$$\\text{Values of the parameters of } s_0:$$"
      ],
      "text/plain": [
       "<IPython.core.display.Math object>"
      ]
     },
     "metadata": {},
     "output_type": "display_data"
    },
    {
     "data": {
      "text/latex": [
       "$$A_{1} = 2,~~A_{2} = 1/50,~~A_{3} = 1/1500000,~~A_{4} = 1/300000000,~~A_{5} = 1/150000000000,~~A_{6} = 1/31500000000000000,~~L = 3,~~\\beta = 3/5,~~\\delta = 1/100,~~\\hbar = 1,~~m = 1,~~r_{0} = 20/3$$"
      ],
      "text/plain": [
       "<IPython.core.display.Math object>"
      ]
     },
     "metadata": {},
     "output_type": "display_data"
    },
    {
     "data": {
      "text/latex": [
       "$$           \n",
       "                \\begin{align}\n",
       "                \\lambda_0 &= \\left[2 \\beta - \\frac{2 \\left(L + 1\\right)}{r} \\right.\\\\ \n",
       "                      s_0 &= \\left[A_{2} - A_{3} r^{2} + A_{4} r^{3} - A_{5} r^{4} + A_{6} r^{6} - \\frac{2 En m}{\\hbar^{2}} - \\beta^{2} + \\frac{- A_{1} + 2 L \\beta + 2 \\beta}{r} \\right.\\\\ \n",
       "                \\lambda_0 &= \\left[\\frac{6}{5} - \\frac{8}{r} \\right.\\\\ \n",
       "                      s_0 &= \\left[- 2.0 En + 3.17460317460317 \\cdot 10^{-17} r^{6} - 6.66666666666667 \\cdot 10^{-12} r^{4} + 3.33333333333333 \\cdot 10^{-9} r^{3} - 6.66666666666667 \\cdot 10^{-7} r^{2} - 0.34 + \\frac{2.8}{r} \\right.\n",
       "                \\end{align}\n",
       "                $$"
      ],
      "text/plain": [
       "<IPython.core.display.Math object>"
      ]
     },
     "metadata": {},
     "output_type": "display_data"
    },
    {
     "name": "stdout",
     "output_type": "stream",
     "text": [
      "0001  Nothing to show!\n",
      "0011   -0.02077200253556297\n",
      "0021   -0.02135467236523013   -0.00957500213995898\n",
      "0031   -0.02135783380652421   -0.01028569059089555   -0.00334739408749906\n",
      "0041   -0.02135784009580731   -0.01031225453216720   -0.00440837905404961\n",
      "0051   -0.02135784010358477   -0.01031273691205531   -0.00454647389449411   -0.00086451571864272\n",
      "0061   -0.02135784010359230   -0.01031274256592940   -0.00455811983232284   -0.00129390738655260\n",
      "0071   -0.02135784010359231   -0.01031274261811484   -0.00455879373763631   -0.00139839649909669\n",
      "0081   -0.02135784010359231   -0.01031274261853315   -0.00455882434905366   -0.00141922509253084\n",
      "0091   -0.02135784010359231   -0.01031274261853620   -0.00455882554873184   -0.00142264645964549\n",
      "0101   -0.02135784010359231   -0.01031274261853622   -0.00455882559117361   -0.00142312608631052\n",
      "CPU times: user 9.82 s, sys: 92.7 ms, total: 9.91 s\n",
      "Wall time: 9.8 s\n"
     ]
    }
   ],
   "source": [
    "%%time\n",
    "\n",
    "nL = o* 3\n",
    "nr0 = o* (nL+1)/nbeta\n",
    "\n",
    "pl0 = {beta:nbeta, L:nL}\n",
    "ps0 = {hbar:nhbar, m:nm, delta:ndelta,\n",
    "       beta:nbeta, L:nL, r0:nr0, \n",
    "       A1:nA1, A2:nA2, A3:nA3, \n",
    "       A4:nA4, A5:nA5, A6:nA6}\n",
    "\n",
    "# pass lambda_0, s_0 and variable values to aim class\n",
    "ecsc_d01L3 = aim(l0, s0, pl0, ps0)\n",
    "ecsc_d01L3.display_parameters()\n",
    "ecsc_d01L3.display_l0s0(0)\n",
    "ecsc_d01L3.parameters(En, r, nr0, nmax=101, nstep=10, dprec=500, tol=1e-101)\n",
    "\n",
    "# create coefficients for improved AIM\n",
    "ecsc_d01L3.c0()\n",
    "ecsc_d01L3.d0()\n",
    "ecsc_d01L3.cndn()\n",
    "\n",
    "# the solution\n",
    "ecsc_d01L3.get_arb_roots(showRoots='-r', printFormat=\"{:22.17f}\")"
   ]
  },
  {
   "cell_type": "markdown",
   "metadata": {},
   "source": [
    "## Case: $\\delta=0.02$"
   ]
  },
  {
   "cell_type": "markdown",
   "metadata": {},
   "source": [
    "### s states (1s, 2s, 3s, 4s)"
   ]
  },
  {
   "cell_type": "code",
   "execution_count": 11,
   "metadata": {
    "ExecuteTime": {
     "end_time": "2019-03-20T07:54:41.510907Z",
     "start_time": "2019-03-20T07:54:31.893836Z"
    }
   },
   "outputs": [
    {
     "data": {
      "text/latex": [
       "$$\\text{Values of the parameters of } \\lambda_0:$$"
      ],
      "text/plain": [
       "<IPython.core.display.Math object>"
      ]
     },
     "metadata": {},
     "output_type": "display_data"
    },
    {
     "data": {
      "text/latex": [
       "$$L = 0,~~\\beta = 3/5$$"
      ],
      "text/plain": [
       "<IPython.core.display.Math object>"
      ]
     },
     "metadata": {},
     "output_type": "display_data"
    },
    {
     "data": {
      "text/latex": [
       "$$\\text{Values of the parameters of } s_0:$$"
      ],
      "text/plain": [
       "<IPython.core.display.Math object>"
      ]
     },
     "metadata": {},
     "output_type": "display_data"
    },
    {
     "data": {
      "text/latex": [
       "$$A_{1} = 2,~~A_{2} = 1/25,~~A_{3} = 1/187500,~~A_{4} = 1/18750000,~~A_{5} = 1/4687500000,~~A_{6} = 1/246093750000000,~~L = 0,~~\\beta = 3/5,~~\\delta = 1/50,~~\\hbar = 1,~~m = 1,~~r_{0} = 5/3$$"
      ],
      "text/plain": [
       "<IPython.core.display.Math object>"
      ]
     },
     "metadata": {},
     "output_type": "display_data"
    },
    {
     "data": {
      "text/latex": [
       "$$           \n",
       "                \\begin{align}\n",
       "                \\lambda_0 &= \\left[2 \\beta - \\frac{2 \\left(L + 1\\right)}{r} \\right.\\\\ \n",
       "                      s_0 &= \\left[A_{2} - A_{3} r^{2} + A_{4} r^{3} - A_{5} r^{4} + A_{6} r^{6} - \\frac{2 En m}{\\hbar^{2}} - \\beta^{2} + \\frac{- A_{1} + 2 L \\beta + 2 \\beta}{r} \\right.\\\\ \n",
       "                \\lambda_0 &= \\left[\\frac{6}{5} - \\frac{2}{r} \\right.\\\\ \n",
       "                      s_0 &= \\left[- 2.0 En + 4.06349206349206 \\cdot 10^{-15} r^{6} - 2.13333333333333 \\cdot 10^{-10} r^{4} + 5.33333333333333 \\cdot 10^{-8} r^{3} - 5.33333333333333 \\cdot 10^{-6} r^{2} - 0.32 - \\frac{0.8}{r} \\right.\n",
       "                \\end{align}\n",
       "                $$"
      ],
      "text/plain": [
       "<IPython.core.display.Math object>"
      ]
     },
     "metadata": {},
     "output_type": "display_data"
    },
    {
     "name": "stdout",
     "output_type": "stream",
     "text": [
      "0001   -0.40000728477361900   -0.04000728477361900\n",
      "0011   -0.48000720213597595   -0.10510358590976973   -0.03509891443195363\n",
      "0021   -0.48000780260776634   -0.10510358765875565   -0.03602478896382142   -0.01194280694189140\n",
      "0031   -0.48000780260928268   -0.10510358765875565   -0.03602509984759363   -0.01256447634099594\n",
      "0041   -0.48000780260928268   -0.10510358765875565   -0.03602509988067940   -0.01257147988622072\n",
      "0051   -0.48000780260928268   -0.10510358765875565   -0.03602509988068154   -0.01257151911691028\n",
      "0061   -0.48000780260928268   -0.10510358765875565   -0.03602509988068154   -0.01257151926161659\n",
      "0071   -0.48000780260928268   -0.10510358765875565   -0.03602509988068154   -0.01257151926183478\n",
      "0081   -0.48000780260928268   -0.10510358765875565   -0.03602509988068154   -0.01257151926183413\n",
      "0091   -0.48000780260928268   -0.10510358765875565   -0.03602509988068154   -0.01257151926183413\n",
      "0101   -0.48000780260928268   -0.10510358765875565   -0.03602509988068154   -0.01257151926183413\n",
      "CPU times: user 9.66 s, sys: 81.1 ms, total: 9.74 s\n",
      "Wall time: 9.6 s\n"
     ]
    }
   ],
   "source": [
    "%%time\n",
    "\n",
    "nL = o* 0\n",
    "ndelta = o* 2/100\n",
    "nbeta = o* 6/10\n",
    "\n",
    "nA, nhbar, nm = o* 1, o* 1, o* 1\n",
    "nr0 = o* (nL+1)/nbeta\n",
    "\n",
    "nA1 = 2*nm*nA/nhbar**2\n",
    "nA2 = nA1*ndelta\n",
    "nA3 = nA1*ndelta**3/3\n",
    "nA4 = nA1*ndelta**4/6\n",
    "nA5 = nA1*ndelta**5/30\n",
    "nA6 = nA1*ndelta**7/630\n",
    "\n",
    "pl0 = {beta:nbeta, L:nL}\n",
    "ps0 = {hbar:nhbar, m:nm, delta:ndelta,\n",
    "       beta:nbeta, L:nL, r0:nr0, \n",
    "       A1:nA1, A2:nA2, A3:nA3, \n",
    "       A4:nA4, A5:nA5, A6:nA6}\n",
    "\n",
    "# pass lambda_0, s_0 and variable values to aim class\n",
    "ecsc_d02L0 = aim(l0, s0, pl0, ps0)\n",
    "ecsc_d02L0.display_parameters()\n",
    "ecsc_d02L0.display_l0s0(0)\n",
    "ecsc_d02L0.parameters(En, r, nr0, nmax=101, nstep=10, dprec=500, tol=1e-101)\n",
    "\n",
    "# create coefficients for improved AIM\n",
    "ecsc_d02L0.c0()\n",
    "ecsc_d02L0.d0()\n",
    "ecsc_d02L0.cndn()\n",
    "\n",
    "# the solution\n",
    "ecsc_d02L0.get_arb_roots(showRoots='-r', printFormat=\"{:22.17f}\")"
   ]
  },
  {
   "cell_type": "markdown",
   "metadata": {},
   "source": [
    "### p states"
   ]
  },
  {
   "cell_type": "code",
   "execution_count": 12,
   "metadata": {
    "ExecuteTime": {
     "end_time": "2019-03-20T07:54:51.145344Z",
     "start_time": "2019-03-20T07:54:41.514368Z"
    }
   },
   "outputs": [
    {
     "data": {
      "text/latex": [
       "$$\\text{Values of the parameters of } \\lambda_0:$$"
      ],
      "text/plain": [
       "<IPython.core.display.Math object>"
      ]
     },
     "metadata": {},
     "output_type": "display_data"
    },
    {
     "data": {
      "text/latex": [
       "$$L = 1,~~\\beta = 3/5$$"
      ],
      "text/plain": [
       "<IPython.core.display.Math object>"
      ]
     },
     "metadata": {},
     "output_type": "display_data"
    },
    {
     "data": {
      "text/latex": [
       "$$\\text{Values of the parameters of } s_0:$$"
      ],
      "text/plain": [
       "<IPython.core.display.Math object>"
      ]
     },
     "metadata": {},
     "output_type": "display_data"
    },
    {
     "data": {
      "text/latex": [
       "$$A_{1} = 2,~~A_{2} = 1/25,~~A_{3} = 1/187500,~~A_{4} = 1/18750000,~~A_{5} = 1/4687500000,~~A_{6} = 1/246093750000000,~~L = 1,~~\\beta = 3/5,~~\\delta = 1/50,~~\\hbar = 1,~~m = 1,~~r_{0} = 10/3$$"
      ],
      "text/plain": [
       "<IPython.core.display.Math object>"
      ]
     },
     "metadata": {},
     "output_type": "display_data"
    },
    {
     "data": {
      "text/latex": [
       "$$           \n",
       "                \\begin{align}\n",
       "                \\lambda_0 &= \\left[2 \\beta - \\frac{2 \\left(L + 1\\right)}{r} \\right.\\\\ \n",
       "                      s_0 &= \\left[A_{2} - A_{3} r^{2} + A_{4} r^{3} - A_{5} r^{4} + A_{6} r^{6} - \\frac{2 En m}{\\hbar^{2}} - \\beta^{2} + \\frac{- A_{1} + 2 L \\beta + 2 \\beta}{r} \\right.\\\\ \n",
       "                \\lambda_0 &= \\left[\\frac{6}{5} - \\frac{4}{r} \\right.\\\\ \n",
       "                      s_0 &= \\left[- 2.0 En + 4.06349206349206 \\cdot 10^{-15} r^{6} - 2.13333333333333 \\cdot 10^{-10} r^{4} + 5.33333333333333 \\cdot 10^{-8} r^{3} - 5.33333333333333 \\cdot 10^{-6} r^{2} - 0.32 + \\frac{0.4}{r} \\right.\n",
       "                \\end{align}\n",
       "                $$"
      ],
      "text/plain": [
       "<IPython.core.display.Math object>"
      ]
     },
     "metadata": {},
     "output_type": "display_data"
    },
    {
     "name": "stdout",
     "output_type": "stream",
     "text": [
      "0001   -0.10002865514124589\n",
      "0011   -0.10507463825879602   -0.03579323072069503   -0.00135873745798540\n",
      "0021   -0.10507463828958558   -0.03596756334639395   -0.01225902996251863\n",
      "0031   -0.10507463828958558   -0.03596759972366887   -0.01248354482989450   -0.00210668416486153\n",
      "0041   -0.10507463828958558   -0.03596759972693064   -0.01248553165606787   -0.00270082644766119\n",
      "0051   -0.10507463828958558   -0.03596759972693082   -0.01248554149185499   -0.00275221212022203\n",
      "0061   -0.10507463828958558   -0.03596759972693082   -0.01248554152458209   -0.00275531078500647\n",
      "0071   -0.10507463828958558   -0.03596759972693082   -0.01248554152461376   -0.00275541503324959\n",
      "0081   -0.10507463828958558   -0.03596759972693082   -0.01248554152461363   -0.00275541466208793\n",
      "0091   -0.10507463828958558   -0.03596759972693082   -0.01248554152461363   -0.00275541467712627\n",
      "0101   -0.10507463828958558   -0.03596759972693082   -0.01248554152461363   -0.00275541467455309\n",
      "CPU times: user 9.68 s, sys: 88.9 ms, total: 9.77 s\n",
      "Wall time: 9.62 s\n"
     ]
    }
   ],
   "source": [
    "%%time\n",
    "\n",
    "nL = o* 1\n",
    "nr0 = o* (nL+1)/nbeta\n",
    "\n",
    "pl0 = {beta:nbeta, L:nL}\n",
    "ps0 = {hbar:nhbar, m:nm, delta:ndelta,\n",
    "       beta:nbeta, L:nL, r0:nr0, \n",
    "       A1:nA1, A2:nA2, A3:nA3, \n",
    "       A4:nA4, A5:nA5, A6:nA6}\n",
    "\n",
    "# pass lambda_0, s_0 and variable values to aim class\n",
    "ecsc_d02L1 = aim(l0, s0, pl0, ps0)\n",
    "ecsc_d02L1.display_parameters()\n",
    "ecsc_d02L1.display_l0s0(0)\n",
    "ecsc_d02L1.parameters(En, r, nr0, nmax=101, nstep=10, dprec=500, tol=1e-101)\n",
    "\n",
    "# create coefficients for improved AIM\n",
    "ecsc_d02L1.c0()\n",
    "ecsc_d02L1.d0()\n",
    "ecsc_d02L1.cndn()\n",
    "\n",
    "# the solution\n",
    "ecsc_d02L1.get_arb_roots(showRoots='-r', printFormat=\"{:22.17f}\")"
   ]
  },
  {
   "cell_type": "markdown",
   "metadata": {},
   "source": [
    "### d states"
   ]
  },
  {
   "cell_type": "code",
   "execution_count": 13,
   "metadata": {
    "ExecuteTime": {
     "end_time": "2019-03-20T07:55:00.853226Z",
     "start_time": "2019-03-20T07:54:51.148936Z"
    }
   },
   "outputs": [
    {
     "data": {
      "text/latex": [
       "$$\\text{Values of the parameters of } \\lambda_0:$$"
      ],
      "text/plain": [
       "<IPython.core.display.Math object>"
      ]
     },
     "metadata": {},
     "output_type": "display_data"
    },
    {
     "data": {
      "text/latex": [
       "$$L = 2,~~\\beta = 3/5$$"
      ],
      "text/plain": [
       "<IPython.core.display.Math object>"
      ]
     },
     "metadata": {},
     "output_type": "display_data"
    },
    {
     "data": {
      "text/latex": [
       "$$\\text{Values of the parameters of } s_0:$$"
      ],
      "text/plain": [
       "<IPython.core.display.Math object>"
      ]
     },
     "metadata": {},
     "output_type": "display_data"
    },
    {
     "data": {
      "text/latex": [
       "$$A_{1} = 2,~~A_{2} = 1/25,~~A_{3} = 1/187500,~~A_{4} = 1/18750000,~~A_{5} = 1/4687500000,~~A_{6} = 1/246093750000000,~~L = 2,~~\\beta = 3/5,~~\\delta = 1/50,~~\\hbar = 1,~~m = 1,~~r_{0} = 5$$"
      ],
      "text/plain": [
       "<IPython.core.display.Math object>"
      ]
     },
     "metadata": {},
     "output_type": "display_data"
    },
    {
     "data": {
      "text/latex": [
       "$$           \n",
       "                \\begin{align}\n",
       "                \\lambda_0 &= \\left[2 \\beta - \\frac{2 \\left(L + 1\\right)}{r} \\right.\\\\ \n",
       "                      s_0 &= \\left[A_{2} - A_{3} r^{2} + A_{4} r^{3} - A_{5} r^{4} + A_{6} r^{6} - \\frac{2 En m}{\\hbar^{2}} - \\beta^{2} + \\frac{- A_{1} + 2 L \\beta + 2 \\beta}{r} \\right.\\\\ \n",
       "                \\lambda_0 &= \\left[\\frac{6}{5} - \\frac{6}{r} \\right.\\\\ \n",
       "                      s_0 &= \\left[- 2.0 En + 4.06349206349206 \\cdot 10^{-15} r^{6} - 2.13333333333333 \\cdot 10^{-10} r^{4} + 5.33333333333333 \\cdot 10^{-8} r^{3} - 5.33333333333333 \\cdot 10^{-6} r^{2} - 0.32 + \\frac{1.6}{r} \\right.\n",
       "                \\end{align}\n",
       "                $$"
      ],
      "text/plain": [
       "<IPython.core.display.Math object>"
      ]
     },
     "metadata": {},
     "output_type": "display_data"
    },
    {
     "name": "stdout",
     "output_type": "stream",
     "text": [
      "0001   -0.00006339996825397\n",
      "0011   -0.03583507674588912   -0.00868897746921428\n",
      "0021   -0.03585065879061275   -0.01225429060076955\n",
      "0031   -0.03585066078101929   -0.01230975836654534   -0.00223472639055766\n",
      "0041   -0.03585066078116743   -0.01231013226301407   -0.00251494090101816\n",
      "0051   -0.03585066078116744   -0.01231013388871822   -0.00253671995721804\n",
      "0061   -0.03585066078116744   -0.01231013389352322   -0.00253791125947495\n",
      "0071   -0.03585066078116744   -0.01231013389352513   -0.00253794497576190\n",
      "0081   -0.03585066078116744   -0.01231013389352512   -0.00253794462146054\n",
      "0091   -0.03585066078116744   -0.01231013389352512   -0.00253794463712601\n",
      "0101   -0.03585066078116744   -0.01231013389352512   -0.00253794463582518\n",
      "CPU times: user 9.74 s, sys: 101 ms, total: 9.84 s\n",
      "Wall time: 9.69 s\n"
     ]
    }
   ],
   "source": [
    "%%time\n",
    "\n",
    "nL = o* 2\n",
    "nr0 = o* (nL+1)/nbeta\n",
    "\n",
    "pl0 = {beta:nbeta, L:nL}\n",
    "ps0 = {hbar:nhbar, m:nm, delta:ndelta,\n",
    "       beta:nbeta, L:nL, r0:nr0, \n",
    "       A1:nA1, A2:nA2, A3:nA3, \n",
    "       A4:nA4, A5:nA5, A6:nA6}\n",
    "\n",
    "# pass lambda_0, s_0 and variable values to aim class\n",
    "ecsc_d02L2 = aim(l0, s0, pl0, ps0)\n",
    "ecsc_d02L2.display_parameters()\n",
    "ecsc_d02L2.display_l0s0(0)\n",
    "ecsc_d02L2.parameters(En, r, nr0, nmax=101, nstep=10, dprec=500, tol=1e-101)\n",
    "\n",
    "# create coefficients for improved AIM\n",
    "ecsc_d02L2.c0()\n",
    "ecsc_d02L2.d0()\n",
    "ecsc_d02L2.cndn()\n",
    "\n",
    "# the solution\n",
    "ecsc_d02L2.get_arb_roots(showRoots='-r', printFormat=\"{:22.17f}\")"
   ]
  },
  {
   "cell_type": "markdown",
   "metadata": {},
   "source": [
    "### f states"
   ]
  },
  {
   "cell_type": "code",
   "execution_count": 14,
   "metadata": {
    "ExecuteTime": {
     "end_time": "2019-03-20T07:55:10.621661Z",
     "start_time": "2019-03-20T07:55:00.856760Z"
    }
   },
   "outputs": [
    {
     "data": {
      "text/latex": [
       "$$\\text{Values of the parameters of } \\lambda_0:$$"
      ],
      "text/plain": [
       "<IPython.core.display.Math object>"
      ]
     },
     "metadata": {},
     "output_type": "display_data"
    },
    {
     "data": {
      "text/latex": [
       "$$L = 3,~~\\beta = 3/5$$"
      ],
      "text/plain": [
       "<IPython.core.display.Math object>"
      ]
     },
     "metadata": {},
     "output_type": "display_data"
    },
    {
     "data": {
      "text/latex": [
       "$$\\text{Values of the parameters of } s_0:$$"
      ],
      "text/plain": [
       "<IPython.core.display.Math object>"
      ]
     },
     "metadata": {},
     "output_type": "display_data"
    },
    {
     "data": {
      "text/latex": [
       "$$A_{1} = 2,~~A_{2} = 1/25,~~A_{3} = 1/187500,~~A_{4} = 1/18750000,~~A_{5} = 1/4687500000,~~A_{6} = 1/246093750000000,~~L = 3,~~\\beta = 3/5,~~\\delta = 1/50,~~\\hbar = 1,~~m = 1,~~r_{0} = 20/3$$"
      ],
      "text/plain": [
       "<IPython.core.display.Math object>"
      ]
     },
     "metadata": {},
     "output_type": "display_data"
    },
    {
     "data": {
      "text/latex": [
       "$$           \n",
       "                \\begin{align}\n",
       "                \\lambda_0 &= \\left[2 \\beta - \\frac{2 \\left(L + 1\\right)}{r} \\right.\\\\ \n",
       "                      s_0 &= \\left[A_{2} - A_{3} r^{2} + A_{4} r^{3} - A_{5} r^{4} + A_{6} r^{6} - \\frac{2 En m}{\\hbar^{2}} - \\beta^{2} + \\frac{- A_{1} + 2 L \\beta + 2 \\beta}{r} \\right.\\\\ \n",
       "                \\lambda_0 &= \\left[\\frac{6}{5} - \\frac{8}{r} \\right.\\\\ \n",
       "                      s_0 &= \\left[- 2.0 En + 4.06349206349206 \\cdot 10^{-15} r^{6} - 2.13333333333333 \\cdot 10^{-10} r^{4} + 5.33333333333333 \\cdot 10^{-8} r^{3} - 5.33333333333333 \\cdot 10^{-6} r^{2} - 0.32 + \\frac{2.8}{r} \\right.\n",
       "                \\end{align}\n",
       "                $$"
      ],
      "text/plain": [
       "<IPython.core.display.Math object>"
      ]
     },
     "metadata": {},
     "output_type": "display_data"
    },
    {
     "name": "stdout",
     "output_type": "stream",
     "text": [
      "0001  Nothing to show!\n",
      "0011   -0.01132519188794263\n",
      "0021   -0.01203112762565044   -0.00097325854057537\n",
      "0031   -0.01203810015165261   -0.00208826388479452\n",
      "0041   -0.01203813587478997   -0.00218898426014016\n",
      "0051   -0.01203813601144682   -0.00219590266554967\n",
      "0061   -0.01203813601180090   -0.00219624824558798\n",
      "0071   -0.01203813601180083   -0.00219625629775609\n",
      "0081   -0.01203813601180083   -0.00219625615937815\n",
      "0091   -0.01203813601180083   -0.00219625616550524\n",
      "0101   -0.01203813601180083   -0.00219625616520729\n",
      "CPU times: user 9.78 s, sys: 88.6 ms, total: 9.87 s\n",
      "Wall time: 9.75 s\n"
     ]
    }
   ],
   "source": [
    "%%time\n",
    "\n",
    "nL = o* 3\n",
    "nr0 = o* (nL+1)/nbeta\n",
    "\n",
    "pl0 = {beta:nbeta, L:nL}\n",
    "ps0 = {hbar:nhbar, m:nm, delta:ndelta,\n",
    "       beta:nbeta, L:nL, r0:nr0, \n",
    "       A1:nA1, A2:nA2, A3:nA3, \n",
    "       A4:nA4, A5:nA5, A6:nA6}\n",
    "\n",
    "# pass lambda_0, s_0 and variable values to aim class\n",
    "ecsc_d02L3 = aim(l0, s0, pl0, ps0)\n",
    "ecsc_d02L3.display_parameters()\n",
    "ecsc_d02L3.display_l0s0(0)\n",
    "ecsc_d02L3.parameters(En, r, nr0, nmax=101, nstep=10, dprec=500, tol=1e-101)\n",
    "\n",
    "# create coefficients for improved AIM\n",
    "ecsc_d02L3.c0()\n",
    "ecsc_d02L3.d0()\n",
    "ecsc_d02L3.cndn()\n",
    "\n",
    "# the solution\n",
    "ecsc_d02L3.get_arb_roots(showRoots='-r', printFormat=\"{:22.17f}\")"
   ]
  },
  {
   "cell_type": "markdown",
   "metadata": {},
   "source": [
    "## Case: $\\delta=0.06$"
   ]
  },
  {
   "cell_type": "markdown",
   "metadata": {},
   "source": [
    "### s states (1s, 2s, 3s)"
   ]
  },
  {
   "cell_type": "code",
   "execution_count": 15,
   "metadata": {
    "ExecuteTime": {
     "end_time": "2019-03-20T07:55:20.087272Z",
     "start_time": "2019-03-20T07:55:10.625088Z"
    }
   },
   "outputs": [
    {
     "data": {
      "text/latex": [
       "$$\\text{Values of the parameters of } \\lambda_0:$$"
      ],
      "text/plain": [
       "<IPython.core.display.Math object>"
      ]
     },
     "metadata": {},
     "output_type": "display_data"
    },
    {
     "data": {
      "text/latex": [
       "$$L = 0,~~\\beta = 3/5$$"
      ],
      "text/plain": [
       "<IPython.core.display.Math object>"
      ]
     },
     "metadata": {},
     "output_type": "display_data"
    },
    {
     "data": {
      "text/latex": [
       "$$\\text{Values of the parameters of } s_0:$$"
      ],
      "text/plain": [
       "<IPython.core.display.Math object>"
      ]
     },
     "metadata": {},
     "output_type": "display_data"
    },
    {
     "data": {
      "text/latex": [
       "$$A_{1} = 2,~~A_{2} = 3/25,~~A_{3} = 9/62500,~~A_{4} = 27/6250000,~~A_{5} = 81/1562500000,~~A_{6} = 243/27343750000000,~~L = 0,~~\\beta = 3/5,~~\\delta = 3/50,~~\\hbar = 1,~~m = 1,~~r_{0} = 5/3$$"
      ],
      "text/plain": [
       "<IPython.core.display.Math object>"
      ]
     },
     "metadata": {},
     "output_type": "display_data"
    },
    {
     "data": {
      "text/latex": [
       "$$           \n",
       "                \\begin{align}\n",
       "                \\lambda_0 &= \\left[2 \\beta - \\frac{2 \\left(L + 1\\right)}{r} \\right.\\\\ \n",
       "                      s_0 &= \\left[A_{2} - A_{3} r^{2} + A_{4} r^{3} - A_{5} r^{4} + A_{6} r^{6} - \\frac{2 En m}{\\hbar^{2}} - \\beta^{2} + \\frac{- A_{1} + 2 L \\beta + 2 \\beta}{r} \\right.\\\\ \n",
       "                \\lambda_0 &= \\left[\\frac{6}{5} - \\frac{2}{r} \\right.\\\\ \n",
       "                      s_0 &= \\left[- 2.0 En + 8.88685714285714 \\cdot 10^{-12} r^{6} - 5.184 \\cdot 10^{-8} r^{4} + 4.32 \\cdot 10^{-6} r^{3} - 0.000144 r^{2} - 0.24 - \\frac{0.8}{r} \\right.\n",
       "                \\end{align}\n",
       "                $$"
      ],
      "text/plain": [
       "<IPython.core.display.Math object>"
      ]
     },
     "metadata": {},
     "output_type": "display_data"
    },
    {
     "name": "stdout",
     "output_type": "stream",
     "text": [
      "0001   -0.36019019990476190   -0.00019019990476190\n",
      "0011   -0.44020020067474932   -0.06742077904740583   -0.00235883382553319\n",
      "0021   -0.44020051019603707   -0.06742085544919782   -0.00534645930707232\n",
      "0031   -0.44020051019805567   -0.06742085544937821   -0.00534742751186176\n",
      "0041   -0.44020051019805581   -0.06742085544937025   -0.00534914623749730\n",
      "0051   -0.44020051019805581   -0.06742085544937028   -0.00534927749258486\n",
      "0061   -0.44020051019805581   -0.06742085544937030   -0.00534926008962952\n",
      "0071   -0.44020051019805581   -0.06742085544937030   -0.00534924157448826\n",
      "0081   -0.44020051019805581   -0.06742085544937030   -0.00534923034085046\n",
      "0091   -0.44020051019805581   -0.06742085544937030   -0.00534922365520876\n",
      "0101   -0.44020051019805581   -0.06742085544937030   -0.00534921957213672\n",
      "CPU times: user 9.51 s, sys: 76.9 ms, total: 9.58 s\n",
      "Wall time: 9.45 s\n"
     ]
    }
   ],
   "source": [
    "%%time\n",
    "\n",
    "nL = o* 0\n",
    "ndelta = o* 6/100\n",
    "nbeta = o* 6/10\n",
    "\n",
    "nA, nhbar, nm = o* 1, o* 1, o* 1\n",
    "nr0 = o* (nL+1)/nbeta\n",
    "\n",
    "nA1 = 2*nm*nA/nhbar**2\n",
    "nA2 = nA1*ndelta\n",
    "nA3 = nA1*ndelta**3/3\n",
    "nA4 = nA1*ndelta**4/6\n",
    "nA5 = nA1*ndelta**5/30\n",
    "nA6 = nA1*ndelta**7/630\n",
    "\n",
    "pl0 = {beta:nbeta, L:nL}\n",
    "ps0 = {hbar:nhbar, m:nm, delta:ndelta,\n",
    "       beta:nbeta, L:nL, r0:nr0, \n",
    "       A1:nA1, A2:nA2, A3:nA3, \n",
    "       A4:nA4, A5:nA5, A6:nA6}\n",
    "\n",
    "# pass lambda_0, s_0 and variable values to aim class\n",
    "ecsc_d06L0 = aim(l0, s0, pl0, ps0)\n",
    "ecsc_d06L0.display_parameters()\n",
    "ecsc_d06L0.display_l0s0(0)\n",
    "ecsc_d06L0.parameters(En, r, nr0, nmax=101, nstep=10, dprec=500, tol=1e-101)\n",
    "\n",
    "# create coefficients for improved AIM\n",
    "ecsc_d06L0.c0()\n",
    "ecsc_d06L0.d0()\n",
    "ecsc_d06L0.cndn()\n",
    "\n",
    "# the solution\n",
    "ecsc_d06L0.get_arb_roots(showRoots='-r', printFormat=\"{:22.17f}\")"
   ]
  },
  {
   "cell_type": "markdown",
   "metadata": {},
   "source": [
    "### p states"
   ]
  },
  {
   "cell_type": "code",
   "execution_count": 16,
   "metadata": {
    "ExecuteTime": {
     "end_time": "2019-03-20T07:55:29.581346Z",
     "start_time": "2019-03-20T07:55:20.090658Z"
    },
    "scrolled": false
   },
   "outputs": [
    {
     "data": {
      "text/latex": [
       "$$\\text{Values of the parameters of } \\lambda_0:$$"
      ],
      "text/plain": [
       "<IPython.core.display.Math object>"
      ]
     },
     "metadata": {},
     "output_type": "display_data"
    },
    {
     "data": {
      "text/latex": [
       "$$L = 1,~~\\beta = 3/5$$"
      ],
      "text/plain": [
       "<IPython.core.display.Math object>"
      ]
     },
     "metadata": {},
     "output_type": "display_data"
    },
    {
     "data": {
      "text/latex": [
       "$$\\text{Values of the parameters of } s_0:$$"
      ],
      "text/plain": [
       "<IPython.core.display.Math object>"
      ]
     },
     "metadata": {},
     "output_type": "display_data"
    },
    {
     "data": {
      "text/latex": [
       "$$A_{1} = 2,~~A_{2} = 3/25,~~A_{3} = 9/62500,~~A_{4} = 27/6250000,~~A_{5} = 81/1562500000,~~A_{6} = 243/27343750000000,~~L = 1,~~\\beta = 3/5,~~\\delta = 3/50,~~\\hbar = 1,~~m = 1,~~r_{0} = 10/3$$"
      ],
      "text/plain": [
       "<IPython.core.display.Math object>"
      ]
     },
     "metadata": {},
     "output_type": "display_data"
    },
    {
     "data": {
      "text/latex": [
       "$$           \n",
       "                \\begin{align}\n",
       "                \\lambda_0 &= \\left[2 \\beta - \\frac{2 \\left(L + 1\\right)}{r} \\right.\\\\ \n",
       "                      s_0 &= \\left[A_{2} - A_{3} r^{2} + A_{4} r^{3} - A_{5} r^{4} + A_{6} r^{6} - \\frac{2 En m}{\\hbar^{2}} - \\beta^{2} + \\frac{- A_{1} + 2 L \\beta + 2 \\beta}{r} \\right.\\\\ \n",
       "                \\lambda_0 &= \\left[\\frac{6}{5} - \\frac{4}{r} \\right.\\\\ \n",
       "                      s_0 &= \\left[- 2.0 En + 8.88685714285714 \\cdot 10^{-12} r^{6} - 5.184 \\cdot 10^{-8} r^{4} + 4.32 \\cdot 10^{-6} r^{3} - 0.000144 r^{2} - 0.24 + \\frac{0.4}{r} \\right.\n",
       "                \\end{align}\n",
       "                $$"
      ],
      "text/plain": [
       "<IPython.core.display.Math object>"
      ]
     },
     "metadata": {},
     "output_type": "display_data"
    },
    {
     "name": "stdout",
     "output_type": "stream",
     "text": [
      "0001   -0.06072319390476190\n",
      "0011   -0.06677739399642305   -0.00337878003854047\n",
      "0021   -0.06677739500471407   -0.00438839669293946\n",
      "0031   -0.06677739500504026   -0.00438200224405734\n",
      "0041   -0.06677739500503967   -0.00438257211597066\n",
      "0051   -0.06677739500503965   -0.00438272846521701\n",
      "0061   -0.06677739500503965   -0.00438276794658649\n",
      "0071   -0.06677739500503965   -0.00438278026748762\n",
      "0081   -0.06677739500503965   -0.00438278558504989\n",
      "0091   -0.06677739500503965   -0.00438278881793095\n",
      "0101   -0.06677739500503965   -0.00438279124909896\n",
      "CPU times: user 9.5 s, sys: 142 ms, total: 9.64 s\n",
      "Wall time: 9.48 s\n"
     ]
    }
   ],
   "source": [
    "%%time\n",
    "\n",
    "nL = o* 1\n",
    "nr0 = o* (nL+1)/nbeta\n",
    "\n",
    "pl0 = {beta:nbeta, L:nL}\n",
    "ps0 = {hbar:nhbar, m:nm, delta:ndelta,\n",
    "       beta:nbeta, L:nL, r0:nr0, \n",
    "       A1:nA1, A2:nA2, A3:nA3, \n",
    "       A4:nA4, A5:nA5, A6:nA6}\n",
    "\n",
    "# pass lambda_0, s_0 and variable values to aim class\n",
    "ecsc_d06L1 = aim(l0, s0, pl0, ps0)\n",
    "ecsc_d06L1.display_parameters()\n",
    "ecsc_d06L1.display_l0s0(0)\n",
    "ecsc_d06L1.parameters(En, r, nr0, nmax=101, nstep=10, dprec=500, tol=1e-101)\n",
    "\n",
    "# create coefficients for improved AIM\n",
    "ecsc_d06L1.c0()\n",
    "ecsc_d06L1.d0()\n",
    "ecsc_d06L1.cndn()\n",
    "\n",
    "# the solution\n",
    "ecsc_d06L1.get_arb_roots(showRoots='-r', printFormat=\"{:22.17f}\")"
   ]
  },
  {
   "cell_type": "markdown",
   "metadata": {},
   "source": [
    "### d states"
   ]
  },
  {
   "cell_type": "code",
   "execution_count": 17,
   "metadata": {
    "ExecuteTime": {
     "end_time": "2019-03-20T07:55:39.175988Z",
     "start_time": "2019-03-20T07:55:29.585790Z"
    }
   },
   "outputs": [
    {
     "data": {
      "text/latex": [
       "$$\\text{Values of the parameters of } \\lambda_0:$$"
      ],
      "text/plain": [
       "<IPython.core.display.Math object>"
      ]
     },
     "metadata": {},
     "output_type": "display_data"
    },
    {
     "data": {
      "text/latex": [
       "$$L = 2,~~\\beta = 3/5$$"
      ],
      "text/plain": [
       "<IPython.core.display.Math object>"
      ]
     },
     "metadata": {},
     "output_type": "display_data"
    },
    {
     "data": {
      "text/latex": [
       "$$\\text{Values of the parameters of } s_0:$$"
      ],
      "text/plain": [
       "<IPython.core.display.Math object>"
      ]
     },
     "metadata": {},
     "output_type": "display_data"
    },
    {
     "data": {
      "text/latex": [
       "$$A_{1} = 2,~~A_{2} = 3/25,~~A_{3} = 9/62500,~~A_{4} = 27/6250000,~~A_{5} = 81/1562500000,~~A_{6} = 243/27343750000000,~~L = 2,~~\\beta = 3/5,~~\\delta = 3/50,~~\\hbar = 1,~~m = 1,~~r_{0} = 5$$"
      ],
      "text/plain": [
       "<IPython.core.display.Math object>"
      ]
     },
     "metadata": {},
     "output_type": "display_data"
    },
    {
     "data": {
      "text/latex": [
       "$$           \n",
       "                \\begin{align}\n",
       "                \\lambda_0 &= \\left[2 \\beta - \\frac{2 \\left(L + 1\\right)}{r} \\right.\\\\ \n",
       "                      s_0 &= \\left[A_{2} - A_{3} r^{2} + A_{4} r^{3} - A_{5} r^{4} + A_{6} r^{6} - \\frac{2 En m}{\\hbar^{2}} - \\beta^{2} + \\frac{- A_{1} + 2 L \\beta + 2 \\beta}{r} \\right.\\\\ \n",
       "                \\lambda_0 &= \\left[\\frac{6}{5} - \\frac{6}{r} \\right.\\\\ \n",
       "                      s_0 &= \\left[- 2.0 En + 8.88685714285714 \\cdot 10^{-12} r^{6} - 5.184 \\cdot 10^{-8} r^{4} + 4.32 \\cdot 10^{-6} r^{3} - 0.000144 r^{2} - 0.24 + \\frac{1.6}{r} \\right.\n",
       "                \\end{align}\n",
       "                $$"
      ],
      "text/plain": [
       "<IPython.core.display.Math object>"
      ]
     },
     "metadata": {},
     "output_type": "display_data"
    },
    {
     "name": "stdout",
     "output_type": "stream",
     "text": [
      "0001  Nothing to show!\n",
      "0011   -0.00203308283873400\n",
      "0021   -0.00226463207592012\n",
      "0031   -0.00226185506260991\n",
      "0041   -0.00226181491889181\n",
      "0051   -0.00226184451860893\n",
      "0061   -0.00226185853338824\n",
      "0071   -0.00226186473712927\n",
      "0081   -0.00226186760243209\n",
      "0091   -0.00226186882886936\n",
      "0101   -0.00226186913428076\n",
      "CPU times: user 9.61 s, sys: 121 ms, total: 9.73 s\n",
      "Wall time: 9.58 s\n"
     ]
    }
   ],
   "source": [
    "%%time\n",
    "\n",
    "nL = o* 2\n",
    "nr0 = o* (nL+1)/nbeta\n",
    "\n",
    "pl0 = {beta:nbeta, L:nL}\n",
    "ps0 = {hbar:nhbar, m:nm, delta:ndelta,\n",
    "       beta:nbeta, L:nL, r0:nr0, \n",
    "       A1:nA1, A2:nA2, A3:nA3, \n",
    "       A4:nA4, A5:nA5, A6:nA6}\n",
    "\n",
    "# pass lambda_0, s_0 and variable values to aim class\n",
    "ecsc_d06L2 = aim(l0, s0, pl0, ps0)\n",
    "ecsc_d06L2.display_parameters()\n",
    "ecsc_d06L2.display_l0s0(0)\n",
    "ecsc_d06L2.parameters(En, r, nr0, nmax=101, nstep=10, dprec=500, tol=1e-101)\n",
    "\n",
    "# create coefficients for improved AIM\n",
    "ecsc_d06L2.c0()\n",
    "ecsc_d06L2.d0()\n",
    "ecsc_d06L2.cndn()\n",
    "\n",
    "# the solution\n",
    "ecsc_d06L2.get_arb_roots(showRoots='-r', printFormat=\"{:22.17f}\")"
   ]
  },
  {
   "cell_type": "markdown",
   "metadata": {},
   "source": [
    "### f states"
   ]
  },
  {
   "cell_type": "code",
   "execution_count": 18,
   "metadata": {
    "ExecuteTime": {
     "end_time": "2019-03-20T07:55:48.945266Z",
     "start_time": "2019-03-20T07:55:39.179331Z"
    }
   },
   "outputs": [
    {
     "data": {
      "text/latex": [
       "$$\\text{Values of the parameters of } \\lambda_0:$$"
      ],
      "text/plain": [
       "<IPython.core.display.Math object>"
      ]
     },
     "metadata": {},
     "output_type": "display_data"
    },
    {
     "data": {
      "text/latex": [
       "$$L = 3,~~\\beta = 3/5$$"
      ],
      "text/plain": [
       "<IPython.core.display.Math object>"
      ]
     },
     "metadata": {},
     "output_type": "display_data"
    },
    {
     "data": {
      "text/latex": [
       "$$\\text{Values of the parameters of } s_0:$$"
      ],
      "text/plain": [
       "<IPython.core.display.Math object>"
      ]
     },
     "metadata": {},
     "output_type": "display_data"
    },
    {
     "data": {
      "text/latex": [
       "$$A_{1} = 2,~~A_{2} = 3/25,~~A_{3} = 9/62500,~~A_{4} = 27/6250000,~~A_{5} = 81/1562500000,~~A_{6} = 243/27343750000000,~~L = 3,~~\\beta = 3/5,~~\\delta = 3/50,~~\\hbar = 1,~~m = 1,~~r_{0} = 20/3$$"
      ],
      "text/plain": [
       "<IPython.core.display.Math object>"
      ]
     },
     "metadata": {},
     "output_type": "display_data"
    },
    {
     "data": {
      "text/latex": [
       "$$           \n",
       "                \\begin{align}\n",
       "                \\lambda_0 &= \\left[2 \\beta - \\frac{2 \\left(L + 1\\right)}{r} \\right.\\\\ \n",
       "                      s_0 &= \\left[A_{2} - A_{3} r^{2} + A_{4} r^{3} - A_{5} r^{4} + A_{6} r^{6} - \\frac{2 En m}{\\hbar^{2}} - \\beta^{2} + \\frac{- A_{1} + 2 L \\beta + 2 \\beta}{r} \\right.\\\\ \n",
       "                \\lambda_0 &= \\left[\\frac{6}{5} - \\frac{8}{r} \\right.\\\\ \n",
       "                      s_0 &= \\left[- 2.0 En + 8.88685714285714 \\cdot 10^{-12} r^{6} - 5.184 \\cdot 10^{-8} r^{4} + 4.32 \\cdot 10^{-6} r^{3} - 0.000144 r^{2} - 0.24 + \\frac{2.8}{r} \\right.\n",
       "                \\end{align}\n",
       "                $$"
      ],
      "text/plain": [
       "<IPython.core.display.Math object>"
      ]
     },
     "metadata": {},
     "output_type": "display_data"
    },
    {
     "name": "stdout",
     "output_type": "stream",
     "text": [
      "0001  Nothing to show!\n",
      "0011  Nothing to show!\n",
      "0021  Nothing to show!\n",
      "0031  Nothing to show!\n",
      "0041  Nothing to show!\n",
      "0051  Nothing to show!\n",
      "0061  Nothing to show!\n",
      "0071  Nothing to show!\n",
      "0081  Nothing to show!\n",
      "0091  Nothing to show!\n",
      "0101  Nothing to show!\n",
      "CPU times: user 9.84 s, sys: 106 ms, total: 9.95 s\n",
      "Wall time: 9.75 s\n"
     ]
    }
   ],
   "source": [
    "%%time\n",
    "\n",
    "nL = o* 3\n",
    "nr0 = o* (nL+1)/nbeta\n",
    "\n",
    "pl0 = {beta:nbeta, L:nL}\n",
    "ps0 = {hbar:nhbar, m:nm, delta:ndelta,\n",
    "       beta:nbeta, L:nL, r0:nr0, \n",
    "       A1:nA1, A2:nA2, A3:nA3, \n",
    "       A4:nA4, A5:nA5, A6:nA6}\n",
    "\n",
    "# pass lambda_0, s_0 and variable values to aim class\n",
    "ecsc_d06L3 = aim(l0, s0, pl0, ps0)\n",
    "ecsc_d06L3.display_parameters()\n",
    "ecsc_d06L3.display_l0s0(0)\n",
    "ecsc_d06L3.parameters(En, r, nr0, nmax=101, nstep=10, dprec=500, tol=1e-101)\n",
    "\n",
    "# create coefficients for improved AIM\n",
    "ecsc_d06L3.c0()\n",
    "ecsc_d06L3.d0()\n",
    "ecsc_d06L3.cndn()\n",
    "\n",
    "# the solution\n",
    "ecsc_d06L3.get_arb_roots(showRoots='-r', printFormat=\"{:22.17f}\")"
   ]
  },
  {
   "cell_type": "markdown",
   "metadata": {},
   "source": [
    "## Case: $\\delta=0.1$"
   ]
  },
  {
   "cell_type": "markdown",
   "metadata": {},
   "source": [
    "### s states (1s, 2s)"
   ]
  },
  {
   "cell_type": "code",
   "execution_count": 19,
   "metadata": {
    "ExecuteTime": {
     "end_time": "2019-03-20T07:55:58.432906Z",
     "start_time": "2019-03-20T07:55:48.948753Z"
    }
   },
   "outputs": [
    {
     "data": {
      "text/latex": [
       "$$\\text{Values of the parameters of } \\lambda_0:$$"
      ],
      "text/plain": [
       "<IPython.core.display.Math object>"
      ]
     },
     "metadata": {},
     "output_type": "display_data"
    },
    {
     "data": {
      "text/latex": [
       "$$L = 0,~~\\beta = 3/5$$"
      ],
      "text/plain": [
       "<IPython.core.display.Math object>"
      ]
     },
     "metadata": {},
     "output_type": "display_data"
    },
    {
     "data": {
      "text/latex": [
       "$$\\text{Values of the parameters of } s_0:$$"
      ],
      "text/plain": [
       "<IPython.core.display.Math object>"
      ]
     },
     "metadata": {},
     "output_type": "display_data"
    },
    {
     "data": {
      "text/latex": [
       "$$A_{1} = 2,~~A_{2} = 1/5,~~A_{3} = 1/1500,~~A_{4} = 1/30000,~~A_{5} = 1/1500000,~~A_{6} = 1/3150000000,~~L = 0,~~\\beta = 3/5,~~\\delta = 1/10,~~\\hbar = 1,~~m = 1,~~r_{0} = 5/3$$"
      ],
      "text/plain": [
       "<IPython.core.display.Math object>"
      ]
     },
     "metadata": {},
     "output_type": "display_data"
    },
    {
     "data": {
      "text/latex": [
       "$$           \n",
       "                \\begin{align}\n",
       "                \\lambda_0 &= \\left[2 \\beta - \\frac{2 \\left(L + 1\\right)}{r} \\right.\\\\ \n",
       "                      s_0 &= \\left[A_{2} - A_{3} r^{2} + A_{4} r^{3} - A_{5} r^{4} + A_{6} r^{6} - \\frac{2 En m}{\\hbar^{2}} - \\beta^{2} + \\frac{- A_{1} + 2 L \\beta + 2 \\beta}{r} \\right.\\\\ \n",
       "                \\lambda_0 &= \\left[\\frac{6}{5} - \\frac{2}{r} \\right.\\\\ \n",
       "                      s_0 &= \\left[- 2.0 En + 3.17460317460317 \\cdot 10^{-10} r^{6} - 6.66666666666667 \\cdot 10^{-7} r^{4} + 3.33333333333333 \\cdot 10^{-5} r^{3} - 0.000666666666666667 r^{2} - 0.16 - \\frac{0.8}{r} \\right.\n",
       "                \\end{align}\n",
       "                $$"
      ],
      "text/plain": [
       "<IPython.core.display.Math object>"
      ]
     },
     "metadata": {},
     "output_type": "display_data"
    },
    {
     "name": "stdout",
     "output_type": "stream",
     "text": [
      "0001   -0.32085133404642149\n",
      "0011   -0.40088577765048470   -0.03491913851838471\n",
      "0021   -0.40088476962677383   -0.03491568414251706\n",
      "0031   -0.40088476912279443   -0.03491582022156478\n",
      "0041   -0.40088476911837347   -0.03491585275850849\n",
      "0051   -0.40088476911813149   -0.03491586008204345\n",
      "0061   -0.40088476911809068   -0.03491585698246674\n",
      "0071   -0.40088476911807737   -0.03491584821085167\n",
      "0081   -0.40088476911807091   -0.03491583784620531\n",
      "0091   -0.40088476911806703   -0.03491583082401232\n",
      "0101   -0.40088476911806466   -0.03491583191898983\n",
      "CPU times: user 9.52 s, sys: 109 ms, total: 9.63 s\n",
      "Wall time: 9.47 s\n"
     ]
    }
   ],
   "source": [
    "%%time\n",
    "\n",
    "nL = o* 0\n",
    "ndelta = o* 10/100\n",
    "nbeta = o* 6/10\n",
    "\n",
    "nA, nhbar, nm = o* 1, o* 1, o* 1\n",
    "nr0 = o* (nL+1)/nbeta\n",
    "\n",
    "nA1 = 2*nm*nA/nhbar**2\n",
    "nA2 = nA1*ndelta\n",
    "nA3 = nA1*ndelta**3/3\n",
    "nA4 = nA1*ndelta**4/6\n",
    "nA5 = nA1*ndelta**5/30\n",
    "nA6 = nA1*ndelta**7/630\n",
    "\n",
    "pl0 = {beta:nbeta, L:nL}\n",
    "ps0 = {hbar:nhbar, m:nm, delta:ndelta,\n",
    "       beta:nbeta, L:nL, r0:nr0, \n",
    "       A1:nA1, A2:nA2, A3:nA3, \n",
    "       A4:nA4, A5:nA5, A6:nA6}\n",
    "\n",
    "# pass lambda_0, s_0 and variable values to aim class\n",
    "ecsc_d10L0 = aim(l0, s0, pl0, ps0)\n",
    "ecsc_d10L0.display_parameters()\n",
    "ecsc_d10L0.display_l0s0(0)\n",
    "ecsc_d10L0.parameters(En, r, nr0, nmax=101, nstep=10, dprec=500, tol=1e-101)\n",
    "\n",
    "# create coefficients for improved AIM\n",
    "ecsc_d10L0.c0()\n",
    "ecsc_d10L0.d0()\n",
    "ecsc_d10L0.cndn()\n",
    "\n",
    "# the solution\n",
    "ecsc_d10L0.get_arb_roots(showRoots='-r', printFormat=\"{:22.17f}\")"
   ]
  },
  {
   "cell_type": "markdown",
   "metadata": {},
   "source": [
    "### p states"
   ]
  },
  {
   "cell_type": "code",
   "execution_count": 20,
   "metadata": {
    "ExecuteTime": {
     "end_time": "2019-03-20T07:56:07.965145Z",
     "start_time": "2019-03-20T07:55:58.435218Z"
    }
   },
   "outputs": [
    {
     "data": {
      "text/latex": [
       "$$\\text{Values of the parameters of } \\lambda_0:$$"
      ],
      "text/plain": [
       "<IPython.core.display.Math object>"
      ]
     },
     "metadata": {},
     "output_type": "display_data"
    },
    {
     "data": {
      "text/latex": [
       "$$L = 1,~~\\beta = 3/5$$"
      ],
      "text/plain": [
       "<IPython.core.display.Math object>"
      ]
     },
     "metadata": {},
     "output_type": "display_data"
    },
    {
     "data": {
      "text/latex": [
       "$$\\text{Values of the parameters of } s_0:$$"
      ],
      "text/plain": [
       "<IPython.core.display.Math object>"
      ]
     },
     "metadata": {},
     "output_type": "display_data"
    },
    {
     "data": {
      "text/latex": [
       "$$A_{1} = 2,~~A_{2} = 1/5,~~A_{3} = 1/1500,~~A_{4} = 1/30000,~~A_{5} = 1/1500000,~~A_{6} = 1/3150000000,~~L = 1,~~\\beta = 3/5,~~\\delta = 1/10,~~\\hbar = 1,~~m = 1,~~r_{0} = 10/3$$"
      ],
      "text/plain": [
       "<IPython.core.display.Math object>"
      ]
     },
     "metadata": {},
     "output_type": "display_data"
    },
    {
     "data": {
      "text/latex": [
       "$$           \n",
       "                \\begin{align}\n",
       "                \\lambda_0 &= \\left[2 \\beta - \\frac{2 \\left(L + 1\\right)}{r} \\right.\\\\ \n",
       "                      s_0 &= \\left[A_{2} - A_{3} r^{2} + A_{4} r^{3} - A_{5} r^{4} + A_{6} r^{6} - \\frac{2 En m}{\\hbar^{2}} - \\beta^{2} + \\frac{- A_{1} + 2 L \\beta + 2 \\beta}{r} \\right.\\\\ \n",
       "                \\lambda_0 &= \\left[\\frac{6}{5} - \\frac{4}{r} \\right.\\\\ \n",
       "                      s_0 &= \\left[- 2.0 En + 3.17460317460317 \\cdot 10^{-10} r^{6} - 6.66666666666667 \\cdot 10^{-7} r^{4} + 3.33333333333333 \\cdot 10^{-5} r^{3} - 0.000666666666666667 r^{2} - 0.16 + \\frac{0.4}{r} \\right.\n",
       "                \\end{align}\n",
       "                $$"
      ],
      "text/plain": [
       "<IPython.core.display.Math object>"
      ]
     },
     "metadata": {},
     "output_type": "display_data"
    },
    {
     "name": "stdout",
     "output_type": "stream",
     "text": [
      "0001   -0.02312735427961765\n",
      "0011   -0.03245650968532679\n",
      "0021   -0.03245503087632942\n",
      "0031   -0.03245501230562262\n",
      "0041   -0.03245501152851536\n",
      "0051   -0.03245501121012633\n",
      "0061   -0.03245501051909821\n",
      "0071   -0.03245500965032106\n",
      "0081   -0.03245500892248537\n",
      "0091   -0.03245500856874680\n",
      "0101   -0.03245500861256962\n",
      "CPU times: user 9.58 s, sys: 101 ms, total: 9.68 s\n",
      "Wall time: 9.52 s\n"
     ]
    }
   ],
   "source": [
    "%%time\n",
    "\n",
    "nL = o* 1\n",
    "nr0 = o* (nL+1)/nbeta\n",
    "\n",
    "pl0 = {beta:nbeta, L:nL}\n",
    "ps0 = {hbar:nhbar, m:nm, delta:ndelta,\n",
    "       beta:nbeta, L:nL, r0:nr0, \n",
    "       A1:nA1, A2:nA2, A3:nA3, \n",
    "       A4:nA4, A5:nA5, A6:nA6}\n",
    "\n",
    "# pass lambda_0, s_0 and variable values to aim class\n",
    "ecsc_d10L1 = aim(l0, s0, pl0, ps0)\n",
    "ecsc_d10L1.display_parameters()\n",
    "ecsc_d10L1.display_l0s0(0)\n",
    "ecsc_d10L1.parameters(En, r, nr0, nmax=101, nstep=10, dprec=500, tol=1e-101)\n",
    "\n",
    "# create coefficients for improved AIM\n",
    "ecsc_d10L1.c0()\n",
    "ecsc_d10L1.d0()\n",
    "ecsc_d10L1.cndn()\n",
    "\n",
    "# the solution\n",
    "ecsc_d10L1.get_arb_roots(showRoots='-r', printFormat=\"{:22.17f}\")"
   ]
  },
  {
   "cell_type": "markdown",
   "metadata": {},
   "source": [
    "### d states"
   ]
  },
  {
   "cell_type": "code",
   "execution_count": 21,
   "metadata": {
    "ExecuteTime": {
     "end_time": "2019-03-20T07:56:17.478052Z",
     "start_time": "2019-03-20T07:56:07.968600Z"
    }
   },
   "outputs": [
    {
     "data": {
      "text/latex": [
       "$$\\text{Values of the parameters of } \\lambda_0:$$"
      ],
      "text/plain": [
       "<IPython.core.display.Math object>"
      ]
     },
     "metadata": {},
     "output_type": "display_data"
    },
    {
     "data": {
      "text/latex": [
       "$$L = 2,~~\\beta = 3/5$$"
      ],
      "text/plain": [
       "<IPython.core.display.Math object>"
      ]
     },
     "metadata": {},
     "output_type": "display_data"
    },
    {
     "data": {
      "text/latex": [
       "$$\\text{Values of the parameters of } s_0:$$"
      ],
      "text/plain": [
       "<IPython.core.display.Math object>"
      ]
     },
     "metadata": {},
     "output_type": "display_data"
    },
    {
     "data": {
      "text/latex": [
       "$$A_{1} = 2,~~A_{2} = 1/5,~~A_{3} = 1/1500,~~A_{4} = 1/30000,~~A_{5} = 1/1500000,~~A_{6} = 1/3150000000,~~L = 2,~~\\beta = 3/5,~~\\delta = 1/10,~~\\hbar = 1,~~m = 1,~~r_{0} = 5$$"
      ],
      "text/plain": [
       "<IPython.core.display.Math object>"
      ]
     },
     "metadata": {},
     "output_type": "display_data"
    },
    {
     "data": {
      "text/latex": [
       "$$           \n",
       "                \\begin{align}\n",
       "                \\lambda_0 &= \\left[2 \\beta - \\frac{2 \\left(L + 1\\right)}{r} \\right.\\\\ \n",
       "                      s_0 &= \\left[A_{2} - A_{3} r^{2} + A_{4} r^{3} - A_{5} r^{4} + A_{6} r^{6} - \\frac{2 En m}{\\hbar^{2}} - \\beta^{2} + \\frac{- A_{1} + 2 L \\beta + 2 \\beta}{r} \\right.\\\\ \n",
       "                \\lambda_0 &= \\left[\\frac{6}{5} - \\frac{6}{r} \\right.\\\\ \n",
       "                      s_0 &= \\left[- 2.0 En + 3.17460317460317 \\cdot 10^{-10} r^{6} - 6.66666666666667 \\cdot 10^{-7} r^{4} + 3.33333333333333 \\cdot 10^{-5} r^{3} - 0.000666666666666667 r^{2} - 0.16 + \\frac{1.6}{r} \\right.\n",
       "                \\end{align}\n",
       "                $$"
      ],
      "text/plain": [
       "<IPython.core.display.Math object>"
      ]
     },
     "metadata": {},
     "output_type": "display_data"
    },
    {
     "name": "stdout",
     "output_type": "stream",
     "text": [
      "0001  Nothing to show!\n",
      "0011  Nothing to show!\n",
      "0021  Nothing to show!\n",
      "0031  Nothing to show!\n",
      "0041  Nothing to show!\n",
      "0051  Nothing to show!\n",
      "0061  Nothing to show!\n",
      "0071  Nothing to show!\n",
      "0081  Nothing to show!\n",
      "0091  Nothing to show!\n",
      "0101  Nothing to show!\n",
      "CPU times: user 9.55 s, sys: 68.3 ms, total: 9.62 s\n",
      "Wall time: 9.5 s\n"
     ]
    }
   ],
   "source": [
    "%%time\n",
    "\n",
    "nL = o* 2\n",
    "nr0 = o* (nL+1)/nbeta\n",
    "\n",
    "pl0 = {beta:nbeta, L:nL}\n",
    "ps0 = {hbar:nhbar, m:nm, delta:ndelta,\n",
    "       beta:nbeta, L:nL, r0:nr0, \n",
    "       A1:nA1, A2:nA2, A3:nA3, \n",
    "       A4:nA4, A5:nA5, A6:nA6}\n",
    "\n",
    "# pass lambda_0, s_0 and variable values to aim class\n",
    "ecsc_d10L2 = aim(l0, s0, pl0, ps0)\n",
    "ecsc_d10L2.display_parameters()\n",
    "ecsc_d10L2.display_l0s0(0)\n",
    "ecsc_d10L2.parameters(En, r, nr0, nmax=101, nstep=10, dprec=500, tol=1e-101)\n",
    "\n",
    "# create coefficients for improved AIM\n",
    "ecsc_d10L2.c0()\n",
    "ecsc_d10L2.d0()\n",
    "ecsc_d10L2.cndn()\n",
    "\n",
    "# the solution\n",
    "ecsc_d10L2.get_arb_roots(showRoots='-r', printFormat=\"{:22.17f}\")"
   ]
  },
  {
   "cell_type": "markdown",
   "metadata": {},
   "source": [
    "### f states"
   ]
  },
  {
   "cell_type": "code",
   "execution_count": 22,
   "metadata": {
    "ExecuteTime": {
     "end_time": "2019-03-20T07:56:27.198381Z",
     "start_time": "2019-03-20T07:56:17.481656Z"
    }
   },
   "outputs": [
    {
     "data": {
      "text/latex": [
       "$$\\text{Values of the parameters of } \\lambda_0:$$"
      ],
      "text/plain": [
       "<IPython.core.display.Math object>"
      ]
     },
     "metadata": {},
     "output_type": "display_data"
    },
    {
     "data": {
      "text/latex": [
       "$$L = 3,~~\\beta = 3/5$$"
      ],
      "text/plain": [
       "<IPython.core.display.Math object>"
      ]
     },
     "metadata": {},
     "output_type": "display_data"
    },
    {
     "data": {
      "text/latex": [
       "$$\\text{Values of the parameters of } s_0:$$"
      ],
      "text/plain": [
       "<IPython.core.display.Math object>"
      ]
     },
     "metadata": {},
     "output_type": "display_data"
    },
    {
     "data": {
      "text/latex": [
       "$$A_{1} = 2,~~A_{2} = 1/5,~~A_{3} = 1/1500,~~A_{4} = 1/30000,~~A_{5} = 1/1500000,~~A_{6} = 1/3150000000,~~L = 3,~~\\beta = 3/5,~~\\delta = 1/10,~~\\hbar = 1,~~m = 1,~~r_{0} = 20/3$$"
      ],
      "text/plain": [
       "<IPython.core.display.Math object>"
      ]
     },
     "metadata": {},
     "output_type": "display_data"
    },
    {
     "data": {
      "text/latex": [
       "$$           \n",
       "                \\begin{align}\n",
       "                \\lambda_0 &= \\left[2 \\beta - \\frac{2 \\left(L + 1\\right)}{r} \\right.\\\\ \n",
       "                      s_0 &= \\left[A_{2} - A_{3} r^{2} + A_{4} r^{3} - A_{5} r^{4} + A_{6} r^{6} - \\frac{2 En m}{\\hbar^{2}} - \\beta^{2} + \\frac{- A_{1} + 2 L \\beta + 2 \\beta}{r} \\right.\\\\ \n",
       "                \\lambda_0 &= \\left[\\frac{6}{5} - \\frac{8}{r} \\right.\\\\ \n",
       "                      s_0 &= \\left[- 2.0 En + 3.17460317460317 \\cdot 10^{-10} r^{6} - 6.66666666666667 \\cdot 10^{-7} r^{4} + 3.33333333333333 \\cdot 10^{-5} r^{3} - 0.000666666666666667 r^{2} - 0.16 + \\frac{2.8}{r} \\right.\n",
       "                \\end{align}\n",
       "                $$"
      ],
      "text/plain": [
       "<IPython.core.display.Math object>"
      ]
     },
     "metadata": {},
     "output_type": "display_data"
    },
    {
     "name": "stdout",
     "output_type": "stream",
     "text": [
      "0001  Nothing to show!\n",
      "0011  Nothing to show!\n",
      "0021  Nothing to show!\n",
      "0031  Nothing to show!\n",
      "0041  Nothing to show!\n",
      "0051  Nothing to show!\n",
      "0061  Nothing to show!\n",
      "0071  Nothing to show!\n",
      "0081  Nothing to show!\n",
      "0091  Nothing to show!\n",
      "0101  Nothing to show!\n",
      "CPU times: user 9.74 s, sys: 92.7 ms, total: 9.83 s\n",
      "Wall time: 9.71 s\n"
     ]
    }
   ],
   "source": [
    "%%time\n",
    "\n",
    "nL = o* 3\n",
    "nr0 = o* (nL+1)/nbeta\n",
    "\n",
    "pl0 = {beta:nbeta, L:nL}\n",
    "ps0 = {hbar:nhbar, m:nm, delta:ndelta,\n",
    "       beta:nbeta, L:nL, r0:nr0, \n",
    "       A1:nA1, A2:nA2, A3:nA3, \n",
    "       A4:nA4, A5:nA5, A6:nA6}\n",
    "\n",
    "# pass lambda_0, s_0 and variable values to aim class\n",
    "ecsc_d10L3 = aim(l0, s0, pl0, ps0)\n",
    "ecsc_d10L3.display_parameters()\n",
    "ecsc_d10L3.display_l0s0(0)\n",
    "ecsc_d10L3.parameters(En, r, nr0, nmax=101, nstep=10, dprec=500, tol=1e-101)\n",
    "\n",
    "# create coefficients for improved AIM\n",
    "ecsc_d10L3.c0()\n",
    "ecsc_d10L3.d0()\n",
    "ecsc_d10L3.cndn()\n",
    "\n",
    "# the solution\n",
    "ecsc_d10L3.get_arb_roots(showRoots='-r', printFormat=\"{:22.17f}\")"
   ]
  },
  {
   "cell_type": "code",
   "execution_count": null,
   "metadata": {},
   "outputs": [],
   "source": []
  }
 ],
 "metadata": {
  "hide_input": false,
  "kernelspec": {
   "display_name": "Python 2",
   "language": "python2",
   "name": "python2"
  },
  "language_info": {
   "codemirror_mode": {
    "name": "ipython",
    "version": 2
   },
   "file_extension": ".py",
   "mimetype": "text/x-python",
   "name": "python",
   "nbconvert_exporter": "python",
   "pygments_lexer": "ipython2",
   "version": "2.7.15rc1"
  },
  "toc": {
   "base_numbering": 1,
   "collapse_to_match_collapsible_headings": false,
   "colors": {
    "hover_highlight": "#DAA520",
    "running_highlight": "#FF0000",
    "selected_highlight": "#FFD700"
   },
   "moveMenuLeft": true,
   "nav_menu": {
    "height": "12px",
    "width": "252px"
   },
   "navigate_menu": true,
   "number_sections": true,
   "sideBar": true,
   "skip_h1_title": false,
   "threshold": "5",
   "title_cell": "İçindekiler",
   "title_sidebar": "Contents",
   "toc_cell": false,
   "toc_position": {
    "height": "844px",
    "left": "0px",
    "right": "1708px",
    "top": "134px",
    "width": "281px"
   },
   "toc_section_display": "block",
   "toc_window_display": true
  },
  "varInspector": {
   "cols": {
    "lenName": 16,
    "lenType": 16,
    "lenVar": 40
   },
   "kernels_config": {
    "python": {
     "delete_cmd_postfix": "",
     "delete_cmd_prefix": "del ",
     "library": "var_list.py",
     "varRefreshCmd": "print(var_dic_list())"
    },
    "r": {
     "delete_cmd_postfix": ") ",
     "delete_cmd_prefix": "rm(",
     "library": "var_list.r",
     "varRefreshCmd": "cat(var_dic_list()) "
    }
   },
   "types_to_exclude": [
    "module",
    "function",
    "builtin_function_or_method",
    "instance",
    "_Feature"
   ],
   "window_display": false
  }
 },
 "nbformat": 4,
 "nbformat_minor": 1
}
