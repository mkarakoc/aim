{
 "cells": [
  {
   "cell_type": "markdown",
   "metadata": {},
   "source": [
    "# Analytical treatment of the oscillating Yukawa potential\n",
    "\n",
    "\n",
    "H. Bahlouli, M.S. Abdelmonem, S.M. Al-Marzoug, Chemical Physics, Vol. 393, Issue 1, Page 153, 2012.  \n",
    "https://doi.org/10.1016/j.chemphys.2011.12.002\n"
   ]
  },
  {
   "cell_type": "markdown",
   "metadata": {},
   "source": [
    "## Import AIM library "
   ]
  },
  {
   "cell_type": "code",
   "execution_count": 1,
   "metadata": {
    "ExecuteTime": {
     "end_time": "2023-11-18T21:00:55.289425Z",
     "start_time": "2023-11-18T21:00:53.929646Z"
    },
    "pycharm": {
     "is_executing": false
    }
   },
   "outputs": [],
   "source": [
    "# Python program to use AIM tools\n",
    "from asymptotic import *"
   ]
  },
  {
   "cell_type": "markdown",
   "metadata": {},
   "source": [
    "## Definitions"
   ]
  },
  {
   "cell_type": "markdown",
   "metadata": {},
   "source": [
    "### Variables"
   ]
  },
  {
   "cell_type": "code",
   "execution_count": 2,
   "metadata": {
    "ExecuteTime": {
     "end_time": "2023-11-18T21:00:55.296788Z",
     "start_time": "2023-11-18T21:00:55.291823Z"
    }
   },
   "outputs": [],
   "source": [
    "# symengine (symbolic) variables for lambda_0 and s_0 \n",
    "En, m, hbar, L, r, r0 = se.symbols(\"En, m, hbar, L, r, r0\")\n",
    "beta, mu_R, mu_I, A = se.symbols(\"beta, mu_R, mu_I, A\")"
   ]
  },
  {
   "cell_type": "markdown",
   "metadata": {},
   "source": [
    "### $\\lambda_0$ and $s_0$"
   ]
  },
  {
   "cell_type": "code",
   "execution_count": 3,
   "metadata": {
    "ExecuteTime": {
     "end_time": "2023-11-18T21:00:55.316340Z",
     "start_time": "2023-11-18T21:00:55.299258Z"
    }
   },
   "outputs": [],
   "source": [
    "# lambda_0 and s_0\n",
    "l0 = 2*beta-2/r\n",
    "s00 = -beta**2 - (2*En*m)/hbar**2 + L/r**2 + L**2/r**2 + (2*beta)/r \n",
    "s01 = - (2*A*se.exp(-mu_R*r) * m * se.cos(-mu_I*r))/(hbar**2*r)\n",
    "s0 = s00 + s01"
   ]
  },
  {
   "cell_type": "markdown",
   "metadata": {},
   "source": [
    "## Case: $\\delta$ = 0.070, L=0"
   ]
  },
  {
   "cell_type": "markdown",
   "metadata": {},
   "source": [
    "#### Numerical values for variables¶"
   ]
  },
  {
   "cell_type": "code",
   "execution_count": 4,
   "metadata": {
    "ExecuteTime": {
     "end_time": "2023-11-18T21:00:55.330535Z",
     "start_time": "2023-11-18T21:00:55.319477Z"
    }
   },
   "outputs": [],
   "source": [
    "nbeta = o* 1\n",
    "nr0 = o* 1/nbeta\n",
    "\n",
    "ndelta = o* 7/100\n",
    "\n",
    "# parameters of lambda_0 (pl0) and s_0 (ps0)\n",
    "pl0 = {beta: nbeta}\n",
    "ps0 = {beta: nbeta, \n",
    "       mu_R: ndelta, \n",
    "       mu_I: ndelta, \n",
    "       A: 1, \n",
    "       m: o* 1, \n",
    "       L: 0, \n",
    "       hbar: 1, \n",
    "       r0: nr0}"
   ]
  },
  {
   "cell_type": "markdown",
   "metadata": {},
   "source": [
    "#### Initialize AIM solver"
   ]
  },
  {
   "cell_type": "code",
   "execution_count": 5,
   "metadata": {
    "ExecuteTime": {
     "end_time": "2023-11-18T21:00:56.147793Z",
     "start_time": "2023-11-18T21:00:55.334611Z"
    }
   },
   "outputs": [
    {
     "data": {
      "text/latex": [
       "$\\displaystyle \\text{Values of the parameters of } \\lambda_0:$"
      ],
      "text/plain": [
       "<IPython.core.display.Math object>"
      ]
     },
     "metadata": {},
     "output_type": "display_data"
    },
    {
     "data": {
      "text/latex": [
       "$\\displaystyle \\beta = 1$"
      ],
      "text/plain": [
       "<IPython.core.display.Math object>"
      ]
     },
     "metadata": {},
     "output_type": "display_data"
    },
    {
     "data": {
      "text/latex": [
       "$\\displaystyle \\text{Values of the parameters of } s_0:$"
      ],
      "text/plain": [
       "<IPython.core.display.Math object>"
      ]
     },
     "metadata": {},
     "output_type": "display_data"
    },
    {
     "data": {
      "text/latex": [
       "$\\displaystyle A = 1,~~L = 0,~~\\beta = 1,~~\\hbar = 1,~~\\mu_{I} = 7/100,~~\\mu_{R} = 7/100,~~m = 1,~~r_{0} = 1$"
      ],
      "text/plain": [
       "<IPython.core.display.Math object>"
      ]
     },
     "metadata": {},
     "output_type": "display_data"
    },
    {
     "data": {
      "text/latex": [
       "$\\displaystyle            \n",
       "                \\begin{align}\n",
       "                \\lambda_0 &= \\left[2 \\beta - \\frac{2}{r} \\right.\\\\ \n",
       "                      s_0 &= \\left[- \\frac{2 A m e^{- \\mu_{R} r} \\cos{\\left(\\mu_{I} r \\right)}}{\\hbar^{2} r} - \\frac{2 En m}{\\hbar^{2}} + \\frac{L^{2}}{r^{2}} + \\frac{L}{r^{2}} - \\beta^{2} + \\frac{2 \\beta}{r} \\right.\\\\ \n",
       "                \\lambda_0 &= \\left[2 - \\frac{2}{r} \\right.\\\\ \n",
       "                      s_0 &= \\left[- 2.0 En - 1.0 + \\frac{2.0}{r} - \\frac{2.0 e^{- \\frac{7 r}{100}} \\cos{\\left(\\frac{7 r}{100} \\right)}}{r} \\right.\n",
       "                \\end{align}\n",
       "                $"
      ],
      "text/plain": [
       "<IPython.core.display.Math object>"
      ]
     },
     "metadata": {},
     "output_type": "display_data"
    },
    {
     "name": "stdout",
     "output_type": "stream",
     "text": [
      "CPU times: user 747 ms, sys: 3.17 ms, total: 750 ms\n",
      "Wall time: 803 ms\n"
     ]
    }
   ],
   "source": [
    "%%time\n",
    "# pass lambda_0, s_0 and variable values to aim class\n",
    "yukawa_d070L0 = aim(l0, s0, pl0, ps0)\n",
    "yukawa_d070L0.display_parameters()\n",
    "yukawa_d070L0.display_l0s0(0)\n",
    "yukawa_d070L0.parameters(En, r, nr0, nmax=101, nstep=10, dprec=500, tol=1e-101)"
   ]
  },
  {
   "cell_type": "markdown",
   "metadata": {},
   "source": [
    "#### Calculation necessary coefficients"
   ]
  },
  {
   "cell_type": "code",
   "execution_count": 6,
   "metadata": {
    "ExecuteTime": {
     "end_time": "2023-11-18T21:01:24.707377Z",
     "start_time": "2023-11-18T21:00:56.150078Z"
    }
   },
   "outputs": [
    {
     "name": "stdout",
     "output_type": "stream",
     "text": [
      "CPU times: user 28.3 s, sys: 132 ms, total: 28.4 s\n",
      "Wall time: 28.5 s\n"
     ]
    }
   ],
   "source": [
    "%%time\n",
    "# create coefficients for improved AIM\n",
    "yukawa_d070L0.c0()\n",
    "yukawa_d070L0.d0()\n",
    "yukawa_d070L0.cndn()"
   ]
  },
  {
   "cell_type": "markdown",
   "metadata": {},
   "source": [
    "#### The Solution"
   ]
  },
  {
   "cell_type": "code",
   "execution_count": 7,
   "metadata": {
    "ExecuteTime": {
     "end_time": "2023-11-18T21:01:28.377266Z",
     "start_time": "2023-11-18T21:01:24.710400Z"
    }
   },
   "outputs": [
    {
     "name": "stdout",
     "output_type": "stream",
     "text": [
      "0001   -0.43011038767715487173\n",
      "0011   -0.43031455428145954359   -0.05792699810208684906\n",
      "0021   -0.43031455428013751676   -0.05872090770273890906\n",
      "0031   -0.43031455428013751673   -0.05872173575461825831   -0.00010999302138729644\n",
      "0041   -0.43031455428013751673   -0.05872173639824703932   -0.00061727094877609408\n",
      "0051   -0.43031455428013751673   -0.05872173639873135240   -0.00072402432650591158\n",
      "0061   -0.43031455428013751673   -0.05872173639873171991   -0.00075479431138427837\n",
      "0071   -0.43031455428013751673   -0.05872173639873172020   -0.00076585517880873983\n",
      "0081   -0.43031455428013751673   -0.05872173639873172020   -0.00077038819105902031\n",
      "0091   -0.43031455428013751673   -0.05872173639873172020   -0.00077237150249694124\n",
      "0101   -0.43031455428013751673   -0.05872173639873172020   -0.00077326304415664158\n",
      "CPU times: user 3.58 s, sys: 23.9 ms, total: 3.61 s\n",
      "Wall time: 3.65 s\n"
     ]
    }
   ],
   "source": [
    "%%time\n",
    "yukawa_d070L0.get_arb_roots(showRoots='-r', printFormat=\"{:25.20f}\")"
   ]
  },
  {
   "cell_type": "markdown",
   "metadata": {},
   "source": [
    "## Case: $\\delta$ = 0.077, L=0"
   ]
  },
  {
   "cell_type": "code",
   "execution_count": 8,
   "metadata": {
    "ExecuteTime": {
     "end_time": "2023-11-18T21:02:00.942975Z",
     "start_time": "2023-11-18T21:01:28.382806Z"
    }
   },
   "outputs": [
    {
     "data": {
      "text/latex": [
       "$\\displaystyle \\text{Values of the parameters of } \\lambda_0:$"
      ],
      "text/plain": [
       "<IPython.core.display.Math object>"
      ]
     },
     "metadata": {},
     "output_type": "display_data"
    },
    {
     "data": {
      "text/latex": [
       "$\\displaystyle \\beta = 1$"
      ],
      "text/plain": [
       "<IPython.core.display.Math object>"
      ]
     },
     "metadata": {},
     "output_type": "display_data"
    },
    {
     "data": {
      "text/latex": [
       "$\\displaystyle \\text{Values of the parameters of } s_0:$"
      ],
      "text/plain": [
       "<IPython.core.display.Math object>"
      ]
     },
     "metadata": {},
     "output_type": "display_data"
    },
    {
     "data": {
      "text/latex": [
       "$\\displaystyle A = 1,~~L = 0,~~\\beta = 1,~~\\hbar = 1,~~\\mu_{I} = 77/1000,~~\\mu_{R} = 77/1000,~~m = 1,~~r_{0} = 1$"
      ],
      "text/plain": [
       "<IPython.core.display.Math object>"
      ]
     },
     "metadata": {},
     "output_type": "display_data"
    },
    {
     "data": {
      "text/latex": [
       "$\\displaystyle            \n",
       "                \\begin{align}\n",
       "                \\lambda_0 &= \\left[2 \\beta - \\frac{2}{r} \\right.\\\\ \n",
       "                      s_0 &= \\left[- \\frac{2 A m e^{- \\mu_{R} r} \\cos{\\left(\\mu_{I} r \\right)}}{\\hbar^{2} r} - \\frac{2 En m}{\\hbar^{2}} + \\frac{L^{2}}{r^{2}} + \\frac{L}{r^{2}} - \\beta^{2} + \\frac{2 \\beta}{r} \\right.\\\\ \n",
       "                \\lambda_0 &= \\left[2 - \\frac{2}{r} \\right.\\\\ \n",
       "                      s_0 &= \\left[- 2.0 En - 1.0 + \\frac{2.0}{r} - \\frac{2.0 e^{- \\frac{77 r}{1000}} \\cos{\\left(\\frac{77 r}{1000} \\right)}}{r} \\right.\n",
       "                \\end{align}\n",
       "                $"
      ],
      "text/plain": [
       "<IPython.core.display.Math object>"
      ]
     },
     "metadata": {},
     "output_type": "display_data"
    },
    {
     "name": "stdout",
     "output_type": "stream",
     "text": [
      "0001   -0.42314640902765089680\n",
      "0011   -0.42341514743557343014   -0.05195283676064354016\n",
      "0021   -0.42341514743160659647   -0.05284561040275994803\n",
      "0031   -0.42341514743160659569   -0.05284687284604869821\n",
      "0041   -0.42341514743160659569   -0.05284687426211190706\n",
      "0051   -0.42341514743160659569   -0.05284687426368304560\n",
      "0061   -0.42341514743160659569   -0.05284687426368482278\n",
      "0071   -0.42341514743160659569   -0.05284687426368482483\n",
      "0081   -0.42341514743160659569   -0.05284687426368482484\n",
      "0091   -0.42341514743160659569   -0.05284687426368482484\n",
      "0101   -0.42341514743160659569   -0.05284687426368482484\n"
     ]
    }
   ],
   "source": [
    "nbeta = o* 1\n",
    "nr0 = o* 1/nbeta\n",
    "\n",
    "ndelta = o* 77/1000\n",
    "\n",
    "# parameters of lambda_0 (pl0) and s_0 (ps0)\n",
    "pl0 = {beta: nbeta}\n",
    "ps0 = {beta: nbeta, \n",
    "       mu_R: ndelta, \n",
    "       mu_I: ndelta, \n",
    "       A: 1, \n",
    "       m: o* 1, \n",
    "       L: 0, \n",
    "       hbar: 1, \n",
    "       r0: nr0}\n",
    "\n",
    "# pass lambda_0, s_0 and variable values to aim class\n",
    "yukawa_d077L0 = aim(l0, s0, pl0, ps0)\n",
    "yukawa_d077L0.display_parameters()\n",
    "yukawa_d077L0.display_l0s0(0)\n",
    "yukawa_d077L0.parameters(En, r, nr0, nmax=101, nstep=10, dprec=500, tol=1e-101)\n",
    "\n",
    "# create coefficients for improved AIM\n",
    "yukawa_d077L0.c0()\n",
    "yukawa_d077L0.d0()\n",
    "yukawa_d077L0.cndn()\n",
    "\n",
    "# solution\n",
    "yukawa_d077L0.get_arb_roots(showRoots='-r', printFormat=\"{:25.20f}\")"
   ]
  },
  {
   "cell_type": "markdown",
   "metadata": {},
   "source": [
    "## Case: $\\delta$ = 0.085, L=0"
   ]
  },
  {
   "cell_type": "code",
   "execution_count": 9,
   "metadata": {
    "ExecuteTime": {
     "end_time": "2023-11-18T21:02:33.443168Z",
     "start_time": "2023-11-18T21:02:00.946704Z"
    }
   },
   "outputs": [
    {
     "data": {
      "text/latex": [
       "$\\displaystyle \\text{Values of the parameters of } \\lambda_0:$"
      ],
      "text/plain": [
       "<IPython.core.display.Math object>"
      ]
     },
     "metadata": {},
     "output_type": "display_data"
    },
    {
     "data": {
      "text/latex": [
       "$\\displaystyle \\beta = 1$"
      ],
      "text/plain": [
       "<IPython.core.display.Math object>"
      ]
     },
     "metadata": {},
     "output_type": "display_data"
    },
    {
     "data": {
      "text/latex": [
       "$\\displaystyle \\text{Values of the parameters of } s_0:$"
      ],
      "text/plain": [
       "<IPython.core.display.Math object>"
      ]
     },
     "metadata": {},
     "output_type": "display_data"
    },
    {
     "data": {
      "text/latex": [
       "$\\displaystyle A = 1,~~L = 0,~~\\beta = 1,~~\\hbar = 1,~~\\mu_{I} = 17/200,~~\\mu_{R} = 17/200,~~m = 1,~~r_{0} = 1$"
      ],
      "text/plain": [
       "<IPython.core.display.Math object>"
      ]
     },
     "metadata": {},
     "output_type": "display_data"
    },
    {
     "data": {
      "text/latex": [
       "$\\displaystyle            \n",
       "                \\begin{align}\n",
       "                \\lambda_0 &= \\left[2 \\beta - \\frac{2}{r} \\right.\\\\ \n",
       "                      s_0 &= \\left[- \\frac{2 A m e^{- \\mu_{R} r} \\cos{\\left(\\mu_{I} r \\right)}}{\\hbar^{2} r} - \\frac{2 En m}{\\hbar^{2}} + \\frac{L^{2}}{r^{2}} + \\frac{L}{r^{2}} - \\beta^{2} + \\frac{2 \\beta}{r} \\right.\\\\ \n",
       "                \\lambda_0 &= \\left[2 - \\frac{2}{r} \\right.\\\\ \n",
       "                      s_0 &= \\left[- 2.0 En - 1.0 + \\frac{2.0}{r} - \\frac{2.0 e^{- \\frac{17 r}{200}} \\cos{\\left(\\frac{17 r}{200} \\right)}}{r} \\right.\n",
       "                \\end{align}\n",
       "                $"
      ],
      "text/plain": [
       "<IPython.core.display.Math object>"
      ]
     },
     "metadata": {},
     "output_type": "display_data"
    },
    {
     "name": "stdout",
     "output_type": "stream",
     "text": [
      "0001   -0.41519615608112334843\n",
      "0011   -0.41555311952049826718   -0.04533151836804050734\n",
      "0021   -0.41555311950819593107   -0.04636387179433808189\n",
      "0031   -0.41555311950819591997   -0.04636596756927513649\n",
      "0041   -0.41555311950819591997   -0.04636597118611608210\n",
      "0051   -0.41555311950819591997   -0.04636597119243681769\n",
      "0061   -0.41555311950819591997   -0.04636597119244819169\n",
      "0071   -0.41555311950819591997   -0.04636597119244821259\n",
      "0081   -0.41555311950819591997   -0.04636597119244821262\n",
      "0091   -0.41555311950819591997   -0.04636597119244821279\n",
      "0101   -0.41555311950819591997   -0.04636597119244823388\n"
     ]
    }
   ],
   "source": [
    "nbeta = o* 1\n",
    "nr0 = o* 1/nbeta\n",
    "\n",
    "ndelta = o* 85/1000\n",
    "\n",
    "# parameters of lambda_0 (pl0) and s_0 (ps0)\n",
    "pl0 = {beta: nbeta}\n",
    "ps0 = {beta: nbeta, \n",
    "       mu_R: ndelta, \n",
    "       mu_I: ndelta, \n",
    "       A: 1, \n",
    "       m: o* 1, \n",
    "       L: 0, \n",
    "       hbar: 1, \n",
    "       r0: nr0}\n",
    "\n",
    "# pass lambda_0, s_0 and variable values to aim class\n",
    "yukawa_d085L0 = aim(l0, s0, pl0, ps0)\n",
    "yukawa_d085L0.display_parameters()\n",
    "yukawa_d085L0.display_l0s0(0)\n",
    "yukawa_d085L0.parameters(En, r, nr0, nmax=101, nstep=10, dprec=500, tol=1e-101)\n",
    "\n",
    "# create coefficients for improved AIM\n",
    "yukawa_d085L0.c0()\n",
    "yukawa_d085L0.d0()\n",
    "yukawa_d085L0.cndn()\n",
    "\n",
    "# solution\n",
    "yukawa_d085L0.get_arb_roots(showRoots='-r', printFormat=\"{:25.20f}\")"
   ]
  },
  {
   "cell_type": "markdown",
   "metadata": {},
   "source": [
    "## Case: $\\delta$ = 0.180, L=0"
   ]
  },
  {
   "cell_type": "code",
   "execution_count": 10,
   "metadata": {
    "ExecuteTime": {
     "end_time": "2023-11-18T21:03:06.593519Z",
     "start_time": "2023-11-18T21:02:33.446084Z"
    }
   },
   "outputs": [
    {
     "data": {
      "text/latex": [
       "$\\displaystyle \\text{Values of the parameters of } \\lambda_0:$"
      ],
      "text/plain": [
       "<IPython.core.display.Math object>"
      ]
     },
     "metadata": {},
     "output_type": "display_data"
    },
    {
     "data": {
      "text/latex": [
       "$\\displaystyle \\beta = 2$"
      ],
      "text/plain": [
       "<IPython.core.display.Math object>"
      ]
     },
     "metadata": {},
     "output_type": "display_data"
    },
    {
     "data": {
      "text/latex": [
       "$\\displaystyle \\text{Values of the parameters of } s_0:$"
      ],
      "text/plain": [
       "<IPython.core.display.Math object>"
      ]
     },
     "metadata": {},
     "output_type": "display_data"
    },
    {
     "data": {
      "text/latex": [
       "$\\displaystyle A = 1,~~L = 0,~~\\beta = 2,~~\\hbar = 1,~~\\mu_{I} = 9/50,~~\\mu_{R} = 9/50,~~m = 1,~~r_{0} = 1/2$"
      ],
      "text/plain": [
       "<IPython.core.display.Math object>"
      ]
     },
     "metadata": {},
     "output_type": "display_data"
    },
    {
     "data": {
      "text/latex": [
       "$\\displaystyle            \n",
       "                \\begin{align}\n",
       "                \\lambda_0 &= \\left[2 \\beta - \\frac{2}{r} \\right.\\\\ \n",
       "                      s_0 &= \\left[- \\frac{2 A m e^{- \\mu_{R} r} \\cos{\\left(\\mu_{I} r \\right)}}{\\hbar^{2} r} - \\frac{2 En m}{\\hbar^{2}} + \\frac{L^{2}}{r^{2}} + \\frac{L}{r^{2}} - \\beta^{2} + \\frac{2 \\beta}{r} \\right.\\\\ \n",
       "                \\lambda_0 &= \\left[4 - \\frac{2}{r} \\right.\\\\ \n",
       "                      s_0 &= \\left[- 2.0 En - 4.0 + \\frac{4.0}{r} - \\frac{2.0 e^{- \\frac{9 r}{50}} \\cos{\\left(\\frac{9 r}{50} \\right)}}{r} \\right.\n",
       "                \\end{align}\n",
       "                $"
      ],
      "text/plain": [
       "<IPython.core.display.Math object>"
      ]
     },
     "metadata": {},
     "output_type": "display_data"
    },
    {
     "name": "stdout",
     "output_type": "stream",
     "text": [
      "0001  Nothing to show!\n",
      "0011   -0.32462500961047680887\n",
      "0021   -0.32471612308292362381\n",
      "0031   -0.32471614186086249518\n",
      "0041   -0.32471614186445149876\n",
      "0051   -0.32471614186445218229\n",
      "0061   -0.32471614186445218242\n",
      "0071   -0.32471614186445218242\n",
      "0081   -0.32471614186445218242\n",
      "0091   -0.32471614186445218242\n",
      "0101   -0.32471614186445218242\n"
     ]
    }
   ],
   "source": [
    "nbeta = o* 2\n",
    "nr0 = o* 1/nbeta\n",
    "\n",
    "ndelta = o* 18/100\n",
    "\n",
    "# parameters of lambda_0 (pl0) and s_0 (ps0)\n",
    "pl0 = {beta: nbeta}\n",
    "ps0 = {beta: nbeta, \n",
    "       mu_R: ndelta, \n",
    "       mu_I: ndelta, \n",
    "       A: 1, \n",
    "       m: o* 1, \n",
    "       L: 0, \n",
    "       hbar: 1, \n",
    "       r0: nr0}\n",
    "\n",
    "# pass lambda_0, s_0 and variable values to aim class\n",
    "yukawa_d180L0 = aim(l0, s0, pl0, ps0)\n",
    "yukawa_d180L0.display_parameters()\n",
    "yukawa_d180L0.display_l0s0(0)\n",
    "yukawa_d180L0.parameters(En, r, nr0, nmax=101, nstep=10, dprec=500, tol=1e-101)\n",
    "\n",
    "# create coefficients for improved AIM\n",
    "yukawa_d180L0.c0()\n",
    "yukawa_d180L0.d0()\n",
    "yukawa_d180L0.cndn()\n",
    "\n",
    "# solution\n",
    "yukawa_d180L0.get_arb_roots(showRoots='-r', printFormat=\"{:25.20f}\")"
   ]
  },
  {
   "cell_type": "markdown",
   "metadata": {},
   "source": [
    "## Case: $\\delta$ = 0.025, L=1"
   ]
  },
  {
   "cell_type": "code",
   "execution_count": 11,
   "metadata": {
    "ExecuteTime": {
     "end_time": "2023-11-18T21:05:38.084865Z",
     "start_time": "2023-11-18T21:03:06.596075Z"
    }
   },
   "outputs": [
    {
     "data": {
      "text/latex": [
       "$\\displaystyle \\text{Values of the parameters of } \\lambda_0:$"
      ],
      "text/plain": [
       "<IPython.core.display.Math object>"
      ]
     },
     "metadata": {},
     "output_type": "display_data"
    },
    {
     "data": {
      "text/latex": [
       "$\\displaystyle \\beta = 1/2$"
      ],
      "text/plain": [
       "<IPython.core.display.Math object>"
      ]
     },
     "metadata": {},
     "output_type": "display_data"
    },
    {
     "data": {
      "text/latex": [
       "$\\displaystyle \\text{Values of the parameters of } s_0:$"
      ],
      "text/plain": [
       "<IPython.core.display.Math object>"
      ]
     },
     "metadata": {},
     "output_type": "display_data"
    },
    {
     "data": {
      "text/latex": [
       "$\\displaystyle A = 1,~~L = 1,~~\\beta = 1/2,~~\\hbar = 1,~~\\mu_{I} = 1/40,~~\\mu_{R} = 1/40,~~m = 1,~~r_{0} = 2$"
      ],
      "text/plain": [
       "<IPython.core.display.Math object>"
      ]
     },
     "metadata": {},
     "output_type": "display_data"
    },
    {
     "data": {
      "text/latex": [
       "$\\displaystyle            \n",
       "                \\begin{align}\n",
       "                \\lambda_0 &= \\left[2 \\beta - \\frac{2}{r} \\right.\\\\ \n",
       "                      s_0 &= \\left[- \\frac{2 A m e^{- \\mu_{R} r} \\cos{\\left(\\mu_{I} r \\right)}}{\\hbar^{2} r} - \\frac{2 En m}{\\hbar^{2}} + \\frac{L^{2}}{r^{2}} + \\frac{L}{r^{2}} - \\beta^{2} + \\frac{2 \\beta}{r} \\right.\\\\ \n",
       "                \\lambda_0 &= \\left[1 - \\frac{2}{r} \\right.\\\\ \n",
       "                      s_0 &= \\left[- 2.0 En - 0.25 + \\frac{1}{r} - \\frac{2.0 e^{- \\frac{r}{40}} \\cos{\\left(\\frac{r}{40} \\right)}}{r} + \\frac{2.0}{r^{2}} \\right.\n",
       "                \\end{align}\n",
       "                $"
      ],
      "text/plain": [
       "<IPython.core.display.Math object>"
      ]
     },
     "metadata": {},
     "output_type": "display_data"
    },
    {
     "name": "stdout",
     "output_type": "stream",
     "text": [
      "0001   -0.10002031770772100109\n",
      "0011   -0.10014333757176585179   -0.03127483629766142541   -0.00049617600275904590\n",
      "0021   -0.10014333757742097359   -0.03133267149771868935   -0.00845268290997288686\n",
      "0031   -0.10014333757742097411   -0.03133267358472850563   -0.00854041744479940527\n",
      "0041   -0.10014333757742097411   -0.03133267358477041681   -0.00854090006768596057   -0.00005414170401148710\n",
      "0051   -0.10014333757742097411   -0.03133267358477041754   -0.00854090206519372448   -0.00011424459970501514\n",
      "0061   -0.10014333757742097411   -0.03133267358477041754   -0.00854090207327500457   -0.00012459485180132618\n",
      "0071   -0.10014333757742097411   -0.03133267358477041754   -0.00854090207330881971   -0.00012689432700945985\n",
      "0081   -0.10014333757742097411   -0.03133267358477041754   -0.00854090207330896667   -0.00012755304945672906\n",
      "0091   -0.10014333757742097411   -0.03133267358477041754   -0.00854090207330896733   -0.00012778661901577042\n",
      "0101   -0.10014333757742097411   -0.03133267358477041754   -0.00854090207330896733   -0.00012788344630091703\n",
      "0111   -0.10014333757742097411   -0.03133267358477041754   -0.00854090207330896733   -0.00012792788555577303\n",
      "0121   -0.10014333757742097411   -0.03133267358477041754   -0.00854090207330896733   -0.00012794952165602683\n",
      "0131   -0.10014333757742097411   -0.03133267358477041754   -0.00854090207330896733   -0.00012796038017416827\n",
      "0141   -0.10014333757742097411   -0.03133267358477041754   -0.00854090207330896733   -0.00012796590491088645\n",
      "0151   -0.10014333757742097411   -0.03133267358477041754   -0.00854090207330896733   -0.00012796873147828954\n"
     ]
    }
   ],
   "source": [
    "nbeta = o* 1/2\n",
    "nr0 = o* 1/nbeta\n",
    "\n",
    "ndelta = o* 25/1000\n",
    "\n",
    "# parameters of lambda_0 (pl0) and s_0 (ps0)\n",
    "pl0 = {beta: nbeta}\n",
    "ps0 = {beta: nbeta, \n",
    "       mu_R: ndelta, \n",
    "       mu_I: ndelta, \n",
    "       A: o* 1, \n",
    "       m: o* 1, \n",
    "       L: o* 1, \n",
    "       hbar: o* 1, \n",
    "       r0: nr0}\n",
    "\n",
    "# pass lambda_0, s_0 and variable values to aim class\n",
    "yukawa_d025L0 = aim(l0, s0, pl0, ps0)\n",
    "yukawa_d025L0.display_parameters()\n",
    "yukawa_d025L0.display_l0s0(0)\n",
    "yukawa_d025L0.parameters(En, r, nr0, nmax=151, nstep=10, dprec=500, tol=1e-101)\n",
    "\n",
    "# create coefficients for improved AIM\n",
    "yukawa_d025L0.c0()\n",
    "yukawa_d025L0.d0()\n",
    "yukawa_d025L0.cndn()\n",
    "\n",
    "# solution\n",
    "yukawa_d025L0.get_arb_roots(showRoots='-r', printFormat=\"{:25.20f}\")"
   ]
  }
 ],
 "metadata": {
  "hide_input": false,
  "kernelspec": {
   "display_name": "Python 3",
   "language": "python",
   "name": "python3"
  },
  "language_info": {
   "codemirror_mode": {
    "name": "ipython",
    "version": 3
   },
   "file_extension": ".py",
   "mimetype": "text/x-python",
   "name": "python",
   "nbconvert_exporter": "python",
   "pygments_lexer": "ipython3",
   "version": "3.6.9"
  },
  "toc": {
   "base_numbering": 1,
   "nav_menu": {
    "height": "12px",
    "width": "252px"
   },
   "number_sections": true,
   "sideBar": true,
   "skip_h1_title": false,
   "title_cell": "İçindekiler",
   "title_sidebar": "Contents",
   "toc_cell": false,
   "toc_position": {
    "height": "785px",
    "left": "0px",
    "right": "1708px",
    "top": "158px",
    "width": "264.857px"
   },
   "toc_section_display": "block",
   "toc_window_display": true
  },
  "varInspector": {
   "cols": {
    "lenName": 16,
    "lenType": 16,
    "lenVar": 40
   },
   "kernels_config": {
    "python": {
     "delete_cmd_postfix": "",
     "delete_cmd_prefix": "del ",
     "library": "var_list.py",
     "varRefreshCmd": "print(var_dic_list())"
    },
    "r": {
     "delete_cmd_postfix": ") ",
     "delete_cmd_prefix": "rm(",
     "library": "var_list.r",
     "varRefreshCmd": "cat(var_dic_list()) "
    }
   },
   "types_to_exclude": [
    "module",
    "function",
    "builtin_function_or_method",
    "instance",
    "_Feature"
   ],
   "window_display": false
  }
 },
 "nbformat": 4,
 "nbformat_minor": 1
}
