{
 "cells": [
  {
   "cell_type": "markdown",
   "metadata": {},
   "source": [
    "# Analytical treatment of the oscillating Yukawa potential\n",
    "\n",
    "\n",
    "H. Bahlouli, M.S. Abdelmonem, S.M. Al-Marzoug, Chemical Physics, Vol. 393, Issue 1, Page 153, 2012.  \n",
    "https://doi.org/10.1016/j.chemphys.2011.12.002\n"
   ]
  },
  {
   "cell_type": "markdown",
   "metadata": {},
   "source": [
    "## Import AIM library "
   ]
  },
  {
   "cell_type": "code",
   "execution_count": 1,
   "metadata": {
    "ExecuteTime": {
     "end_time": "2023-11-18T19:34:21.855332Z",
     "start_time": "2023-11-18T19:34:20.620661Z"
    },
    "pycharm": {
     "is_executing": false
    }
   },
   "outputs": [],
   "source": [
    "# Python program to use AIM tools\n",
    "from asymptotic import *"
   ]
  },
  {
   "cell_type": "markdown",
   "metadata": {},
   "source": [
    "## Definitions"
   ]
  },
  {
   "cell_type": "markdown",
   "metadata": {},
   "source": [
    "### Variables"
   ]
  },
  {
   "cell_type": "code",
   "execution_count": 2,
   "metadata": {
    "ExecuteTime": {
     "end_time": "2023-11-18T19:34:23.072695Z",
     "start_time": "2023-11-18T19:34:23.064307Z"
    }
   },
   "outputs": [],
   "source": [
    "# symengine (symbolic) variables for lambda_0 and s_0 \n",
    "En, m, hbar, L, r, r0 = se.symbols(\"En, m, hbar, L, r, r0\")\n",
    "beta, alpha, A = se.symbols(\"beta, alpha, A\")"
   ]
  },
  {
   "cell_type": "markdown",
   "metadata": {},
   "source": [
    "### $\\lambda_0$ and $s_0$"
   ]
  },
  {
   "cell_type": "code",
   "execution_count": 3,
   "metadata": {
    "ExecuteTime": {
     "end_time": "2023-11-18T19:34:23.694701Z",
     "start_time": "2023-11-18T19:34:23.681156Z"
    }
   },
   "outputs": [],
   "source": [
    "# lambda_0 and s_0\n",
    "l0 = 2*beta-2/r\n",
    "s0 = -beta**2 - (2*En*m)/hbar**2 + L/r**2 + L**2/r**2 + (2*beta)/r - (2*A*se.exp(-alpha*r) * m * se.cos(-alpha*r))/(hbar**2*r)"
   ]
  },
  {
   "cell_type": "markdown",
   "metadata": {},
   "source": [
    "## Case: A = 1 and $\\delta$ = 0.07 (=alpha)"
   ]
  },
  {
   "cell_type": "markdown",
   "metadata": {},
   "source": [
    "### s states"
   ]
  },
  {
   "cell_type": "markdown",
   "metadata": {},
   "source": [
    "#### Numerical values for variables¶"
   ]
  },
  {
   "cell_type": "code",
   "execution_count": 4,
   "metadata": {
    "ExecuteTime": {
     "end_time": "2023-11-18T19:34:25.132087Z",
     "start_time": "2023-11-18T19:34:25.119917Z"
    }
   },
   "outputs": [],
   "source": [
    "## Case: A = 4, L=0\n",
    "nbeta = o* 1\n",
    "nr0 = o* 1/nbeta\n",
    "\n",
    "# parameters of lambda_0 (pl0) and s_0 (ps0)\n",
    "pl0 = {beta: nbeta}\n",
    "ps0 = {beta: nbeta, \n",
    "       alpha: o* 7/100, \n",
    "       A: 1, \n",
    "       m: o* 1, \n",
    "       L: 0, \n",
    "       hbar: 1, \n",
    "       r0: nr0}"
   ]
  },
  {
   "cell_type": "markdown",
   "metadata": {},
   "source": [
    "#### Initialize AIM solver"
   ]
  },
  {
   "cell_type": "code",
   "execution_count": 5,
   "metadata": {
    "ExecuteTime": {
     "end_time": "2023-11-18T19:34:27.238065Z",
     "start_time": "2023-11-18T19:34:26.473032Z"
    }
   },
   "outputs": [
    {
     "data": {
      "text/latex": [
       "$\\displaystyle \\text{Values of the parameters of } \\lambda_0:$"
      ],
      "text/plain": [
       "<IPython.core.display.Math object>"
      ]
     },
     "metadata": {},
     "output_type": "display_data"
    },
    {
     "data": {
      "text/latex": [
       "$\\displaystyle \\beta = 1$"
      ],
      "text/plain": [
       "<IPython.core.display.Math object>"
      ]
     },
     "metadata": {},
     "output_type": "display_data"
    },
    {
     "data": {
      "text/latex": [
       "$\\displaystyle \\text{Values of the parameters of } s_0:$"
      ],
      "text/plain": [
       "<IPython.core.display.Math object>"
      ]
     },
     "metadata": {},
     "output_type": "display_data"
    },
    {
     "data": {
      "text/latex": [
       "$\\displaystyle A = 1,~~L = 0,~~\\alpha = 7/100,~~\\beta = 1,~~\\hbar = 1,~~m = 1,~~r_{0} = 1$"
      ],
      "text/plain": [
       "<IPython.core.display.Math object>"
      ]
     },
     "metadata": {},
     "output_type": "display_data"
    },
    {
     "data": {
      "text/latex": [
       "$\\displaystyle            \n",
       "                \\begin{align}\n",
       "                \\lambda_0 &= \\left[2 \\beta - \\frac{2}{r} \\right.\\\\ \n",
       "                      s_0 &= \\left[- \\frac{2 A m e^{- \\alpha r} \\cos{\\left(\\alpha r \\right)}}{\\hbar^{2} r} - \\frac{2 En m}{\\hbar^{2}} + \\frac{L^{2}}{r^{2}} + \\frac{L}{r^{2}} - \\beta^{2} + \\frac{2 \\beta}{r} \\right.\\\\ \n",
       "                \\lambda_0 &= \\left[2 - \\frac{2}{r} \\right.\\\\ \n",
       "                      s_0 &= \\left[- 2.0 En - 1.0 + \\frac{2.0}{r} - \\frac{2.0 e^{- \\frac{7 r}{100}} \\cos{\\left(\\frac{7 r}{100} \\right)}}{r} \\right.\n",
       "                \\end{align}\n",
       "                $"
      ],
      "text/plain": [
       "<IPython.core.display.Math object>"
      ]
     },
     "metadata": {},
     "output_type": "display_data"
    },
    {
     "name": "stdout",
     "output_type": "stream",
     "text": [
      "CPU times: user 714 ms, sys: 15.7 ms, total: 730 ms\n",
      "Wall time: 755 ms\n"
     ]
    }
   ],
   "source": [
    "%%time\n",
    "# pass lambda_0, s_0 and variable values to aim class\n",
    "yukawa_A4L0 = aim(l0, s0, pl0, ps0)\n",
    "yukawa_A4L0.display_parameters()\n",
    "yukawa_A4L0.display_l0s0(0)\n",
    "yukawa_A4L0.parameters(En, r, nr0, nmax=101, nstep=10, dprec=500, tol=1e-101)"
   ]
  },
  {
   "cell_type": "markdown",
   "metadata": {},
   "source": [
    "#### Calculation necessary coefficients"
   ]
  },
  {
   "cell_type": "code",
   "execution_count": 6,
   "metadata": {
    "ExecuteTime": {
     "end_time": "2023-11-18T19:34:57.271810Z",
     "start_time": "2023-11-18T19:34:28.522707Z"
    }
   },
   "outputs": [
    {
     "name": "stdout",
     "output_type": "stream",
     "text": [
      "CPU times: user 28.6 s, sys: 114 ms, total: 28.7 s\n",
      "Wall time: 28.7 s\n"
     ]
    }
   ],
   "source": [
    "%%time\n",
    "# create coefficients for improved AIM\n",
    "yukawa_A4L0.c0()\n",
    "yukawa_A4L0.d0()\n",
    "yukawa_A4L0.cndn()"
   ]
  },
  {
   "cell_type": "markdown",
   "metadata": {},
   "source": [
    "#### The Solution"
   ]
  },
  {
   "cell_type": "code",
   "execution_count": 7,
   "metadata": {
    "ExecuteTime": {
     "end_time": "2023-11-18T19:35:03.751167Z",
     "start_time": "2023-11-18T19:35:00.064512Z"
    }
   },
   "outputs": [
    {
     "name": "stdout",
     "output_type": "stream",
     "text": [
      "0001   -0.43011038767715487173\n",
      "0011   -0.43031455428145954359   -0.05792699810208684906\n",
      "0021   -0.43031455428013751676   -0.05872090770273890906\n",
      "0031   -0.43031455428013751673   -0.05872173575461825831   -0.00010999302138729644\n",
      "0041   -0.43031455428013751673   -0.05872173639824703932   -0.00061727094877609408\n",
      "0051   -0.43031455428013751673   -0.05872173639873135240   -0.00072402432650591158\n",
      "0061   -0.43031455428013751673   -0.05872173639873171991   -0.00075479431138427837\n",
      "0071   -0.43031455428013751673   -0.05872173639873172020   -0.00076585517880873983\n",
      "0081   -0.43031455428013751673   -0.05872173639873172020   -0.00077038819105902031\n",
      "0091   -0.43031455428013751673   -0.05872173639873172020   -0.00077237150249694124\n",
      "0101   -0.43031455428013751673   -0.05872173639873172020   -0.00077326304415664158\n",
      "CPU times: user 3.6 s, sys: 23.9 ms, total: 3.63 s\n",
      "Wall time: 3.68 s\n"
     ]
    }
   ],
   "source": [
    "%%time\n",
    "yukawa_A4L0.get_arb_roots(showRoots='-r', printFormat=\"{:25.20f}\")"
   ]
  },
  {
   "cell_type": "code",
   "execution_count": null,
   "metadata": {},
   "outputs": [],
   "source": []
  }
 ],
 "metadata": {
  "hide_input": false,
  "kernelspec": {
   "display_name": "Python 3",
   "language": "python",
   "name": "python3"
  },
  "toc": {
   "base_numbering": 1,
   "nav_menu": {
    "height": "12px",
    "width": "252px"
   },
   "number_sections": true,
   "sideBar": true,
   "skip_h1_title": false,
   "title_cell": "İçindekiler",
   "title_sidebar": "Contents",
   "toc_cell": false,
   "toc_position": {
    "height": "785px",
    "left": "0px",
    "right": "1708px",
    "top": "158px",
    "width": "374.857px"
   },
   "toc_section_display": "block",
   "toc_window_display": true
  },
  "varInspector": {
   "cols": {
    "lenName": 16,
    "lenType": 16,
    "lenVar": 40
   },
   "kernels_config": {
    "python": {
     "delete_cmd_postfix": "",
     "delete_cmd_prefix": "del ",
     "library": "var_list.py",
     "varRefreshCmd": "print(var_dic_list())"
    },
    "r": {
     "delete_cmd_postfix": ") ",
     "delete_cmd_prefix": "rm(",
     "library": "var_list.r",
     "varRefreshCmd": "cat(var_dic_list()) "
    }
   },
   "types_to_exclude": [
    "module",
    "function",
    "builtin_function_or_method",
    "instance",
    "_Feature"
   ],
   "window_display": false
  }
 },
 "nbformat": 4,
 "nbformat_minor": 1
}
