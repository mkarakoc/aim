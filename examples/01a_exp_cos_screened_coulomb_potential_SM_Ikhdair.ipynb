{
 "cells": [
  {
   "cell_type": "markdown",
   "metadata": {},
   "source": [
    "## Bound Energy for the Exponential-Cosine-Screened <br/> Coulomb Potential\n",
    "S.M. Ikhdair, et al., J. Math. Chem., 41 (2007), p. 329.  \n",
    "https://link.springer.com/content/pdf/10.1007%2Fs10910-006-9080-2.pdf"
   ]
  },
  {
   "cell_type": "code",
   "execution_count": 1,
   "metadata": {
    "ExecuteTime": {
     "end_time": "2020-02-22T19:28:30.003230Z",
     "start_time": "2020-02-22T19:28:29.951688Z"
    }
   },
   "outputs": [],
   "source": [
    "import symengine as se\n",
    "one = lambda: se.Rational(1, 1)\n",
    "\n",
    "nL = one()*0\n",
    "nA = one()*1\n",
    "ndelta = one()*10/100\n",
    "nhbar, nm = one()*1, one()*1"
   ]
  },
  {
   "cell_type": "code",
   "execution_count": 2,
   "metadata": {
    "ExecuteTime": {
     "end_time": "2020-02-22T19:28:30.743512Z",
     "start_time": "2020-02-22T19:28:30.731763Z"
    }
   },
   "outputs": [
    {
     "name": "stdout",
     "output_type": "stream",
     "text": [
      "-0.400878583333333\n"
     ]
    }
   ],
   "source": [
    "En0 = lambda n: -nm*nA**2/(2*nhbar**2*(n+nL+1)**2)\n",
    "E01 = -nhbar**4*(nL+1)**2*(nL+2)*(2*nL+3)*ndelta**3/(6*nA*nm**2)\n",
    "E021 = nhbar**6*(nL+1)**3*(nL+2)*(2*nL+3)*(2*nL+5)*ndelta**4/(24*nA**2*nm**3)\n",
    "E022 = -nhbar**10*(nL+1)**6*(nL+2)*(2*nL+3)*(8*nL**2+37*nL+43)*ndelta**6/(72*nA**4*nm**5)\n",
    "E02 = E021 + E022\n",
    "\n",
    "print((En0(0) + nA*ndelta + E01 + E02)*1.0)"
   ]
  },
  {
   "cell_type": "code",
   "execution_count": null,
   "metadata": {
    "collapsed": true
   },
   "outputs": [],
   "source": []
  }
 ],
 "metadata": {
  "hide_input": false,
  "kernelspec": {
   "display_name": "Python 3",
   "language": "python",
   "name": "python3"
  },
  "language_info": {
   "codemirror_mode": {
    "name": "ipython",
    "version": 3
   },
   "file_extension": ".py",
   "mimetype": "text/x-python",
   "name": "python",
   "nbconvert_exporter": "python",
   "pygments_lexer": "ipython3",
   "version": "3.6.9"
  },
  "toc": {
   "base_numbering": 1,
   "collapse_to_match_collapsible_headings": false,
   "colors": {
    "hover_highlight": "#DAA520",
    "running_highlight": "#FF0000",
    "selected_highlight": "#FFD700"
   },
   "moveMenuLeft": true,
   "nav_menu": {
    "height": "128px",
    "width": "279px"
   },
   "navigate_menu": true,
   "number_sections": true,
   "sideBar": true,
   "skip_h1_title": false,
   "threshold": "5",
   "title_cell": "Table of Contents",
   "title_sidebar": "Contents",
   "toc_cell": false,
   "toc_position": {
    "height": "calc(100% - 180px)",
    "left": "10px",
    "top": "150px",
    "width": "285px"
   },
   "toc_section_display": "block",
   "toc_window_display": true
  },
  "varInspector": {
   "cols": {
    "lenName": 16,
    "lenType": 16,
    "lenVar": 40
   },
   "kernels_config": {
    "python": {
     "delete_cmd_postfix": "",
     "delete_cmd_prefix": "del ",
     "library": "var_list.py",
     "varRefreshCmd": "print(var_dic_list())"
    },
    "r": {
     "delete_cmd_postfix": ") ",
     "delete_cmd_prefix": "rm(",
     "library": "var_list.r",
     "varRefreshCmd": "cat(var_dic_list()) "
    }
   },
   "position": {
    "height": "854px",
    "left": "1550px",
    "right": "20px",
    "top": "120px",
    "width": "331px"
   },
   "types_to_exclude": [
    "module",
    "function",
    "builtin_function_or_method",
    "instance",
    "_Feature"
   ],
   "window_display": false
  }
 },
 "nbformat": 4,
 "nbformat_minor": 1
}
