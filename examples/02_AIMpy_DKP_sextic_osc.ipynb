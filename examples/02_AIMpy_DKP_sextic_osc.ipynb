{
 "cells": [
  {
   "cell_type": "markdown",
   "metadata": {},
   "source": [
    "#  The relativistic Duffin–Kemmer–Petiau sextic oscillator\n",
    "F Yasuk, M Karakoc and I Boztosun, Physica Scripta, Volume 78, 045010, 2008.  \n",
    "https://iopscience.iop.org/article/10.1088/0031-8949/78/04/045010/meta"
   ]
  },
  {
   "cell_type": "markdown",
   "metadata": {},
   "source": [
    "## Import AIM library "
   ]
  },
  {
   "cell_type": "code",
   "execution_count": 1,
   "metadata": {
    "ExecuteTime": {
     "end_time": "2019-02-07T08:44:48.243140Z",
     "start_time": "2019-02-07T08:44:47.914289Z"
    }
   },
   "outputs": [],
   "source": [
    "# Python program to use AIM tools\n",
    "from asymptotic import *"
   ]
  },
  {
   "cell_type": "markdown",
   "metadata": {},
   "source": [
    "## Definitions"
   ]
  },
  {
   "cell_type": "markdown",
   "metadata": {},
   "source": [
    "### Variables"
   ]
  },
  {
   "cell_type": "code",
   "execution_count": 2,
   "metadata": {
    "ExecuteTime": {
     "end_time": "2019-02-07T08:44:49.045743Z",
     "start_time": "2019-02-07T08:44:48.245907Z"
    }
   },
   "outputs": [],
   "source": [
    "# variables, l0, and s0\n",
    "En, m, hbar, c, J, r, r0 = se.symbols(\"En, m, hbar, c, J, r, r0\")\n",
    "w, q = se.symbols('w, q')\n",
    "beta1, beta2, A0, A1, A2, A3, A4 = se.symbols(\"beta1, beta2, A0, A1, A2, A3, A4\")"
   ]
  },
  {
   "cell_type": "markdown",
   "metadata": {},
   "source": [
    "### $\\lambda_0$ and $s_0$"
   ]
  },
  {
   "cell_type": "code",
   "execution_count": 3,
   "metadata": {
    "ExecuteTime": {
     "end_time": "2019-02-07T08:44:49.145804Z",
     "start_time": "2019-02-07T08:44:49.049722Z"
    }
   },
   "outputs": [],
   "source": [
    "l0 = 2*beta1 + 4*beta2*r - 2/r\n",
    "s00 = -beta1**2 + 6*beta2 + 2*beta1/r - 4*beta1*beta2*r - 4*beta1**2*r**2\n",
    "s01 = -(En**2 + A0 - A1/r**2 - A2*r**2 + A3*r**4 - A4*r**6)/(hbar**2*c**2)\n",
    "s0 = s00 + s01"
   ]
  },
  {
   "cell_type": "markdown",
   "metadata": {},
   "source": [
    "## Case: q = $\\omega$ = 0.1"
   ]
  },
  {
   "cell_type": "markdown",
   "metadata": {},
   "source": [
    "### s states"
   ]
  },
  {
   "cell_type": "markdown",
   "metadata": {},
   "source": [
    "#### Numerical values for variables¶"
   ]
  },
  {
   "cell_type": "code",
   "execution_count": 4,
   "metadata": {
    "ExecuteTime": {
     "end_time": "2019-02-07T08:44:49.243255Z",
     "start_time": "2019-02-07T08:44:49.149910Z"
    }
   },
   "outputs": [],
   "source": [
    "nhbar, nm, nc = o* 1, o* 1, o* 1\n",
    "\n",
    "nJ = o* 0\n",
    "nq, nw = o* 1/10, o* 1/10\n",
    "\n",
    "nbeta1, nbeta2 = o* 2, o* 2\n",
    "nr0 = -o* (nbeta1 - se.sqrt(nbeta1**2 + 8*nbeta2))/(4*nbeta2)\n",
    "\n",
    "nA0 = nm*nc**2*(3*nhbar*nw-nm*nc**2)\n",
    "nA1 = nhbar**2*nc**2*nJ*(nJ+1)\n",
    "nA2 = nc**2*(nm**2*nw**2+5*nhbar*nq)\n",
    "nA3 = 2*nm*nc**2*nq*nw\n",
    "nA4 = nq**2*nc**2\n",
    "\n",
    "# parameters of lambda_0 (pl0) and s_0 (ps0)\n",
    "pl0 = {beta1:nbeta1, beta2:nbeta2}\n",
    "ps0 = {beta1:nbeta1, beta2:nbeta2, r0:nr0, A0:nA0, A1:nA1, A2:nA2, A3:nA3, A4:nA4, hbar:nhbar, c:nc}"
   ]
  },
  {
   "cell_type": "markdown",
   "metadata": {},
   "source": [
    "#### Initialize AIM solver"
   ]
  },
  {
   "cell_type": "code",
   "execution_count": 5,
   "metadata": {
    "ExecuteTime": {
     "end_time": "2019-02-07T08:44:49.802846Z",
     "start_time": "2019-02-07T08:44:49.245280Z"
    }
   },
   "outputs": [
    {
     "data": {
      "text/latex": [
       "$\\displaystyle \\text{Values of the parameters of } \\lambda_0:$"
      ],
      "text/plain": [
       "<IPython.core.display.Math object>"
      ]
     },
     "metadata": {},
     "output_type": "display_data"
    },
    {
     "data": {
      "text/latex": [
       "$\\displaystyle \\beta_{1} = 2,~~\\beta_{2} = 2$"
      ],
      "text/plain": [
       "<IPython.core.display.Math object>"
      ]
     },
     "metadata": {},
     "output_type": "display_data"
    },
    {
     "data": {
      "text/latex": [
       "$\\displaystyle \\text{Values of the parameters of } s_0:$"
      ],
      "text/plain": [
       "<IPython.core.display.Math object>"
      ]
     },
     "metadata": {},
     "output_type": "display_data"
    },
    {
     "data": {
      "text/latex": [
       "$\\displaystyle A_{0} = -7/10,~~A_{1} = 0,~~A_{2} = 51/100,~~A_{3} = 1/50,~~A_{4} = 1/100,~~\\beta_{1} = 2,~~\\beta_{2} = 2,~~\\hbar = 1,~~c = 1,~~r_{0} = (-1/8)*(2 - sqrt(20))$"
      ],
      "text/plain": [
       "<IPython.core.display.Math object>"
      ]
     },
     "metadata": {},
     "output_type": "display_data"
    },
    {
     "data": {
      "text/latex": [
       "$\\displaystyle            \n",
       "                \\begin{align}\n",
       "                \\lambda_0 &= \\left[8 r + 4 - \\frac{2}{r} \\right.\\\\ \n",
       "                      s_0 &= \\left[- En^{2} + 0.01 r^{6} - 0.02 r^{4} - 15.49 r^{2} - 16.0 r + 8.7 + \\frac{4.0}{r} \\right.\n",
       "                \\end{align}\n",
       "                $"
      ],
      "text/plain": [
       "<IPython.core.display.Math object>"
      ]
     },
     "metadata": {},
     "output_type": "display_data"
    },
    {
     "name": "stdout",
     "output_type": "stream",
     "text": [
      "CPU times: user 299 ms, sys: 8.52 ms, total: 308 ms\n",
      "Wall time: 309 ms\n"
     ]
    }
   ],
   "source": [
    "%%time\n",
    "# pass lambda_0, s_0 and variable values to aim class\n",
    "sexticOsc_J0 = aim(l0, s0, pl0, ps0)\n",
    "sexticOsc_J0.display_parameters()\n",
    "sexticOsc_J0.display_l0s0(2)\n",
    "sexticOsc_J0.parameters(En, r, nr0, nmax=201, nstep=10, dprec=500, tol=1e-101)"
   ]
  },
  {
   "cell_type": "markdown",
   "metadata": {},
   "source": [
    "#### Calculation of Taylor series coefficients of  λ0λ0  and  s0s0 "
   ]
  },
  {
   "cell_type": "code",
   "execution_count": 6,
   "metadata": {
    "ExecuteTime": {
     "end_time": "2019-02-07T08:48:32.614149Z",
     "start_time": "2019-02-07T08:44:49.809594Z"
    }
   },
   "outputs": [
    {
     "name": "stdout",
     "output_type": "stream",
     "text": [
      "CPU times: user 3min 13s, sys: 624 ms, total: 3min 13s\n",
      "Wall time: 3min 13s\n"
     ]
    }
   ],
   "source": [
    "%%time\n",
    "# create coefficients for improved AIM\n",
    "sexticOsc_J0.c0()\n",
    "sexticOsc_J0.d0()\n",
    "sexticOsc_J0.cndn()"
   ]
  },
  {
   "cell_type": "markdown",
   "metadata": {},
   "source": [
    "#### The solution"
   ]
  },
  {
   "cell_type": "code",
   "execution_count": 7,
   "metadata": {
    "ExecuteTime": {
     "end_time": "2019-02-07T08:48:56.164854Z",
     "start_time": "2019-02-07T08:48:32.617984Z"
    },
    "scrolled": false
   },
   "outputs": [
    {
     "name": "stdout",
     "output_type": "stream",
     "text": [
      "0001       3.36445725728443535\n",
      "0011       2.06224866748193186       3.71453601866614535\n",
      "0021       1.79773849991486153       2.95853552211924131       4.21129759560483331       5.54649535945588575\n",
      "0031       1.73438805878535504       2.68502761908710836       3.66764104203528586       4.70180770713959515\n",
      "0041       1.72427025965769588       2.60822476751384039       3.44645622846246563       4.29618250218738717\n",
      "0051       1.72357609738502431       2.59874453628846712       3.39721350565403320       4.15416305172843344\n",
      "0061       1.72356698735998023       2.59852833595200994       3.39495720783361346       4.14052146658052801\n",
      "0071       1.72356712662823824       2.59853205012559990       3.39500303047643314       4.14086311173335481\n",
      "0081       1.72356712428290494       2.59853197531069727       3.39500187424648369       4.14085177697641391\n",
      "0091       1.72356712431358431       2.59853197665893558       3.39500190340645597       4.14085218844201362\n",
      "0101       1.72356712431425220       2.59853197667054612       3.39500190331404967       4.14085218204871021\n",
      "0111       1.72356712431419405       2.59853197666834400       3.39500190327169256       4.14085218152151186\n",
      "0121       1.72356712431419431       2.59853197666837365       3.39500190327286154       4.14085218154933829\n",
      "0131       1.72356712431419441       2.59853197666837798       3.39500190327295278       4.14085218155059375\n",
      "0141       1.72356712431419441       2.59853197666837795       3.39500190327295062       4.14085218155052230\n",
      "0151       1.72356712431419441       2.59853197666837794       3.39500190327295025       4.14085218155051528\n",
      "0161       1.72356712431419441       2.59853197666837794       3.39500190327295024       4.14085218155051524\n",
      "0171       1.72356712431419441       2.59853197666837794       3.39500190327295024       4.14085218155051527\n",
      "0181       1.72356712431419441       2.59853197666837794       3.39500190327295024       4.14085218155051527\n",
      "0191       1.72356712431419441       2.59853197666837794       3.39500190327295024       4.14085218155051527\n",
      "0201       1.72356712431419441       2.59853197666837794       3.39500190327295024       4.14085218155051527\n",
      "CPU times: user 24.8 s, sys: 72.6 ms, total: 24.9 s\n",
      "Wall time: 24.7 s\n"
     ]
    }
   ],
   "source": [
    "%%time\n",
    "sexticOsc_J0.get_arb_roots(showRoots='+r', printFormat=\"{:25.17f}\")"
   ]
  },
  {
   "cell_type": "markdown",
   "metadata": {},
   "source": [
    "### p states"
   ]
  },
  {
   "cell_type": "code",
   "execution_count": 8,
   "metadata": {
    "ExecuteTime": {
     "end_time": "2019-02-07T08:52:57.888474Z",
     "start_time": "2019-02-07T08:48:56.169684Z"
    }
   },
   "outputs": [
    {
     "data": {
      "text/latex": [
       "$\\displaystyle \\text{Values of the parameters of } \\lambda_0:$"
      ],
      "text/plain": [
       "<IPython.core.display.Math object>"
      ]
     },
     "metadata": {},
     "output_type": "display_data"
    },
    {
     "data": {
      "text/latex": [
       "$\\displaystyle \\beta_{1} = 2,~~\\beta_{2} = 2$"
      ],
      "text/plain": [
       "<IPython.core.display.Math object>"
      ]
     },
     "metadata": {},
     "output_type": "display_data"
    },
    {
     "data": {
      "text/latex": [
       "$\\displaystyle \\text{Values of the parameters of } s_0:$"
      ],
      "text/plain": [
       "<IPython.core.display.Math object>"
      ]
     },
     "metadata": {},
     "output_type": "display_data"
    },
    {
     "data": {
      "text/latex": [
       "$\\displaystyle A_{0} = -7/10,~~A_{1} = 2,~~A_{2} = 51/100,~~A_{3} = 1/50,~~A_{4} = 1/100,~~\\beta_{1} = 2,~~\\beta_{2} = 2,~~\\hbar = 1,~~c = 1,~~r_{0} = (-1/8)*(2 - sqrt(20))$"
      ],
      "text/plain": [
       "<IPython.core.display.Math object>"
      ]
     },
     "metadata": {},
     "output_type": "display_data"
    },
    {
     "data": {
      "text/latex": [
       "$\\displaystyle            \n",
       "                \\begin{align}\n",
       "                \\lambda_0 &= \\left[8 r + 4 - \\frac{2}{r} \\right.\\\\ \n",
       "                      s_0 &= \\left[- En^{2} + 0.01 r^{6} - 0.02 r^{4} - 15.49 r^{2} - 16.0 r + 8.7 + \\frac{4.0}{r} + \\frac{2.0}{r^{2}} \\right.\n",
       "                \\end{align}\n",
       "                $"
      ],
      "text/plain": [
       "<IPython.core.display.Math object>"
      ]
     },
     "metadata": {},
     "output_type": "display_data"
    },
    {
     "name": "stdout",
     "output_type": "stream",
     "text": [
      "0001       4.82187291925769935\n",
      "0011       2.77436290277683605       4.51757239251514998\n",
      "0021       2.31776026114239723       3.53387962016352688       4.82832238391099067       6.24051437733093774\n",
      "0031       2.18609163892967229       3.14346458552742025       4.15525665322138078       5.21421277084299846\n",
      "0041       2.15929167601387908       3.01161948774625525       3.85209730709065412       4.71827906112208084\n",
      "0051       2.15696391699341434       2.99030773430463900       3.76752637998941861       4.51621778785434398\n",
      "0061       2.15692574507381821       2.98965068332447030       3.76206600925062292       4.48938346167429866\n",
      "0071       2.15692635440678831       2.98966274907362220       3.76218736811237571       4.49012058102627214\n",
      "0081       2.15692634335014822       2.98966248118758365       3.76218391425178413       4.49009220361544042\n",
      "0091       2.15692634351752849       2.98966248682243458       3.76218401715307969       4.49009345238929151\n",
      "0101       2.15692634352009137       2.98966248683912324       3.76218401624244177       4.49009342433839500\n",
      "0111       2.15692634351979751       2.98966248683045813       3.76218401610122617       4.49009342288485385\n",
      "0121       2.15692634351979992       2.98966248683062559       3.76218401610652583       4.49009342299305611\n",
      "0131       2.15692634351980047       2.98966248683064331       3.76218401610684465       4.49009342299665589\n",
      "0141       2.15692634351980047       2.98966248683064307       3.76218401610683300       4.49009342299633993\n",
      "0151       2.15692634351980047       2.98966248683064301       3.76218401610683151       4.49009342299631502\n",
      "0161       2.15692634351980047       2.98966248683064301       3.76218401610683149       4.49009342299631515\n",
      "0171       2.15692634351980047       2.98966248683064301       3.76218401610683149       4.49009342299631529\n",
      "0181       2.15692634351980047       2.98966248683064301       3.76218401610683149       4.49009342299631531\n",
      "0191       2.15692634351980047       2.98966248683064301       3.76218401610683149       4.49009342299631531\n",
      "0201       2.15692634351980047       2.98966248683064301       3.76218401610683149       4.49009342299631531\n",
      "CPU times: user 3min 34s, sys: 616 ms, total: 3min 35s\n",
      "Wall time: 3min 35s\n"
     ]
    }
   ],
   "source": [
    "%%time\n",
    "nJ = o* 1\n",
    "nA1 = nhbar**2*nc**2*nJ*(nJ+1)\n",
    "\n",
    "# parameters of lambda_0 (pl0) and s_0 (ps0)\n",
    "pl0 = {beta1:nbeta1, beta2:nbeta2}\n",
    "ps0 = {beta1:nbeta1, beta2:nbeta2, r0:nr0, A0:nA0, A1:nA1, A2:nA2, A3:nA3, A4:nA4, hbar:nhbar, c:nc}\n",
    "\n",
    "# pass lambda_0, s_0 and variable values to aim class\n",
    "sexticOsc_J1 = aim(l0, s0, pl0, ps0)\n",
    "sexticOsc_J1.display_parameters()\n",
    "sexticOsc_J1.display_l0s0(2)\n",
    "sexticOsc_J1.parameters(En, r, nr0, nmax=201, nstep=10, dprec=500, tol=1e-101)\n",
    "\n",
    "# create coefficients for improved AIM\n",
    "sexticOsc_J1.c0()\n",
    "sexticOsc_J1.d0()\n",
    "sexticOsc_J1.cndn()\n",
    "\n",
    "# the solution\n",
    "sexticOsc_J1.get_arb_roots(showRoots='+r', printFormat=\"{:25.17f}\")"
   ]
  },
  {
   "cell_type": "markdown",
   "metadata": {},
   "source": [
    "### d states"
   ]
  },
  {
   "cell_type": "code",
   "execution_count": 9,
   "metadata": {
    "ExecuteTime": {
     "end_time": "2019-02-07T08:56:57.802494Z",
     "start_time": "2019-02-07T08:52:57.892280Z"
    }
   },
   "outputs": [
    {
     "data": {
      "text/latex": [
       "$\\displaystyle \\text{Values of the parameters of } \\lambda_0:$"
      ],
      "text/plain": [
       "<IPython.core.display.Math object>"
      ]
     },
     "metadata": {},
     "output_type": "display_data"
    },
    {
     "data": {
      "text/latex": [
       "$\\displaystyle \\beta_{1} = 2,~~\\beta_{2} = 2$"
      ],
      "text/plain": [
       "<IPython.core.display.Math object>"
      ]
     },
     "metadata": {},
     "output_type": "display_data"
    },
    {
     "data": {
      "text/latex": [
       "$\\displaystyle \\text{Values of the parameters of } s_0:$"
      ],
      "text/plain": [
       "<IPython.core.display.Math object>"
      ]
     },
     "metadata": {},
     "output_type": "display_data"
    },
    {
     "data": {
      "text/latex": [
       "$\\displaystyle A_{0} = -7/10,~~A_{1} = 6,~~A_{2} = 51/100,~~A_{3} = 1/50,~~A_{4} = 1/100,~~\\beta_{1} = 2,~~\\beta_{2} = 2,~~\\hbar = 1,~~c = 1,~~r_{0} = (-1/8)*(2 - sqrt(20))$"
      ],
      "text/plain": [
       "<IPython.core.display.Math object>"
      ]
     },
     "metadata": {},
     "output_type": "display_data"
    },
    {
     "data": {
      "text/latex": [
       "$\\displaystyle            \n",
       "                \\begin{align}\n",
       "                \\lambda_0 &= \\left[8 r + 4 - \\frac{2}{r} \\right.\\\\ \n",
       "                      s_0 &= \\left[- En^{2} + 0.01 r^{6} - 0.02 r^{4} - 15.49 r^{2} - 16.0 r + 8.7 + \\frac{4.0}{r} + \\frac{6.0}{r^{2}} \\right.\n",
       "                \\end{align}\n",
       "                $"
      ],
      "text/plain": [
       "<IPython.core.display.Math object>"
      ]
     },
     "metadata": {},
     "output_type": "display_data"
    },
    {
     "name": "stdout",
     "output_type": "stream",
     "text": [
      "0001       6.71796084610507275\n",
      "0011       3.46876391454353238       5.29952520154266871\n",
      "0021       2.81569356954559334       4.09612757090051198       5.43289869872423591       7.06102335434582362\n",
      "0031       2.60425013001630686       3.59134722913684855       4.63454617543588826       5.71857232137262456\n",
      "0041       2.55238230915766284       3.39727882131377914       4.25001824758429294       5.13562634414079308\n",
      "0051       2.54677288983622212       3.35778858029083239       4.12196893224062712       4.86998485495169561\n",
      "0061       2.54665755663931973       3.35615070252050024       4.11062667466230666       4.82326398291710868\n",
      "0071       2.54665948021553734       3.35618288535783258       4.11090129123394419       4.82462842675151302\n",
      "0081       2.54665944256855839       3.35618209675222476       4.11089245340522475       4.82456698944013368\n",
      "0091       2.54665944322262613       3.35618211600644651       4.11089276443508312       4.82457030718275413\n",
      "0101       2.54665944322897081       3.35618211596221919       4.11089275987701934       4.82457020670488945\n",
      "0111       2.54665944322789604       3.35618211593420368       4.11089275947750660       4.82457020339416883\n",
      "0121       2.54665944322790947       3.35618211593494049       4.11089275949773220       4.82457020376092585\n",
      "0131       2.54665944322791156       3.35618211593500017       4.11089275949867385       4.82457020376923346\n",
      "0141       2.54665944322791155       3.35618211593499885       4.11089275949862284       4.82457020376802745\n",
      "0151       2.54665944322791154       3.35618211593499861       4.11089275949861770       4.82457020376795044\n",
      "0161       2.54665944322791154       3.35618211593499860       4.11089275949861766       4.82457020376795204\n",
      "0171       2.54665944322791154       3.35618211593499860       4.11089275949861769       4.82457020376795258\n",
      "0181       2.54665944322791154       3.35618211593499860       4.11089275949861769       4.82457020376795262\n",
      "0191       2.54665944322791154       3.35618211593499860       4.11089275949861769       4.82457020376795262\n",
      "0201       2.54665944322791154       3.35618211593499860       4.11089275949861769       4.82457020376795262\n",
      "CPU times: user 3min 36s, sys: 600 ms, total: 3min 36s\n",
      "Wall time: 3min 36s\n"
     ]
    }
   ],
   "source": [
    "%%time\n",
    "nJ = o* 2\n",
    "nA1 = nhbar**2*nc**2*nJ*(nJ+1)\n",
    "\n",
    "# parameters of lambda_0 (pl0) and s_0 (ps0)\n",
    "pl0 = {beta1:nbeta1, beta2:nbeta2}\n",
    "ps0 = {beta1:nbeta1, beta2:nbeta2, r0:nr0, A0:nA0, A1:nA1, A2:nA2, A3:nA3, A4:nA4, hbar:nhbar, c:nc}\n",
    "\n",
    "# pass lambda_0, s_0 and variable values to aim class\n",
    "sexticOsc_J2 = aim(l0, s0, pl0, ps0)\n",
    "sexticOsc_J2.display_parameters()\n",
    "sexticOsc_J2.display_l0s0(2)\n",
    "sexticOsc_J2.parameters(En, r, nr0, nmax=201, nstep=10, dprec=500, tol=1e-101)\n",
    "\n",
    "# create coefficients for improved AIM\n",
    "sexticOsc_J2.c0()\n",
    "sexticOsc_J2.d0()\n",
    "sexticOsc_J2.cndn()\n",
    "\n",
    "# the solution\n",
    "sexticOsc_J2.get_arb_roots(showRoots='+r', printFormat=\"{:25.17f}\")"
   ]
  },
  {
   "cell_type": "markdown",
   "metadata": {},
   "source": [
    "### f states"
   ]
  },
  {
   "cell_type": "code",
   "execution_count": 10,
   "metadata": {
    "ExecuteTime": {
     "end_time": "2019-02-07T09:00:58.436906Z",
     "start_time": "2019-02-07T08:56:57.806334Z"
    }
   },
   "outputs": [
    {
     "data": {
      "text/latex": [
       "$\\displaystyle \\text{Values of the parameters of } \\lambda_0:$"
      ],
      "text/plain": [
       "<IPython.core.display.Math object>"
      ]
     },
     "metadata": {},
     "output_type": "display_data"
    },
    {
     "data": {
      "text/latex": [
       "$\\displaystyle \\beta_{1} = 2,~~\\beta_{2} = 2$"
      ],
      "text/plain": [
       "<IPython.core.display.Math object>"
      ]
     },
     "metadata": {},
     "output_type": "display_data"
    },
    {
     "data": {
      "text/latex": [
       "$\\displaystyle \\text{Values of the parameters of } s_0:$"
      ],
      "text/plain": [
       "<IPython.core.display.Math object>"
      ]
     },
     "metadata": {},
     "output_type": "display_data"
    },
    {
     "data": {
      "text/latex": [
       "$\\displaystyle A_{0} = -7/10,~~A_{1} = 12,~~A_{2} = 51/100,~~A_{3} = 1/50,~~A_{4} = 1/100,~~\\beta_{1} = 2,~~\\beta_{2} = 2,~~\\hbar = 1,~~c = 1,~~r_{0} = (-1/8)*(2 - sqrt(20))$"
      ],
      "text/plain": [
       "<IPython.core.display.Math object>"
      ]
     },
     "metadata": {},
     "output_type": "display_data"
    },
    {
     "data": {
      "text/latex": [
       "$\\displaystyle            \n",
       "                \\begin{align}\n",
       "                \\lambda_0 &= \\left[8 r + 4 - \\frac{2}{r} \\right.\\\\ \n",
       "                      s_0 &= \\left[- En^{2} + 0.01 r^{6} - 0.02 r^{4} - 15.49 r^{2} - 16.0 r + 8.7 + \\frac{4.0}{r} + \\frac{12.0}{r^{2}} \\right.\n",
       "                \\end{align}\n",
       "                $"
      ],
      "text/plain": [
       "<IPython.core.display.Math object>"
      ]
     },
     "metadata": {},
     "output_type": "display_data"
    },
    {
     "name": "stdout",
     "output_type": "stream",
     "text": [
      "0001       8.77525795921239121\n",
      "0011       4.15929959993047792       6.07848575023158345\n",
      "0021       3.30463604821916714       4.65002182978383676       6.02988975486865881\n",
      "0031       3.00635414470137319       4.03218572313430491       5.10759026270516701       6.21709867002266860\n",
      "0041       2.92172472116760770       3.77170763260858999       4.64288107816498526       5.54929888680002931\n",
      "0051       2.91054412552470313       3.70740177946627438       4.46519632461924794       5.21873246962450026\n",
      "0061       2.91025538772731920       3.70385381768827230       4.44424799488364677       5.14475518696186483\n",
      "0071       2.91026042038319194       3.70392834021144135       4.44479401778934940       5.14693047601440175\n",
      "0081       2.91026031403008912       3.70392632226785393       4.44477407754451303       5.14681450023362899\n",
      "0091       2.91026031613854039       3.70392637928431049       4.44477490974680271       5.14682236718064835\n",
      "0101       2.91026031614830746       3.70392637886211645       4.44477489239945666       5.14682205633173198\n",
      "0111       2.91026031614504222       3.70392637878365096       4.44477489142071161       5.14682205043574196\n",
      "0121       2.91026031614509916       3.70392637878638569       4.44477489148839600       5.14682205154605937\n",
      "0131       2.91026031614510571       3.70392637878655962       4.44477489149078389       5.14682205155980257\n",
      "0141       2.91026031614510564       3.70392637878655383       4.44477489149059150       5.14682205155571029\n",
      "0151       2.91026031614510562       3.70392637878655305       4.44477489149057576       5.14682205155550072\n",
      "0161       2.91026031614510562       3.70392637878655303       4.44477489149057580       5.14682205155550964\n",
      "0171       2.91026031614510562       3.70392637878655304       4.44477489149057589       5.14682205155551152\n",
      "0181       2.91026031614510562       3.70392637878655304       4.44477489149057590       5.14682205155551164\n",
      "0191       2.91026031614510562       3.70392637878655304       4.44477489149057590       5.14682205155551163\n",
      "0201       2.91026031614510562       3.70392637878655304       4.44477489149057590       5.14682205155551163\n",
      "CPU times: user 3min 33s, sys: 660 ms, total: 3min 34s\n",
      "Wall time: 3min 34s\n"
     ]
    }
   ],
   "source": [
    "%%time\n",
    "nJ = o* 3\n",
    "nA1 = nhbar**2*nc**2*nJ*(nJ+1)\n",
    "\n",
    "# parameters of lambda_0 (pl0) and s_0 (ps0)\n",
    "pl0 = {beta1:nbeta1, beta2:nbeta2}\n",
    "ps0 = {beta1:nbeta1, beta2:nbeta2, r0:nr0, A0:nA0, A1:nA1, A2:nA2, A3:nA3, A4:nA4, hbar:nhbar, c:nc}\n",
    "\n",
    "# pass lambda_0, s_0 and variable values to aim class\n",
    "sexticOsc_J3 = aim(l0, s0, pl0, ps0)\n",
    "sexticOsc_J3.display_parameters()\n",
    "sexticOsc_J3.display_l0s0(2)\n",
    "sexticOsc_J3.parameters(En, r, nr0, nmax=201, nstep=10, dprec=500, tol=1e-101)\n",
    "\n",
    "# create coefficients for improved AIM\n",
    "sexticOsc_J3.c0()\n",
    "sexticOsc_J3.d0()\n",
    "sexticOsc_J3.cndn()\n",
    "\n",
    "# the solution\n",
    "sexticOsc_J3.get_arb_roots(showRoots='+r', printFormat=\"{:25.17f}\")"
   ]
  },
  {
   "cell_type": "code",
   "execution_count": null,
   "metadata": {},
   "outputs": [],
   "source": []
  }
 ],
 "metadata": {
  "hide_input": false,
  "kernelspec": {
   "display_name": "Python 3",
   "language": "python",
   "name": "python3"
  },
  "language_info": {
   "codemirror_mode": {
    "name": "ipython",
    "version": 3
   },
   "file_extension": ".py",
   "mimetype": "text/x-python",
   "name": "python",
   "nbconvert_exporter": "python",
   "pygments_lexer": "ipython3",
   "version": "3.6.9"
  },
  "toc": {
   "base_numbering": 1,
   "collapse_to_match_collapsible_headings": false,
   "colors": {
    "hover_highlight": "#DAA520",
    "running_highlight": "#FF0000",
    "selected_highlight": "#FFD700"
   },
   "moveMenuLeft": true,
   "nav_menu": {
    "height": "12px",
    "width": "252px"
   },
   "navigate_menu": true,
   "number_sections": true,
   "sideBar": true,
   "skip_h1_title": false,
   "threshold": "5",
   "title_cell": "İçindekiler",
   "title_sidebar": "Contents",
   "toc_cell": false,
   "toc_position": {
    "height": "785px",
    "left": "0px",
    "right": "1708px",
    "top": "158px",
    "width": "158px"
   },
   "toc_section_display": "block",
   "toc_window_display": true
  },
  "varInspector": {
   "cols": {
    "lenName": 16,
    "lenType": 16,
    "lenVar": 40
   },
   "kernels_config": {
    "python": {
     "delete_cmd_postfix": "",
     "delete_cmd_prefix": "del ",
     "library": "var_list.py",
     "varRefreshCmd": "print(var_dic_list())"
    },
    "r": {
     "delete_cmd_postfix": ") ",
     "delete_cmd_prefix": "rm(",
     "library": "var_list.r",
     "varRefreshCmd": "cat(var_dic_list()) "
    }
   },
   "types_to_exclude": [
    "module",
    "function",
    "builtin_function_or_method",
    "instance",
    "_Feature"
   ],
   "window_display": false
  }
 },
 "nbformat": 4,
 "nbformat_minor": 1
}
