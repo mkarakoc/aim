{
 "cells": [
  {
   "cell_type": "markdown",
   "metadata": {},
   "source": [
    "# ACCURATE ITERATIVE AND PERTURBATIVE <br> SOLUTIONS OF THE YUKAWA POTENTIAL\n",
    "\n",
    "\n",
    "M. Karakoc and I. Boztosun, IJMPE Vol. 15, No. 6 (2006) 1253–1262.  \n",
    "https://www.worldscientific.com/doi/abs/10.1142/S0218301306004806\n"
   ]
  },
  {
   "cell_type": "markdown",
   "metadata": {},
   "source": [
    "## Import AIM library "
   ]
  },
  {
   "cell_type": "code",
   "execution_count": 1,
   "metadata": {
    "ExecuteTime": {
     "end_time": "2019-02-27T09:18:51.273034Z",
     "start_time": "2019-02-27T09:18:51.072159Z"
    },
    "pycharm": {
     "is_executing": false
    }
   },
   "outputs": [],
   "source": [
    "# Python program to use AIM tools\n",
    "from asymptotic import *"
   ]
  },
  {
   "cell_type": "markdown",
   "metadata": {},
   "source": [
    "## Definitions"
   ]
  },
  {
   "cell_type": "markdown",
   "metadata": {},
   "source": [
    "### Variables"
   ]
  },
  {
   "cell_type": "code",
   "execution_count": 2,
   "metadata": {
    "ExecuteTime": {
     "end_time": "2019-02-27T09:18:51.281753Z",
     "start_time": "2019-02-27T09:18:51.276589Z"
    }
   },
   "outputs": [],
   "source": [
    "# symengine (symbolic) variables for lambda_0 and s_0 \n",
    "En, m, hbar, L, r, r0 = se.symbols(\"En, m, hbar, L, r, r0\")\n",
    "beta, alpha, A = se.symbols(\"beta, alpha, A\")"
   ]
  },
  {
   "cell_type": "markdown",
   "metadata": {},
   "source": [
    "### $\\lambda_0$ and $s_0$"
   ]
  },
  {
   "cell_type": "code",
   "execution_count": 3,
   "metadata": {
    "ExecuteTime": {
     "end_time": "2019-02-27T09:18:51.336169Z",
     "start_time": "2019-02-27T09:18:51.284079Z"
    }
   },
   "outputs": [],
   "source": [
    "# lambda_0 and s_0\n",
    "l0 = 2*beta-2/r\n",
    "s0 = -beta**2 - (2*En*m)/hbar**2 + L/r**2 + L**2/r**2 + (2*beta)/r - (2*A*se.exp(-alpha*r)*m)/(hbar**2*r)"
   ]
  },
  {
   "cell_type": "markdown",
   "metadata": {},
   "source": [
    "## Case: A=4"
   ]
  },
  {
   "cell_type": "markdown",
   "metadata": {},
   "source": [
    "### s states"
   ]
  },
  {
   "cell_type": "markdown",
   "metadata": {},
   "source": [
    "#### Numerical values for variables¶"
   ]
  },
  {
   "cell_type": "code",
   "execution_count": 4,
   "metadata": {
    "ExecuteTime": {
     "end_time": "2019-02-27T09:18:51.400361Z",
     "start_time": "2019-02-27T09:18:51.339414Z"
    }
   },
   "outputs": [],
   "source": [
    "## Case: A = 4, L=0\n",
    "nbeta = 3\n",
    "nr0 = o* 1/nbeta\n",
    "\n",
    "# parameters of lambda_0 (pl0) and s_0 (ps0)\n",
    "pl0 = {beta: nbeta}\n",
    "ps0 = {beta: nbeta, \n",
    "       alpha: o* 2/10, \n",
    "       A: 4, \n",
    "       m: o* 1/2, \n",
    "       L: 0, \n",
    "       hbar: 1, \n",
    "       r0: nr0}"
   ]
  },
  {
   "cell_type": "markdown",
   "metadata": {},
   "source": [
    "#### Initialize AIM solver"
   ]
  },
  {
   "cell_type": "code",
   "execution_count": 5,
   "metadata": {
    "ExecuteTime": {
     "end_time": "2019-02-27T09:18:54.160840Z",
     "start_time": "2019-02-27T09:18:53.823116Z"
    }
   },
   "outputs": [
    {
     "data": {
      "text/latex": [
       "$\\displaystyle \\text{Values of the parameters of } \\lambda_0:$"
      ],
      "text/plain": [
       "<IPython.core.display.Math object>"
      ]
     },
     "metadata": {},
     "output_type": "display_data"
    },
    {
     "data": {
      "text/latex": [
       "$\\displaystyle \\beta = 3$"
      ],
      "text/plain": [
       "<IPython.core.display.Math object>"
      ]
     },
     "metadata": {},
     "output_type": "display_data"
    },
    {
     "data": {
      "text/latex": [
       "$\\displaystyle \\text{Values of the parameters of } s_0:$"
      ],
      "text/plain": [
       "<IPython.core.display.Math object>"
      ]
     },
     "metadata": {},
     "output_type": "display_data"
    },
    {
     "data": {
      "text/latex": [
       "$\\displaystyle A = 4,~~L = 0,~~\\alpha = 1/5,~~\\beta = 3,~~\\hbar = 1,~~m = 1/2,~~r_{0} = 1/3$"
      ],
      "text/plain": [
       "<IPython.core.display.Math object>"
      ]
     },
     "metadata": {},
     "output_type": "display_data"
    },
    {
     "data": {
      "text/latex": [
       "$\\displaystyle            \n",
       "                \\begin{align}\n",
       "                \\lambda_0 &= \\left[2 \\beta - \\frac{2}{r} \\right.\\\\ \n",
       "                      s_0 &= \\left[- \\frac{2 A m e^{- \\alpha r}}{\\hbar^{2} r} - \\frac{2 En m}{\\hbar^{2}} + \\frac{L^{2}}{r^{2}} + \\frac{L}{r^{2}} - \\beta^{2} + \\frac{2 \\beta}{r} \\right.\\\\ \n",
       "                \\lambda_0 &= \\left[6 - \\frac{2}{r} \\right.\\\\ \n",
       "                      s_0 &= \\left[- En - 9.0 + \\frac{6.0}{r} - \\frac{4.0 e^{- \\frac{r}{5}}}{r} \\right.\n",
       "                \\end{align}\n",
       "                $"
      ],
      "text/plain": [
       "<IPython.core.display.Math object>"
      ]
     },
     "metadata": {},
     "output_type": "display_data"
    },
    {
     "name": "stdout",
     "output_type": "stream",
     "text": [
      "CPU times: user 285 ms, sys: 8.81 ms, total: 294 ms\n",
      "Wall time: 296 ms\n"
     ]
    }
   ],
   "source": [
    "%%time\n",
    "# pass lambda_0, s_0 and variable values to aim class\n",
    "yukawa_A4L0 = aim(l0, s0, pl0, ps0)\n",
    "yukawa_A4L0.display_parameters()\n",
    "yukawa_A4L0.display_l0s0(0)\n",
    "yukawa_A4L0.parameters(En, r, nr0, nmax=201, nstep=10, dprec=500, tol=1e-101)"
   ]
  },
  {
   "cell_type": "markdown",
   "metadata": {},
   "source": [
    "#### Calculation necessary coefficients"
   ]
  },
  {
   "cell_type": "code",
   "execution_count": 6,
   "metadata": {
    "ExecuteTime": {
     "end_time": "2019-02-07T08:46:12.706734Z",
     "start_time": "2019-02-07T08:42:56.935192Z"
    }
   },
   "outputs": [
    {
     "name": "stdout",
     "output_type": "stream",
     "text": [
      "CPU times: user 2min 47s, sys: 481 ms, total: 2min 47s\n",
      "Wall time: 2min 47s\n"
     ]
    }
   ],
   "source": [
    "%%time\n",
    "# create coefficients for improved AIM\n",
    "yukawa_A4L0.c0()\n",
    "yukawa_A4L0.d0()\n",
    "yukawa_A4L0.cndn()"
   ]
  },
  {
   "cell_type": "markdown",
   "metadata": {},
   "source": [
    "#### The Solution"
   ]
  },
  {
   "cell_type": "code",
   "execution_count": 7,
   "metadata": {
    "ExecuteTime": {
     "end_time": "2019-02-07T08:46:33.904464Z",
     "start_time": "2019-02-07T08:46:12.710682Z"
    }
   },
   "outputs": [
    {
     "name": "stdout",
     "output_type": "stream",
     "text": [
      "0001   -2.22608382037941285277\n",
      "0011   -3.25646198730204924445   -0.22880426749406252625\n",
      "0021   -3.25646424490443058235   -0.39503930505322610330\n",
      "0031   -3.25646424490722525117   -0.39934060289808198926\n",
      "0041   -3.25646424490722525404   -0.39942480823044205382   -0.00752426627166027709\n",
      "0051   -3.25646424490722525404   -0.39942615062318136347   -0.01999610015762137179\n",
      "0061   -3.25646424490722525404   -0.39942617037004934161   -0.02379348447266779420\n",
      "0071   -3.25646424490722525404   -0.39942617065134327804   -0.02503093065297177558\n",
      "0081   -3.25646424490722525404   -0.39942617065529516410   -0.02544763075010264581\n",
      "0091   -3.25646424490722525404   -0.39942617065535033512   -0.02558994246491339011\n",
      "0101   -3.25646424490722525404   -0.39942617065535110306   -0.02563879250512245213\n",
      "0111   -3.25646424490722525404   -0.39942617065535111373   -0.02565558271377236651\n",
      "0121   -3.25646424490722525404   -0.39942617065535111388   -0.02566135365381434051\n",
      "0131   -3.25646424490722525404   -0.39942617065535111388   -0.02566333656258396165\n",
      "0141   -3.25646424490722525404   -0.39942617065535111388   -0.02566401769819825872\n",
      "0151   -3.25646424490722525404   -0.39942617065535111388   -0.02566425162394128720\n",
      "0161   -3.25646424490722525404   -0.39942617065535111388   -0.02566433195250032477\n",
      "0171   -3.25646424490722525404   -0.39942617065535111388   -0.02566435953491229269\n",
      "0181   -3.25646424490722525404   -0.39942617065535111388   -0.02566436900553236619\n",
      "0191   -3.25646424490722525404   -0.39942617065535111388   -0.02566437225727462679\n",
      "0201   -3.25646424490722525404   -0.39942617065535111388   -0.02566437337375074847\n",
      "CPU times: user 21.7 s, sys: 61 ms, total: 21.8 s\n",
      "Wall time: 21.6 s\n"
     ]
    }
   ],
   "source": [
    "%%time\n",
    "yukawa_A4L0.get_arb_roots(showRoots='-r', printFormat=\"{:25.20f}\")"
   ]
  },
  {
   "cell_type": "markdown",
   "metadata": {},
   "source": [
    "## Case: A=8"
   ]
  },
  {
   "cell_type": "markdown",
   "metadata": {},
   "source": [
    "### s states"
   ]
  },
  {
   "cell_type": "code",
   "execution_count": 8,
   "metadata": {
    "ExecuteTime": {
     "end_time": "2019-02-07T08:49:54.496823Z",
     "start_time": "2019-02-07T08:46:33.908588Z"
    }
   },
   "outputs": [
    {
     "data": {
      "text/latex": [
       "$\\displaystyle \\text{Values of the parameters of } \\lambda_0:$"
      ],
      "text/plain": [
       "<IPython.core.display.Math object>"
      ]
     },
     "metadata": {},
     "output_type": "display_data"
    },
    {
     "data": {
      "text/latex": [
       "$\\displaystyle \\beta = 3$"
      ],
      "text/plain": [
       "<IPython.core.display.Math object>"
      ]
     },
     "metadata": {},
     "output_type": "display_data"
    },
    {
     "data": {
      "text/latex": [
       "$\\displaystyle \\text{Values of the parameters of } s_0:$"
      ],
      "text/plain": [
       "<IPython.core.display.Math object>"
      ]
     },
     "metadata": {},
     "output_type": "display_data"
    },
    {
     "data": {
      "text/latex": [
       "$\\displaystyle A = 8,~~L = 0,~~\\alpha = 1/5,~~\\beta = 3,~~\\hbar = 1,~~m = 1/2,~~r_{0} = 1/3$"
      ],
      "text/plain": [
       "<IPython.core.display.Math object>"
      ]
     },
     "metadata": {},
     "output_type": "display_data"
    },
    {
     "data": {
      "text/latex": [
       "$\\displaystyle            \n",
       "                \\begin{align}\n",
       "                \\lambda_0 &= \\left[6 - \\frac{2}{r} \\right.\\\\ \n",
       "                      s_0 &= \\left[- En - 9.0 + \\frac{6.0}{r} - \\frac{8.0 e^{- \\frac{r}{5}}}{r} \\right.\n",
       "                \\end{align}\n",
       "                $"
      ],
      "text/plain": [
       "<IPython.core.display.Math object>"
      ]
     },
     "metadata": {},
     "output_type": "display_data"
    },
    {
     "name": "stdout",
     "output_type": "stream",
     "text": [
      "CPU times: user 2min 53s, sys: 396 ms, total: 2min 53s\n",
      "Wall time: 2min 53s\n"
     ]
    }
   ],
   "source": [
    "%%time\n",
    "\n",
    "## Case: A = 8, L=0\n",
    "nbeta = 3\n",
    "nr0 = o* 1/nbeta\n",
    "\n",
    "# parameters of lambda_0 (pl0) and s_0 (ps0)\n",
    "pl0 = {beta: nbeta}\n",
    "ps0 = {beta: nbeta, \n",
    "       alpha: o* 2/10, \n",
    "       A: 8, \n",
    "       m: o* 1/2, \n",
    "       L: 0, \n",
    "       hbar: 1, \n",
    "       r0: nr0}\n",
    "\n",
    "# pass lambda_0, s_0 and variable values to aim class\n",
    "yukawa_A8L0 = aim(l0, s0, pl0, ps0)\n",
    "yukawa_A8L0.display_parameters()\n",
    "yukawa_A8L0.display_l0s0(2)\n",
    "yukawa_A8L0.parameters(En, r, nr0, nmax=201, nstep=10, dprec=500, tol=1e-101)\n",
    "\n",
    "# create coefficients for improved AIM\n",
    "yukawa_A8L0.c0()\n",
    "yukawa_A8L0.d0()\n",
    "yukawa_A8L0.cndn()"
   ]
  },
  {
   "cell_type": "code",
   "execution_count": 9,
   "metadata": {
    "ExecuteTime": {
     "end_time": "2019-02-07T08:50:16.605776Z",
     "start_time": "2019-02-07T08:49:54.500559Z"
    }
   },
   "outputs": [
    {
     "name": "stdout",
     "output_type": "stream",
     "text": [
      "0001  -13.45216764075882570553\n",
      "0011  -14.45812555697346708940   -2.61632538308431238185   -0.28824411798510504500\n",
      "0021  -14.45812571278409411507   -2.61667826125750169323   -0.61447052737404830354\n",
      "0031  -14.45812571278417740313   -2.61667826544806846945   -0.61924266082608469430   -0.05840432675425859014\n",
      "0041  -14.45812571278417740340   -2.61667826544809997335   -0.61928152780715240586   -0.09283945581502052609\n",
      "0051  -14.45812571278417740340   -2.61667826544809997355   -0.61928175291669448691   -0.09806370223569206829\n",
      "0061  -14.45812571278417740340   -2.61667826544809997355   -0.61928175406646802023   -0.09881717168967634571\n",
      "0071  -14.45812571278417740340   -2.61667826544809997355   -0.61928175407204835129   -0.09891833742141017116\n",
      "0081  -14.45812571278417740340   -2.61667826544809997355   -0.61928175407207482857   -0.09893127685318019373\n",
      "0091  -14.45812571278417740340   -2.61667826544809997355   -0.61928175407207495287   -0.09893289030164978911\n",
      "0101  -14.45812571278417740340   -2.61667826544809997355   -0.61928175407207495345   -0.09893308906739952169\n",
      "0111  -14.45812571278417740340   -2.61667826544809997355   -0.61928175407207495345   -0.09893311341667168776\n",
      "0121  -14.45812571278417740340   -2.61667826544809997355   -0.61928175407207495345   -0.09893311639169670450\n",
      "0131  -14.45812571278417740340   -2.61667826544809997355   -0.61928175407207495345   -0.09893311675473885342\n",
      "0141  -14.45812571278417740340   -2.61667826544809997355   -0.61928175407207495345   -0.09893311679901463340\n",
      "0151  -14.45812571278417740340   -2.61667826544809997355   -0.61928175407207495345   -0.09893311680441285971\n",
      "0161  -14.45812571278417740340   -2.61667826544809997355   -0.61928175407207495345   -0.09893311680507093461\n",
      "0171  -14.45812571278417740340   -2.61667826544809997355   -0.61928175407207495345   -0.09893311680515115271\n",
      "0181  -14.45812571278417740340   -2.61667826544809997355   -0.61928175407207495345   -0.09893311680516116377\n",
      "0191  -14.45812571278417740340   -2.61667826544809997355   -0.61928175407207495345   -0.09893311680533847665\n",
      "0201  -14.45812571278417740340   -2.61667826544809997355   -0.61928175407207495339   -0.09893311700471986687\n"
     ]
    }
   ],
   "source": [
    "# the solution\n",
    "yukawa_A8L0.get_arb_roots(showRoots='-r', printFormat=\"{:25.20f}\")"
   ]
  },
  {
   "cell_type": "markdown",
   "metadata": {},
   "source": [
    "### p states"
   ]
  },
  {
   "cell_type": "code",
   "execution_count": 10,
   "metadata": {
    "ExecuteTime": {
     "end_time": "2019-02-07T08:53:34.461696Z",
     "start_time": "2019-02-07T08:50:16.609826Z"
    }
   },
   "outputs": [
    {
     "data": {
      "text/latex": [
       "$\\displaystyle \\text{Values of the parameters of } \\lambda_0:$"
      ],
      "text/plain": [
       "<IPython.core.display.Math object>"
      ]
     },
     "metadata": {},
     "output_type": "display_data"
    },
    {
     "data": {
      "text/latex": [
       "$\\displaystyle \\beta = 3$"
      ],
      "text/plain": [
       "<IPython.core.display.Math object>"
      ]
     },
     "metadata": {},
     "output_type": "display_data"
    },
    {
     "data": {
      "text/latex": [
       "$\\displaystyle \\text{Values of the parameters of } s_0:$"
      ],
      "text/plain": [
       "<IPython.core.display.Math object>"
      ]
     },
     "metadata": {},
     "output_type": "display_data"
    },
    {
     "data": {
      "text/latex": [
       "$\\displaystyle A = 8,~~L = 1,~~\\alpha = 1/5,~~\\beta = 3,~~\\hbar = 1,~~m = 1/2,~~r_{0} = 1/3$"
      ],
      "text/plain": [
       "<IPython.core.display.Math object>"
      ]
     },
     "metadata": {},
     "output_type": "display_data"
    },
    {
     "data": {
      "text/latex": [
       "$\\displaystyle            \n",
       "                \\begin{align}\n",
       "                \\lambda_0 &= \\left[6 - \\frac{2}{r} \\right.\\\\ \n",
       "                      s_0 &= \\left[- En - 9.0 + \\frac{6.0}{r} - \\frac{8.0 e^{- \\frac{r}{5}}}{r} + \\frac{2.0}{r^{2}} \\right.\n",
       "                \\end{align}\n",
       "                $"
      ],
      "text/plain": [
       "<IPython.core.display.Math object>"
      ]
     },
     "metadata": {},
     "output_type": "display_data"
    },
    {
     "name": "stdout",
     "output_type": "stream",
     "text": [
      "CPU times: user 2min 51s, sys: 460 ms, total: 2min 51s\n",
      "Wall time: 2min 51s\n"
     ]
    }
   ],
   "source": [
    "%%time\n",
    "\n",
    "## Case: A = 8, L=1\n",
    "nbeta = 3\n",
    "nr0 = o* 1/nbeta\n",
    "\n",
    "# parameters of lambda_0 (pl0) and s_0 (ps0)\n",
    "pl0 = {beta: nbeta}\n",
    "ps0 = {beta: nbeta, \n",
    "       alpha: o* 2/10, \n",
    "       A: o* 8, \n",
    "       m: o* 1/2, \n",
    "       L: o* 1, \n",
    "       hbar: o* 1, \n",
    "       r0: nr0}\n",
    "\n",
    "# pass lambda_0, s_0 and variable values to aim class\n",
    "yukawa_A8L1 = aim(l0, s0, pl0, ps0)\n",
    "yukawa_A8L1.display_parameters()\n",
    "yukawa_A8L1.display_l0s0(2)\n",
    "yukawa_A8L1.parameters(En, r, nr0, nmax=201, nstep=10, dprec=500, tol=1e-101)\n",
    "\n",
    "# create coefficients for improved AIM\n",
    "yukawa_A8L1.c0()\n",
    "yukawa_A8L1.d0()\n",
    "yukawa_A8L1.cndn()"
   ]
  },
  {
   "cell_type": "code",
   "execution_count": 11,
   "metadata": {
    "ExecuteTime": {
     "end_time": "2019-02-07T08:53:57.272919Z",
     "start_time": "2019-02-07T08:53:34.465616Z"
    }
   },
   "outputs": [
    {
     "name": "stdout",
     "output_type": "stream",
     "text": [
      "0001  Nothing to show!\n",
      "0011   -2.58352549387679236942   -0.34844883497962867628\n",
      "0021   -2.58369238325680081047   -0.59025168732310849287\n",
      "0031   -2.58369238520909205900   -0.59381799881889381975   -0.04557938861762899515\n",
      "0041   -2.58369238520910751068   -0.59384787419974706197   -0.07707964001368260549\n",
      "0051   -2.58369238520910751079   -0.59384805923443831063   -0.08218598649344847093\n",
      "0061   -2.58369238520910751079   -0.59384806026347272262   -0.08299486802785128445\n",
      "0071   -2.58369238520910751079   -0.59384806026896293800   -0.08311703264160825208\n",
      "0081   -2.58369238520910751079   -0.59384806026899174050   -0.08313488556733795849\n",
      "0091   -2.58369238520910751079   -0.59384806026899189057   -0.08313745430382058891\n",
      "0101   -2.58369238520910751079   -0.59384806026899189135   -0.08313782192244365963\n",
      "0111   -2.58369238520910751079   -0.59384806026899189136   -0.08313787449537357159\n",
      "0121   -2.58369238520910751079   -0.59384806026899189136   -0.08313788202193675437\n",
      "0131   -2.58369238520910751079   -0.59384806026899189136   -0.08313788310122289182\n",
      "0141   -2.58369238520910751079   -0.59384806026899189136   -0.08313788325624572842\n",
      "0151   -2.58369238520910751079   -0.59384806026899189136   -0.08313788327854590599\n",
      "0161   -2.58369238520910751079   -0.59384806026899189136   -0.08313788328175800129\n",
      "0171   -2.58369238520910751079   -0.59384806026899189136   -0.08313788328222118456\n",
      "0181   -2.58369238520910751079   -0.59384806026899189136   -0.08313788328228837097\n",
      "0191   -2.58369238520910751079   -0.59384806026899189136   -0.08313788328256910233\n",
      "0201   -2.58369238520910751079   -0.59384806026899189130   -0.08313788361370151810\n"
     ]
    }
   ],
   "source": [
    "# the solution\n",
    "yukawa_A8L1.get_arb_roots(showRoots='-r', printFormat=\"{:25.20f}\")"
   ]
  },
  {
   "cell_type": "markdown",
   "metadata": {},
   "source": [
    "## Case: A=16"
   ]
  },
  {
   "cell_type": "markdown",
   "metadata": {},
   "source": [
    "### s states"
   ]
  },
  {
   "cell_type": "code",
   "execution_count": 12,
   "metadata": {
    "ExecuteTime": {
     "end_time": "2019-02-07T08:57:17.107657Z",
     "start_time": "2019-02-07T08:53:57.276931Z"
    }
   },
   "outputs": [
    {
     "data": {
      "text/latex": [
       "$\\displaystyle \\text{Values of the parameters of } \\lambda_0:$"
      ],
      "text/plain": [
       "<IPython.core.display.Math object>"
      ]
     },
     "metadata": {},
     "output_type": "display_data"
    },
    {
     "data": {
      "text/latex": [
       "$\\displaystyle \\beta = 3$"
      ],
      "text/plain": [
       "<IPython.core.display.Math object>"
      ]
     },
     "metadata": {},
     "output_type": "display_data"
    },
    {
     "data": {
      "text/latex": [
       "$\\displaystyle \\text{Values of the parameters of } s_0:$"
      ],
      "text/plain": [
       "<IPython.core.display.Math object>"
      ]
     },
     "metadata": {},
     "output_type": "display_data"
    },
    {
     "data": {
      "text/latex": [
       "$\\displaystyle A = 16,~~L = 0,~~\\alpha = 1/5,~~\\beta = 3,~~\\hbar = 1,~~m = 1/2,~~r_{0} = 1/3$"
      ],
      "text/plain": [
       "<IPython.core.display.Math object>"
      ]
     },
     "metadata": {},
     "output_type": "display_data"
    },
    {
     "data": {
      "text/latex": [
       "$\\displaystyle            \n",
       "                \\begin{align}\n",
       "                \\lambda_0 &= \\left[6 - \\frac{2}{r} \\right.\\\\ \n",
       "                      s_0 &= \\left[- En - 9.0 + \\frac{6.0}{r} - \\frac{16.0 e^{- \\frac{r}{5}}}{r} \\right.\n",
       "                \\end{align}\n",
       "                $"
      ],
      "text/plain": [
       "<IPython.core.display.Math object>"
      ]
     },
     "metadata": {},
     "output_type": "display_data"
    },
    {
     "name": "stdout",
     "output_type": "stream",
     "text": [
      "CPU times: user 2min 53s, sys: 436 ms, total: 2min 54s\n",
      "Wall time: 2min 54s\n"
     ]
    }
   ],
   "source": [
    "%%time\n",
    "\n",
    "## Case: A = 16, L=0\n",
    "nbeta = 3\n",
    "nr0 = o* 1/nbeta\n",
    "\n",
    "# parameters of lambda_0 (pl0) and s_0 (ps0)\n",
    "pl0 = {beta: nbeta}\n",
    "ps0 = {beta: nbeta, \n",
    "       alpha: o* 2/10, \n",
    "       A: o* 16, \n",
    "       m: o* 1/2, \n",
    "       L: o* 0, \n",
    "       hbar: o* 1, \n",
    "       r0: nr0}\n",
    "\n",
    "# pass lambda_0, s_0 and variable values to aim class\n",
    "yukawa_A16L0 = aim(l0, s0, pl0, ps0)\n",
    "yukawa_A16L0.display_parameters()\n",
    "yukawa_A16L0.display_l0s0(2)\n",
    "yukawa_A16L0.parameters(En, r, nr0, nmax=201, nstep=10, dprec=500, tol=1e-101)\n",
    "\n",
    "# create coefficients for improved AIM\n",
    "yukawa_A16L0.c0()\n",
    "yukawa_A16L0.d0()\n",
    "yukawa_A16L0.cndn()"
   ]
  },
  {
   "cell_type": "code",
   "execution_count": 13,
   "metadata": {
    "ExecuteTime": {
     "end_time": "2019-02-07T08:57:39.046071Z",
     "start_time": "2019-02-07T08:57:17.110596Z"
    }
   },
   "outputs": [
    {
     "name": "stdout",
     "output_type": "stream",
     "text": [
      "0001  -35.90433528151765141106  -17.90433528151765141106\n",
      "0011  -60.83959411455164152945  -13.02741330503248532897   -4.39416089534789882041   -1.46028332602987413583\n",
      "0021  -60.85900611778662673023  -13.02731559698770316509   -4.39417726867497787866   -1.60029878564889252205\n",
      "0031  -60.85903279533303488128  -13.02731559641380264116   -4.39417726867760316650   -1.60041447655023284251\n",
      "0041  -60.85903282299755577594  -13.02731559641378727702   -4.39417726867760325603   -1.60041450470027026594\n",
      "0051  -60.85903282302548302996  -13.02731559641378727528   -4.39417726867760325607   -1.60041450470490449513\n",
      "0061  -60.85903282302551367246  -13.02731559641378727528   -4.39417726867760325607   -1.60041450470490515265\n",
      "0071  -60.85903282302551371163  -13.02731559641378727528   -4.39417726867760325607   -1.60041450470490515273\n",
      "0081  -60.85903282302551371170  -13.02731559641378727528   -4.39417726867760325607   -1.60041450470490515273\n",
      "0091  -60.85903282302551371170  -13.02731559641378727528   -4.39417726867760325607   -1.60041450470490515273\n",
      "0101  -60.85903282302551371170  -13.02731559641378727528   -4.39417726867760325607   -1.60041450470490515273\n",
      "0111  -60.85903282302551371170  -13.02731559641378727528   -4.39417726867760325607   -1.60041450470490515273\n",
      "0121  -60.85903282302551371170  -13.02731559641378727528   -4.39417726867760325607   -1.60041450470490515273\n",
      "0131  -60.85903282302551371170  -13.02731559641378727528   -4.39417726867760325607   -1.60041450470490515274\n",
      "0141  -60.85903282302551371170  -13.02731559641378727528   -4.39417726867760325607   -1.60041450470490515274\n",
      "0151  -60.85903282302551371170  -13.02731559641378727528   -4.39417726867760325607   -1.60041450470490515305\n",
      "0161  -60.85903282302551371170  -13.02731559641378727528   -4.39417726867760325607   -1.60041450470490517015\n",
      "0171  -60.85903282302551371170  -13.02731559641378727528   -4.39417726867760325607   -1.60041450470490667535\n",
      "0181  -60.85903282302551371170  -13.02731559641378727528   -4.39417726867760325607   -1.60041450470510967902\n",
      "0191  -60.85903282302551371170  -13.02731559641378727528   -4.39417726867760325607   -1.60041450474616584562\n",
      "0201  -60.85903282302551371170  -13.02731559641378727528   -4.39417726867760325606   -1.60041451695281073576\n"
     ]
    }
   ],
   "source": [
    "# the solution\n",
    "yukawa_A16L0.get_arb_roots(showRoots='-r', printFormat=\"{:25.20f}\")"
   ]
  },
  {
   "cell_type": "markdown",
   "metadata": {},
   "source": [
    "### p states"
   ]
  },
  {
   "cell_type": "code",
   "execution_count": 14,
   "metadata": {
    "ExecuteTime": {
     "end_time": "2019-02-07T09:00:56.841732Z",
     "start_time": "2019-02-07T08:57:39.050007Z"
    }
   },
   "outputs": [
    {
     "data": {
      "text/latex": [
       "$\\displaystyle \\text{Values of the parameters of } \\lambda_0:$"
      ],
      "text/plain": [
       "<IPython.core.display.Math object>"
      ]
     },
     "metadata": {},
     "output_type": "display_data"
    },
    {
     "data": {
      "text/latex": [
       "$\\displaystyle \\beta = 3$"
      ],
      "text/plain": [
       "<IPython.core.display.Math object>"
      ]
     },
     "metadata": {},
     "output_type": "display_data"
    },
    {
     "data": {
      "text/latex": [
       "$\\displaystyle \\text{Values of the parameters of } s_0:$"
      ],
      "text/plain": [
       "<IPython.core.display.Math object>"
      ]
     },
     "metadata": {},
     "output_type": "display_data"
    },
    {
     "data": {
      "text/latex": [
       "$\\displaystyle A = 16,~~L = 1,~~\\alpha = 1/5,~~\\beta = 3,~~\\hbar = 1,~~m = 1/2,~~r_{0} = 1/3$"
      ],
      "text/plain": [
       "<IPython.core.display.Math object>"
      ]
     },
     "metadata": {},
     "output_type": "display_data"
    },
    {
     "data": {
      "text/latex": [
       "$\\displaystyle            \n",
       "                \\begin{align}\n",
       "                \\lambda_0 &= \\left[6 - \\frac{2}{r} \\right.\\\\ \n",
       "                      s_0 &= \\left[- En - 9.0 + \\frac{6.0}{r} - \\frac{16.0 e^{- \\frac{r}{5}}}{r} + \\frac{2.0}{r^{2}} \\right.\n",
       "                \\end{align}\n",
       "                $"
      ],
      "text/plain": [
       "<IPython.core.display.Math object>"
      ]
     },
     "metadata": {},
     "output_type": "display_data"
    },
    {
     "name": "stdout",
     "output_type": "stream",
     "text": [
      "CPU times: user 2min 51s, sys: 468 ms, total: 2min 52s\n",
      "Wall time: 2min 52s\n"
     ]
    }
   ],
   "source": [
    "%%time\n",
    "\n",
    "## Case: A = 16, L=1\n",
    "nbeta = 3\n",
    "nr0 = o* 1/nbeta\n",
    "\n",
    "# parameters of lambda_0 (pl0) and s_0 (ps0)\n",
    "pl0 = {beta: nbeta}\n",
    "ps0 = {beta: nbeta, \n",
    "       alpha: o* 2/10, \n",
    "       A: o* 16, \n",
    "       m: o* 1/2, \n",
    "       L: o* 1, \n",
    "       hbar: o* 1, \n",
    "       r0: nr0}\n",
    "\n",
    "# pass lambda_0, s_0 and variable values to aim class\n",
    "yukawa_A16L1 = aim(l0, s0, pl0, ps0)\n",
    "yukawa_A16L1.display_parameters()\n",
    "yukawa_A16L1.display_l0s0(2)\n",
    "yukawa_A16L1.parameters(En, r, nr0, nmax=201, nstep=10, dprec=500, tol=1e-101)\n",
    "\n",
    "# create coefficients for improved AIM\n",
    "yukawa_A16L1.c0()\n",
    "yukawa_A16L1.d0()\n",
    "yukawa_A16L1.cndn()"
   ]
  },
  {
   "cell_type": "code",
   "execution_count": 15,
   "metadata": {
    "ExecuteTime": {
     "end_time": "2019-02-07T09:01:18.738194Z",
     "start_time": "2019-02-07T09:00:56.845614Z"
    }
   },
   "outputs": [
    {
     "name": "stdout",
     "output_type": "stream",
     "text": [
      "0001  -17.90433528151765141106\n",
      "0011  -12.99107034549051500501   -4.36208955656926947220   -1.45795554685741697188\n",
      "0021  -12.99103533725527656652   -4.36210053490250182720   -1.57357991881273162125   -0.42928858560796030635\n",
      "0031  -12.99103533706039992987   -4.36210053490408066568   -1.57367299249004705503   -0.49334208977036406493\n",
      "0041  -12.99103533706039481597   -4.36210053490408071018   -1.57367301584411823083   -0.49480334124509462367\n",
      "0051  -12.99103533706039481539   -4.36210053490408071020   -1.57367301584818289336   -0.49482236117942318037\n",
      "0061  -12.99103533706039481539   -4.36210053490408071020   -1.57367301584818350969   -0.49482255139593078132\n",
      "0071  -12.99103533706039481539   -4.36210053490408071020   -1.57367301584818350978   -0.49482255311146014216\n",
      "0081  -12.99103533706039481539   -4.36210053490408071020   -1.57367301584818350978   -0.49482255312627993389\n",
      "0091  -12.99103533706039481539   -4.36210053490408071020   -1.57367301584818350978   -0.49482255312640559114\n",
      "0101  -12.99103533706039481539   -4.36210053490408071020   -1.57367301584818350978   -0.49482255312640664801\n",
      "0111  -12.99103533706039481539   -4.36210053490408071020   -1.57367301584818350978   -0.49482255312640665667\n",
      "0121  -12.99103533706039481539   -4.36210053490408071020   -1.57367301584818350978   -0.49482255312640665133\n",
      "0131  -12.99103533706039481539   -4.36210053490408071020   -1.57367301584818350978   -0.49482255312640639530\n",
      "0141  -12.99103533706039481539   -4.36210053490408071020   -1.57367301584818350979   -0.49482255312638543259\n",
      "0151  -12.99103533706039481539   -4.36210053490408071020   -1.57367301584818351001   -0.49482255312351184698\n",
      "0161  -12.99103533706039481539   -4.36210053490408071020   -1.57367301584818352292   -0.49482255248424342913\n",
      "0171  -12.99103533706039481539   -4.36210053490408071020   -1.57367301584818468534   -0.49482232810177492906\n",
      "0181  -12.99103533706039481539   -4.36210053490408071020   -1.57367301584834515665   -0.49470074344085646091\n",
      "0191  -12.99103533706039481539   -4.36210053490408071020   -1.57367301588157091140\n",
      "0201  -12.99103533706039481539   -4.36210053490408071020   -1.57367302599636994149\n"
     ]
    }
   ],
   "source": [
    "# the solution\n",
    "yukawa_A16L1.get_arb_roots(showRoots='-r', printFormat=\"{:25.20f}\")"
   ]
  },
  {
   "cell_type": "markdown",
   "metadata": {},
   "source": [
    "## Case: A=24"
   ]
  },
  {
   "cell_type": "markdown",
   "metadata": {},
   "source": [
    "### s states"
   ]
  },
  {
   "cell_type": "code",
   "execution_count": 16,
   "metadata": {
    "ExecuteTime": {
     "end_time": "2019-02-07T09:04:17.825272Z",
     "start_time": "2019-02-07T09:01:18.742455Z"
    }
   },
   "outputs": [
    {
     "data": {
      "text/latex": [
       "$\\displaystyle \\text{Values of the parameters of } \\lambda_0:$"
      ],
      "text/plain": [
       "<IPython.core.display.Math object>"
      ]
     },
     "metadata": {},
     "output_type": "display_data"
    },
    {
     "data": {
      "text/latex": [
       "$\\displaystyle \\beta = 3$"
      ],
      "text/plain": [
       "<IPython.core.display.Math object>"
      ]
     },
     "metadata": {},
     "output_type": "display_data"
    },
    {
     "data": {
      "text/latex": [
       "$\\displaystyle \\text{Values of the parameters of } s_0:$"
      ],
      "text/plain": [
       "<IPython.core.display.Math object>"
      ]
     },
     "metadata": {},
     "output_type": "display_data"
    },
    {
     "data": {
      "text/latex": [
       "$\\displaystyle A = 24,~~L = 0,~~\\alpha = 1/5,~~\\beta = 3,~~\\hbar = 1,~~m = 1/2,~~r_{0} = 1/3$"
      ],
      "text/plain": [
       "<IPython.core.display.Math object>"
      ]
     },
     "metadata": {},
     "output_type": "display_data"
    },
    {
     "data": {
      "text/latex": [
       "$\\displaystyle            \n",
       "                \\begin{align}\n",
       "                \\lambda_0 &= \\left[6 - \\frac{2}{r} \\right.\\\\ \n",
       "                      s_0 &= \\left[- En - 9.0 + \\frac{6.0}{r} - \\frac{24.0 e^{- \\frac{r}{5}}}{r} \\right.\n",
       "                \\end{align}\n",
       "                $"
      ],
      "text/plain": [
       "<IPython.core.display.Math object>"
      ]
     },
     "metadata": {},
     "output_type": "display_data"
    },
    {
     "name": "stdout",
     "output_type": "stream",
     "text": [
      "CPU times: user 2min 51s, sys: 540 ms, total: 2min 52s\n",
      "Wall time: 2min 52s\n"
     ]
    }
   ],
   "source": [
    "%%time\n",
    "\n",
    "## Case: A = 24, L=0\n",
    "nbeta = 3\n",
    "nr0 = o* 1/nbeta\n",
    "\n",
    "# parameters of lambda_0 (pl0) and s_0 (ps0)\n",
    "pl0 = {beta: nbeta}\n",
    "ps0 = {beta: nbeta, \n",
    "       alpha: o* 2/10, \n",
    "       A: o* 24, \n",
    "       m: o* 1/2, \n",
    "       L: o* 0, \n",
    "       hbar: o* 1, \n",
    "       r0: nr0}\n",
    "\n",
    "# pass lambda_0, s_0 and variable values to aim class\n",
    "yukawa_A24L0 = aim(l0, s0, pl0, ps0)\n",
    "yukawa_A24L0.display_parameters()\n",
    "yukawa_A24L0.display_l0s0(2)\n",
    "yukawa_A24L0.parameters(En, r, nr0, nmax=201, nstep=10, dprec=500, tol=1e-101)\n",
    "\n",
    "# create coefficients for improved AIM\n",
    "yukawa_A24L0.c0()\n",
    "yukawa_A24L0.d0()\n",
    "yukawa_A24L0.cndn()"
   ]
  },
  {
   "cell_type": "code",
   "execution_count": 17,
   "metadata": {
    "ExecuteTime": {
     "end_time": "2019-02-07T09:04:39.002252Z",
     "start_time": "2019-02-07T09:04:17.829285Z"
    }
   },
   "outputs": [
    {
     "name": "stdout",
     "output_type": "stream",
     "text": [
      "0001  -58.35650292227647711659  -40.35650292227647711659\n",
      "0011 -139.13653387574502899132  -31.66301817646597603646  -11.68287862297764665710   -5.04495719546218526029\n",
      "0021 -139.25742393258019657380  -31.43136501424337512912  -11.69980571386560753277   -5.04418470133869590089\n",
      "0031 -139.25932195590774533382  -31.43127747871788354739  -11.69980641354646150149   -5.04418465378360724838\n",
      "0041 -139.25934783673424127553  -31.43127745071106829863  -11.69980641363918808868   -5.04418465376794081739\n",
      "0051 -139.25934813951377692548  -31.43127745069839616344  -11.69980641363923232659   -5.04418465376791612696\n",
      "0061 -139.25934814283657500485  -31.43127745069838647527  -11.69980641363923239407   -5.04418465376791597917\n",
      "0071 -139.25934814287233467833  -31.43127745069838646194  -11.69980641363923239436   -5.04418465376791597642\n",
      "0081 -139.25934814287272258990  -31.43127745069838646191  -11.69980641363923239436   -5.04418465376791597628\n",
      "0091 -139.25934814287272691639  -31.43127745069838646191  -11.69980641363923239437   -5.04418465376791597627\n",
      "0101 -139.25934814287272696680  -31.43127745069838646191  -11.69980641363923239437   -5.04418465376791597626\n",
      "0111 -139.25934814287272696743  -31.43127745069838646191  -11.69980641363923239437   -5.04418465376791597626\n",
      "0121 -139.25934814287272696744  -31.43127745069838646191  -11.69980641363923239437   -5.04418465376791597627\n",
      "0131 -139.25934814287272696744  -31.43127745069838646191  -11.69980641363923239437   -5.04418465376791597629\n",
      "0141 -139.25934814287272696744  -31.43127745069838646191  -11.69980641363923239437   -5.04418465376791597647\n",
      "0151 -139.25934814287272696744  -31.43127745069838646191  -11.69980641363923239437   -5.04418465376791597845\n",
      "0161 -139.25934814287272696744  -31.43127745069838646191  -11.69980641363923239437   -5.04418465376791601244\n",
      "0171 -139.25934814287272696744  -31.43127745069838646191  -11.69980641363923239437   -5.04418465376791689938\n",
      "0181 -139.25934814287272696744  -31.43127745069838646191  -11.69980641363923239437   -5.04418465376795150192\n",
      "0191 -139.25934814287272696744  -31.43127745069838646191  -11.69980641363923239437   -5.04418465376993522912\n",
      "0201 -139.25934814287272696744  -31.43127745069838646191  -11.69980641363923239436   -5.04418465393423727654\n",
      "CPU times: user 22.2 s, sys: 76.3 ms, total: 22.3 s\n",
      "Wall time: 22.1 s\n"
     ]
    }
   ],
   "source": [
    "%%time\n",
    "# the solution\n",
    "yukawa_A24L0.get_arb_roots(showRoots='-r', printFormat=\"{:25.20f}\")"
   ]
  },
  {
   "cell_type": "markdown",
   "metadata": {},
   "source": [
    "### p states"
   ]
  },
  {
   "cell_type": "code",
   "execution_count": 18,
   "metadata": {
    "ExecuteTime": {
     "end_time": "2019-02-07T09:07:37.516269Z",
     "start_time": "2019-02-07T09:04:39.006310Z"
    }
   },
   "outputs": [
    {
     "data": {
      "text/latex": [
       "$\\displaystyle \\text{Values of the parameters of } \\lambda_0:$"
      ],
      "text/plain": [
       "<IPython.core.display.Math object>"
      ]
     },
     "metadata": {},
     "output_type": "display_data"
    },
    {
     "data": {
      "text/latex": [
       "$\\displaystyle \\beta = 3$"
      ],
      "text/plain": [
       "<IPython.core.display.Math object>"
      ]
     },
     "metadata": {},
     "output_type": "display_data"
    },
    {
     "data": {
      "text/latex": [
       "$\\displaystyle \\text{Values of the parameters of } s_0:$"
      ],
      "text/plain": [
       "<IPython.core.display.Math object>"
      ]
     },
     "metadata": {},
     "output_type": "display_data"
    },
    {
     "data": {
      "text/latex": [
       "$\\displaystyle A = 24,~~L = 1,~~\\alpha = 1/5,~~\\beta = 3,~~\\hbar = 1,~~m = 1/2,~~r_{0} = 1/3$"
      ],
      "text/plain": [
       "<IPython.core.display.Math object>"
      ]
     },
     "metadata": {},
     "output_type": "display_data"
    },
    {
     "data": {
      "text/latex": [
       "$\\displaystyle            \n",
       "                \\begin{align}\n",
       "                \\lambda_0 &= \\left[6 - \\frac{2}{r} \\right.\\\\ \n",
       "                      s_0 &= \\left[- En - 9.0 + \\frac{6.0}{r} - \\frac{24.0 e^{- \\frac{r}{5}}}{r} + \\frac{2.0}{r^{2}} \\right.\n",
       "                \\end{align}\n",
       "                $"
      ],
      "text/plain": [
       "<IPython.core.display.Math object>"
      ]
     },
     "metadata": {},
     "output_type": "display_data"
    },
    {
     "name": "stdout",
     "output_type": "stream",
     "text": [
      "CPU times: user 2min 52s, sys: 496 ms, total: 2min 52s\n",
      "Wall time: 2min 52s\n"
     ]
    }
   ],
   "source": [
    "%%time\n",
    "\n",
    "## Case: A = 24, L=1\n",
    "nbeta = 3\n",
    "nr0 = o* 1/nbeta\n",
    "\n",
    "# parameters of lambda_0 (pl0) and s_0 (ps0)\n",
    "pl0 = {beta: nbeta}\n",
    "ps0 = {beta: nbeta, \n",
    "       alpha: o* 2/10, \n",
    "       A: o* 24, \n",
    "       m: o* 1/2, \n",
    "       L: o* 1, \n",
    "       hbar: o* 1, \n",
    "       r0: nr0}\n",
    "\n",
    "# pass lambda_0, s_0 and variable values to aim class\n",
    "yukawa_A24L1 = aim(l0, s0, pl0, ps0)\n",
    "yukawa_A24L1.display_parameters()\n",
    "yukawa_A24L1.display_l0s0(2)\n",
    "yukawa_A24L1.parameters(En, r, nr0, nmax=201, nstep=10, dprec=500, tol=1e-101)\n",
    "\n",
    "# create coefficients for improved AIM\n",
    "yukawa_A24L1.c0()\n",
    "yukawa_A24L1.d0()\n",
    "yukawa_A24L1.cndn()"
   ]
  },
  {
   "cell_type": "code",
   "execution_count": 19,
   "metadata": {
    "ExecuteTime": {
     "end_time": "2019-02-07T09:07:59.723439Z",
     "start_time": "2019-02-07T09:07:37.520366Z"
    }
   },
   "outputs": [
    {
     "name": "stdout",
     "output_type": "stream",
     "text": [
      "0001  -40.35650292227647711659  -22.35650292227647711659\n",
      "0011  -31.47595742908929494341  -11.65614536051688704547   -5.01396586679733283626   -2.05650750253059879100\n",
      "0021  -31.39384360867558161412  -11.66528444450607425693   -5.01346555599166318358   -2.17706957209930807571\n",
      "0031  -31.39381361058830369400  -11.66528480221943162391   -5.01346552688647371917   -2.17709498078266634406\n",
      "0041  -31.39381360114239924640  -11.66528480226596544457   -5.01346552687705535167   -2.17709498198874758034\n",
      "0051  -31.39381360113816328969  -11.66528480226598747457   -5.01346552687704057903   -2.17709498198884571443\n",
      "0061  -31.39381360113816006838  -11.66528480226598750809   -5.01346552687704049050   -2.17709498198884708002\n",
      "0071  -31.39381360113816006396  -11.66528480226598750824   -5.01346552687704048885   -2.17709498198884716842\n",
      "0081  -31.39381360113816006395  -11.66528480226598750824   -5.01346552687704048877   -2.17709498198884717955\n",
      "0091  -31.39381360113816006395  -11.66528480226598750824   -5.01346552687704048876   -2.17709498198884717628\n",
      "0101  -31.39381360113816006395  -11.66528480226598750824   -5.01346552687704048876   -2.17709498198884714938\n",
      "0111  -31.39381360113816006395  -11.66528480226598750824   -5.01346552687704048876   -2.17709498198884696868\n",
      "0121  -31.39381360113816006395  -11.66528480226598750824   -5.01346552687704048876   -2.17709498198884504334\n",
      "0131  -31.39381360113816006395  -11.66528480226598750824   -5.01346552687704048878   -2.17709498198881061666\n",
      "0141  -31.39381360113816006395  -11.66528480226598750824   -5.01346552687704048889   -2.17709498198778659367\n",
      "0151  -31.39381360113816006395  -11.66528480226598750824   -5.01346552687704049019   -2.17709498193825653145\n",
      "0161  -31.39381360113816006395  -11.66528480226598750824   -5.01346552687704051279   -2.17709497813993860871\n",
      "0171  -31.39381360113816006395  -11.66528480226598750824   -5.01346552687704110919   -2.17709452750079619490\n",
      "0181  -31.39381360113816006395  -11.66528480226598750824   -5.01346552687706465023   -2.17701360425487743639\n",
      "0191  -31.39381360113816006395  -11.66528480226598750824   -5.01346552687843032166   -2.14560858944792750436\n",
      "0201  -31.39381360113816006395  -11.66528480226598750824   -5.01346552699290530785\n",
      "CPU times: user 23.2 s, sys: 84.2 ms, total: 23.2 s\n",
      "Wall time: 23.1 s\n"
     ]
    }
   ],
   "source": [
    "%%time\n",
    "# the solution\n",
    "yukawa_A24L1.get_arb_roots(showRoots='-r', printFormat=\"{:25.20f}\")"
   ]
  },
  {
   "cell_type": "markdown",
   "metadata": {},
   "source": [
    "### d states"
   ]
  },
  {
   "cell_type": "code",
   "execution_count": 20,
   "metadata": {
    "ExecuteTime": {
     "end_time": "2019-02-07T09:11:01.538752Z",
     "start_time": "2019-02-07T09:07:59.727354Z"
    }
   },
   "outputs": [
    {
     "data": {
      "text/latex": [
       "$\\displaystyle \\text{Values of the parameters of } \\lambda_0:$"
      ],
      "text/plain": [
       "<IPython.core.display.Math object>"
      ]
     },
     "metadata": {},
     "output_type": "display_data"
    },
    {
     "data": {
      "text/latex": [
       "$\\displaystyle \\beta = 3$"
      ],
      "text/plain": [
       "<IPython.core.display.Math object>"
      ]
     },
     "metadata": {},
     "output_type": "display_data"
    },
    {
     "data": {
      "text/latex": [
       "$\\displaystyle \\text{Values of the parameters of } s_0:$"
      ],
      "text/plain": [
       "<IPython.core.display.Math object>"
      ]
     },
     "metadata": {},
     "output_type": "display_data"
    },
    {
     "data": {
      "text/latex": [
       "$\\displaystyle A = 24,~~L = 2,~~\\alpha = 1/5,~~\\beta = 3,~~\\hbar = 1,~~m = 1/2,~~r_{0} = 1/3$"
      ],
      "text/plain": [
       "<IPython.core.display.Math object>"
      ]
     },
     "metadata": {},
     "output_type": "display_data"
    },
    {
     "data": {
      "text/latex": [
       "$\\displaystyle            \n",
       "                \\begin{align}\n",
       "                \\lambda_0 &= \\left[6 - \\frac{2}{r} \\right.\\\\ \n",
       "                      s_0 &= \\left[- En - 9.0 + \\frac{6.0}{r} - \\frac{24.0 e^{- \\frac{r}{5}}}{r} + \\frac{6.0}{r^{2}} \\right.\n",
       "                \\end{align}\n",
       "                $"
      ],
      "text/plain": [
       "<IPython.core.display.Math object>"
      ]
     },
     "metadata": {},
     "output_type": "display_data"
    },
    {
     "name": "stdout",
     "output_type": "stream",
     "text": [
      "CPU times: user 2min 51s, sys: 492 ms, total: 2min 51s\n",
      "Wall time: 2min 51s\n"
     ]
    }
   ],
   "source": [
    "%%time\n",
    "\n",
    "## Case: A = 24, L=2\n",
    "nbeta = 3\n",
    "nr0 = o* 1/nbeta\n",
    "\n",
    "# parameters of lambda_0 (pl0) and s_0 (ps0)\n",
    "pl0 = {beta: nbeta}\n",
    "ps0 = {beta: nbeta, \n",
    "       alpha: o* 2/10, \n",
    "       A: o* 24, \n",
    "       m: o* 1/2, \n",
    "       L: o* 2, \n",
    "       hbar: o* 1, \n",
    "       r0: nr0}\n",
    "\n",
    "# pass lambda_0, s_0 and variable values to aim class\n",
    "yukawa_A24L2 = aim(l0, s0, pl0, ps0)\n",
    "yukawa_A24L2.display_parameters()\n",
    "yukawa_A24L2.display_l0s0(2)\n",
    "yukawa_A24L2.parameters(En, r, nr0, nmax=201, nstep=10, dprec=500, tol=1e-101)\n",
    "\n",
    "# create coefficients for improved AIM\n",
    "yukawa_A24L2.c0()\n",
    "yukawa_A24L2.d0()\n",
    "yukawa_A24L2.cndn()"
   ]
  },
  {
   "cell_type": "code",
   "execution_count": 21,
   "metadata": {
    "ExecuteTime": {
     "end_time": "2019-02-07T09:11:26.111554Z",
     "start_time": "2019-02-07T09:11:01.542742Z"
    }
   },
   "outputs": [
    {
     "name": "stdout",
     "output_type": "stream",
     "text": [
      "0001   -4.35650292227647711659\n",
      "0011  -11.59387493593599586754   -4.95178952109149376833   -2.03379603736129693331\n",
      "0021  -11.59594904628543983383   -4.95159937290600434998   -2.12413868519246255675   -0.78370948519434660895\n",
      "0031  -11.59594912056795599076   -4.95159936286996712583   -2.12415695424100676680   -0.81399856463852673548\n",
      "0041  -11.59594912057729894619   -4.95159936286682481005   -2.12415695516397097368   -0.81419430361954735366\n",
      "0051  -11.59594912057730330751   -4.95159936286681992231   -2.12415695516402831014   -0.81419491493356845353\n",
      "0061  -11.59594912057730331411   -4.95159936286681989294   -2.12415695516402890406   -0.81419491638933385468\n",
      "0071  -11.59594912057730331414   -4.95159936286681989238   -2.12415695516402894305   -0.81419491639245126358\n",
      "0081  -11.59594912057730331414   -4.95159936286681989235   -2.12415695516402894794   -0.81419491639246063373\n",
      "0091  -11.59594912057730331414   -4.95159936286681989235   -2.12415695516402894617   -0.81419491639248211088\n",
      "0101  -11.59594912057730331414   -4.95159936286681989235   -2.12415695516402893248   -0.81419491639272071076\n",
      "0111  -11.59594912057730331414   -4.95159936286681989235   -2.12415695516402883847   -0.81419491639756221242\n",
      "0121  -11.59594912057730331414   -4.95159936286681989235   -2.12415695516402780558   -0.81419491657609909042\n",
      "0131  -11.59594912057730331414   -4.95159936286681989236   -2.12415695516400870410   -0.81419492817486783373\n",
      "0141  -11.59594912057730331414   -4.95159936286681989240   -2.12415695516342018181   -0.81419621028986784408\n",
      "0151  -11.59594912057730331414   -4.95159936286681989293   -2.12415695513390783173   -0.81442857565788224331\n",
      "0161  -11.59594912057730331414   -4.95159936286681990220   -2.12415695278599274980   -0.84952539093526896149\n",
      "0171  -11.59594912057730331414   -4.95159936286682015281   -2.12415666366598294616   -1.07770666919510980203\n",
      "0181  -11.59594912057730331414   -4.95159936286683028223   -2.12410277306146329267   -1.42917527872850305945\n",
      "0191  -11.59594912057730331414   -4.95159936286743222042   -2.10537089461045198246   -1.91920735338859440652\n",
      "0201  -11.59594912057730331414   -4.95159936291913054510\n",
      "CPU times: user 25.4 s, sys: 152 ms, total: 25.6 s\n",
      "Wall time: 25.4 s\n"
     ]
    }
   ],
   "source": [
    "%%time\n",
    "# the solution\n",
    "yukawa_A24L2.get_arb_roots(showRoots='-r', printFormat=\"{:25.20f}\")"
   ]
  },
  {
   "cell_type": "code",
   "execution_count": null,
   "metadata": {},
   "outputs": [],
   "source": []
  }
 ],
 "metadata": {
  "hide_input": false,
  "kernelspec": {
   "display_name": "Python 3",
   "language": "python",
   "name": "python3"
  },
  "language_info": {
   "codemirror_mode": {
    "name": "ipython",
    "version": 3
   },
   "file_extension": ".py",
   "mimetype": "text/x-python",
   "name": "python",
   "nbconvert_exporter": "python",
   "pygments_lexer": "ipython3",
   "version": "3.6.9"
  },
  "toc": {
   "base_numbering": 1,
   "collapse_to_match_collapsible_headings": false,
   "colors": {
    "hover_highlight": "#DAA520",
    "running_highlight": "#FF0000",
    "selected_highlight": "#FFD700"
   },
   "moveMenuLeft": true,
   "nav_menu": {
    "height": "12px",
    "width": "252px"
   },
   "navigate_menu": true,
   "number_sections": true,
   "sideBar": true,
   "skip_h1_title": false,
   "threshold": "5",
   "title_cell": "İçindekiler",
   "title_sidebar": "Contents",
   "toc_cell": false,
   "toc_position": {
    "height": "785px",
    "left": "0px",
    "right": "1708px",
    "top": "158px",
    "width": "158px"
   },
   "toc_section_display": "block",
   "toc_window_display": true
  },
  "varInspector": {
   "cols": {
    "lenName": 16,
    "lenType": 16,
    "lenVar": 40
   },
   "kernels_config": {
    "python": {
     "delete_cmd_postfix": "",
     "delete_cmd_prefix": "del ",
     "library": "var_list.py",
     "varRefreshCmd": "print(var_dic_list())"
    },
    "r": {
     "delete_cmd_postfix": ") ",
     "delete_cmd_prefix": "rm(",
     "library": "var_list.r",
     "varRefreshCmd": "cat(var_dic_list()) "
    }
   },
   "types_to_exclude": [
    "module",
    "function",
    "builtin_function_or_method",
    "instance",
    "_Feature"
   ],
   "window_display": false
  }
 },
 "nbformat": 4,
 "nbformat_minor": 1
}
